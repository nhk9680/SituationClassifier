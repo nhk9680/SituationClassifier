{
  "nbformat": 4,
  "nbformat_minor": 0,
  "metadata": {
    "colab": {
      "name": "ODTA_SejongBHAJ",
      "version": "0.3.2",
      "provenance": [],
      "collapsed_sections": []
    },
    "kernelspec": {
      "name": "python3",
      "display_name": "Python 3"
    },
    "accelerator": "GPU"
  },
  "cells": [
    {
      "cell_type": "markdown",
      "metadata": {
        "id": "ElOUFzdCALTQ",
        "colab_type": "text"
      },
      "source": [
        "# 세종대학교 인공지능 텀프로젝트 - 휴학과 자퇴사이\n",
        "## Sejong Univ. AI Term Proejct - SejongBHAJ\n",
        "## Situation Classifier\n",
        "\n",
        "---\n",
        "\n",
        "### Object Detection with Tensorflow API (ODTA)\n",
        "\n",
        "### 반드시 일괄실행하지 말고 한 단계씩 실행해 주세요.\n"
      ]
    },
    {
      "cell_type": "code",
      "metadata": {
        "id": "2Mq9Ce5HLzw9",
        "colab_type": "code",
        "colab": {}
      },
      "source": [
        "#Object_detection_with_Tensorflow_API_at_colab_SejongBHAJ"
      ],
      "execution_count": 0,
      "outputs": []
    },
    {
      "cell_type": "code",
      "metadata": {
        "id": "9LUIsxhKd7J0",
        "colab_type": "code",
        "outputId": "511f5db3-6671-4d54-aece-bee375728bc6",
        "colab": {
          "base_uri": "https://localhost:8080/",
          "height": 142
        }
      },
      "source": [
        "import os\n",
        "from google.colab import drive\n",
        "if not os.path.exists('/content/gdrive'):\n",
        "  drive.mount('/content/gdrive')\n",
        "  print('mounted')\n",
        "else:\n",
        "  print('already mounted')"
      ],
      "execution_count": 1,
      "outputs": [
        {
          "output_type": "stream",
          "text": [
            "Go to this URL in a browser: https://accounts.google.com/o/oauth2/auth?client_id=947318989803-6bn6qk8qdgf4n4g3pfee6491hc0brc4i.apps.googleusercontent.com&redirect_uri=urn%3Aietf%3Awg%3Aoauth%3A2.0%3Aoob&scope=email%20https%3A%2F%2Fwww.googleapis.com%2Fauth%2Fdocs.test%20https%3A%2F%2Fwww.googleapis.com%2Fauth%2Fdrive%20https%3A%2F%2Fwww.googleapis.com%2Fauth%2Fdrive.photos.readonly%20https%3A%2F%2Fwww.googleapis.com%2Fauth%2Fpeopleapi.readonly&response_type=code\n",
            "\n",
            "Enter your authorization code:\n",
            "··········\n",
            "Mounted at /content/gdrive\n",
            "mounted\n"
          ],
          "name": "stdout"
        }
      ]
    },
    {
      "cell_type": "code",
      "metadata": {
        "id": "Re_TtiQJv2Fe",
        "colab_type": "code",
        "outputId": "a8f70b67-eff6-490a-f94a-0580d66f5d0a",
        "colab": {
          "base_uri": "https://localhost:8080/",
          "height": 105
        }
      },
      "source": [
        "!cp -r gdrive/'My Drive'/ai_project/TFRecords-export/train "
      ],
      "execution_count": 0,
      "outputs": [
        {
          "output_type": "stream",
          "text": [
            "total 14K\n",
            "-rw------- 1 root root 1.2K Jun 23 09:23 label_map.pbtxt\n",
            "drwx------ 2 root root 4.0K Jun 15 18:27 TFRecords-export_San-hee\n",
            "drwx------ 2 root root 4.0K Jun 15 15:37 TFRecords-export_Yeong-Seo\n",
            "drwx------ 2 root root 4.0K Jun 15 15:52 TFRecords-export_Yong-Ho\n"
          ],
          "name": "stdout"
        }
      ]
    },
    {
      "cell_type": "code",
      "metadata": {
        "id": "u6flNX5VLOQB",
        "colab_type": "code",
        "colab": {}
      },
      "source": [
        "#!ls -al gdrive/'My Drive'/ai_project/TFRecords-export/train/"
      ],
      "execution_count": 0,
      "outputs": []
    },
    {
      "cell_type": "code",
      "metadata": {
        "id": "cAcckV1rLsY7",
        "colab_type": "code",
        "colab": {}
      },
      "source": [
        "#!ls -al gdrive/'My Drive'/ai_project/TFRecords-export/train/TFRecords-export_San-hee\n",
        "#!ls -al gdrive/'My Drive'/ai_project/TFRecords-export/train/TFRecords-export_Yeong-Seo\n",
        "#!ls -al gdrive/'My Drive'/ai_project/TFRecords-export/train/TFRecords-export_Yong-Ho"
      ],
      "execution_count": 0,
      "outputs": []
    },
    {
      "cell_type": "code",
      "metadata": {
        "id": "6Amt9fAZD7FD",
        "colab_type": "code",
        "colab": {}
      },
      "source": [
        "repo_url = 'https://github.com/Tony607/object_detection_demo'\n",
        "\n",
        "num_steps = 1000\n",
        "num_eval_steps = 50\n",
        "\n",
        "MODELS_CONFIG = {\n",
        "    'ssd_mobilenet_v2': {\n",
        "        'model_name': 'ssd_mobilenet_v2_coco_2018_03_29',\n",
        "        'pipeline_file': 'ssd_mobilenet_v2_coco.config',\n",
        "        'batch_size': 12\n",
        "    },\n",
        "    'faster_rcnn_inception_v2': {\n",
        "        'model_name': 'faster_rcnn_inception_v2_coco_2018_01_28',\n",
        "        'pipeline_file': 'faster_rcnn_inception_v2_pets.config',\n",
        "        'batch_size': 12\n",
        "    },\n",
        "    'rfcn_resnet101': {\n",
        "        'model_name': 'rfcn_resnet101_coco_2018_01_28',\n",
        "        'pipeline_file': 'rfcn_resnet101_pets.config',\n",
        "        'batch_size': 8\n",
        "    },\n",
        "    \n",
        "    'faster_rcnn_inception_resnet_v2_atrous': {\n",
        "        'model_name': 'faster_rcnn_inception_resnet_v2_atrous_coco_2018_01_28',\n",
        "        'pipeline_file': 'faster_rcnn_inception_resnet_v2_atrous_coco.config',\n",
        "        'batch_size': 8\n",
        "    },\n",
        "    \n",
        "    'ssd_resnet50_v1': {\n",
        "        'model_name': 'ssd_resnet50_v1_fpn_shared_box_predictor_640x640_coco14_sync_2018_07_03',\n",
        "        'pipeline_file': 'ssd_resnet50_v1_fpn_shared_box_predictor_640x640_coco14_sync.config',\n",
        "        'batch_size': 8\n",
        "    }\n",
        "}\n",
        "\n",
        "\n",
        "\n",
        "selected_model = 'ssd_mobilenet_v2'\n",
        "    \n",
        "MODEL = MODELS_CONFIG[selected_model]['model_name']\n",
        "pipeline_file = MODELS_CONFIG[selected_model]['pipeline_file']    \n",
        "batch_size = MODELS_CONFIG[selected_model]['batch_size']    "
      ],
      "execution_count": 0,
      "outputs": []
    },
    {
      "cell_type": "code",
      "metadata": {
        "id": "NmmuEZBzE_JX",
        "colab_type": "code",
        "outputId": "112833f8-3c25-4dba-ab54-c3a4c79252b2",
        "colab": {
          "base_uri": "https://localhost:8080/",
          "height": 1621
        }
      },
      "source": [
        "import os\n",
        "%cd /content\n",
        "!git clone --quiet https://github.com/tensorflow/models.git\n",
        "!apt-get install -qq protobuf-compiler python-pil python-lxml python-tk\n",
        "\n",
        "!pip install -q Cython contextlib2 pillow lxml matplotlib\n",
        "!pip install -q pycocotools\n",
        "\n",
        "%cd /content/models/research\n",
        "!protoc object_detection/protos/*.proto --python_out=.\n",
        "\n",
        "os.environ['PYTHONPATH'] += ':/content/models/research/:/content/models/research/slim/'\n",
        "!python object_detection/builders/model_builder_test.py"
      ],
      "execution_count": 3,
      "outputs": [
        {
          "output_type": "stream",
          "text": [
            "/content\n",
            "Selecting previously unselected package python-bs4.\n",
            "(Reading database ... 130942 files and directories currently installed.)\n",
            "Preparing to unpack .../0-python-bs4_4.6.0-1_all.deb ...\n",
            "Unpacking python-bs4 (4.6.0-1) ...\n",
            "Selecting previously unselected package python-pkg-resources.\n",
            "Preparing to unpack .../1-python-pkg-resources_39.0.1-2_all.deb ...\n",
            "Unpacking python-pkg-resources (39.0.1-2) ...\n",
            "Selecting previously unselected package python-chardet.\n",
            "Preparing to unpack .../2-python-chardet_3.0.4-1_all.deb ...\n",
            "Unpacking python-chardet (3.0.4-1) ...\n",
            "Selecting previously unselected package python-six.\n",
            "Preparing to unpack .../3-python-six_1.11.0-2_all.deb ...\n",
            "Unpacking python-six (1.11.0-2) ...\n",
            "Selecting previously unselected package python-webencodings.\n",
            "Preparing to unpack .../4-python-webencodings_0.5-2_all.deb ...\n",
            "Unpacking python-webencodings (0.5-2) ...\n",
            "Selecting previously unselected package python-html5lib.\n",
            "Preparing to unpack .../5-python-html5lib_0.999999999-1_all.deb ...\n",
            "Unpacking python-html5lib (0.999999999-1) ...\n",
            "Selecting previously unselected package python-lxml:amd64.\n",
            "Preparing to unpack .../6-python-lxml_4.2.1-1ubuntu0.1_amd64.deb ...\n",
            "Unpacking python-lxml:amd64 (4.2.1-1ubuntu0.1) ...\n",
            "Selecting previously unselected package python-olefile.\n",
            "Preparing to unpack .../7-python-olefile_0.45.1-1_all.deb ...\n",
            "Unpacking python-olefile (0.45.1-1) ...\n",
            "Selecting previously unselected package python-pil:amd64.\n",
            "Preparing to unpack .../8-python-pil_5.1.0-1_amd64.deb ...\n",
            "Unpacking python-pil:amd64 (5.1.0-1) ...\n",
            "Setting up python-pkg-resources (39.0.1-2) ...\n",
            "Setting up python-six (1.11.0-2) ...\n",
            "Setting up python-bs4 (4.6.0-1) ...\n",
            "Setting up python-lxml:amd64 (4.2.1-1ubuntu0.1) ...\n",
            "Setting up python-olefile (0.45.1-1) ...\n",
            "Processing triggers for man-db (2.8.3-2ubuntu0.1) ...\n",
            "Setting up python-pil:amd64 (5.1.0-1) ...\n",
            "Setting up python-webencodings (0.5-2) ...\n",
            "Setting up python-chardet (3.0.4-1) ...\n",
            "Setting up python-html5lib (0.999999999-1) ...\n",
            "/content/models/research\n",
            "WARNING: Logging before flag parsing goes to stderr.\n",
            "W0623 11:56:05.870849 140452394575744 lazy_loader.py:50] \n",
            "The TensorFlow contrib module will not be included in TensorFlow 2.0.\n",
            "For more information, please see:\n",
            "  * https://github.com/tensorflow/community/blob/master/rfcs/20180907-contrib-sunset.md\n",
            "  * https://github.com/tensorflow/addons\n",
            "  * https://github.com/tensorflow/io (for I/O related ops)\n",
            "If you depend on functionality not listed there, please file an issue.\n",
            "\n",
            "W0623 11:56:06.122299 140452394575744 deprecation_wrapper.py:119] From /content/models/research/slim/nets/inception_resnet_v2.py:373: The name tf.GraphKeys is deprecated. Please use tf.compat.v1.GraphKeys instead.\n",
            "\n",
            "W0623 11:56:06.174072 140452394575744 deprecation_wrapper.py:119] From /content/models/research/slim/nets/mobilenet/mobilenet.py:397: The name tf.nn.avg_pool is deprecated. Please use tf.nn.avg_pool2d instead.\n",
            "\n",
            "Running tests under Python 3.6.8: /usr/bin/python3\n",
            "[ RUN      ] ModelBuilderTest.test_create_faster_rcnn_model_from_config_with_example_miner\n",
            "[       OK ] ModelBuilderTest.test_create_faster_rcnn_model_from_config_with_example_miner\n",
            "[ RUN      ] ModelBuilderTest.test_create_faster_rcnn_models_from_config_faster_rcnn_with_matmul\n",
            "[       OK ] ModelBuilderTest.test_create_faster_rcnn_models_from_config_faster_rcnn_with_matmul\n",
            "[ RUN      ] ModelBuilderTest.test_create_faster_rcnn_models_from_config_faster_rcnn_without_matmul\n",
            "[       OK ] ModelBuilderTest.test_create_faster_rcnn_models_from_config_faster_rcnn_without_matmul\n",
            "[ RUN      ] ModelBuilderTest.test_create_faster_rcnn_models_from_config_mask_rcnn_with_matmul\n",
            "[       OK ] ModelBuilderTest.test_create_faster_rcnn_models_from_config_mask_rcnn_with_matmul\n",
            "[ RUN      ] ModelBuilderTest.test_create_faster_rcnn_models_from_config_mask_rcnn_without_matmul\n",
            "[       OK ] ModelBuilderTest.test_create_faster_rcnn_models_from_config_mask_rcnn_without_matmul\n",
            "[ RUN      ] ModelBuilderTest.test_create_rfcn_model_from_config\n",
            "[       OK ] ModelBuilderTest.test_create_rfcn_model_from_config\n",
            "[ RUN      ] ModelBuilderTest.test_create_ssd_fpn_model_from_config\n",
            "[       OK ] ModelBuilderTest.test_create_ssd_fpn_model_from_config\n",
            "[ RUN      ] ModelBuilderTest.test_create_ssd_models_from_config\n",
            "[       OK ] ModelBuilderTest.test_create_ssd_models_from_config\n",
            "[ RUN      ] ModelBuilderTest.test_invalid_faster_rcnn_batchnorm_update\n",
            "[       OK ] ModelBuilderTest.test_invalid_faster_rcnn_batchnorm_update\n",
            "[ RUN      ] ModelBuilderTest.test_invalid_first_stage_nms_iou_threshold\n",
            "[       OK ] ModelBuilderTest.test_invalid_first_stage_nms_iou_threshold\n",
            "[ RUN      ] ModelBuilderTest.test_invalid_model_config_proto\n",
            "[       OK ] ModelBuilderTest.test_invalid_model_config_proto\n",
            "[ RUN      ] ModelBuilderTest.test_invalid_second_stage_batch_size\n",
            "[       OK ] ModelBuilderTest.test_invalid_second_stage_batch_size\n",
            "[ RUN      ] ModelBuilderTest.test_session\n",
            "[  SKIPPED ] ModelBuilderTest.test_session\n",
            "[ RUN      ] ModelBuilderTest.test_unknown_faster_rcnn_feature_extractor\n",
            "[       OK ] ModelBuilderTest.test_unknown_faster_rcnn_feature_extractor\n",
            "[ RUN      ] ModelBuilderTest.test_unknown_meta_architecture\n",
            "[       OK ] ModelBuilderTest.test_unknown_meta_architecture\n",
            "[ RUN      ] ModelBuilderTest.test_unknown_ssd_feature_extractor\n",
            "[       OK ] ModelBuilderTest.test_unknown_ssd_feature_extractor\n",
            "----------------------------------------------------------------------\n",
            "Ran 16 tests in 0.268s\n",
            "\n",
            "OK (skipped=1)\n"
          ],
          "name": "stdout"
        }
      ]
    },
    {
      "cell_type": "code",
      "metadata": {
        "id": "nne841FZEoD7",
        "colab_type": "code",
        "outputId": "b1d16d2f-1288-4226-ab7e-9b74e134be6c",
        "colab": {
          "base_uri": "https://localhost:8080/",
          "height": 158
        }
      },
      "source": [
        "%cd /content\n",
        "repo_dir_path = os.path.abspath(os.path.join('.', os.path.basename(repo_url)))\n",
        "!git clone {repo_url}\n",
        "%cd {repo_dir_path}\n",
        "!git pull\n",
        "\n",
        "!cd data; mkdir annotations"
      ],
      "execution_count": 4,
      "outputs": [
        {
          "output_type": "stream",
          "text": [
            "/content\n",
            "Cloning into 'object_detection_demo'...\n",
            "remote: Enumerating objects: 124, done.\u001b[K\n",
            "remote: Total 124 (delta 0), reused 0 (delta 0), pack-reused 124\u001b[K\n",
            "Receiving objects: 100% (124/124), 11.16 MiB | 6.49 MiB/s, done.\n",
            "Resolving deltas: 100% (55/55), done.\n",
            "/content/object_detection_demo\n",
            "Already up to date.\n"
          ],
          "name": "stdout"
        }
      ]
    },
    {
      "cell_type": "markdown",
      "metadata": {
        "id": "fA14CIAJKdzp",
        "colab_type": "text"
      },
      "source": [
        "## Custom dataset을 이용하기 위해 기존 파일 제거"
      ]
    },
    {
      "cell_type": "code",
      "metadata": {
        "id": "IzXABccgghu9",
        "colab_type": "code",
        "colab": {}
      },
      "source": [
        "!rm data/images/train/*\n",
        "!rm data/images/test/*"
      ],
      "execution_count": 0,
      "outputs": []
    },
    {
      "cell_type": "markdown",
      "metadata": {
        "id": "raZNPYnyFv5U",
        "colab_type": "text"
      },
      "source": [
        "# 학습&테스트 데이터를 업로드해 주세요.\n",
        "\n",
        "---\n",
        "\n",
        "## tar 포맷으로 묶어서 올려주세요.\n",
        "\n",
        "지원 가능한 데이터\n",
        "- jpg(png)+xml\n",
        "- 여러 개의 tfrecord(record)\n",
        "\n",
        "해당 포맷에 따라 아래에서 실행하는 코드가 달라집니다. \n",
        "\n",
        "반드시 확인 후 실행해주세요."
      ]
    },
    {
      "cell_type": "markdown",
      "metadata": {
        "id": "V-HTLoLvcHNp",
        "colab_type": "text"
      },
      "source": [
        "## [사용했던 데이터셋 구글 드라이브](https://drive.google.com/drive/folders/1Kq4-xntWRRqfDeJDeFJQO7UrZr0ad7Gm?usp=sharing)\n",
        "\n",
        "\n",
        "통합본\n",
        "\n",
        "\n",
        "\n",
        "---\n",
        "\n",
        "Yong-Ho\n",
        "\n",
        "https://drive.google.com/open?id=1De_FknvF6UC8gYDBmO7J9z8MCgtyjB6U\n",
        "\n",
        "Yeong-Seo\n",
        "\n",
        "https://drive.google.com/open?id=1jeZCyCBcvLyUQVLtg_UytAtDiCVeBdAZ\n",
        "\n",
        "San-Hee\n",
        "\n",
        "https://drive.google.com/open?id=1nlzJf3qbrm1KeD_21pDNfrkBDAEa89yb"
      ]
    },
    {
      "cell_type": "code",
      "metadata": {
        "id": "3p66qVXMMykU",
        "colab_type": "code",
        "outputId": "6e8bcec5-723c-4647-fcca-08a8fe745f9f",
        "colab": {
          "resources": {
            "http://localhost:8080/nbextensions/google.colab/files.js": {
              "data": "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",
              "ok": true,
              "headers": [
                [
                  "content-type",
                  "application/javascript"
                ]
              ],
              "status": 200,
              "status_text": ""
            }
          },
          "base_uri": "https://localhost:8080/",
          "height": 78
        }
      },
      "source": [
        "#from google.colab import files\n",
        "#files.upload()"
      ],
      "execution_count": 0,
      "outputs": [
        {
          "output_type": "display_data",
          "data": {
            "text/html": [
              "\n",
              "     <input type=\"file\" id=\"files-3925c996-103e-4959-b11e-08edeee6e965\" name=\"files[]\" multiple disabled />\n",
              "     <output id=\"result-3925c996-103e-4959-b11e-08edeee6e965\">\n",
              "      Upload widget is only available when the cell has been executed in the\n",
              "      current browser session. Please rerun this cell to enable.\n",
              "      </output>\n",
              "      <script src=\"/nbextensions/google.colab/files.js\"></script> "
            ],
            "text/plain": [
              "<IPython.core.display.HTML object>"
            ]
          },
          "metadata": {
            "tags": []
          }
        },
        {
          "output_type": "stream",
          "text": [
            "Saving test.tar to test.tar\n"
          ],
          "name": "stdout"
        }
      ]
    },
    {
      "cell_type": "markdown",
      "metadata": {
        "id": "3PbxZRBph2q3",
        "colab_type": "text"
      },
      "source": [
        "## train.tar"
      ]
    },
    {
      "cell_type": "code",
      "metadata": {
        "id": "XsjzDIvhOFfn",
        "colab_type": "code",
        "outputId": "a5780537-473d-47d1-81be-3ae6e1dff4d1",
        "colab": {
          "base_uri": "https://localhost:8080/",
          "height": 336
        }
      },
      "source": [
        "!wget --load-cookies /tmp/cookies.txt \"https://docs.google.com/uc?export=download&confirm=$(wget --quiet --save-cookies /tmp/cookies.txt --keep-session-cookies --no-check-certificate 'https://docs.google.com/uc?export=download&id=1De_FknvF6UC8gYDBmO7J9z8MCgtyjB6U' -O- | sed -rn 's/.*confirm=([0-9A-Za-z_]+).*/\\1\\n/p')&id=11w9205SB98QvbQtTmX4iSvEozK-XLwSV\" -O train.tar && rm -rf /tmp/cookies.txt"
      ],
      "execution_count": 0,
      "outputs": [
        {
          "output_type": "stream",
          "text": [
            "--2019-06-23 08:31:24--  https://docs.google.com/uc?export=download&confirm=&id=11w9205SB98QvbQtTmX4iSvEozK-XLwSV\n",
            "Resolving docs.google.com (docs.google.com)... 74.125.124.100, 74.125.124.101, 74.125.124.113, ...\n",
            "Connecting to docs.google.com (docs.google.com)|74.125.124.100|:443... connected.\n",
            "HTTP request sent, awaiting response... 302 Moved Temporarily\n",
            "Location: https://doc-00-4o-docs.googleusercontent.com/docs/securesc/ha0ro937gcuc7l7deffksulhg5h7mbp1/ecd0bplbe3l9vjfdgg58j8cju8iufrn3/1561276800000/09621136847049687709/*/11w9205SB98QvbQtTmX4iSvEozK-XLwSV?e=download [following]\n",
            "Warning: wildcards not supported in HTTP.\n",
            "--2019-06-23 08:31:26--  https://doc-00-4o-docs.googleusercontent.com/docs/securesc/ha0ro937gcuc7l7deffksulhg5h7mbp1/ecd0bplbe3l9vjfdgg58j8cju8iufrn3/1561276800000/09621136847049687709/*/11w9205SB98QvbQtTmX4iSvEozK-XLwSV?e=download\n",
            "Resolving doc-00-4o-docs.googleusercontent.com (doc-00-4o-docs.googleusercontent.com)... 108.177.111.132, 2607:f8b0:4001:c07::84\n",
            "Connecting to doc-00-4o-docs.googleusercontent.com (doc-00-4o-docs.googleusercontent.com)|108.177.111.132|:443... connected.\n",
            "HTTP request sent, awaiting response... 200 OK\n",
            "Length: unspecified [application/x-tar]\n",
            "Saving to: ‘train.tar’\n",
            "\n",
            "train.tar               [ <=>                ]   3.73M  --.-KB/s    in 0.02s   \n",
            "\n",
            "2019-06-23 08:31:26 (231 MB/s) - ‘train.tar’ saved [3916288]\n",
            "\n"
          ],
          "name": "stdout"
        }
      ]
    },
    {
      "cell_type": "markdown",
      "metadata": {
        "id": "e5wniO_ohzEp",
        "colab_type": "text"
      },
      "source": [
        "## test.tar"
      ]
    },
    {
      "cell_type": "code",
      "metadata": {
        "id": "Jsc-z7A5htCr",
        "colab_type": "code",
        "outputId": "b1ef5fe2-e297-4356-c973-e438790dd348",
        "colab": {
          "base_uri": "https://localhost:8080/",
          "height": 336
        }
      },
      "source": [
        "!wget --load-cookies /tmp/cookies.txt \"https://docs.google.com/uc?export=download&confirm=$(wget --quiet --save-cookies /tmp/cookies.txt --keep-session-cookies --no-check-certificate 'https://docs.google.com/uc?export=download&id=1BHK90FePymdZbldEqW_c-BlKAOQIBqBP' -O- | sed -rn 's/.*confirm=([0-9A-Za-z_]+).*/\\1\\n/p')&id=1BHK90FePymdZbldEqW_c-BlKAOQIBqBP\" -O test.tar && rm -rf /tmp/cookies.txt"
      ],
      "execution_count": 0,
      "outputs": [
        {
          "output_type": "stream",
          "text": [
            "--2019-06-23 08:31:43--  https://docs.google.com/uc?export=download&confirm=&id=1BHK90FePymdZbldEqW_c-BlKAOQIBqBP\n",
            "Resolving docs.google.com (docs.google.com)... 74.125.124.138, 74.125.124.101, 74.125.124.100, ...\n",
            "Connecting to docs.google.com (docs.google.com)|74.125.124.138|:443... connected.\n",
            "HTTP request sent, awaiting response... 302 Moved Temporarily\n",
            "Location: https://doc-0o-4o-docs.googleusercontent.com/docs/securesc/ha0ro937gcuc7l7deffksulhg5h7mbp1/20hubuar857dcuuuvb577aeuaofrn5ln/1561276800000/09621136847049687709/*/1BHK90FePymdZbldEqW_c-BlKAOQIBqBP?e=download [following]\n",
            "Warning: wildcards not supported in HTTP.\n",
            "--2019-06-23 08:31:46--  https://doc-0o-4o-docs.googleusercontent.com/docs/securesc/ha0ro937gcuc7l7deffksulhg5h7mbp1/20hubuar857dcuuuvb577aeuaofrn5ln/1561276800000/09621136847049687709/*/1BHK90FePymdZbldEqW_c-BlKAOQIBqBP?e=download\n",
            "Resolving doc-0o-4o-docs.googleusercontent.com (doc-0o-4o-docs.googleusercontent.com)... 108.177.111.132, 2607:f8b0:4001:c07::84\n",
            "Connecting to doc-0o-4o-docs.googleusercontent.com (doc-0o-4o-docs.googleusercontent.com)|108.177.111.132|:443... connected.\n",
            "HTTP request sent, awaiting response... 200 OK\n",
            "Length: unspecified [application/x-tar]\n",
            "Saving to: ‘test.tar’\n",
            "\n",
            "test.tar                [   <=>              ]  93.06M   227MB/s    in 0.4s    \n",
            "\n",
            "2019-06-23 08:31:46 (227 MB/s) - ‘test.tar’ saved [97577472]\n",
            "\n"
          ],
          "name": "stdout"
        }
      ]
    },
    {
      "cell_type": "code",
      "metadata": {
        "id": "366cFOqeSMSB",
        "colab_type": "code",
        "outputId": "d65f7c6c-e012-4f8b-9172-cc12765ba836",
        "colab": {
          "base_uri": "https://localhost:8080/",
          "height": 34
        }
      },
      "source": [
        "single='\"{}\"' #jpgxml\n",
        "multi=\"{}\" #tfrecord\n",
        "print(single, multi)\n",
        "\n",
        "bracket_train=''\n",
        "bracket_test=''"
      ],
      "execution_count": 7,
      "outputs": [
        {
          "output_type": "stream",
          "text": [
            "\"{}\" {}\n"
          ],
          "name": "stdout"
        }
      ]
    },
    {
      "cell_type": "markdown",
      "metadata": {
        "id": "9NwUZ0FLLFQn",
        "colab_type": "text"
      },
      "source": [
        "## train"
      ]
    },
    {
      "cell_type": "markdown",
      "metadata": {
        "id": "bCjXgYq2IoL1",
        "colab_type": "text"
      },
      "source": [
        "### jpg+xml"
      ]
    },
    {
      "cell_type": "code",
      "metadata": {
        "id": "A629iSY0F91l",
        "colab_type": "code",
        "outputId": "2bb1e931-94fd-41a5-f4e1-f2821ea3bc16",
        "colab": {
          "base_uri": "https://localhost:8080/",
          "height": 248
        }
      },
      "source": [
        "import tarfile\n",
        "!mv \"train.tar\" \"data/images/train/train.tar\"\n",
        "%cd data/images/train\n",
        "tar=tarfile.open(\"train.tar\")\n",
        "tar.extractall()\n",
        "!rm \"train.tar\"\n",
        "\n",
        "%cd {repo_dir_path}\n",
        "!python xml_to_csv.py -i data/images/train -o data/annotations/train_labels.csv -l data/annotations\n",
        "\n",
        "!python generate_tfrecord.py --csv_input=data/annotations/train_labels.csv \\\n",
        "                             --output_path=data/annotations/train.record \\\n",
        "                             --img_path=data/images/train \\\n",
        "                             --label_map data/annotations/label_map.pbtxt\n",
        "\n",
        "train_record_fname = '/content/object_detection_demo/data/annotations/train.record'\n",
        "label_map_pbtxt_fname ='/content/object_detection_demo/data/annotations/label_map.pbtxt'\n",
        "bracket_train=single"
      ],
      "execution_count": 0,
      "outputs": [
        {
          "output_type": "stream",
          "text": [
            "/content/object_detection_demo/data/images/train\n",
            "/content/object_detection_demo\n",
            "Successfully converted xml to csv.\n",
            "Generate `data/annotations/label_map.pbtxt`\n",
            "WARNING: Logging before flag parsing goes to stderr.\n",
            "W0623 08:31:55.281864 139775145244544 deprecation_wrapper.py:119] From generate_tfrecord.py:134: The name tf.app.run is deprecated. Please use tf.compat.v1.app.run instead.\n",
            "\n",
            "W0623 08:31:55.282598 139775145244544 deprecation_wrapper.py:119] From generate_tfrecord.py:107: The name tf.python_io.TFRecordWriter is deprecated. Please use tf.io.TFRecordWriter instead.\n",
            "\n",
            "W0623 08:31:55.295582 139775145244544 deprecation_wrapper.py:119] From /content/models/research/object_detection/utils/label_map_util.py:132: The name tf.gfile.GFile is deprecated. Please use tf.io.gfile.GFile instead.\n",
            "\n",
            "Successfully created the TFRecords: /content/object_detection_demo/data/annotations/train.record\n"
          ],
          "name": "stdout"
        }
      ]
    },
    {
      "cell_type": "markdown",
      "metadata": {
        "id": "pXoO6vYXKvD4",
        "colab_type": "text"
      },
      "source": [
        "### tfrecord"
      ]
    },
    {
      "cell_type": "code",
      "metadata": {
        "id": "rP0zoTpW1-4S",
        "colab_type": "code",
        "colab": {}
      },
      "source": [
        "!ls data/annotations/train/"
      ],
      "execution_count": 0,
      "outputs": []
    },
    {
      "cell_type": "code",
      "metadata": {
        "id": "KbYWUUM4xKmN",
        "colab_type": "code",
        "colab": {}
      },
      "source": [
        "#https://drive.google.com/open?id=10hwQ-FcvFXV-S-lFRhdYnoeyv9_xMeO0\n",
        "#!cp -r '/content/gdrive/My Drive/ai_project/TFRecords-export/train' '/content/object_detection_demo/data/annotations/train'\n",
        "#!ls '/content/object_detection_demo/data/annotations/train/train'\n",
        "\n",
        "!wget --load-cookies /tmp/cookies.txt \"https://docs.google.com/uc?export=download&confirm=$(wget --quiet --save-cookies /tmp/cookies.txt --keep-session-cookies --no-check-certificate 'https://docs.google.com/uc?export=download&id=10hwQ-FcvFXV-S-lFRhdYnoeyv9_xMeO0' -O- | sed -rn 's/.*confirm=([0-9A-Za-z_]+).*/\\1\\n/p')&id=10hwQ-FcvFXV-S-lFRhdYnoeyv9_xMeO0\" -O test.tar && rm -rf /tmp/cookies.txt"
      ],
      "execution_count": 0,
      "outputs": []
    },
    {
      "cell_type": "code",
      "metadata": {
        "id": "sT-Nou9tL7Tv",
        "colab_type": "code",
        "colab": {}
      },
      "source": [
        "import tarfile\n",
        "!mkdir data/annotations/train\n",
        "!mv \"train.tar\" \"data/annotations/train/train.tar\"\n",
        "%cd data/annotations/train\n",
        "tar=tarfile.open(\"train.tar\")\n",
        "tar.extractall()\n",
        "!rm \"train.tar\"\n",
        "\n",
        "train_record_fname_dir ='/content/object_detection_demo/data/annotations/train/'\n",
        "path=train_record_fname_dir\n",
        "file_list_tfrecord = []\n",
        "for file in os.listdir(path):\n",
        "  if file.endswith(\".tfrecord\"):\n",
        "    file_list_tfrecord.append(path+file)\n",
        "train_record_fname=file_list_tfrecord\n",
        "#print(train_record_fname)\n",
        "\n",
        "bracket_train=multi"
      ],
      "execution_count": 0,
      "outputs": []
    },
    {
      "cell_type": "code",
      "metadata": {
        "id": "fGg4-Z4oMtuI",
        "colab_type": "code",
        "colab": {
          "base_uri": "https://localhost:8080/",
          "height": 151
        },
        "outputId": "cf81cd57-6bbb-4796-953f-11e37484cd72"
      },
      "source": [
        "'''\n",
        "train_record_fname_dir =['/content/gdrive/My Drive/ai_project/TFRecords-export/train/TFRecords-export_Yong-Ho/', \\\n",
        "                         '/content/gdrive/My Drive/ai_project/TFRecords-export/train/TFRecords-export_Yeong-Seo/', \\\n",
        "                         '/content/gdrive/My Drive/ai_project/TFRecords-export/train/TFRecords-export_San-hee/']\n",
        "paths=train_record_fname_dir\n",
        "file_list_tfrecord = []\n",
        "for path in paths:\n",
        "  for file in os.listdir(path):\n",
        "    if file.endswith(\".tfrecord\"):\n",
        "      file_list_tfrecord.append(path+file)\n",
        "  train_record_fname=file_list_tfrecord\n",
        "print(train_record_fname)\n",
        "\n",
        "bracket_train=multi\n",
        "'''"
      ],
      "execution_count": 101,
      "outputs": [
        {
          "output_type": "error",
          "ename": "SyntaxError",
          "evalue": "ignored",
          "traceback": [
            "\u001b[0;36m  File \u001b[0;32m\"<ipython-input-101-64c815c6d965>\"\u001b[0;36m, line \u001b[0;32m14\u001b[0m\n\u001b[0;31m    bracket_train=multi\u001b[0m\n\u001b[0m                       \n^\u001b[0m\n\u001b[0;31mSyntaxError\u001b[0m\u001b[0;31m:\u001b[0m EOF while scanning triple-quoted string literal\n"
          ]
        }
      ]
    },
    {
      "cell_type": "markdown",
      "metadata": {
        "id": "29fubUIVMZcC",
        "colab_type": "text"
      },
      "source": [
        "## test"
      ]
    },
    {
      "cell_type": "markdown",
      "metadata": {
        "id": "IIE0gtYRMcjD",
        "colab_type": "text"
      },
      "source": [
        "### jpg+xml"
      ]
    },
    {
      "cell_type": "code",
      "metadata": {
        "id": "T-venGljMf8r",
        "colab_type": "code",
        "colab": {}
      },
      "source": [
        "%cd {repo_dir_path}\n",
        "import tarfile\n",
        "!mv \"test.tar\" \"data/images/test/test.tar\"\n",
        "%cd data/images/test\n",
        "tar=tarfile.open(\"test.tar\")\n",
        "tar.extractall()\n",
        "!rm \"test.tar\"\n",
        "\n",
        "%cd {repo_dir_path}\n",
        "!python xml_to_csv.py -i data/images/test -o data/annotations/test_labels.csv\n",
        "\n",
        "!python generate_tfrecord.py --csv_input=data/annotations/test_labels.csv \\\n",
        "                             --output_path=data/annotations/test.record \\\n",
        "                             --img_path=data/images/test \\\n",
        "                             --label_map data/annotations/label_map.pbtxt \n",
        "\n",
        "test_record_fname = '/content/object_detection_demo/data/annotations/test.record'\n",
        "\n",
        "bracket_test=single"
      ],
      "execution_count": 0,
      "outputs": []
    },
    {
      "cell_type": "markdown",
      "metadata": {
        "id": "zTEsCC5SMuzW",
        "colab_type": "text"
      },
      "source": [
        "### tfrecord"
      ]
    },
    {
      "cell_type": "code",
      "metadata": {
        "id": "0WPYG7tqMxE-",
        "colab_type": "code",
        "outputId": "c2728a9a-d34e-425e-c534-6ba8a324aa32",
        "colab": {
          "base_uri": "https://localhost:8080/",
          "height": 90
        }
      },
      "source": [
        "%cd {repo_dir_path}\n",
        "import tarfile\n",
        "!mkdir data/annotations/test\n",
        "!mv \"test.tar\" \"data/annotations/test/test.tar\"\n",
        "%cd data/annotations/test\n",
        "tar=tarfile.open(\"test.tar\")\n",
        "tar.extractall()\n",
        "!rm \"test.tar\"\n",
        "\n",
        "test_record_fname_dir ='/content/object_detection_demo/data/annotations/test/'\n",
        "path=test_record_fname_dir\n",
        "file_list_tfrecord = []\n",
        "for file in os.listdir(path):\n",
        "  if file.endswith(\".tfrecord\"):\n",
        "    file_list_tfrecord.append(path+file)\n",
        "test_record_fname=file_list_tfrecord\n",
        "print(test_record_fname)\n",
        "\n",
        "bracket_test=multi"
      ],
      "execution_count": 0,
      "outputs": [
        {
          "output_type": "stream",
          "text": [
            "/content/object_detection_demo\n",
            "/content/object_detection_demo/data/annotations/test\n",
            "['/content/object_detection_demo/data/annotations/test/sejong.mp4#t=383.tfrecord', '/content/object_detection_demo/data/annotations/test/sejong.mp4#t=367.tfrecord', '/content/object_detection_demo/data/annotations/test/sejong.mp4#t=368.tfrecord', '/content/object_detection_demo/data/annotations/test/sejong.mp4#t=361.tfrecord', '/content/object_detection_demo/data/annotations/test/sejong.mp4#t=399.5.tfrecord', '/content/object_detection_demo/data/annotations/test/sejong.mp4#t=394.tfrecord', '/content/object_detection_demo/data/annotations/test/sejong.mp4#t=389.5.tfrecord', '/content/object_detection_demo/data/annotations/test/sejong.mp4#t=372.tfrecord', '/content/object_detection_demo/data/annotations/test/sejong.mp4#t=396.tfrecord', '/content/object_detection_demo/data/annotations/test/sejong.mp4#t=380.tfrecord', '/content/object_detection_demo/data/annotations/test/sejong.mp4#t=395.5.tfrecord', '/content/object_detection_demo/data/annotations/test/sejong.mp4#t=366.tfrecord', '/content/object_detection_demo/data/annotations/test/sejong.mp4#t=385.tfrecord', '/content/object_detection_demo/data/annotations/test/sejong.mp4#t=371.5.tfrecord', '/content/object_detection_demo/data/annotations/test/sejong.mp4#t=388.tfrecord', '/content/object_detection_demo/data/annotations/test/sejong.mp4#t=379.tfrecord', '/content/object_detection_demo/data/annotations/test/sejong.mp4#t=362.5.tfrecord', '/content/object_detection_demo/data/annotations/test/sejong.mp4#t=390.tfrecord', '/content/object_detection_demo/data/annotations/test/sejong.mp4#t=369.5.tfrecord', '/content/object_detection_demo/data/annotations/test/sejong.mp4#t=383.5.tfrecord', '/content/object_detection_demo/data/annotations/test/sejong.mp4#t=370.5.tfrecord', '/content/object_detection_demo/data/annotations/test/sejong.mp4#t=388.5.tfrecord', '/content/object_detection_demo/data/annotations/test/sejong.mp4#t=361.5.tfrecord', '/content/object_detection_demo/data/annotations/test/sejong.mp4#t=391.tfrecord', '/content/object_detection_demo/data/annotations/test/sejong.mp4#t=384.5.tfrecord', '/content/object_detection_demo/data/annotations/test/sejong.mp4#t=360.5.tfrecord', '/content/object_detection_demo/data/annotations/test/sejong.mp4#t=380.5.tfrecord', '/content/object_detection_demo/data/annotations/test/sejong.mp4#t=389.tfrecord', '/content/object_detection_demo/data/annotations/test/sejong.mp4#t=381.5.tfrecord', '/content/object_detection_demo/data/annotations/test/sejong.mp4#t=375.tfrecord', '/content/object_detection_demo/data/annotations/test/sejong.mp4#t=387.5.tfrecord', '/content/object_detection_demo/data/annotations/test/sejong.mp4#t=379.5.tfrecord', '/content/object_detection_demo/data/annotations/test/sejong.mp4#t=371.tfrecord', '/content/object_detection_demo/data/annotations/test/sejong.mp4#t=391.5.tfrecord', '/content/object_detection_demo/data/annotations/test/sejong.mp4#t=363.5.tfrecord', '/content/object_detection_demo/data/annotations/test/sejong.mp4#t=398.tfrecord', '/content/object_detection_demo/data/annotations/test/sejong.mp4#t=362.tfrecord', '/content/object_detection_demo/data/annotations/test/sejong.mp4#t=363.tfrecord', '/content/object_detection_demo/data/annotations/test/sejong.mp4#t=364.tfrecord', '/content/object_detection_demo/data/annotations/test/sejong.mp4#t=396.5.tfrecord', '/content/object_detection_demo/data/annotations/test/sejong.mp4#t=399.tfrecord', '/content/object_detection_demo/data/annotations/test/sejong.mp4#t=381.tfrecord', '/content/object_detection_demo/data/annotations/test/sejong.mp4#t=378.5.tfrecord', '/content/object_detection_demo/data/annotations/test/sejong.mp4#t=398.5.tfrecord', '/content/object_detection_demo/data/annotations/test/sejong.mp4#t=365.5.tfrecord', '/content/object_detection_demo/data/annotations/test/sejong.mp4#t=360.tfrecord', '/content/object_detection_demo/data/annotations/test/sejong.mp4#t=382.tfrecord', '/content/object_detection_demo/data/annotations/test/sejong.mp4#t=372.5.tfrecord', '/content/object_detection_demo/data/annotations/test/sejong.mp4#t=373.5.tfrecord', '/content/object_detection_demo/data/annotations/test/sejong.mp4#t=373.tfrecord', '/content/object_detection_demo/data/annotations/test/sejong.mp4#t=364.5.tfrecord', '/content/object_detection_demo/data/annotations/test/sejong.mp4#t=392.5.tfrecord', '/content/object_detection_demo/data/annotations/test/sejong.mp4#t=393.tfrecord', '/content/object_detection_demo/data/annotations/test/sejong.mp4#t=375.5.tfrecord', '/content/object_detection_demo/data/annotations/test/sejong.mp4#t=384.tfrecord', '/content/object_detection_demo/data/annotations/test/sejong.mp4#t=370.tfrecord', '/content/object_detection_demo/data/annotations/test/sejong.mp4#t=394.5.tfrecord', '/content/object_detection_demo/data/annotations/test/sejong.mp4#t=386.tfrecord', '/content/object_detection_demo/data/annotations/test/sejong.mp4#t=374.5.tfrecord', '/content/object_detection_demo/data/annotations/test/sejong.mp4#t=395.tfrecord', '/content/object_detection_demo/data/annotations/test/sejong.mp4#t=392.tfrecord', '/content/object_detection_demo/data/annotations/test/sejong.mp4#t=393.5.tfrecord', '/content/object_detection_demo/data/annotations/test/sejong.mp4#t=366.5.tfrecord', '/content/object_detection_demo/data/annotations/test/sejong.mp4#t=382.5.tfrecord', '/content/object_detection_demo/data/annotations/test/sejong.mp4#t=397.5.tfrecord', '/content/object_detection_demo/data/annotations/test/sejong.mp4#t=386.5.tfrecord', '/content/object_detection_demo/data/annotations/test/sejong.mp4#t=365.tfrecord', '/content/object_detection_demo/data/annotations/test/sejong.mp4#t=387.tfrecord', '/content/object_detection_demo/data/annotations/test/sejong.mp4#t=377.5.tfrecord', '/content/object_detection_demo/data/annotations/test/sejong.mp4#t=390.5.tfrecord', '/content/object_detection_demo/data/annotations/test/sejong.mp4#t=377.tfrecord', '/content/object_detection_demo/data/annotations/test/sejong.mp4#t=374.tfrecord', '/content/object_detection_demo/data/annotations/test/sejong.mp4#t=397.tfrecord', '/content/object_detection_demo/data/annotations/test/sejong.mp4#t=368.5.tfrecord', '/content/object_detection_demo/data/annotations/test/sejong.mp4#t=376.5.tfrecord', '/content/object_detection_demo/data/annotations/test/sejong.mp4#t=367.5.tfrecord', '/content/object_detection_demo/data/annotations/test/sejong.mp4#t=376.tfrecord', '/content/object_detection_demo/data/annotations/test/sejong.mp4#t=378.tfrecord']\n"
          ],
          "name": "stdout"
        }
      ]
    },
    {
      "cell_type": "code",
      "metadata": {
        "id": "rBiuRlndPMhd",
        "colab_type": "code",
        "colab": {
          "base_uri": "https://localhost:8080/",
          "height": 54
        },
        "outputId": "6e062bf4-e405-4939-acb4-40b9167b830b"
      },
      "source": [
        "'''\n",
        "test_record_fname_dir ='/content/gdrive/My Drive/ai_project/TFRecords-export/dummy/'\n",
        "path=test_record_fname_dir\n",
        "file_list_tfrecord = []\n",
        "for file in os.listdir(path):\n",
        "  if file.endswith(\".tfrecord\"):\n",
        "    file_list_tfrecord.append(path+file)\n",
        "test_record_fname=file_list_tfrecord\n",
        "print(test_record_fname)\n",
        "\n",
        "bracket_test=multi\n",
        "'''"
      ],
      "execution_count": 8,
      "outputs": [
        {
          "output_type": "stream",
          "text": [
            "['/content/gdrive/My Drive/ai_project/TFRecords-export/dummy/Sejong.mp4#t=101.533333.tfrecord', '/content/gdrive/My Drive/ai_project/TFRecords-export/dummy/Sejong.mp4#t=0.066667.tfrecord', '/content/gdrive/My Drive/ai_project/TFRecords-export/dummy/Sejong.mp4#t=101.tfrecord', '/content/gdrive/My Drive/ai_project/TFRecords-export/dummy/Sejong.mp4#t=105.333333.tfrecord', '/content/gdrive/My Drive/ai_project/TFRecords-export/dummy/Sejong.mp4#t=0.133333.tfrecord', '/content/gdrive/My Drive/ai_project/TFRecords-export/dummy/Sejong.mp4#t=105.8.tfrecord', '/content/gdrive/My Drive/ai_project/TFRecords-export/dummy/Sejong.mp4#t=106.2.tfrecord', '/content/gdrive/My Drive/ai_project/TFRecords-export/dummy/Sejong.mp4#t=106.466667.tfrecord', '/content/gdrive/My Drive/ai_project/TFRecords-export/dummy/Sejong.mp4#t=0.2.tfrecord', '/content/gdrive/My Drive/ai_project/TFRecords-export/dummy/Sejong.mp4#t=107.2.tfrecord', '/content/gdrive/My Drive/ai_project/TFRecords-export/dummy/Sejong.mp4#t=108.6.tfrecord', '/content/gdrive/My Drive/ai_project/TFRecords-export/dummy/Sejong.mp4#t=0.266667.tfrecord', '/content/gdrive/My Drive/ai_project/TFRecords-export/dummy/Sejong.mp4#t=110.6.tfrecord', '/content/gdrive/My Drive/ai_project/TFRecords-export/dummy/Sejong.mp4#t=127.2.tfrecord', '/content/gdrive/My Drive/ai_project/TFRecords-export/dummy/Sejong.mp4#t=0.333333.tfrecord', '/content/gdrive/My Drive/ai_project/TFRecords-export/dummy/Sejong.mp4#t=128.4.tfrecord', '/content/gdrive/My Drive/ai_project/TFRecords-export/dummy/Sejong.mp4#t=131.266667.tfrecord', '/content/gdrive/My Drive/ai_project/TFRecords-export/dummy/Sejong.mp4#t=0.4.tfrecord', '/content/gdrive/My Drive/ai_project/TFRecords-export/dummy/Sejong.mp4#t=135.4.tfrecord', '/content/gdrive/My Drive/ai_project/TFRecords-export/dummy/Sejong.mp4#t=136.266667.tfrecord', '/content/gdrive/My Drive/ai_project/TFRecords-export/dummy/Sejong.mp4#t=0.466667.tfrecord', '/content/gdrive/My Drive/ai_project/TFRecords-export/dummy/Sejong.mp4#t=138.466667.tfrecord', '/content/gdrive/My Drive/ai_project/TFRecords-export/dummy/Sejong.mp4#t=139.533333.tfrecord', '/content/gdrive/My Drive/ai_project/TFRecords-export/dummy/Sejong.mp4#t=0.5.tfrecord', '/content/gdrive/My Drive/ai_project/TFRecords-export/dummy/Sejong.mp4#t=165.5.tfrecord', '/content/gdrive/My Drive/ai_project/TFRecords-export/dummy/Sejong.mp4#t=36.133333.tfrecord', '/content/gdrive/My Drive/ai_project/TFRecords-export/dummy/Sejong.mp4#t=0.533333.tfrecord', '/content/gdrive/My Drive/ai_project/TFRecords-export/dummy/Sejong.mp4#t=37.5.tfrecord', '/content/gdrive/My Drive/ai_project/TFRecords-export/dummy/Sejong.mp4#t=37.tfrecord', '/content/gdrive/My Drive/ai_project/TFRecords-export/dummy/Sejong.mp4#t=0.733333.tfrecord', '/content/gdrive/My Drive/ai_project/TFRecords-export/dummy/Sejong.mp4#t=44.5.tfrecord', '/content/gdrive/My Drive/ai_project/TFRecords-export/dummy/Sejong.mp4#t=46.tfrecord', '/content/gdrive/My Drive/ai_project/TFRecords-export/dummy/Sejong.mp4#t=1.066667.tfrecord', '/content/gdrive/My Drive/ai_project/TFRecords-export/dummy/Sejong.mp4#t=47.tfrecord', '/content/gdrive/My Drive/ai_project/TFRecords-export/dummy/Sejong.mp4#t=48.tfrecord', '/content/gdrive/My Drive/ai_project/TFRecords-export/dummy/Sejong.mp4#t=1.11.tfrecord', '/content/gdrive/My Drive/ai_project/TFRecords-export/dummy/Sejong.mp4#t=49.5.tfrecord', '/content/gdrive/My Drive/ai_project/TFRecords-export/dummy/Sejong.mp4#t=50.133333.tfrecord', '/content/gdrive/My Drive/ai_project/TFRecords-export/dummy/Sejong.mp4#t=1.111.tfrecord', '/content/gdrive/My Drive/ai_project/TFRecords-export/dummy/Sejong.mp4#t=51.tfrecord', '/content/gdrive/My Drive/ai_project/TFRecords-export/dummy/Sejong.mp4#t=52.tfrecord', '/content/gdrive/My Drive/ai_project/TFRecords-export/dummy/Sejong.mp4#t=1.112.tfrecord', '/content/gdrive/My Drive/ai_project/TFRecords-export/dummy/Sejong.mp4#t=58.5.tfrecord', '/content/gdrive/My Drive/ai_project/TFRecords-export/dummy/Sejong.mp4#t=59.133333.tfrecord', '/content/gdrive/My Drive/ai_project/TFRecords-export/dummy/Sejong.mp4#t=1.113.tfrecord', '/content/gdrive/My Drive/ai_project/TFRecords-export/dummy/Sejong.mp4#t=59.tfrecord', '/content/gdrive/My Drive/ai_project/TFRecords-export/dummy/Sejong.mp4#t=60.5.tfrecord', '/content/gdrive/My Drive/ai_project/TFRecords-export/dummy/Sejong.mp4#t=1.114.tfrecord', '/content/gdrive/My Drive/ai_project/TFRecords-export/dummy/Sejong.mp4#t=60.6.tfrecord', '/content/gdrive/My Drive/ai_project/TFRecords-export/dummy/Sejong.mp4#t=60.933333.tfrecord', '/content/gdrive/My Drive/ai_project/TFRecords-export/dummy/Sejong.mp4#t=1.115.tfrecord', '/content/gdrive/My Drive/ai_project/TFRecords-export/dummy/Sejong.mp4#t=60.tfrecord', '/content/gdrive/My Drive/ai_project/TFRecords-export/dummy/Sejong.mp4#t=61.5.tfrecord', '/content/gdrive/My Drive/ai_project/TFRecords-export/dummy/Sejong.mp4#t=1.116.tfrecord', '/content/gdrive/My Drive/ai_project/TFRecords-export/dummy/Sejong.mp4#t=61.tfrecord', '/content/gdrive/My Drive/ai_project/TFRecords-export/dummy/Sejong.mp4#t=62.4.tfrecord', '/content/gdrive/My Drive/ai_project/TFRecords-export/dummy/Sejong.mp4#t=1.117.tfrecord', '/content/gdrive/My Drive/ai_project/TFRecords-export/dummy/Sejong.mp4#t=62.5.tfrecord', '/content/gdrive/My Drive/ai_project/TFRecords-export/dummy/Sejong.mp4#t=62.tfrecord', '/content/gdrive/My Drive/ai_project/TFRecords-export/dummy/Sejong.mp4#t=1.118.tfrecord', '/content/gdrive/My Drive/ai_project/TFRecords-export/dummy/Sejong.mp4#t=63.5.tfrecord', '/content/gdrive/My Drive/ai_project/TFRecords-export/dummy/Sejong.mp4#t=63.6.tfrecord', '/content/gdrive/My Drive/ai_project/TFRecords-export/dummy/Sejong.mp4#t=1.133333.tfrecord', '/content/gdrive/My Drive/ai_project/TFRecords-export/dummy/Sejong.mp4#t=63.tfrecord', '/content/gdrive/My Drive/ai_project/TFRecords-export/dummy/Sejong.mp4#t=64.5.tfrecord', '/content/gdrive/My Drive/ai_project/TFRecords-export/dummy/Sejong.mp4#t=1.2.tfrecord', '/content/gdrive/My Drive/ai_project/TFRecords-export/dummy/Sejong.mp4#t=64.866667.tfrecord', '/content/gdrive/My Drive/ai_project/TFRecords-export/dummy/Sejong.mp4#t=64.tfrecord', '/content/gdrive/My Drive/ai_project/TFRecords-export/dummy/Sejong.mp4#t=1.266667.tfrecord', '/content/gdrive/My Drive/ai_project/TFRecords-export/dummy/Sejong.mp4#t=65.5.tfrecord', '/content/gdrive/My Drive/ai_project/TFRecords-export/dummy/Sejong.mp4#t=65.tfrecord', '/content/gdrive/My Drive/ai_project/TFRecords-export/dummy/Sejong.mp4#t=1.333333.tfrecord', '/content/gdrive/My Drive/ai_project/TFRecords-export/dummy/Sejong.mp4#t=66.5.tfrecord', '/content/gdrive/My Drive/ai_project/TFRecords-export/dummy/Sejong.mp4#t=66.tfrecord', '/content/gdrive/My Drive/ai_project/TFRecords-export/dummy/Sejong.mp4#t=1.4.tfrecord', '/content/gdrive/My Drive/ai_project/TFRecords-export/dummy/Sejong.mp4#t=67.tfrecord', '/content/gdrive/My Drive/ai_project/TFRecords-export/dummy/Sejong.mp4#t=68.5.tfrecord', '/content/gdrive/My Drive/ai_project/TFRecords-export/dummy/Sejong.mp4#t=1.466667.tfrecord', '/content/gdrive/My Drive/ai_project/TFRecords-export/dummy/Sejong.mp4#t=68.666667.tfrecord', '/content/gdrive/My Drive/ai_project/TFRecords-export/dummy/Sejong.mp4#t=68.tfrecord', '/content/gdrive/My Drive/ai_project/TFRecords-export/dummy/Sejong.mp4#t=1.5.tfrecord', '/content/gdrive/My Drive/ai_project/TFRecords-export/dummy/Sejong.mp4#t=69.tfrecord', '/content/gdrive/My Drive/ai_project/TFRecords-export/dummy/Sejong.mp4#t=70.5.tfrecord', '/content/gdrive/My Drive/ai_project/TFRecords-export/dummy/Sejong.mp4#t=1.533333.tfrecord', '/content/gdrive/My Drive/ai_project/TFRecords-export/dummy/Sejong.mp4#t=71.tfrecord', '/content/gdrive/My Drive/ai_project/TFRecords-export/dummy/Sejong.mp4#t=72.tfrecord', '/content/gdrive/My Drive/ai_project/TFRecords-export/dummy/Sejong.mp4#t=1.6.tfrecord', '/content/gdrive/My Drive/ai_project/TFRecords-export/dummy/Sejong.mp4#t=77.533333.tfrecord', '/content/gdrive/My Drive/ai_project/TFRecords-export/dummy/Sejong.mp4#t=81.5.tfrecord', '/content/gdrive/My Drive/ai_project/TFRecords-export/dummy/Sejong.mp4#t=1.666667.tfrecord', '/content/gdrive/My Drive/ai_project/TFRecords-export/dummy/Sejong.mp4#t=81.tfrecord', '/content/gdrive/My Drive/ai_project/TFRecords-export/dummy/Sejong.mp4#t=82.333333.tfrecord', '/content/gdrive/My Drive/ai_project/TFRecords-export/dummy/Sejong.mp4#t=1.733333.tfrecord', '/content/gdrive/My Drive/ai_project/TFRecords-export/dummy/Sejong.mp4#t=83.5.tfrecord', '/content/gdrive/My Drive/ai_project/TFRecords-export/dummy/Sejong.mp4#t=84.133333.tfrecord', '/content/gdrive/My Drive/ai_project/TFRecords-export/dummy/Sejong.mp4#t=1.8.tfrecord', '/content/gdrive/My Drive/ai_project/TFRecords-export/dummy/Sejong.mp4#t=85.333333.tfrecord', '/content/gdrive/My Drive/ai_project/TFRecords-export/dummy/Sejong.mp4#t=86.5.tfrecord', '/content/gdrive/My Drive/ai_project/TFRecords-export/dummy/Sejong.mp4#t=1.866667.tfrecord', '/content/gdrive/My Drive/ai_project/TFRecords-export/dummy/Sejong.mp4#t=86.tfrecord', '/content/gdrive/My Drive/ai_project/TFRecords-export/dummy/Sejong.mp4#t=87.5.tfrecord', '/content/gdrive/My Drive/ai_project/TFRecords-export/dummy/Sejong.mp4#t=1.933333.tfrecord', '/content/gdrive/My Drive/ai_project/TFRecords-export/dummy/Sejong.mp4#t=87.tfrecord', '/content/gdrive/My Drive/ai_project/TFRecords-export/dummy/Sejong.mp4#t=88.5.tfrecord', '/content/gdrive/My Drive/ai_project/TFRecords-export/dummy/Sejong.mp4#t=1.tfrecord', '/content/gdrive/My Drive/ai_project/TFRecords-export/dummy/Sejong.mp4#t=89.5.tfrecord', '/content/gdrive/My Drive/ai_project/TFRecords-export/dummy/Sejong.mp4#t=94.tfrecord', '/content/gdrive/My Drive/ai_project/TFRecords-export/dummy/Sejong.mp4#t=137.333333.tfrecord', '/content/gdrive/My Drive/ai_project/TFRecords-export/dummy/Sejong.mp4#t=89.tfrecord', '/content/gdrive/My Drive/ai_project/TFRecords-export/dummy/Sejong.mp4#t=96.5.tfrecord', '/content/gdrive/My Drive/ai_project/TFRecords-export/dummy/Sejong.mp4#t=2.133333.tfrecord', '/content/gdrive/My Drive/ai_project/TFRecords-export/dummy/Sejong.mp4#t=2.2.tfrecord', '/content/gdrive/My Drive/ai_project/TFRecords-export/dummy/Sejong.mp4#t=2.4.tfrecord', '/content/gdrive/My Drive/ai_project/TFRecords-export/dummy/Sejong.mp4#t=2.466667.tfrecord', '/content/gdrive/My Drive/ai_project/TFRecords-export/dummy/Sejong.mp4#t=2.6.tfrecord', '/content/gdrive/My Drive/ai_project/TFRecords-export/dummy/Sejong.mp4#t=2.666667.tfrecord', '/content/gdrive/My Drive/ai_project/TFRecords-export/dummy/Sejong.mp4#t=2.733333.tfrecord', '/content/gdrive/My Drive/ai_project/TFRecords-export/dummy/Sejong.mp4#t=2.866667.tfrecord', '/content/gdrive/My Drive/ai_project/TFRecords-export/dummy/Sejong.mp4#t=2.933333.tfrecord', '/content/gdrive/My Drive/ai_project/TFRecords-export/dummy/Sejong.mp4#t=2.tfrecord', '/content/gdrive/My Drive/ai_project/TFRecords-export/dummy/Sejong.mp4#t=20.5.tfrecord', '/content/gdrive/My Drive/ai_project/TFRecords-export/dummy/Sejong.mp4#t=21.tfrecord', '/content/gdrive/My Drive/ai_project/TFRecords-export/dummy/Sejong.mp4#t=22.5.tfrecord', '/content/gdrive/My Drive/ai_project/TFRecords-export/dummy/Sejong.mp4#t=22.tfrecord', '/content/gdrive/My Drive/ai_project/TFRecords-export/dummy/Sejong.mp4#t=25.5.tfrecord', '/content/gdrive/My Drive/ai_project/TFRecords-export/dummy/Sejong.mp4#t=26.5.tfrecord', '/content/gdrive/My Drive/ai_project/TFRecords-export/dummy/Sejong.mp4#t=3.066667.tfrecord', '/content/gdrive/My Drive/ai_project/TFRecords-export/dummy/Sejong.mp4#t=3.133333.tfrecord', '/content/gdrive/My Drive/ai_project/TFRecords-export/dummy/Sejong.mp4#t=3.2.tfrecord', '/content/gdrive/My Drive/ai_project/TFRecords-export/dummy/Sejong.mp4#t=3.266667.tfrecord', '/content/gdrive/My Drive/ai_project/TFRecords-export/dummy/Sejong.mp4#t=3.333333.tfrecord', '/content/gdrive/My Drive/ai_project/TFRecords-export/dummy/Sejong.mp4#t=3.4.tfrecord', '/content/gdrive/My Drive/ai_project/TFRecords-export/dummy/Sejong.mp4#t=3.466667.tfrecord', '/content/gdrive/My Drive/ai_project/TFRecords-export/dummy/Sejong.mp4#t=3.5.tfrecord', '/content/gdrive/My Drive/ai_project/TFRecords-export/dummy/Sejong.mp4#t=3.533333.tfrecord', '/content/gdrive/My Drive/ai_project/TFRecords-export/dummy/Sejong.mp4#t=3.6.tfrecord', '/content/gdrive/My Drive/ai_project/TFRecords-export/dummy/Sejong.mp4#t=3.666667.tfrecord', '/content/gdrive/My Drive/ai_project/TFRecords-export/dummy/Sejong.mp4#t=3.tfrecord', '/content/gdrive/My Drive/ai_project/TFRecords-export/dummy/Sejong.mp4#t=33.5.tfrecord', '/content/gdrive/My Drive/ai_project/TFRecords-export/dummy/Sejong.mp4#t=34.066667.tfrecord', '/content/gdrive/My Drive/ai_project/TFRecords-export/dummy/Sejong.mp4#t=34.5.tfrecord', '/content/gdrive/My Drive/ai_project/TFRecords-export/dummy/Sejong.mp4#t=34.733333.tfrecord', '/content/gdrive/My Drive/ai_project/TFRecords-export/dummy/Sejong.mp4#t=34.tfrecord', '/content/gdrive/My Drive/ai_project/TFRecords-export/dummy/Sejong.mp4#t=35.5.tfrecord', '/content/gdrive/My Drive/ai_project/TFRecords-export/dummy/Sejong.mp4#t=35.tfrecord', '/content/gdrive/My Drive/ai_project/TFRecords-export/dummy/Sejong.mp4#t=36.5.tfrecord', '/content/gdrive/My Drive/ai_project/TFRecords-export/dummy/Sejong.mp4#t=36.tfrecord', '/content/gdrive/My Drive/ai_project/TFRecords-export/dummy/Sejong.mp4#t=37.133333.tfrecord', '/content/gdrive/My Drive/ai_project/TFRecords-export/dummy/Sejong.mp4#t=4.066667.tfrecord', '/content/gdrive/My Drive/ai_project/TFRecords-export/dummy/Sejong.mp4#t=4.133333.tfrecord', '/content/gdrive/My Drive/ai_project/TFRecords-export/dummy/Sejong.mp4#t=4.2.tfrecord', '/content/gdrive/My Drive/ai_project/TFRecords-export/dummy/Sejong.mp4#t=4.266667.tfrecord', '/content/gdrive/My Drive/ai_project/TFRecords-export/dummy/Sejong.mp4#t=4.333333.tfrecord', '/content/gdrive/My Drive/ai_project/TFRecords-export/dummy/Sejong.mp4#t=4.4.tfrecord', '/content/gdrive/My Drive/ai_project/TFRecords-export/dummy/Sejong.mp4#t=4.466667.tfrecord', '/content/gdrive/My Drive/ai_project/TFRecords-export/dummy/Sejong.mp4#t=4.5.tfrecord', '/content/gdrive/My Drive/ai_project/TFRecords-export/dummy/Sejong.mp4#t=4.533333.tfrecord', '/content/gdrive/My Drive/ai_project/TFRecords-export/dummy/Sejong.mp4#t=4.6.tfrecord', '/content/gdrive/My Drive/ai_project/TFRecords-export/dummy/Sejong.mp4#t=4.666667.tfrecord', '/content/gdrive/My Drive/ai_project/TFRecords-export/dummy/Sejong.mp4#t=4.733333.tfrecord', '/content/gdrive/My Drive/ai_project/TFRecords-export/dummy/Sejong.mp4#t=4.8.tfrecord', '/content/gdrive/My Drive/ai_project/TFRecords-export/dummy/Sejong.mp4#t=4.866667.tfrecord', '/content/gdrive/My Drive/ai_project/TFRecords-export/dummy/Sejong.mp4#t=4.933333.tfrecord', '/content/gdrive/My Drive/ai_project/TFRecords-export/dummy/Sejong.mp4#t=4.tfrecord', '/content/gdrive/My Drive/ai_project/TFRecords-export/dummy/Sejong.mp4#t=49.tfrecord', '/content/gdrive/My Drive/ai_project/TFRecords-export/dummy/Sejong.mp4#t=5.066667.tfrecord', '/content/gdrive/My Drive/ai_project/TFRecords-export/dummy/Sejong.mp4#t=5.133333.tfrecord', '/content/gdrive/My Drive/ai_project/TFRecords-export/dummy/Sejong.mp4#t=5.2.tfrecord', '/content/gdrive/My Drive/ai_project/TFRecords-export/dummy/Sejong.mp4#t=5.266667.tfrecord', '/content/gdrive/My Drive/ai_project/TFRecords-export/dummy/Sejong.mp4#t=5.5.tfrecord', '/content/gdrive/My Drive/ai_project/TFRecords-export/dummy/Sejong.mp4#t=5.tfrecord', '/content/gdrive/My Drive/ai_project/TFRecords-export/dummy/Sejong.mp4#t=51.4.tfrecord', '/content/gdrive/My Drive/ai_project/TFRecords-export/dummy/Sejong.mp4#t=51.5.tfrecord', '/content/gdrive/My Drive/ai_project/TFRecords-export/dummy/Sejong.mp4#t=52.5.tfrecord', '/content/gdrive/My Drive/ai_project/TFRecords-export/dummy/Sejong.mp4#t=52.866667.tfrecord', '/content/gdrive/My Drive/ai_project/TFRecords-export/dummy/Sejong.mp4#t=53.5.tfrecord', '/content/gdrive/My Drive/ai_project/TFRecords-export/dummy/Sejong.mp4#t=53.733333.tfrecord', '/content/gdrive/My Drive/ai_project/TFRecords-export/dummy/Sejong.mp4#t=53.tfrecord', '/content/gdrive/My Drive/ai_project/TFRecords-export/dummy/Sejong.mp4#t=54.466667.tfrecord', '/content/gdrive/My Drive/ai_project/TFRecords-export/dummy/Sejong.mp4#t=54.5.tfrecord', '/content/gdrive/My Drive/ai_project/TFRecords-export/dummy/Sejong.mp4#t=54.tfrecord', '/content/gdrive/My Drive/ai_project/TFRecords-export/dummy/Sejong.mp4#t=55.5.tfrecord', '/content/gdrive/My Drive/ai_project/TFRecords-export/dummy/Sejong.mp4#t=55.tfrecord', '/content/gdrive/My Drive/ai_project/TFRecords-export/dummy/Sejong.mp4#t=56.066667.tfrecord', '/content/gdrive/My Drive/ai_project/TFRecords-export/dummy/Sejong.mp4#t=56.5.tfrecord', '/content/gdrive/My Drive/ai_project/TFRecords-export/dummy/Sejong.mp4#t=56.tfrecord', '/content/gdrive/My Drive/ai_project/TFRecords-export/dummy/Sejong.mp4#t=57.5.tfrecord', '/content/gdrive/My Drive/ai_project/TFRecords-export/dummy/Sejong.mp4#t=57.866667.tfrecord', '/content/gdrive/My Drive/ai_project/TFRecords-export/dummy/Sejong.mp4#t=57.tfrecord', '/content/gdrive/My Drive/ai_project/TFRecords-export/dummy/Sejong.mp4#t=58.tfrecord', '/content/gdrive/My Drive/ai_project/TFRecords-export/dummy/Sejong.mp4#t=59.5.tfrecord', '/content/gdrive/My Drive/ai_project/TFRecords-export/dummy/Sejong.mp4#t=6.266667.tfrecord', '/content/gdrive/My Drive/ai_project/TFRecords-export/dummy/Sejong.mp4#t=6.5.tfrecord', '/content/gdrive/My Drive/ai_project/TFRecords-export/dummy/Sejong.mp4#t=6.tfrecord', '/content/gdrive/My Drive/ai_project/TFRecords-export/dummy/Sejong.mp4#t=66.4.tfrecord', '/content/gdrive/My Drive/ai_project/TFRecords-export/dummy/Sejong.mp4#t=67.266667.tfrecord', '/content/gdrive/My Drive/ai_project/TFRecords-export/dummy/Sejong.mp4#t=67.5.tfrecord', '/content/gdrive/My Drive/ai_project/TFRecords-export/dummy/Sejong.mp4#t=69.5.tfrecord', '/content/gdrive/My Drive/ai_project/TFRecords-export/dummy/Sejong.mp4#t=69.6.tfrecord', '/content/gdrive/My Drive/ai_project/TFRecords-export/dummy/Sejong.mp4#t=7.066667.tfrecord', '/content/gdrive/My Drive/ai_project/TFRecords-export/dummy/Sejong.mp4#t=7.tfrecord', '/content/gdrive/My Drive/ai_project/TFRecords-export/dummy/Sejong.mp4#t=70.tfrecord', '/content/gdrive/My Drive/ai_project/TFRecords-export/dummy/Sejong.mp4#t=71.066667.tfrecord', '/content/gdrive/My Drive/ai_project/TFRecords-export/dummy/Sejong.mp4#t=71.5.tfrecord', '/content/gdrive/My Drive/ai_project/TFRecords-export/dummy/Sejong.mp4#t=72.5.tfrecord', '/content/gdrive/My Drive/ai_project/TFRecords-export/dummy/Sejong.mp4#t=73.tfrecord', '/content/gdrive/My Drive/ai_project/TFRecords-export/dummy/Sejong.mp4#t=74.133333.tfrecord', '/content/gdrive/My Drive/ai_project/TFRecords-export/dummy/Sejong.mp4#t=74.5.tfrecord', '/content/gdrive/My Drive/ai_project/TFRecords-export/dummy/Sejong.mp4#t=74.tfrecord', '/content/gdrive/My Drive/ai_project/TFRecords-export/dummy/Sejong.mp4#t=75.4.tfrecord', '/content/gdrive/My Drive/ai_project/TFRecords-export/dummy/Sejong.mp4#t=79.5.tfrecord', '/content/gdrive/My Drive/ai_project/TFRecords-export/dummy/Sejong.mp4#t=79.933333.tfrecord', '/content/gdrive/My Drive/ai_project/TFRecords-export/dummy/Sejong.mp4#t=8.5.tfrecord', '/content/gdrive/My Drive/ai_project/TFRecords-export/dummy/Sejong.mp4#t=80.5.tfrecord', '/content/gdrive/My Drive/ai_project/TFRecords-export/dummy/Sejong.mp4#t=80.tfrecord', '/content/gdrive/My Drive/ai_project/TFRecords-export/dummy/Sejong.mp4#t=81.733333.tfrecord', '/content/gdrive/My Drive/ai_project/TFRecords-export/dummy/Sejong.mp4#t=82.tfrecord', '/content/gdrive/My Drive/ai_project/TFRecords-export/dummy/Sejong.mp4#t=84.tfrecord', '/content/gdrive/My Drive/ai_project/TFRecords-export/dummy/Sejong.mp4#t=85.5.tfrecord', '/content/gdrive/My Drive/ai_project/TFRecords-export/dummy/Sejong.mp4#t=85.tfrecord', '/content/gdrive/My Drive/ai_project/TFRecords-export/dummy/Sejong.mp4#t=88.tfrecord', '/content/gdrive/My Drive/ai_project/TFRecords-export/dummy/Sejong.mp4#t=9.tfrecord']\n"
          ],
          "name": "stdout"
        }
      ]
    },
    {
      "cell_type": "code",
      "metadata": {
        "id": "1TpPLMzLF8CQ",
        "colab_type": "code",
        "outputId": "19e5d1ed-51de-4af3-ce3d-5da18e6e9674",
        "colab": {
          "base_uri": "https://localhost:8080/",
          "height": 253
        }
      },
      "source": [
        "'''\n",
        "%cd {repo_dir_path}\n",
        "\n",
        "# Convert train folder annotation xml files to a single csv file,\n",
        "# generate the `label_map.pbtxt` file to `data/` directory as well.\n",
        "!python xml_to_csv.py -i data/images/train -o data/annotations/train_labels.csv -l data/annotations\n",
        "\n",
        "# Convert test folder annotation xml files to a single csv.\n",
        "!python xml_to_csv.py -i data/images/test -o data/annotations/test_labels.csv\n",
        "\n",
        "# Generate `train.record`\n",
        "!python generate_tfrecord.py --csv_input=data/annotations/train_labels.csv \\\n",
        "                             --output_path=data/annotations/train.record \\\n",
        "                             --img_path=data/images/train \\\n",
        "                             --label_map data/annotations/label_map.pbtxt\n",
        "\n",
        "# Generate `test.record`\n",
        "!python generate_tfrecord.py --csv_input=data/annotations/test_labels.csv \\\n",
        "                             --output_path=data/annotations/test.record \\\n",
        "                             --img_path=data/images/test \\\n",
        "                             --label_map data/annotations/label_map.pbtxt  \n",
        "'''"
      ],
      "execution_count": 0,
      "outputs": [
        {
          "output_type": "stream",
          "text": [
            "/content/object_detection_demo\n",
            "Successfully converted xml to csv.\n",
            "Generate `data/annotations/label_map.pbtxt`\n",
            "WARNING: Logging before flag parsing goes to stderr.\n",
            "W0622 10:18:04.007905 140404093798272 deprecation_wrapper.py:119] From generate_tfrecord.py:134: The name tf.app.run is deprecated. Please use tf.compat.v1.app.run instead.\n",
            "\n",
            "W0622 10:18:04.008733 140404093798272 deprecation_wrapper.py:119] From generate_tfrecord.py:107: The name tf.python_io.TFRecordWriter is deprecated. Please use tf.io.TFRecordWriter instead.\n",
            "\n",
            "W0622 10:18:04.027413 140404093798272 deprecation_wrapper.py:119] From /content/models/research/object_detection/utils/label_map_util.py:132: The name tf.gfile.GFile is deprecated. Please use tf.io.gfile.GFile instead.\n",
            "\n",
            "Successfully created the TFRecords: /content/object_detection_demo/data/annotations/train.record\n"
          ],
          "name": "stdout"
        },
        {
          "output_type": "execute_result",
          "data": {
            "text/plain": [
              "'\\n# Generate `test.record`\\n!python generate_tfrecord.py --csv_input=data/annotations/test_labels.csv                              --output_path=data/annotations/test.record                              --img_path=data/images/test                              --label_map data/annotations/label_map.pbtxt                  \\n'"
            ]
          },
          "metadata": {
            "tags": []
          },
          "execution_count": 13
        }
      ]
    },
    {
      "cell_type": "code",
      "metadata": {
        "id": "BaM3ZQDJw-F8",
        "colab_type": "code",
        "colab": {}
      },
      "source": [
        "'''\n",
        "test_record_fname_dir ='/content/object_detection_demo/data/annotations/test/'\n",
        "train_record_fname    ='/content/object_detection_demo/data/annotations/train.record'\n",
        "label_map_pbtxt_fname ='/content/object_detection_demo/data/annotations/label_map.pbtxt'\n",
        "'''"
      ],
      "execution_count": 0,
      "outputs": []
    },
    {
      "cell_type": "code",
      "metadata": {
        "id": "3b_cMd95pP6s",
        "colab_type": "code",
        "outputId": "b8f58bd7-c775-4558-8ab5-912d1e133fe9",
        "colab": {
          "base_uri": "https://localhost:8080/",
          "height": 34
        }
      },
      "source": [
        "#label_map_pbtxt_fname ='/content/object_detection_demo/data/annotations/label_map.pbtxt'\n",
        "label_map_pbtxt_fname ='/content/gdrive/My Drive/ai_project/TFRecords-export/train/label_map.pbtxt'\n",
        "%cd /content/models/research\n",
        "\n",
        "import os\n",
        "import shutil\n",
        "import glob\n",
        "import urllib.request\n",
        "import tarfile\n",
        "MODEL_FILE = MODEL + '.tar.gz'\n",
        "DOWNLOAD_BASE = 'http://download.tensorflow.org/models/object_detection/'\n",
        "DEST_DIR = '/content/models/research/pretrained_model'\n",
        "\n",
        "if not (os.path.exists(MODEL_FILE)):\n",
        "    urllib.request.urlretrieve(DOWNLOAD_BASE + MODEL_FILE, MODEL_FILE)\n",
        "\n",
        "tar = tarfile.open(MODEL_FILE)\n",
        "tar.extractall()\n",
        "tar.close()\n",
        "\n",
        "os.remove(MODEL_FILE)\n",
        "if (os.path.exists(DEST_DIR)):\n",
        "    shutil.rmtree(DEST_DIR)\n",
        "os.rename(MODEL, DEST_DIR)"
      ],
      "execution_count": 33,
      "outputs": [
        {
          "output_type": "stream",
          "text": [
            "/content/models/research\n"
          ],
          "name": "stdout"
        }
      ]
    },
    {
      "cell_type": "code",
      "metadata": {
        "id": "isIvDQn1pYQM",
        "colab_type": "code",
        "outputId": "cb4b2466-d9a2-4acf-8f82-49b265d56969",
        "colab": {
          "base_uri": "https://localhost:8080/",
          "height": 215
        }
      },
      "source": [
        "!echo {DEST_DIR}\n",
        "!ls -alh {DEST_DIR}"
      ],
      "execution_count": 0,
      "outputs": [
        {
          "output_type": "stream",
          "text": [
            "/content/models/research/pretrained_model\n",
            "total 135M\n",
            "drwxr-xr-x  3 345018 89939 4.0K Mar 30  2018 .\n",
            "drwxr-xr-x 71 root   root  4.0K Jun 17 11:33 ..\n",
            "-rw-r--r--  1 345018 89939   77 Mar 30  2018 checkpoint\n",
            "-rw-r--r--  1 345018 89939  67M Mar 30  2018 frozen_inference_graph.pb\n",
            "-rw-r--r--  1 345018 89939  65M Mar 30  2018 model.ckpt.data-00000-of-00001\n",
            "-rw-r--r--  1 345018 89939  15K Mar 30  2018 model.ckpt.index\n",
            "-rw-r--r--  1 345018 89939 3.4M Mar 30  2018 model.ckpt.meta\n",
            "-rw-r--r--  1 345018 89939 4.2K Mar 30  2018 pipeline.config\n",
            "drwxr-xr-x  3 345018 89939 4.0K Mar 30  2018 saved_model\n"
          ],
          "name": "stdout"
        }
      ]
    },
    {
      "cell_type": "code",
      "metadata": {
        "id": "3ht9pTMTpjip",
        "colab_type": "code",
        "outputId": "ffe2c42c-6c79-4b77-8aad-d08a5501ce7d",
        "colab": {
          "base_uri": "https://localhost:8080/",
          "height": 34
        }
      },
      "source": [
        "fine_tune_checkpoint = os.path.join(DEST_DIR, \"model.ckpt\")\n",
        "fine_tune_checkpoint"
      ],
      "execution_count": 34,
      "outputs": [
        {
          "output_type": "execute_result",
          "data": {
            "text/plain": [
              "'/content/models/research/pretrained_model/model.ckpt'"
            ]
          },
          "metadata": {
            "tags": []
          },
          "execution_count": 34
        }
      ]
    },
    {
      "cell_type": "code",
      "metadata": {
        "id": "D42N60v0sdF8",
        "colab_type": "code",
        "colab": {}
      },
      "source": [
        "import os\n",
        "pipeline_fname = os.path.join('/content/models/research/object_detection/samples/configs/', pipeline_file)\n",
        "\n",
        "assert os.path.isfile(pipeline_fname), '`{}` not exist'.format(pipeline_fname)"
      ],
      "execution_count": 0,
      "outputs": []
    },
    {
      "cell_type": "code",
      "metadata": {
        "id": "PDZcRSHsszi3",
        "colab_type": "code",
        "colab": {}
      },
      "source": [
        "def get_num_classes(pbtxt_fname):\n",
        "    from object_detection.utils import label_map_util\n",
        "    label_map = label_map_util.load_labelmap(pbtxt_fname)\n",
        "    categories = label_map_util.convert_label_map_to_categories(\n",
        "        label_map, max_num_classes=90, use_display_name=True)\n",
        "    category_index = label_map_util.create_category_index(categories)\n",
        "    return len(category_index.keys())"
      ],
      "execution_count": 0,
      "outputs": []
    },
    {
      "cell_type": "code",
      "metadata": {
        "colab_type": "code",
        "outputId": "e16ae1f9-918e-4a64-f267-fd7407de4a00",
        "id": "SdbC0JNheXft",
        "colab": {
          "base_uri": "https://localhost:8080/",
          "height": 2131
        }
      },
      "source": [
        "from object_detection.utils import label_map_util\n",
        "label_map = label_map_util.load_labelmap(label_map_pbtxt_fname)\n",
        "label_map"
      ],
      "execution_count": 14,
      "outputs": [
        {
          "output_type": "stream",
          "text": [
            "WARNING: Logging before flag parsing goes to stderr.\n",
            "W0623 12:10:03.252033 140227337742208 deprecation_wrapper.py:119] From /content/models/research/object_detection/utils/label_map_util.py:132: The name tf.gfile.GFile is deprecated. Please use tf.io.gfile.GFile instead.\n",
            "\n"
          ],
          "name": "stderr"
        },
        {
          "output_type": "execute_result",
          "data": {
            "text/plain": [
              "item {\n",
              "  name: \"kerb_stone\"\n",
              "  id: 1\n",
              "}\n",
              "item {\n",
              "  name: \"kerb_wooden\"\n",
              "  id: 2\n",
              "}\n",
              "item {\n",
              "  name: \"sewer\"\n",
              "  id: 3\n",
              "}\n",
              "item {\n",
              "  name: \"fence\"\n",
              "  id: 4\n",
              "}\n",
              "item {\n",
              "  name: \"cone_construct\"\n",
              "  id: 5\n",
              "}\n",
              "item {\n",
              "  name: \"cone_parking\"\n",
              "  id: 6\n",
              "}\n",
              "item {\n",
              "  name: \"Barricade\"\n",
              "  id: 7\n",
              "}\n",
              "item {\n",
              "  name: \"sign\"\n",
              "  id: 8\n",
              "}\n",
              "item {\n",
              "  name: \"milestone\"\n",
              "  id: 9\n",
              "}\n",
              "item {\n",
              "  name: \"flowerpot\"\n",
              "  id: 10\n",
              "}\n",
              "item {\n",
              "  name: \"street_lamp\"\n",
              "  id: 11\n",
              "}\n",
              "item {\n",
              "  name: \"stair_stone\"\n",
              "  id: 12\n",
              "}\n",
              "item {\n",
              "  name: \"stair_wooden\"\n",
              "  id: 13\n",
              "}\n",
              "item {\n",
              "  name: \"Unknown\"\n",
              "  id: 14\n",
              "}\n",
              "item {\n",
              "  name: \"bicycle_r\"\n",
              "  id: 15\n",
              "}\n",
              "item {\n",
              "  name: \"tv\"\n",
              "  id: 16\n",
              "}\n",
              "item {\n",
              "  name: \"dog\"\n",
              "  id: 17\n",
              "}\n",
              "item {\n",
              "  name: \"bicycle\"\n",
              "  id: 18\n",
              "}\n",
              "item {\n",
              "  name: \"TREE\"\n",
              "  id: 19\n",
              "}\n",
              "item {\n",
              "  name: \"parking meter\"\n",
              "  id: 20\n",
              "}\n",
              "item {\n",
              "  name: \"elephant\"\n",
              "  id: 21\n",
              "}\n",
              "item {\n",
              "  name: \"traffic light\"\n",
              "  id: 22\n",
              "}\n",
              "item {\n",
              "  name: \"person\"\n",
              "  id: 23\n",
              "}\n",
              "item {\n",
              "  name: \"umbrella\"\n",
              "  id: 24\n",
              "}\n",
              "item {\n",
              "  name: \"tree\"\n",
              "  id: 25\n",
              "}\n",
              "item {\n",
              "  name: \"car\"\n",
              "  id: 26\n",
              "}\n",
              "item {\n",
              "  name: \"bench\"\n",
              "  id: 27\n",
              "}\n",
              "item {\n",
              "  name: \"laptop\"\n",
              "  id: 28\n",
              "}\n",
              "item {\n",
              "  name: \"parking_block\"\n",
              "  id: 29\n",
              "}"
            ]
          },
          "metadata": {
            "tags": []
          },
          "execution_count": 14
        }
      ]
    },
    {
      "cell_type": "markdown",
      "metadata": {
        "id": "3jBpXzTQVrZl",
        "colab_type": "text"
      },
      "source": [
        "# 오류를 대비한 파이프라인 리셋버튼(백업)"
      ]
    },
    {
      "cell_type": "code",
      "metadata": {
        "id": "M_D05AStjZEz",
        "colab_type": "code",
        "colab": {}
      },
      "source": [
        "!cp {pipeline_fname} {pipeline_fname}.bak"
      ],
      "execution_count": 0,
      "outputs": []
    },
    {
      "cell_type": "code",
      "metadata": {
        "id": "YKY-d0dPCGZn",
        "colab_type": "code",
        "colab": {}
      },
      "source": [
        "!cp {pipeline_fname}.bak {pipeline_fname}"
      ],
      "execution_count": 0,
      "outputs": []
    },
    {
      "cell_type": "markdown",
      "metadata": {
        "id": "f0gsC01rN7br",
        "colab_type": "text"
      },
      "source": [
        "# !경고!\n",
        "\n",
        "## 데이터셋 업로드 여러 개의 tfrecord 파일을 업로드하였다면\n",
        "## 정규표현식 대입 수정이 필요합니다.\n",
        "\n",
        "### 1개일 경우:\n",
        "> input_path: \"{}\" (큰따음표)\n",
        "\n",
        "### 여러 개일 경우\n",
        "> input_path: '{}' (작은따음표)"
      ]
    },
    {
      "cell_type": "code",
      "metadata": {
        "id": "-zIPAVDYs1AP",
        "colab_type": "code",
        "colab": {}
      },
      "source": [
        "import re\n",
        "\n",
        "num_classes = get_num_classes(label_map_pbtxt_fname)\n",
        "\n",
        "#ERROR ! The number of calss of each label map pbtxt are different! You must have the same class to train.\n",
        "\n",
        "with open(pipeline_fname) as f:\n",
        "    s = f.read()\n",
        "with open(pipeline_fname, 'w') as f:\n",
        "    \n",
        "    # fine_tune_checkpoint\n",
        "    s = re.sub('fine_tune_checkpoint: \".*?\"',\n",
        "               'fine_tune_checkpoint: \"{}\"'.format(fine_tune_checkpoint), s)\n",
        "    \n",
        "    # tfrecord files train and test.\n",
        "    s = re.sub(\n",
        "        '(input_path: \".*?)(train.record)(.*?\")', 'input_path: '+bracket_train.format(train_record_fname), s)\n",
        "    s = re.sub(\n",
        "        '(input_path: \".*?)(val.record)(.*?\")', ('input_path: '+bracket_test).format(test_record_fname), s)\n",
        "\n",
        "    # label_map_path\n",
        "    s = re.sub(\n",
        "        'label_map_path: \".*?\"', 'label_map_path: \"{}\"'.format(label_map_pbtxt_fname), s)\n",
        "\n",
        "    # Set training batch_size.\n",
        "    s = re.sub('batch_size: [0-9]+',\n",
        "               'batch_size: {}'.format(batch_size), s)\n",
        "\n",
        "    # Set training steps, num_steps\n",
        "    s = re.sub('num_steps: [0-9]+',\n",
        "               'num_steps: {}'.format(num_steps), s)\n",
        "    \n",
        "    # Set number of classes num_classes.\n",
        "    s = re.sub('num_classes: [0-9]+',\n",
        "               'num_classes: {}'.format(num_classes), s)\n",
        "    \n",
        "    s = re.sub('initial_learning_rate: 0.004', 'initial_learning_rate: 0.01', s)\n",
        "    f.write(s)"
      ],
      "execution_count": 0,
      "outputs": []
    },
    {
      "cell_type": "code",
      "metadata": {
        "id": "iHPZCBPLuuPr",
        "colab_type": "code",
        "outputId": "76dff8bd-ac35-4b76-bdb9-39c8c2a46344",
        "colab": {
          "base_uri": "https://localhost:8080/",
          "height": 3451
        }
      },
      "source": [
        "!cat {pipeline_fname}"
      ],
      "execution_count": 69,
      "outputs": [
        {
          "output_type": "stream",
          "text": [
            "# SSD with Mobilenet v2 configuration for MSCOCO Dataset.\n",
            "# Users should configure the fine_tune_checkpoint field in the train config as\n",
            "# well as the label_map_path and input_path fields in the train_input_reader and\n",
            "# eval_input_reader. Search for \"PATH_TO_BE_CONFIGURED\" to find the fields that\n",
            "# should be configured.\n",
            "\n",
            "model {\n",
            "  ssd {\n",
            "    num_classes: 29\n",
            "    box_coder {\n",
            "      faster_rcnn_box_coder {\n",
            "        y_scale: 10.0\n",
            "        x_scale: 10.0\n",
            "        height_scale: 5.0\n",
            "        width_scale: 5.0\n",
            "      }\n",
            "    }\n",
            "    matcher {\n",
            "      argmax_matcher {\n",
            "        matched_threshold: 0.5\n",
            "        unmatched_threshold: 0.5\n",
            "        ignore_thresholds: false\n",
            "        negatives_lower_than_unmatched: true\n",
            "        force_match_for_each_row: true\n",
            "      }\n",
            "    }\n",
            "    similarity_calculator {\n",
            "      iou_similarity {\n",
            "      }\n",
            "    }\n",
            "    anchor_generator {\n",
            "      ssd_anchor_generator {\n",
            "        num_layers: 6\n",
            "        min_scale: 0.2\n",
            "        max_scale: 0.95\n",
            "        aspect_ratios: 1.0\n",
            "        aspect_ratios: 2.0\n",
            "        aspect_ratios: 0.5\n",
            "        aspect_ratios: 3.0\n",
            "        aspect_ratios: 0.3333\n",
            "      }\n",
            "    }\n",
            "    image_resizer {\n",
            "      fixed_shape_resizer {\n",
            "        height: 300\n",
            "        width: 300\n",
            "      }\n",
            "    }\n",
            "    box_predictor {\n",
            "      convolutional_box_predictor {\n",
            "        min_depth: 0\n",
            "        max_depth: 0\n",
            "        num_layers_before_predictor: 0\n",
            "        use_dropout: false\n",
            "        dropout_keep_probability: 0.8\n",
            "        kernel_size: 1\n",
            "        box_code_size: 4\n",
            "        apply_sigmoid_to_scores: false\n",
            "        conv_hyperparams {\n",
            "          activation: RELU_6,\n",
            "          regularizer {\n",
            "            l2_regularizer {\n",
            "              weight: 0.00004\n",
            "            }\n",
            "          }\n",
            "          initializer {\n",
            "            truncated_normal_initializer {\n",
            "              stddev: 0.03\n",
            "              mean: 0.0\n",
            "            }\n",
            "          }\n",
            "          batch_norm {\n",
            "            train: true,\n",
            "            scale: true,\n",
            "            center: true,\n",
            "            decay: 0.9997,\n",
            "            epsilon: 0.001,\n",
            "          }\n",
            "        }\n",
            "      }\n",
            "    }\n",
            "    feature_extractor {\n",
            "      type: 'ssd_mobilenet_v2'\n",
            "      min_depth: 16\n",
            "      depth_multiplier: 1.0\n",
            "      conv_hyperparams {\n",
            "        activation: RELU_6,\n",
            "        regularizer {\n",
            "          l2_regularizer {\n",
            "            weight: 0.00004\n",
            "          }\n",
            "        }\n",
            "        initializer {\n",
            "          truncated_normal_initializer {\n",
            "            stddev: 0.03\n",
            "            mean: 0.0\n",
            "          }\n",
            "        }\n",
            "        batch_norm {\n",
            "          train: true,\n",
            "          scale: true,\n",
            "          center: true,\n",
            "          decay: 0.9997,\n",
            "          epsilon: 0.001,\n",
            "        }\n",
            "      }\n",
            "    }\n",
            "    loss {\n",
            "      classification_loss {\n",
            "        weighted_sigmoid {\n",
            "        }\n",
            "      }\n",
            "      localization_loss {\n",
            "        weighted_smooth_l1 {\n",
            "        }\n",
            "      }\n",
            "      hard_example_miner {\n",
            "        num_hard_examples: 3000\n",
            "        iou_threshold: 0.99\n",
            "        loss_type: CLASSIFICATION\n",
            "        max_negatives_per_positive: 3\n",
            "        min_negatives_per_image: 3\n",
            "      }\n",
            "      classification_weight: 1.0\n",
            "      localization_weight: 1.0\n",
            "    }\n",
            "    normalize_loss_by_num_matches: true\n",
            "    post_processing {\n",
            "      batch_non_max_suppression {\n",
            "        score_threshold: 1e-8\n",
            "        iou_threshold: 0.6\n",
            "        max_detections_per_class: 100\n",
            "        max_total_detections: 100\n",
            "      }\n",
            "      score_converter: SIGMOID\n",
            "    }\n",
            "  }\n",
            "}\n",
            "\n",
            "train_config: {\n",
            "  batch_size: 12\n",
            "  optimizer {\n",
            "    rms_prop_optimizer: {\n",
            "      learning_rate: {\n",
            "        exponential_decay_learning_rate {\n",
            "          initial_learning_rate: 0.01\n",
            "          decay_steps: 800720\n",
            "          decay_factor: 0.95\n",
            "        }\n",
            "      }\n",
            "      momentum_optimizer_value: 0.9\n",
            "      decay: 0.9\n",
            "      epsilon: 1.0\n",
            "    }\n",
            "  }\n",
            "  fine_tune_checkpoint: \"/content/models/research/pretrained_model/model.ckpt\"\n",
            "  fine_tune_checkpoint_type:  \"detection\"\n",
            "  # Note: The below line limits the training process to 200K steps, which we\n",
            "  # empirically found to be sufficient enough to train the pets dataset. This\n",
            "  # effectively bypasses the learning rate schedule (the learning rate will\n",
            "  # never decay). Remove the below line to train indefinitely.\n",
            "  num_steps: 1000\n",
            "  data_augmentation_options {\n",
            "    random_horizontal_flip {\n",
            "    }\n",
            "  }\n",
            "  data_augmentation_options {\n",
            "    ssd_random_crop {\n",
            "    }\n",
            "  }\n",
            "}\n",
            "\n",
            "train_input_reader: {\n",
            "  tf_record_input_reader {\n",
            "    input_path: ['/content/gdrive/My Drive/ai_project/TFRecords-export/train/TFRecords-export_Yong-Ho/sejong.mp4#t=125.5.tfrecord', '/content/gdrive/My Drive/ai_project/TFRecords-export/train/TFRecords-export_Yong-Ho/sejong.mp4#t=0.5.tfrecord', '/content/gdrive/My Drive/ai_project/TFRecords-export/train/TFRecords-export_Yong-Ho/sejong.mp4#t=126.5.tfrecord', '/content/gdrive/My Drive/ai_project/TFRecords-export/train/TFRecords-export_Yong-Ho/sejong.mp4#t=126.tfrecord', '/content/gdrive/My Drive/ai_project/TFRecords-export/train/TFRecords-export_Yong-Ho/sejong.mp4#t=127.5.tfrecord', '/content/gdrive/My Drive/ai_project/TFRecords-export/train/TFRecords-export_Yong-Ho/sejong.mp4#t=1.5.tfrecord', '/content/gdrive/My Drive/ai_project/TFRecords-export/train/TFRecords-export_Yong-Ho/sejong.mp4#t=128.tfrecord', '/content/gdrive/My Drive/ai_project/TFRecords-export/train/TFRecords-export_Yong-Ho/sejong.mp4#t=129.5.tfrecord', '/content/gdrive/My Drive/ai_project/TFRecords-export/train/TFRecords-export_Yong-Ho/sejong.mp4#t=130.5.tfrecord', '/content/gdrive/My Drive/ai_project/TFRecords-export/train/TFRecords-export_Yong-Ho/sejong.mp4#t=1.tfrecord', '/content/gdrive/My Drive/ai_project/TFRecords-export/train/TFRecords-export_Yong-Ho/sejong.mp4#t=131.5.tfrecord', '/content/gdrive/My Drive/ai_project/TFRecords-export/train/TFRecords-export_Yong-Ho/sejong.mp4#t=131.tfrecord', '/content/gdrive/My Drive/ai_project/TFRecords-export/train/TFRecords-export_Yong-Ho/sejong.mp4#t=132.tfrecord', '/content/gdrive/My Drive/ai_project/TFRecords-export/train/TFRecords-export_Yong-Ho/sejong.mp4#t=10.tfrecord', '/content/gdrive/My Drive/ai_project/TFRecords-export/train/TFRecords-export_Yong-Ho/sejong.mp4#t=133.5.tfrecord', '/content/gdrive/My Drive/ai_project/TFRecords-export/train/TFRecords-export_Yong-Ho/sejong.mp4#t=133.tfrecord', '/content/gdrive/My Drive/ai_project/TFRecords-export/train/TFRecords-export_Yong-Ho/sejong.mp4#t=12.tfrecord', '/content/gdrive/My Drive/ai_project/TFRecords-export/train/TFRecords-export_Yong-Ho/sejong.mp4#t=364.tfrecord', '/content/gdrive/My Drive/ai_project/TFRecords-export/train/TFRecords-export_Yong-Ho/sejong.mp4#t=366.5.tfrecord', '/content/gdrive/My Drive/ai_project/TFRecords-export/train/TFRecords-export_Yong-Ho/sejong.mp4#t=366.tfrecord', '/content/gdrive/My Drive/ai_project/TFRecords-export/train/TFRecords-export_Yong-Ho/sejong.mp4#t=14.5.tfrecord', '/content/gdrive/My Drive/ai_project/TFRecords-export/train/TFRecords-export_Yong-Ho/sejong.mp4#t=378.tfrecord', '/content/gdrive/My Drive/ai_project/TFRecords-export/train/TFRecords-export_Yong-Ho/sejong.mp4#t=381.tfrecord', '/content/gdrive/My Drive/ai_project/TFRecords-export/train/TFRecords-export_Yong-Ho/sejong.mp4#t=383.tfrecord', '/content/gdrive/My Drive/ai_project/TFRecords-export/train/TFRecords-export_Yong-Ho/sejong.mp4#t=16.5.tfrecord', '/content/gdrive/My Drive/ai_project/TFRecords-export/train/TFRecords-export_Yong-Ho/sejong.mp4#t=384.5.tfrecord', '/content/gdrive/My Drive/ai_project/TFRecords-export/train/TFRecords-export_Yong-Ho/sejong.mp4#t=385.tfrecord', '/content/gdrive/My Drive/ai_project/TFRecords-export/train/TFRecords-export_Yong-Ho/sejong.mp4#t=181.5.tfrecord', '/content/gdrive/My Drive/ai_project/TFRecords-export/train/TFRecords-export_Yong-Ho/sejong.mp4#t=387.5.tfrecord', '/content/gdrive/My Drive/ai_project/TFRecords-export/train/TFRecords-export_Yong-Ho/sejong.mp4#t=387.tfrecord', '/content/gdrive/My Drive/ai_project/TFRecords-export/train/TFRecords-export_Yong-Ho/sejong.mp4#t=182.5.tfrecord', '/content/gdrive/My Drive/ai_project/TFRecords-export/train/TFRecords-export_Yong-Ho/sejong.mp4#t=388.tfrecord', '/content/gdrive/My Drive/ai_project/TFRecords-export/train/TFRecords-export_Yong-Ho/sejong.mp4#t=182.tfrecord', '/content/gdrive/My Drive/ai_project/TFRecords-export/train/TFRecords-export_Yong-Ho/sejong.mp4#t=183.5.tfrecord', '/content/gdrive/My Drive/ai_project/TFRecords-export/train/TFRecords-export_Yong-Ho/sejong.mp4#t=183.tfrecord', '/content/gdrive/My Drive/ai_project/TFRecords-export/train/TFRecords-export_Yong-Ho/sejong.mp4#t=184.5.tfrecord', '/content/gdrive/My Drive/ai_project/TFRecords-export/train/TFRecords-export_Yong-Ho/sejong.mp4#t=184.tfrecord', '/content/gdrive/My Drive/ai_project/TFRecords-export/train/TFRecords-export_Yong-Ho/sejong.mp4#t=185.5.tfrecord', '/content/gdrive/My Drive/ai_project/TFRecords-export/train/TFRecords-export_Yong-Ho/sejong.mp4#t=185.tfrecord', '/content/gdrive/My Drive/ai_project/TFRecords-export/train/TFRecords-export_Yong-Ho/sejong.mp4#t=186.tfrecord', '/content/gdrive/My Drive/ai_project/TFRecords-export/train/TFRecords-export_Yong-Ho/sejong.mp4#t=187.tfrecord', '/content/gdrive/My Drive/ai_project/TFRecords-export/train/TFRecords-export_Yong-Ho/sejong.mp4#t=188.5.tfrecord', '/content/gdrive/My Drive/ai_project/TFRecords-export/train/TFRecords-export_Yong-Ho/sejong.mp4#t=2.tfrecord', '/content/gdrive/My Drive/ai_project/TFRecords-export/train/TFRecords-export_Yong-Ho/sejong.mp4#t=3.tfrecord', '/content/gdrive/My Drive/ai_project/TFRecords-export/train/TFRecords-export_Yong-Ho/sejong.mp4#t=355.5.tfrecord', '/content/gdrive/My Drive/ai_project/TFRecords-export/train/TFRecords-export_Yong-Ho/sejong.mp4#t=356.5.tfrecord', '/content/gdrive/My Drive/ai_project/TFRecords-export/train/TFRecords-export_Yong-Ho/sejong.mp4#t=356.tfrecord', '/content/gdrive/My Drive/ai_project/TFRecords-export/train/TFRecords-export_Yong-Ho/sejong.mp4#t=357.5.tfrecord', '/content/gdrive/My Drive/ai_project/TFRecords-export/train/TFRecords-export_Yong-Ho/sejong.mp4#t=357.tfrecord', '/content/gdrive/My Drive/ai_project/TFRecords-export/train/TFRecords-export_Yong-Ho/sejong.mp4#t=358.5.tfrecord', '/content/gdrive/My Drive/ai_project/TFRecords-export/train/TFRecords-export_Yong-Ho/sejong.mp4#t=358.tfrecord', '/content/gdrive/My Drive/ai_project/TFRecords-export/train/TFRecords-export_Yong-Ho/sejong.mp4#t=359.5.tfrecord', '/content/gdrive/My Drive/ai_project/TFRecords-export/train/TFRecords-export_Yong-Ho/sejong.mp4#t=359.tfrecord', '/content/gdrive/My Drive/ai_project/TFRecords-export/train/TFRecords-export_Yong-Ho/sejong.mp4#t=360.5.tfrecord', '/content/gdrive/My Drive/ai_project/TFRecords-export/train/TFRecords-export_Yong-Ho/sejong.mp4#t=360.tfrecord', '/content/gdrive/My Drive/ai_project/TFRecords-export/train/TFRecords-export_Yong-Ho/sejong.mp4#t=361.5.tfrecord', '/content/gdrive/My Drive/ai_project/TFRecords-export/train/TFRecords-export_Yong-Ho/sejong.mp4#t=361.tfrecord', '/content/gdrive/My Drive/ai_project/TFRecords-export/train/TFRecords-export_Yong-Ho/sejong.mp4#t=362.5.tfrecord', '/content/gdrive/My Drive/ai_project/TFRecords-export/train/TFRecords-export_Yong-Ho/sejong.mp4#t=362.tfrecord', '/content/gdrive/My Drive/ai_project/TFRecords-export/train/TFRecords-export_Yong-Ho/sejong.mp4#t=363.5.tfrecord', '/content/gdrive/My Drive/ai_project/TFRecords-export/train/TFRecords-export_Yong-Ho/sejong.mp4#t=363.tfrecord', '/content/gdrive/My Drive/ai_project/TFRecords-export/train/TFRecords-export_Yong-Ho/sejong.mp4#t=364.5.tfrecord', '/content/gdrive/My Drive/ai_project/TFRecords-export/train/TFRecords-export_Yong-Ho/sejong.mp4#t=365.5.tfrecord', '/content/gdrive/My Drive/ai_project/TFRecords-export/train/TFRecords-export_Yong-Ho/sejong.mp4#t=365.tfrecord', '/content/gdrive/My Drive/ai_project/TFRecords-export/train/TFRecords-export_Yong-Ho/sejong.mp4#t=367.5.tfrecord', '/content/gdrive/My Drive/ai_project/TFRecords-export/train/TFRecords-export_Yong-Ho/sejong.mp4#t=367.tfrecord', '/content/gdrive/My Drive/ai_project/TFRecords-export/train/TFRecords-export_Yong-Ho/sejong.mp4#t=368.5.tfrecord', '/content/gdrive/My Drive/ai_project/TFRecords-export/train/TFRecords-export_Yong-Ho/sejong.mp4#t=368.tfrecord', '/content/gdrive/My Drive/ai_project/TFRecords-export/train/TFRecords-export_Yong-Ho/sejong.mp4#t=369.5.tfrecord', '/content/gdrive/My Drive/ai_project/TFRecords-export/train/TFRecords-export_Yong-Ho/sejong.mp4#t=369.tfrecord', '/content/gdrive/My Drive/ai_project/TFRecords-export/train/TFRecords-export_Yong-Ho/sejong.mp4#t=370.5.tfrecord', '/content/gdrive/My Drive/ai_project/TFRecords-export/train/TFRecords-export_Yong-Ho/sejong.mp4#t=370.tfrecord', '/content/gdrive/My Drive/ai_project/TFRecords-export/train/TFRecords-export_Yong-Ho/sejong.mp4#t=371.5.tfrecord', '/content/gdrive/My Drive/ai_project/TFRecords-export/train/TFRecords-export_Yong-Ho/sejong.mp4#t=371.tfrecord', '/content/gdrive/My Drive/ai_project/TFRecords-export/train/TFRecords-export_Yong-Ho/sejong.mp4#t=372.5.tfrecord', '/content/gdrive/My Drive/ai_project/TFRecords-export/train/TFRecords-export_Yong-Ho/sejong.mp4#t=372.tfrecord', '/content/gdrive/My Drive/ai_project/TFRecords-export/train/TFRecords-export_Yong-Ho/sejong.mp4#t=373.5.tfrecord', '/content/gdrive/My Drive/ai_project/TFRecords-export/train/TFRecords-export_Yong-Ho/sejong.mp4#t=373.tfrecord', '/content/gdrive/My Drive/ai_project/TFRecords-export/train/TFRecords-export_Yong-Ho/sejong.mp4#t=374.5.tfrecord', '/content/gdrive/My Drive/ai_project/TFRecords-export/train/TFRecords-export_Yong-Ho/sejong.mp4#t=374.tfrecord', '/content/gdrive/My Drive/ai_project/TFRecords-export/train/TFRecords-export_Yong-Ho/sejong.mp4#t=375.5.tfrecord', '/content/gdrive/My Drive/ai_project/TFRecords-export/train/TFRecords-export_Yong-Ho/sejong.mp4#t=375.tfrecord', '/content/gdrive/My Drive/ai_project/TFRecords-export/train/TFRecords-export_Yong-Ho/sejong.mp4#t=376.5.tfrecord', '/content/gdrive/My Drive/ai_project/TFRecords-export/train/TFRecords-export_Yong-Ho/sejong.mp4#t=376.tfrecord', '/content/gdrive/My Drive/ai_project/TFRecords-export/train/TFRecords-export_Yong-Ho/sejong.mp4#t=377.5.tfrecord', '/content/gdrive/My Drive/ai_project/TFRecords-export/train/TFRecords-export_Yong-Ho/sejong.mp4#t=377.tfrecord', '/content/gdrive/My Drive/ai_project/TFRecords-export/train/TFRecords-export_Yong-Ho/sejong.mp4#t=378.5.tfrecord', '/content/gdrive/My Drive/ai_project/TFRecords-export/train/TFRecords-export_Yong-Ho/sejong.mp4#t=379.5.tfrecord', '/content/gdrive/My Drive/ai_project/TFRecords-export/train/TFRecords-export_Yong-Ho/sejong.mp4#t=379.tfrecord', '/content/gdrive/My Drive/ai_project/TFRecords-export/train/TFRecords-export_Yong-Ho/sejong.mp4#t=380.5.tfrecord', '/content/gdrive/My Drive/ai_project/TFRecords-export/train/TFRecords-export_Yong-Ho/sejong.mp4#t=380.tfrecord', '/content/gdrive/My Drive/ai_project/TFRecords-export/train/TFRecords-export_Yong-Ho/sejong.mp4#t=381.5.tfrecord', '/content/gdrive/My Drive/ai_project/TFRecords-export/train/TFRecords-export_Yong-Ho/sejong.mp4#t=382.5.tfrecord', '/content/gdrive/My Drive/ai_project/TFRecords-export/train/TFRecords-export_Yong-Ho/sejong.mp4#t=382.tfrecord', '/content/gdrive/My Drive/ai_project/TFRecords-export/train/TFRecords-export_Yong-Ho/sejong.mp4#t=383.5.tfrecord', '/content/gdrive/My Drive/ai_project/TFRecords-export/train/TFRecords-export_Yong-Ho/sejong.mp4#t=384.tfrecord', '/content/gdrive/My Drive/ai_project/TFRecords-export/train/TFRecords-export_Yong-Ho/sejong.mp4#t=386.5.tfrecord', '/content/gdrive/My Drive/ai_project/TFRecords-export/train/TFRecords-export_Yong-Ho/sejong.mp4#t=386.tfrecord', '/content/gdrive/My Drive/ai_project/TFRecords-export/train/TFRecords-export_Yong-Ho/sejong.mp4#t=388.5.tfrecord', '/content/gdrive/My Drive/ai_project/TFRecords-export/train/TFRecords-export_Yong-Ho/sejong.mp4#t=389.5.tfrecord', '/content/gdrive/My Drive/ai_project/TFRecords-export/train/TFRecords-export_Yong-Ho/sejong.mp4#t=389.tfrecord', '/content/gdrive/My Drive/ai_project/TFRecords-export/train/TFRecords-export_Yong-Ho/sejong.mp4#t=390.5.tfrecord', '/content/gdrive/My Drive/ai_project/TFRecords-export/train/TFRecords-export_Yong-Ho/sejong.mp4#t=390.tfrecord', '/content/gdrive/My Drive/ai_project/TFRecords-export/train/TFRecords-export_Yong-Ho/sejong.mp4#t=391.5.tfrecord', '/content/gdrive/My Drive/ai_project/TFRecords-export/train/TFRecords-export_Yong-Ho/sejong.mp4#t=391.tfrecord', '/content/gdrive/My Drive/ai_project/TFRecords-export/train/TFRecords-export_Yong-Ho/sejong.mp4#t=392.5.tfrecord', '/content/gdrive/My Drive/ai_project/TFRecords-export/train/TFRecords-export_Yong-Ho/sejong.mp4#t=392.tfrecord', '/content/gdrive/My Drive/ai_project/TFRecords-export/train/TFRecords-export_Yong-Ho/sejong.mp4#t=393.5.tfrecord', '/content/gdrive/My Drive/ai_project/TFRecords-export/train/TFRecords-export_Yong-Ho/sejong.mp4#t=393.tfrecord', '/content/gdrive/My Drive/ai_project/TFRecords-export/train/TFRecords-export_Yong-Ho/sejong.mp4#t=394.5.tfrecord', '/content/gdrive/My Drive/ai_project/TFRecords-export/train/TFRecords-export_Yong-Ho/sejong.mp4#t=394.tfrecord', '/content/gdrive/My Drive/ai_project/TFRecords-export/train/TFRecords-export_Yong-Ho/sejong.mp4#t=395.5.tfrecord', '/content/gdrive/My Drive/ai_project/TFRecords-export/train/TFRecords-export_Yong-Ho/sejong.mp4#t=395.tfrecord', '/content/gdrive/My Drive/ai_project/TFRecords-export/train/TFRecords-export_Yong-Ho/sejong.mp4#t=396.5.tfrecord', '/content/gdrive/My Drive/ai_project/TFRecords-export/train/TFRecords-export_Yong-Ho/sejong.mp4#t=396.tfrecord', '/content/gdrive/My Drive/ai_project/TFRecords-export/train/TFRecords-export_Yong-Ho/sejong.mp4#t=397.5.tfrecord', '/content/gdrive/My Drive/ai_project/TFRecords-export/train/TFRecords-export_Yong-Ho/sejong.mp4#t=397.tfrecord', '/content/gdrive/My Drive/ai_project/TFRecords-export/train/TFRecords-export_Yong-Ho/sejong.mp4#t=398.5.tfrecord', '/content/gdrive/My Drive/ai_project/TFRecords-export/train/TFRecords-export_Yong-Ho/sejong.mp4#t=398.tfrecord', '/content/gdrive/My Drive/ai_project/TFRecords-export/train/TFRecords-export_Yong-Ho/sejong.mp4#t=399.5.tfrecord', '/content/gdrive/My Drive/ai_project/TFRecords-export/train/TFRecords-export_Yong-Ho/sejong.mp4#t=399.tfrecord', '/content/gdrive/My Drive/ai_project/TFRecords-export/train/TFRecords-export_Yong-Ho/sejong.mp4#t=4.5.tfrecord', '/content/gdrive/My Drive/ai_project/TFRecords-export/train/TFRecords-export_Yong-Ho/sejong.mp4#t=4.tfrecord', '/content/gdrive/My Drive/ai_project/TFRecords-export/train/TFRecords-export_Yong-Ho/sejong.mp4#t=400.5.tfrecord', '/content/gdrive/My Drive/ai_project/TFRecords-export/train/TFRecords-export_Yong-Ho/sejong.mp4#t=400.tfrecord', '/content/gdrive/My Drive/ai_project/TFRecords-export/train/TFRecords-export_Yong-Ho/sejong.mp4#t=401.5.tfrecord', '/content/gdrive/My Drive/ai_project/TFRecords-export/train/TFRecords-export_Yong-Ho/sejong.mp4#t=401.tfrecord', '/content/gdrive/My Drive/ai_project/TFRecords-export/train/TFRecords-export_Yong-Ho/sejong.mp4#t=402.5.tfrecord', '/content/gdrive/My Drive/ai_project/TFRecords-export/train/TFRecords-export_Yong-Ho/sejong.mp4#t=402.tfrecord', '/content/gdrive/My Drive/ai_project/TFRecords-export/train/TFRecords-export_Yong-Ho/sejong.mp4#t=403.5.tfrecord', '/content/gdrive/My Drive/ai_project/TFRecords-export/train/TFRecords-export_Yong-Ho/sejong.mp4#t=403.tfrecord', '/content/gdrive/My Drive/ai_project/TFRecords-export/train/TFRecords-export_Yong-Ho/sejong.mp4#t=404.5.tfrecord', '/content/gdrive/My Drive/ai_project/TFRecords-export/train/TFRecords-export_Yong-Ho/sejong.mp4#t=404.tfrecord', '/content/gdrive/My Drive/ai_project/TFRecords-export/train/TFRecords-export_Yong-Ho/sejong.mp4#t=405.5.tfrecord', '/content/gdrive/My Drive/ai_project/TFRecords-export/train/TFRecords-export_Yong-Ho/sejong.mp4#t=405.tfrecord', '/content/gdrive/My Drive/ai_project/TFRecords-export/train/TFRecords-export_Yong-Ho/sejong.mp4#t=406.5.tfrecord', '/content/gdrive/My Drive/ai_project/TFRecords-export/train/TFRecords-export_Yong-Ho/sejong.mp4#t=406.tfrecord', '/content/gdrive/My Drive/ai_project/TFRecords-export/train/TFRecords-export_Yong-Ho/sejong.mp4#t=407.5.tfrecord', '/content/gdrive/My Drive/ai_project/TFRecords-export/train/TFRecords-export_Yong-Ho/sejong.mp4#t=407.tfrecord', '/content/gdrive/My Drive/ai_project/TFRecords-export/train/TFRecords-export_Yong-Ho/sejong.mp4#t=408.5.tfrecord', '/content/gdrive/My Drive/ai_project/TFRecords-export/train/TFRecords-export_Yong-Ho/sejong.mp4#t=408.tfrecord', '/content/gdrive/My Drive/ai_project/TFRecords-export/train/TFRecords-export_Yong-Ho/sejong.mp4#t=409.5.tfrecord', '/content/gdrive/My Drive/ai_project/TFRecords-export/train/TFRecords-export_Yong-Ho/sejong.mp4#t=409.tfrecord', '/content/gdrive/My Drive/ai_project/TFRecords-export/train/TFRecords-export_Yong-Ho/sejong.mp4#t=410.5.tfrecord', '/content/gdrive/My Drive/ai_project/TFRecords-export/train/TFRecords-export_Yong-Ho/sejong.mp4#t=410.tfrecord', '/content/gdrive/My Drive/ai_project/TFRecords-export/train/TFRecords-export_Yong-Ho/sejong.mp4#t=411.5.tfrecord', '/content/gdrive/My Drive/ai_project/TFRecords-export/train/TFRecords-export_Yong-Ho/sejong.mp4#t=411.tfrecord', '/content/gdrive/My Drive/ai_project/TFRecords-export/train/TFRecords-export_Yong-Ho/sejong.mp4#t=412.5.tfrecord', '/content/gdrive/My Drive/ai_project/TFRecords-export/train/TFRecords-export_Yong-Ho/sejong.mp4#t=412.tfrecord', '/content/gdrive/My Drive/ai_project/TFRecords-export/train/TFRecords-export_Yong-Ho/sejong.mp4#t=413.5.tfrecord', '/content/gdrive/My Drive/ai_project/TFRecords-export/train/TFRecords-export_Yong-Ho/sejong.mp4#t=413.tfrecord', '/content/gdrive/My Drive/ai_project/TFRecords-export/train/TFRecords-export_Yong-Ho/sejong.mp4#t=414.5.tfrecord', '/content/gdrive/My Drive/ai_project/TFRecords-export/train/TFRecords-export_Yong-Ho/sejong.mp4#t=414.tfrecord', '/content/gdrive/My Drive/ai_project/TFRecords-export/train/TFRecords-export_Yong-Ho/sejong.mp4#t=415.5.tfrecord', '/content/gdrive/My Drive/ai_project/TFRecords-export/train/TFRecords-export_Yong-Ho/sejong.mp4#t=415.tfrecord', '/content/gdrive/My Drive/ai_project/TFRecords-export/train/TFRecords-export_Yong-Ho/sejong.mp4#t=416.5.tfrecord', '/content/gdrive/My Drive/ai_project/TFRecords-export/train/TFRecords-export_Yong-Ho/sejong.mp4#t=416.tfrecord', '/content/gdrive/My Drive/ai_project/TFRecords-export/train/TFRecords-export_Yong-Ho/sejong.mp4#t=417.5.tfrecord', '/content/gdrive/My Drive/ai_project/TFRecords-export/train/TFRecords-export_Yong-Ho/sejong.mp4#t=417.tfrecord', '/content/gdrive/My Drive/ai_project/TFRecords-export/train/TFRecords-export_Yong-Ho/sejong.mp4#t=418.5.tfrecord', '/content/gdrive/My Drive/ai_project/TFRecords-export/train/TFRecords-export_Yong-Ho/sejong.mp4#t=418.tfrecord', '/content/gdrive/My Drive/ai_project/TFRecords-export/train/TFRecords-export_Yong-Ho/sejong.mp4#t=419.5.tfrecord', '/content/gdrive/My Drive/ai_project/TFRecords-export/train/TFRecords-export_Yong-Ho/sejong.mp4#t=419.tfrecord', '/content/gdrive/My Drive/ai_project/TFRecords-export/train/TFRecords-export_Yong-Ho/sejong.mp4#t=420.5.tfrecord', '/content/gdrive/My Drive/ai_project/TFRecords-export/train/TFRecords-export_Yong-Ho/sejong.mp4#t=420.tfrecord', '/content/gdrive/My Drive/ai_project/TFRecords-export/train/TFRecords-export_Yong-Ho/sejong.mp4#t=421.5.tfrecord', '/content/gdrive/My Drive/ai_project/TFRecords-export/train/TFRecords-export_Yong-Ho/sejong.mp4#t=421.tfrecord', '/content/gdrive/My Drive/ai_project/TFRecords-export/train/TFRecords-export_Yong-Ho/sejong.mp4#t=422.5.tfrecord', '/content/gdrive/My Drive/ai_project/TFRecords-export/train/TFRecords-export_Yong-Ho/sejong.mp4#t=422.tfrecord', '/content/gdrive/My Drive/ai_project/TFRecords-export/train/TFRecords-export_Yong-Ho/sejong.mp4#t=423.5.tfrecord', '/content/gdrive/My Drive/ai_project/TFRecords-export/train/TFRecords-export_Yong-Ho/sejong.mp4#t=423.tfrecord', '/content/gdrive/My Drive/ai_project/TFRecords-export/train/TFRecords-export_Yong-Ho/sejong.mp4#t=424.5.tfrecord', '/content/gdrive/My Drive/ai_project/TFRecords-export/train/TFRecords-export_Yong-Ho/sejong.mp4#t=424.tfrecord', '/content/gdrive/My Drive/ai_project/TFRecords-export/train/TFRecords-export_Yong-Ho/sejong.mp4#t=425.5.tfrecord', '/content/gdrive/My Drive/ai_project/TFRecords-export/train/TFRecords-export_Yong-Ho/sejong.mp4#t=425.tfrecord', '/content/gdrive/My Drive/ai_project/TFRecords-export/train/TFRecords-export_Yong-Ho/sejong.mp4#t=426.5.tfrecord', '/content/gdrive/My Drive/ai_project/TFRecords-export/train/TFRecords-export_Yong-Ho/sejong.mp4#t=426.tfrecord', '/content/gdrive/My Drive/ai_project/TFRecords-export/train/TFRecords-export_Yong-Ho/sejong.mp4#t=427.5.tfrecord', '/content/gdrive/My Drive/ai_project/TFRecords-export/train/TFRecords-export_Yong-Ho/sejong.mp4#t=427.tfrecord', '/content/gdrive/My Drive/ai_project/TFRecords-export/train/TFRecords-export_Yong-Ho/sejong.mp4#t=428.5.tfrecord', '/content/gdrive/My Drive/ai_project/TFRecords-export/train/TFRecords-export_Yong-Ho/sejong.mp4#t=428.tfrecord', '/content/gdrive/My Drive/ai_project/TFRecords-export/train/TFRecords-export_Yong-Ho/sejong.mp4#t=429.5.tfrecord', '/content/gdrive/My Drive/ai_project/TFRecords-export/train/TFRecords-export_Yong-Ho/sejong.mp4#t=429.tfrecord', '/content/gdrive/My Drive/ai_project/TFRecords-export/train/TFRecords-export_Yong-Ho/sejong.mp4#t=430.5.tfrecord', '/content/gdrive/My Drive/ai_project/TFRecords-export/train/TFRecords-export_Yong-Ho/sejong.mp4#t=430.tfrecord', '/content/gdrive/My Drive/ai_project/TFRecords-export/train/TFRecords-export_Yong-Ho/sejong.mp4#t=431.5.tfrecord', '/content/gdrive/My Drive/ai_project/TFRecords-export/train/TFRecords-export_Yong-Ho/sejong.mp4#t=431.tfrecord', '/content/gdrive/My Drive/ai_project/TFRecords-export/train/TFRecords-export_Yong-Ho/sejong.mp4#t=432.5.tfrecord', '/content/gdrive/My Drive/ai_project/TFRecords-export/train/TFRecords-export_Yong-Ho/sejong.mp4#t=432.tfrecord', '/content/gdrive/My Drive/ai_project/TFRecords-export/train/TFRecords-export_Yong-Ho/sejong.mp4#t=433.5.tfrecord', '/content/gdrive/My Drive/ai_project/TFRecords-export/train/TFRecords-export_Yong-Ho/sejong.mp4#t=433.tfrecord', '/content/gdrive/My Drive/ai_project/TFRecords-export/train/TFRecords-export_Yong-Ho/sejong.mp4#t=434.5.tfrecord', '/content/gdrive/My Drive/ai_project/TFRecords-export/train/TFRecords-export_Yong-Ho/sejong.mp4#t=434.tfrecord', '/content/gdrive/My Drive/ai_project/TFRecords-export/train/TFRecords-export_Yong-Ho/sejong.mp4#t=435.5.tfrecord', '/content/gdrive/My Drive/ai_project/TFRecords-export/train/TFRecords-export_Yong-Ho/sejong.mp4#t=435.tfrecord', '/content/gdrive/My Drive/ai_project/TFRecords-export/train/TFRecords-export_Yong-Ho/sejong.mp4#t=436.5.tfrecord', '/content/gdrive/My Drive/ai_project/TFRecords-export/train/TFRecords-export_Yong-Ho/sejong.mp4#t=436.tfrecord', '/content/gdrive/My Drive/ai_project/TFRecords-export/train/TFRecords-export_Yong-Ho/sejong.mp4#t=437.5.tfrecord', '/content/gdrive/My Drive/ai_project/TFRecords-export/train/TFRecords-export_Yong-Ho/sejong.mp4#t=437.tfrecord', '/content/gdrive/My Drive/ai_project/TFRecords-export/train/TFRecords-export_Yong-Ho/sejong.mp4#t=438.5.tfrecord', '/content/gdrive/My Drive/ai_project/TFRecords-export/train/TFRecords-export_Yong-Ho/sejong.mp4#t=438.tfrecord', '/content/gdrive/My Drive/ai_project/TFRecords-export/train/TFRecords-export_Yong-Ho/sejong.mp4#t=439.5.tfrecord', '/content/gdrive/My Drive/ai_project/TFRecords-export/train/TFRecords-export_Yong-Ho/sejong.mp4#t=439.tfrecord', '/content/gdrive/My Drive/ai_project/TFRecords-export/train/TFRecords-export_Yong-Ho/sejong.mp4#t=440.5.tfrecord', '/content/gdrive/My Drive/ai_project/TFRecords-export/train/TFRecords-export_Yong-Ho/sejong.mp4#t=440.tfrecord', '/content/gdrive/My Drive/ai_project/TFRecords-export/train/TFRecords-export_Yong-Ho/sejong.mp4#t=441.5.tfrecord', '/content/gdrive/My Drive/ai_project/TFRecords-export/train/TFRecords-export_Yong-Ho/sejong.mp4#t=441.tfrecord', '/content/gdrive/My Drive/ai_project/TFRecords-export/train/TFRecords-export_Yong-Ho/sejong.mp4#t=442.5.tfrecord', '/content/gdrive/My Drive/ai_project/TFRecords-export/train/TFRecords-export_Yong-Ho/sejong.mp4#t=442.tfrecord', '/content/gdrive/My Drive/ai_project/TFRecords-export/train/TFRecords-export_Yong-Ho/sejong.mp4#t=443.5.tfrecord', '/content/gdrive/My Drive/ai_project/TFRecords-export/train/TFRecords-export_Yong-Ho/sejong.mp4#t=443.tfrecord', '/content/gdrive/My Drive/ai_project/TFRecords-export/train/TFRecords-export_Yong-Ho/sejong.mp4#t=444.5.tfrecord', '/content/gdrive/My Drive/ai_project/TFRecords-export/train/TFRecords-export_Yong-Ho/sejong.mp4#t=444.tfrecord', '/content/gdrive/My Drive/ai_project/TFRecords-export/train/TFRecords-export_Yong-Ho/sejong.mp4#t=445.5.tfrecord', '/content/gdrive/My Drive/ai_project/TFRecords-export/train/TFRecords-export_Yong-Ho/sejong.mp4#t=445.tfrecord', '/content/gdrive/My Drive/ai_project/TFRecords-export/train/TFRecords-export_Yong-Ho/sejong.mp4#t=446.5.tfrecord', '/content/gdrive/My Drive/ai_project/TFRecords-export/train/TFRecords-export_Yong-Ho/sejong.mp4#t=446.tfrecord', '/content/gdrive/My Drive/ai_project/TFRecords-export/train/TFRecords-export_Yong-Ho/sejong.mp4#t=447.5.tfrecord', '/content/gdrive/My Drive/ai_project/TFRecords-export/train/TFRecords-export_Yong-Ho/sejong.mp4#t=447.tfrecord', '/content/gdrive/My Drive/ai_project/TFRecords-export/train/TFRecords-export_Yong-Ho/sejong.mp4#t=448.5.tfrecord', '/content/gdrive/My Drive/ai_project/TFRecords-export/train/TFRecords-export_Yong-Ho/sejong.mp4#t=448.tfrecord', '/content/gdrive/My Drive/ai_project/TFRecords-export/train/TFRecords-export_Yong-Ho/sejong.mp4#t=449.5.tfrecord', '/content/gdrive/My Drive/ai_project/TFRecords-export/train/TFRecords-export_Yong-Ho/sejong.mp4#t=449.tfrecord', '/content/gdrive/My Drive/ai_project/TFRecords-export/train/TFRecords-export_Yong-Ho/sejong.mp4#t=450.5.tfrecord', '/content/gdrive/My Drive/ai_project/TFRecords-export/train/TFRecords-export_Yong-Ho/sejong.mp4#t=450.tfrecord', '/content/gdrive/My Drive/ai_project/TFRecords-export/train/TFRecords-export_Yong-Ho/sejong.mp4#t=451.5.tfrecord', '/content/gdrive/My Drive/ai_project/TFRecords-export/train/TFRecords-export_Yong-Ho/sejong.mp4#t=451.tfrecord', '/content/gdrive/My Drive/ai_project/TFRecords-export/train/TFRecords-export_Yong-Ho/sejong.mp4#t=452.5.tfrecord', '/content/gdrive/My Drive/ai_project/TFRecords-export/train/TFRecords-export_Yong-Ho/sejong.mp4#t=452.tfrecord', '/content/gdrive/My Drive/ai_project/TFRecords-export/train/TFRecords-export_Yong-Ho/sejong.mp4#t=453.5.tfrecord', '/content/gdrive/My Drive/ai_project/TFRecords-export/train/TFRecords-export_Yong-Ho/sejong.mp4#t=453.tfrecord', '/content/gdrive/My Drive/ai_project/TFRecords-export/train/TFRecords-export_Yong-Ho/sejong.mp4#t=454.5.tfrecord', '/content/gdrive/My Drive/ai_project/TFRecords-export/train/TFRecords-export_Yong-Ho/sejong.mp4#t=454.tfrecord', '/content/gdrive/My Drive/ai_project/TFRecords-export/train/TFRecords-export_Yong-Ho/sejong.mp4#t=455.5.tfrecord', '/content/gdrive/My Drive/ai_project/TFRecords-export/train/TFRecords-export_Yong-Ho/sejong.mp4#t=455.tfrecord', '/content/gdrive/My Drive/ai_project/TFRecords-export/train/TFRecords-export_Yong-Ho/sejong.mp4#t=456.5.tfrecord', '/content/gdrive/My Drive/ai_project/TFRecords-export/train/TFRecords-export_Yong-Ho/sejong.mp4#t=456.tfrecord', '/content/gdrive/My Drive/ai_project/TFRecords-export/train/TFRecords-export_Yong-Ho/sejong.mp4#t=457.5.tfrecord', '/content/gdrive/My Drive/ai_project/TFRecords-export/train/TFRecords-export_Yong-Ho/sejong.mp4#t=457.tfrecord', '/content/gdrive/My Drive/ai_project/TFRecords-export/train/TFRecords-export_Yong-Ho/sejong.mp4#t=458.5.tfrecord', '/content/gdrive/My Drive/ai_project/TFRecords-export/train/TFRecords-export_Yong-Ho/sejong.mp4#t=458.tfrecord', '/content/gdrive/My Drive/ai_project/TFRecords-export/train/TFRecords-export_Yong-Ho/sejong.mp4#t=459.5.tfrecord', '/content/gdrive/My Drive/ai_project/TFRecords-export/train/TFRecords-export_Yong-Ho/sejong.mp4#t=459.tfrecord', '/content/gdrive/My Drive/ai_project/TFRecords-export/train/TFRecords-export_Yong-Ho/sejong.mp4#t=460.5.tfrecord', '/content/gdrive/My Drive/ai_project/TFRecords-export/train/TFRecords-export_Yong-Ho/sejong.mp4#t=460.tfrecord', '/content/gdrive/My Drive/ai_project/TFRecords-export/train/TFRecords-export_Yong-Ho/sejong.mp4#t=461.5.tfrecord', '/content/gdrive/My Drive/ai_project/TFRecords-export/train/TFRecords-export_Yong-Ho/sejong.mp4#t=461.tfrecord', '/content/gdrive/My Drive/ai_project/TFRecords-export/train/TFRecords-export_Yong-Ho/sejong.mp4#t=462.5.tfrecord', '/content/gdrive/My Drive/ai_project/TFRecords-export/train/TFRecords-export_Yong-Ho/sejong.mp4#t=462.tfrecord', '/content/gdrive/My Drive/ai_project/TFRecords-export/train/TFRecords-export_Yong-Ho/sejong.mp4#t=463.5.tfrecord', '/content/gdrive/My Drive/ai_project/TFRecords-export/train/TFRecords-export_Yong-Ho/sejong.mp4#t=463.tfrecord', '/content/gdrive/My Drive/ai_project/TFRecords-export/train/TFRecords-export_Yong-Ho/sejong.mp4#t=464.5.tfrecord', '/content/gdrive/My Drive/ai_project/TFRecords-export/train/TFRecords-export_Yong-Ho/sejong.mp4#t=464.tfrecord', '/content/gdrive/My Drive/ai_project/TFRecords-export/train/TFRecords-export_Yong-Ho/sejong.mp4#t=465.5.tfrecord', '/content/gdrive/My Drive/ai_project/TFRecords-export/train/TFRecords-export_Yong-Ho/sejong.mp4#t=466.5.tfrecord', '/content/gdrive/My Drive/ai_project/TFRecords-export/train/TFRecords-export_Yong-Ho/sejong.mp4#t=467.5.tfrecord', '/content/gdrive/My Drive/ai_project/TFRecords-export/train/TFRecords-export_Yong-Ho/sejong.mp4#t=467.tfrecord', '/content/gdrive/My Drive/ai_project/TFRecords-export/train/TFRecords-export_Yong-Ho/sejong.mp4#t=468.5.tfrecord', '/content/gdrive/My Drive/ai_project/TFRecords-export/train/TFRecords-export_Yong-Ho/sejong.mp4#t=468.tfrecord', '/content/gdrive/My Drive/ai_project/TFRecords-export/train/TFRecords-export_Yong-Ho/sejong.mp4#t=469.tfrecord', '/content/gdrive/My Drive/ai_project/TFRecords-export/train/TFRecords-export_Yong-Ho/sejong.mp4#t=5.5.tfrecord', '/content/gdrive/My Drive/ai_project/TFRecords-export/train/TFRecords-export_Yong-Ho/sejong.mp4#t=5.tfrecord', '/content/gdrive/My Drive/ai_project/TFRecords-export/train/TFRecords-export_Yong-Ho/sejong.mp4#t=6.5.tfrecord', '/content/gdrive/My Drive/ai_project/TFRecords-export/train/TFRecords-export_Yong-Ho/sejong.mp4#t=6.tfrecord', '/content/gdrive/My Drive/ai_project/TFRecords-export/train/TFRecords-export_Yong-Ho/sejong.mp4#t=7.tfrecord', '/content/gdrive/My Drive/ai_project/TFRecords-export/train/TFRecords-export_Yong-Ho/sejong.mp4#t=8.tfrecord', '/content/gdrive/My Drive/ai_project/TFRecords-export/train/TFRecords-export_Yeong-Seo/Sejong.mp4#t=100.5.tfrecord', '/content/gdrive/My Drive/ai_project/TFRecords-export/train/TFRecords-export_Yeong-Seo/Sejong.mp4#t=100.tfrecord', '/content/gdrive/My Drive/ai_project/TFRecords-export/train/TFRecords-export_Yeong-Seo/Sejong.mp4#t=0.5.tfrecord', '/content/gdrive/My Drive/ai_project/TFRecords-export/train/TFRecords-export_Yeong-Seo/Sejong.mp4#t=101.5.tfrecord', '/content/gdrive/My Drive/ai_project/TFRecords-export/train/TFRecords-export_Yeong-Seo/Sejong.mp4#t=101.tfrecord', '/content/gdrive/My Drive/ai_project/TFRecords-export/train/TFRecords-export_Yeong-Seo/Sejong.mp4#t=102.5.tfrecord', '/content/gdrive/My Drive/ai_project/TFRecords-export/train/TFRecords-export_Yeong-Seo/Sejong.mp4#t=102.tfrecord', '/content/gdrive/My Drive/ai_project/TFRecords-export/train/TFRecords-export_Yeong-Seo/Sejong.mp4#t=0.tfrecord', '/content/gdrive/My Drive/ai_project/TFRecords-export/train/TFRecords-export_Yeong-Seo/Sejong.mp4#t=103.5.tfrecord', '/content/gdrive/My Drive/ai_project/TFRecords-export/train/TFRecords-export_Yeong-Seo/Sejong.mp4#t=104.5.tfrecord', '/content/gdrive/My Drive/ai_project/TFRecords-export/train/TFRecords-export_Yeong-Seo/Sejong.mp4#t=103.tfrecord', '/content/gdrive/My Drive/ai_project/TFRecords-export/train/TFRecords-export_Yeong-Seo/Sejong.mp4#t=104.tfrecord', '/content/gdrive/My Drive/ai_project/TFRecords-export/train/TFRecords-export_Yeong-Seo/Sejong.mp4#t=1.5.tfrecord', '/content/gdrive/My Drive/ai_project/TFRecords-export/train/TFRecords-export_Yeong-Seo/Sejong.mp4#t=105.5.tfrecord', '/content/gdrive/My Drive/ai_project/TFRecords-export/train/TFRecords-export_Yeong-Seo/Sejong.mp4#t=105.tfrecord', '/content/gdrive/My Drive/ai_project/TFRecords-export/train/TFRecords-export_Yeong-Seo/Sejong.mp4#t=106.5.tfrecord', '/content/gdrive/My Drive/ai_project/TFRecords-export/train/TFRecords-export_Yeong-Seo/Sejong.mp4#t=1.tfrecord', '/content/gdrive/My Drive/ai_project/TFRecords-export/train/TFRecords-export_Yeong-Seo/Sejong.mp4#t=106.tfrecord', '/content/gdrive/My Drive/ai_project/TFRecords-export/train/TFRecords-export_Yeong-Seo/Sejong.mp4#t=107.5.tfrecord', '/content/gdrive/My Drive/ai_project/TFRecords-export/train/TFRecords-export_Yeong-Seo/Sejong.mp4#t=107.tfrecord', '/content/gdrive/My Drive/ai_project/TFRecords-export/train/TFRecords-export_Yeong-Seo/Sejong.mp4#t=10.5.tfrecord', '/content/gdrive/My Drive/ai_project/TFRecords-export/train/TFRecords-export_Yeong-Seo/Sejong.mp4#t=108.5.tfrecord', '/content/gdrive/My Drive/ai_project/TFRecords-export/train/TFRecords-export_Yeong-Seo/Sejong.mp4#t=108.tfrecord', '/content/gdrive/My Drive/ai_project/TFRecords-export/train/TFRecords-export_Yeong-Seo/Sejong.mp4#t=109.5.tfrecord', '/content/gdrive/My Drive/ai_project/TFRecords-export/train/TFRecords-export_Yeong-Seo/Sejong.mp4#t=109.tfrecord', '/content/gdrive/My Drive/ai_project/TFRecords-export/train/TFRecords-export_Yeong-Seo/Sejong.mp4#t=10.tfrecord', '/content/gdrive/My Drive/ai_project/TFRecords-export/train/TFRecords-export_Yeong-Seo/Sejong.mp4#t=110.5.tfrecord', '/content/gdrive/My Drive/ai_project/TFRecords-export/train/TFRecords-export_Yeong-Seo/Sejong.mp4#t=110.tfrecord', '/content/gdrive/My Drive/ai_project/TFRecords-export/train/TFRecords-export_Yeong-Seo/Sejong.mp4#t=11.5.tfrecord', '/content/gdrive/My Drive/ai_project/TFRecords-export/train/TFRecords-export_Yeong-Seo/Sejong.mp4#t=111.5.tfrecord', '/content/gdrive/My Drive/ai_project/TFRecords-export/train/TFRecords-export_Yeong-Seo/Sejong.mp4#t=111.tfrecord', '/content/gdrive/My Drive/ai_project/TFRecords-export/train/TFRecords-export_Yeong-Seo/Sejong.mp4#t=112.5.tfrecord', '/content/gdrive/My Drive/ai_project/TFRecords-export/train/TFRecords-export_Yeong-Seo/Sejong.mp4#t=11.tfrecord', '/content/gdrive/My Drive/ai_project/TFRecords-export/train/TFRecords-export_Yeong-Seo/Sejong.mp4#t=112.tfrecord', '/content/gdrive/My Drive/ai_project/TFRecords-export/train/TFRecords-export_Yeong-Seo/Sejong.mp4#t=113.5.tfrecord', '/content/gdrive/My Drive/ai_project/TFRecords-export/train/TFRecords-export_Yeong-Seo/Sejong.mp4#t=113.tfrecord', '/content/gdrive/My Drive/ai_project/TFRecords-export/train/TFRecords-export_Yeong-Seo/Sejong.mp4#t=116.5.tfrecord', '/content/gdrive/My Drive/ai_project/TFRecords-export/train/TFRecords-export_Yeong-Seo/Sejong.mp4#t=114.5.tfrecord', '/content/gdrive/My Drive/ai_project/TFRecords-export/train/TFRecords-export_Yeong-Seo/Sejong.mp4#t=114.tfrecord', '/content/gdrive/My Drive/ai_project/TFRecords-export/train/TFRecords-export_Yeong-Seo/Sejong.mp4#t=12.5.tfrecord', '/content/gdrive/My Drive/ai_project/TFRecords-export/train/TFRecords-export_Yeong-Seo/Sejong.mp4#t=115.tfrecord', '/content/gdrive/My Drive/ai_project/TFRecords-export/train/TFRecords-export_Yeong-Seo/Sejong.mp4#t=115.5.tfrecord', '/content/gdrive/My Drive/ai_project/TFRecords-export/train/TFRecords-export_Yeong-Seo/Sejong.mp4#t=116.tfrecord', '/content/gdrive/My Drive/ai_project/TFRecords-export/train/TFRecords-export_Yeong-Seo/Sejong.mp4#t=12.tfrecord', '/content/gdrive/My Drive/ai_project/TFRecords-export/train/TFRecords-export_Yeong-Seo/Sejong.mp4#t=117.5.tfrecord', '/content/gdrive/My Drive/ai_project/TFRecords-export/train/TFRecords-export_Yeong-Seo/Sejong.mp4#t=117.tfrecord', '/content/gdrive/My Drive/ai_project/TFRecords-export/train/TFRecords-export_Yeong-Seo/Sejong.mp4#t=120.5.tfrecord', '/content/gdrive/My Drive/ai_project/TFRecords-export/train/TFRecords-export_Yeong-Seo/Sejong.mp4#t=118.5.tfrecord', '/content/gdrive/My Drive/ai_project/TFRecords-export/train/TFRecords-export_Yeong-Seo/Sejong.mp4#t=118.tfrecord', '/content/gdrive/My Drive/ai_project/TFRecords-export/train/TFRecords-export_Yeong-Seo/Sejong.mp4#t=119.tfrecord', '/content/gdrive/My Drive/ai_project/TFRecords-export/train/TFRecords-export_Yeong-Seo/Sejong.mp4#t=119.5.tfrecord', '/content/gdrive/My Drive/ai_project/TFRecords-export/train/TFRecords-export_Yeong-Seo/Sejong.mp4#t=13.5.tfrecord', '/content/gdrive/My Drive/ai_project/TFRecords-export/train/TFRecords-export_Yeong-Seo/Sejong.mp4#t=120.tfrecord', '/content/gdrive/My Drive/ai_project/TFRecords-export/train/TFRecords-export_Yeong-Seo/Sejong.mp4#t=37.5.tfrecord', '/content/gdrive/My Drive/ai_project/TFRecords-export/train/TFRecords-export_Yeong-Seo/Sejong.mp4#t=13.tfrecord', '/content/gdrive/My Drive/ai_project/TFRecords-export/train/TFRecords-export_Yeong-Seo/Sejong.mp4#t=21.5.tfrecord', '/content/gdrive/My Drive/ai_project/TFRecords-export/train/TFRecords-export_Yeong-Seo/Sejong.mp4#t=38.5.tfrecord', '/content/gdrive/My Drive/ai_project/TFRecords-export/train/TFRecords-export_Yeong-Seo/Sejong.mp4#t=37.tfrecord', '/content/gdrive/My Drive/ai_project/TFRecords-export/train/TFRecords-export_Yeong-Seo/Sejong.mp4#t=38.tfrecord', '/content/gdrive/My Drive/ai_project/TFRecords-export/train/TFRecords-export_Yeong-Seo/Sejong.mp4#t=14.5.tfrecord', '/content/gdrive/My Drive/ai_project/TFRecords-export/train/TFRecords-export_Yeong-Seo/Sejong.mp4#t=39.5.tfrecord', '/content/gdrive/My Drive/ai_project/TFRecords-export/train/TFRecords-export_Yeong-Seo/Sejong.mp4#t=39.tfrecord', '/content/gdrive/My Drive/ai_project/TFRecords-export/train/TFRecords-export_Yeong-Seo/Sejong.mp4#t=40.5.tfrecord', '/content/gdrive/My Drive/ai_project/TFRecords-export/train/TFRecords-export_Yeong-Seo/Sejong.mp4#t=14.tfrecord', '/content/gdrive/My Drive/ai_project/TFRecords-export/train/TFRecords-export_Yeong-Seo/Sejong.mp4#t=40.tfrecord', '/content/gdrive/My Drive/ai_project/TFRecords-export/train/TFRecords-export_Yeong-Seo/Sejong.mp4#t=41.5.tfrecord', '/content/gdrive/My Drive/ai_project/TFRecords-export/train/TFRecords-export_Yeong-Seo/Sejong.mp4#t=15.5.tfrecord', '/content/gdrive/My Drive/ai_project/TFRecords-export/train/TFRecords-export_Yeong-Seo/Sejong.mp4#t=41.tfrecord', '/content/gdrive/My Drive/ai_project/TFRecords-export/train/TFRecords-export_Yeong-Seo/Sejong.mp4#t=42.tfrecord', '/content/gdrive/My Drive/ai_project/TFRecords-export/train/TFRecords-export_Yeong-Seo/Sejong.mp4#t=42.5.tfrecord', '/content/gdrive/My Drive/ai_project/TFRecords-export/train/TFRecords-export_Yeong-Seo/Sejong.mp4#t=15.tfrecord', '/content/gdrive/My Drive/ai_project/TFRecords-export/train/TFRecords-export_Yeong-Seo/Sejong.mp4#t=43.tfrecord', '/content/gdrive/My Drive/ai_project/TFRecords-export/train/TFRecords-export_Yeong-Seo/Sejong.mp4#t=43.5.tfrecord', '/content/gdrive/My Drive/ai_project/TFRecords-export/train/TFRecords-export_Yeong-Seo/Sejong.mp4#t=44.5.tfrecord', '/content/gdrive/My Drive/ai_project/TFRecords-export/train/TFRecords-export_Yeong-Seo/Sejong.mp4#t=16.5.tfrecord', '/content/gdrive/My Drive/ai_project/TFRecords-export/train/TFRecords-export_Yeong-Seo/Sejong.mp4#t=44.tfrecord', '/content/gdrive/My Drive/ai_project/TFRecords-export/train/TFRecords-export_Yeong-Seo/Sejong.mp4#t=45.5.tfrecord', '/content/gdrive/My Drive/ai_project/TFRecords-export/train/TFRecords-export_Yeong-Seo/Sejong.mp4#t=45.tfrecord', '/content/gdrive/My Drive/ai_project/TFRecords-export/train/TFRecords-export_Yeong-Seo/Sejong.mp4#t=16.tfrecord', '/content/gdrive/My Drive/ai_project/TFRecords-export/train/TFRecords-export_Yeong-Seo/Sejong.mp4#t=46.5.tfrecord', '/content/gdrive/My Drive/ai_project/TFRecords-export/train/TFRecords-export_Yeong-Seo/Sejong.mp4#t=17.5.tfrecord', '/content/gdrive/My Drive/ai_project/TFRecords-export/train/TFRecords-export_Yeong-Seo/Sejong.mp4#t=46.tfrecord', '/content/gdrive/My Drive/ai_project/TFRecords-export/train/TFRecords-export_Yeong-Seo/Sejong.mp4#t=47.tfrecord', '/content/gdrive/My Drive/ai_project/TFRecords-export/train/TFRecords-export_Yeong-Seo/Sejong.mp4#t=48.tfrecord', '/content/gdrive/My Drive/ai_project/TFRecords-export/train/TFRecords-export_Yeong-Seo/Sejong.mp4#t=17.tfrecord', '/content/gdrive/My Drive/ai_project/TFRecords-export/train/TFRecords-export_Yeong-Seo/Sejong.mp4#t=49.5.tfrecord', '/content/gdrive/My Drive/ai_project/TFRecords-export/train/TFRecords-export_Yeong-Seo/Sejong.mp4#t=50.tfrecord', '/content/gdrive/My Drive/ai_project/TFRecords-export/train/TFRecords-export_Yeong-Seo/Sejong.mp4#t=51.tfrecord', '/content/gdrive/My Drive/ai_project/TFRecords-export/train/TFRecords-export_Yeong-Seo/Sejong.mp4#t=18.5.tfrecord', '/content/gdrive/My Drive/ai_project/TFRecords-export/train/TFRecords-export_Yeong-Seo/Sejong.mp4#t=52.tfrecord', '/content/gdrive/My Drive/ai_project/TFRecords-export/train/TFRecords-export_Yeong-Seo/Sejong.mp4#t=58.5.tfrecord', '/content/gdrive/My Drive/ai_project/TFRecords-export/train/TFRecords-export_Yeong-Seo/Sejong.mp4#t=59.tfrecord', '/content/gdrive/My Drive/ai_project/TFRecords-export/train/TFRecords-export_Yeong-Seo/Sejong.mp4#t=18.tfrecord', '/content/gdrive/My Drive/ai_project/TFRecords-export/train/TFRecords-export_Yeong-Seo/Sejong.mp4#t=60.5.tfrecord', '/content/gdrive/My Drive/ai_project/TFRecords-export/train/TFRecords-export_Yeong-Seo/Sejong.mp4#t=60.tfrecord', '/content/gdrive/My Drive/ai_project/TFRecords-export/train/TFRecords-export_Yeong-Seo/Sejong.mp4#t=19.5.tfrecord', '/content/gdrive/My Drive/ai_project/TFRecords-export/train/TFRecords-export_Yeong-Seo/Sejong.mp4#t=61.5.tfrecord', '/content/gdrive/My Drive/ai_project/TFRecords-export/train/TFRecords-export_Yeong-Seo/Sejong.mp4#t=61.tfrecord', '/content/gdrive/My Drive/ai_project/TFRecords-export/train/TFRecords-export_Yeong-Seo/Sejong.mp4#t=62.5.tfrecord', '/content/gdrive/My Drive/ai_project/TFRecords-export/train/TFRecords-export_Yeong-Seo/Sejong.mp4#t=19.tfrecord', '/content/gdrive/My Drive/ai_project/TFRecords-export/train/TFRecords-export_Yeong-Seo/Sejong.mp4#t=62.tfrecord', '/content/gdrive/My Drive/ai_project/TFRecords-export/train/TFRecords-export_Yeong-Seo/Sejong.mp4#t=63.5.tfrecord', '/content/gdrive/My Drive/ai_project/TFRecords-export/train/TFRecords-export_Yeong-Seo/Sejong.mp4#t=63.tfrecord', '/content/gdrive/My Drive/ai_project/TFRecords-export/train/TFRecords-export_Yeong-Seo/Sejong.mp4#t=2.5.tfrecord', '/content/gdrive/My Drive/ai_project/TFRecords-export/train/TFRecords-export_Yeong-Seo/Sejong.mp4#t=64.5.tfrecord', '/content/gdrive/My Drive/ai_project/TFRecords-export/train/TFRecords-export_Yeong-Seo/Sejong.mp4#t=64.tfrecord', '/content/gdrive/My Drive/ai_project/TFRecords-export/train/TFRecords-export_Yeong-Seo/Sejong.mp4#t=65.5.tfrecord', '/content/gdrive/My Drive/ai_project/TFRecords-export/train/TFRecords-export_Yeong-Seo/Sejong.mp4#t=2.tfrecord', '/content/gdrive/My Drive/ai_project/TFRecords-export/train/TFRecords-export_Yeong-Seo/Sejong.mp4#t=65.tfrecord', '/content/gdrive/My Drive/ai_project/TFRecords-export/train/TFRecords-export_Yeong-Seo/Sejong.mp4#t=66.tfrecord', '/content/gdrive/My Drive/ai_project/TFRecords-export/train/TFRecords-export_Yeong-Seo/Sejong.mp4#t=20.5.tfrecord', '/content/gdrive/My Drive/ai_project/TFRecords-export/train/TFRecords-export_Yeong-Seo/Sejong.mp4#t=66.5.tfrecord', '/content/gdrive/My Drive/ai_project/TFRecords-export/train/TFRecords-export_Yeong-Seo/Sejong.mp4#t=67.tfrecord', '/content/gdrive/My Drive/ai_project/TFRecords-export/train/TFRecords-export_Yeong-Seo/Sejong.mp4#t=68.5.tfrecord', '/content/gdrive/My Drive/ai_project/TFRecords-export/train/TFRecords-export_Yeong-Seo/Sejong.mp4#t=20.tfrecord', '/content/gdrive/My Drive/ai_project/TFRecords-export/train/TFRecords-export_Yeong-Seo/Sejong.mp4#t=68.tfrecord', '/content/gdrive/My Drive/ai_project/TFRecords-export/train/TFRecords-export_Yeong-Seo/Sejong.mp4#t=69.tfrecord', '/content/gdrive/My Drive/ai_project/TFRecords-export/train/TFRecords-export_Yeong-Seo/Sejong.mp4#t=70.5.tfrecord', '/content/gdrive/My Drive/ai_project/TFRecords-export/train/TFRecords-export_Yeong-Seo/Sejong.mp4#t=21.tfrecord', '/content/gdrive/My Drive/ai_project/TFRecords-export/train/TFRecords-export_Yeong-Seo/Sejong.mp4#t=71.tfrecord', '/content/gdrive/My Drive/ai_project/TFRecords-export/train/TFRecords-export_Yeong-Seo/Sejong.mp4#t=72.tfrecord', '/content/gdrive/My Drive/ai_project/TFRecords-export/train/TFRecords-export_Yeong-Seo/Sejong.mp4#t=22.5.tfrecord', '/content/gdrive/My Drive/ai_project/TFRecords-export/train/TFRecords-export_Yeong-Seo/Sejong.mp4#t=75.5.tfrecord', '/content/gdrive/My Drive/ai_project/TFRecords-export/train/TFRecords-export_Yeong-Seo/Sejong.mp4#t=76.5.tfrecord', '/content/gdrive/My Drive/ai_project/TFRecords-export/train/TFRecords-export_Yeong-Seo/Sejong.mp4#t=22.tfrecord', '/content/gdrive/My Drive/ai_project/TFRecords-export/train/TFRecords-export_Yeong-Seo/Sejong.mp4#t=76.tfrecord', '/content/gdrive/My Drive/ai_project/TFRecords-export/train/TFRecords-export_Yeong-Seo/Sejong.mp4#t=77.tfrecord', '/content/gdrive/My Drive/ai_project/TFRecords-export/train/TFRecords-export_Yeong-Seo/Sejong.mp4#t=78.5.tfrecord', '/content/gdrive/My Drive/ai_project/TFRecords-export/train/TFRecords-export_Yeong-Seo/Sejong.mp4#t=23.5.tfrecord', '/content/gdrive/My Drive/ai_project/TFRecords-export/train/TFRecords-export_Yeong-Seo/Sejong.mp4#t=81.5.tfrecord', '/content/gdrive/My Drive/ai_project/TFRecords-export/train/TFRecords-export_Yeong-Seo/Sejong.mp4#t=81.tfrecord', '/content/gdrive/My Drive/ai_project/TFRecords-export/train/TFRecords-export_Yeong-Seo/Sejong.mp4#t=82.5.tfrecord', '/content/gdrive/My Drive/ai_project/TFRecords-export/train/TFRecords-export_Yeong-Seo/Sejong.mp4#t=23.tfrecord', '/content/gdrive/My Drive/ai_project/TFRecords-export/train/TFRecords-export_Yeong-Seo/Sejong.mp4#t=83.5.tfrecord', '/content/gdrive/My Drive/ai_project/TFRecords-export/train/TFRecords-export_Yeong-Seo/Sejong.mp4#t=83.tfrecord', '/content/gdrive/My Drive/ai_project/TFRecords-export/train/TFRecords-export_Yeong-Seo/Sejong.mp4#t=24.5.tfrecord', '/content/gdrive/My Drive/ai_project/TFRecords-export/train/TFRecords-export_Yeong-Seo/Sejong.mp4#t=84.5.tfrecord', '/content/gdrive/My Drive/ai_project/TFRecords-export/train/TFRecords-export_Yeong-Seo/Sejong.mp4#t=86.5.tfrecord', '/content/gdrive/My Drive/ai_project/TFRecords-export/train/TFRecords-export_Yeong-Seo/Sejong.mp4#t=24.tfrecord', '/content/gdrive/My Drive/ai_project/TFRecords-export/train/TFRecords-export_Yeong-Seo/Sejong.mp4#t=86.tfrecord', '/content/gdrive/My Drive/ai_project/TFRecords-export/train/TFRecords-export_Yeong-Seo/Sejong.mp4#t=87.5.tfrecord', '/content/gdrive/My Drive/ai_project/TFRecords-export/train/TFRecords-export_Yeong-Seo/Sejong.mp4#t=87.tfrecord', '/content/gdrive/My Drive/ai_project/TFRecords-export/train/TFRecords-export_Yeong-Seo/Sejong.mp4#t=25.5.tfrecord', '/content/gdrive/My Drive/ai_project/TFRecords-export/train/TFRecords-export_Yeong-Seo/Sejong.mp4#t=88.5.tfrecord', '/content/gdrive/My Drive/ai_project/TFRecords-export/train/TFRecords-export_Yeong-Seo/Sejong.mp4#t=89.5.tfrecord', '/content/gdrive/My Drive/ai_project/TFRecords-export/train/TFRecords-export_Yeong-Seo/Sejong.mp4#t=91.5.tfrecord', '/content/gdrive/My Drive/ai_project/TFRecords-export/train/TFRecords-export_Yeong-Seo/Sejong.mp4#t=25.tfrecord', '/content/gdrive/My Drive/ai_project/TFRecords-export/train/TFRecords-export_Yeong-Seo/Sejong.mp4#t=90.5.tfrecord', '/content/gdrive/My Drive/ai_project/TFRecords-export/train/TFRecords-export_Yeong-Seo/Sejong.mp4#t=89.tfrecord', '/content/gdrive/My Drive/ai_project/TFRecords-export/train/TFRecords-export_Yeong-Seo/Sejong.mp4#t=26.5.tfrecord', '/content/gdrive/My Drive/ai_project/TFRecords-export/train/TFRecords-export_Yeong-Seo/Sejong.mp4#t=91.tfrecord', '/content/gdrive/My Drive/ai_project/TFRecords-export/train/TFRecords-export_Yeong-Seo/Sejong.mp4#t=92.5.tfrecord', '/content/gdrive/My Drive/ai_project/TFRecords-export/train/TFRecords-export_Yeong-Seo/Sejong.mp4#t=92.tfrecord', '/content/gdrive/My Drive/ai_project/TFRecords-export/train/TFRecords-export_Yeong-Seo/Sejong.mp4#t=26.tfrecord', '/content/gdrive/My Drive/ai_project/TFRecords-export/train/TFRecords-export_Yeong-Seo/Sejong.mp4#t=93.5.tfrecord', '/content/gdrive/My Drive/ai_project/TFRecords-export/train/TFRecords-export_Yeong-Seo/Sejong.mp4#t=93.tfrecord', '/content/gdrive/My Drive/ai_project/TFRecords-export/train/TFRecords-export_Yeong-Seo/Sejong.mp4#t=94.5.tfrecord', '/content/gdrive/My Drive/ai_project/TFRecords-export/train/TFRecords-export_Yeong-Seo/Sejong.mp4#t=94.tfrecord', '/content/gdrive/My Drive/ai_project/TFRecords-export/train/TFRecords-export_Yeong-Seo/Sejong.mp4#t=263.5.tfrecord', '/content/gdrive/My Drive/ai_project/TFRecords-export/train/TFRecords-export_Yeong-Seo/Sejong.mp4#t=95.5.tfrecord', '/content/gdrive/My Drive/ai_project/TFRecords-export/train/TFRecords-export_Yeong-Seo/Sejong.mp4#t=95.tfrecord', '/content/gdrive/My Drive/ai_project/TFRecords-export/train/TFRecords-export_Yeong-Seo/Sejong.mp4#t=96.5.tfrecord', '/content/gdrive/My Drive/ai_project/TFRecords-export/train/TFRecords-export_Yeong-Seo/Sejong.mp4#t=27.5.tfrecord', '/content/gdrive/My Drive/ai_project/TFRecords-export/train/TFRecords-export_Yeong-Seo/Sejong.mp4#t=97.5.tfrecord', '/content/gdrive/My Drive/ai_project/TFRecords-export/train/TFRecords-export_Yeong-Seo/Sejong.mp4#t=96.tfrecord', '/content/gdrive/My Drive/ai_project/TFRecords-export/train/TFRecords-export_Yeong-Seo/Sejong.mp4#t=97.tfrecord', '/content/gdrive/My Drive/ai_project/TFRecords-export/train/TFRecords-export_Yeong-Seo/Sejong.mp4#t=98.5.tfrecord', '/content/gdrive/My Drive/ai_project/TFRecords-export/train/TFRecords-export_Yeong-Seo/Sejong.mp4#t=27.tfrecord', '/content/gdrive/My Drive/ai_project/TFRecords-export/train/TFRecords-export_Yeong-Seo/Sejong.mp4#t=98.tfrecord', '/content/gdrive/My Drive/ai_project/TFRecords-export/train/TFRecords-export_Yeong-Seo/Sejong.mp4#t=99.5.tfrecord', '/content/gdrive/My Drive/ai_project/TFRecords-export/train/TFRecords-export_Yeong-Seo/Sejong.mp4#t=99.tfrecord', '/content/gdrive/My Drive/ai_project/TFRecords-export/train/TFRecords-export_Yeong-Seo/Sejong.mp4#t=28.5.tfrecord', '/content/gdrive/My Drive/ai_project/TFRecords-export/train/TFRecords-export_Yeong-Seo/Sejong.mp4#t=28.tfrecord', '/content/gdrive/My Drive/ai_project/TFRecords-export/train/TFRecords-export_Yeong-Seo/Sejong.mp4#t=29.5.tfrecord', '/content/gdrive/My Drive/ai_project/TFRecords-export/train/TFRecords-export_Yeong-Seo/Sejong.mp4#t=29.tfrecord', '/content/gdrive/My Drive/ai_project/TFRecords-export/train/TFRecords-export_Yeong-Seo/Sejong.mp4#t=3.5.tfrecord', '/content/gdrive/My Drive/ai_project/TFRecords-export/train/TFRecords-export_Yeong-Seo/Sejong.mp4#t=3.tfrecord', '/content/gdrive/My Drive/ai_project/TFRecords-export/train/TFRecords-export_Yeong-Seo/Sejong.mp4#t=30.5.tfrecord', '/content/gdrive/My Drive/ai_project/TFRecords-export/train/TFRecords-export_Yeong-Seo/Sejong.mp4#t=30.tfrecord', '/content/gdrive/My Drive/ai_project/TFRecords-export/train/TFRecords-export_Yeong-Seo/Sejong.mp4#t=31.5.tfrecord', '/content/gdrive/My Drive/ai_project/TFRecords-export/train/TFRecords-export_Yeong-Seo/Sejong.mp4#t=31.tfrecord', '/content/gdrive/My Drive/ai_project/TFRecords-export/train/TFRecords-export_Yeong-Seo/Sejong.mp4#t=32.5.tfrecord', '/content/gdrive/My Drive/ai_project/TFRecords-export/train/TFRecords-export_Yeong-Seo/Sejong.mp4#t=32.tfrecord', '/content/gdrive/My Drive/ai_project/TFRecords-export/train/TFRecords-export_Yeong-Seo/Sejong.mp4#t=33.5.tfrecord', '/content/gdrive/My Drive/ai_project/TFRecords-export/train/TFRecords-export_Yeong-Seo/Sejong.mp4#t=33.tfrecord', '/content/gdrive/My Drive/ai_project/TFRecords-export/train/TFRecords-export_Yeong-Seo/Sejong.mp4#t=34.5.tfrecord', '/content/gdrive/My Drive/ai_project/TFRecords-export/train/TFRecords-export_Yeong-Seo/Sejong.mp4#t=34.tfrecord', '/content/gdrive/My Drive/ai_project/TFRecords-export/train/TFRecords-export_Yeong-Seo/Sejong.mp4#t=35.5.tfrecord', '/content/gdrive/My Drive/ai_project/TFRecords-export/train/TFRecords-export_Yeong-Seo/Sejong.mp4#t=35.tfrecord', '/content/gdrive/My Drive/ai_project/TFRecords-export/train/TFRecords-export_Yeong-Seo/Sejong.mp4#t=36.5.tfrecord', '/content/gdrive/My Drive/ai_project/TFRecords-export/train/TFRecords-export_Yeong-Seo/Sejong.mp4#t=36.tfrecord', '/content/gdrive/My Drive/ai_project/TFRecords-export/train/TFRecords-export_Yeong-Seo/Sejong.mp4#t=4.5.tfrecord', '/content/gdrive/My Drive/ai_project/TFRecords-export/train/TFRecords-export_Yeong-Seo/Sejong.mp4#t=4.tfrecord', '/content/gdrive/My Drive/ai_project/TFRecords-export/train/TFRecords-export_Yeong-Seo/Sejong.mp4#t=47.5.tfrecord', '/content/gdrive/My Drive/ai_project/TFRecords-export/train/TFRecords-export_Yeong-Seo/Sejong.mp4#t=48.5.tfrecord', '/content/gdrive/My Drive/ai_project/TFRecords-export/train/TFRecords-export_Yeong-Seo/Sejong.mp4#t=49.tfrecord', '/content/gdrive/My Drive/ai_project/TFRecords-export/train/TFRecords-export_Yeong-Seo/Sejong.mp4#t=5.5.tfrecord', '/content/gdrive/My Drive/ai_project/TFRecords-export/train/TFRecords-export_Yeong-Seo/Sejong.mp4#t=5.tfrecord', '/content/gdrive/My Drive/ai_project/TFRecords-export/train/TFRecords-export_Yeong-Seo/Sejong.mp4#t=50.5.tfrecord', '/content/gdrive/My Drive/ai_project/TFRecords-export/train/TFRecords-export_Yeong-Seo/Sejong.mp4#t=51.5.tfrecord', '/content/gdrive/My Drive/ai_project/TFRecords-export/train/TFRecords-export_Yeong-Seo/Sejong.mp4#t=52.5.tfrecord', '/content/gdrive/My Drive/ai_project/TFRecords-export/train/TFRecords-export_Yeong-Seo/Sejong.mp4#t=53.5.tfrecord', '/content/gdrive/My Drive/ai_project/TFRecords-export/train/TFRecords-export_Yeong-Seo/Sejong.mp4#t=53.tfrecord', '/content/gdrive/My Drive/ai_project/TFRecords-export/train/TFRecords-export_Yeong-Seo/Sejong.mp4#t=54.5.tfrecord', '/content/gdrive/My Drive/ai_project/TFRecords-export/train/TFRecords-export_Yeong-Seo/Sejong.mp4#t=54.tfrecord', '/content/gdrive/My Drive/ai_project/TFRecords-export/train/TFRecords-export_Yeong-Seo/Sejong.mp4#t=55.5.tfrecord', '/content/gdrive/My Drive/ai_project/TFRecords-export/train/TFRecords-export_Yeong-Seo/Sejong.mp4#t=55.tfrecord', '/content/gdrive/My Drive/ai_project/TFRecords-export/train/TFRecords-export_Yeong-Seo/Sejong.mp4#t=56.5.tfrecord', '/content/gdrive/My Drive/ai_project/TFRecords-export/train/TFRecords-export_Yeong-Seo/Sejong.mp4#t=56.tfrecord', '/content/gdrive/My Drive/ai_project/TFRecords-export/train/TFRecords-export_Yeong-Seo/Sejong.mp4#t=57.5.tfrecord', '/content/gdrive/My Drive/ai_project/TFRecords-export/train/TFRecords-export_Yeong-Seo/Sejong.mp4#t=57.tfrecord', '/content/gdrive/My Drive/ai_project/TFRecords-export/train/TFRecords-export_Yeong-Seo/Sejong.mp4#t=58.tfrecord', '/content/gdrive/My Drive/ai_project/TFRecords-export/train/TFRecords-export_Yeong-Seo/Sejong.mp4#t=59.5.tfrecord', '/content/gdrive/My Drive/ai_project/TFRecords-export/train/TFRecords-export_Yeong-Seo/Sejong.mp4#t=6.5.tfrecord', '/content/gdrive/My Drive/ai_project/TFRecords-export/train/TFRecords-export_Yeong-Seo/Sejong.mp4#t=6.tfrecord', '/content/gdrive/My Drive/ai_project/TFRecords-export/train/TFRecords-export_Yeong-Seo/Sejong.mp4#t=67.5.tfrecord', '/content/gdrive/My Drive/ai_project/TFRecords-export/train/TFRecords-export_Yeong-Seo/Sejong.mp4#t=69.5.tfrecord', '/content/gdrive/My Drive/ai_project/TFRecords-export/train/TFRecords-export_Yeong-Seo/Sejong.mp4#t=7.5.tfrecord', '/content/gdrive/My Drive/ai_project/TFRecords-export/train/TFRecords-export_Yeong-Seo/Sejong.mp4#t=7.tfrecord', '/content/gdrive/My Drive/ai_project/TFRecords-export/train/TFRecords-export_Yeong-Seo/Sejong.mp4#t=70.tfrecord', '/content/gdrive/My Drive/ai_project/TFRecords-export/train/TFRecords-export_Yeong-Seo/Sejong.mp4#t=71.5.tfrecord', '/content/gdrive/My Drive/ai_project/TFRecords-export/train/TFRecords-export_Yeong-Seo/Sejong.mp4#t=72.5.tfrecord', '/content/gdrive/My Drive/ai_project/TFRecords-export/train/TFRecords-export_Yeong-Seo/Sejong.mp4#t=73.5.tfrecord', '/content/gdrive/My Drive/ai_project/TFRecords-export/train/TFRecords-export_Yeong-Seo/Sejong.mp4#t=73.tfrecord', '/content/gdrive/My Drive/ai_project/TFRecords-export/train/TFRecords-export_Yeong-Seo/Sejong.mp4#t=74.5.tfrecord', '/content/gdrive/My Drive/ai_project/TFRecords-export/train/TFRecords-export_Yeong-Seo/Sejong.mp4#t=74.tfrecord', '/content/gdrive/My Drive/ai_project/TFRecords-export/train/TFRecords-export_Yeong-Seo/Sejong.mp4#t=75.tfrecord', '/content/gdrive/My Drive/ai_project/TFRecords-export/train/TFRecords-export_Yeong-Seo/Sejong.mp4#t=77.5.tfrecord', '/content/gdrive/My Drive/ai_project/TFRecords-export/train/TFRecords-export_Yeong-Seo/Sejong.mp4#t=78.tfrecord', '/content/gdrive/My Drive/ai_project/TFRecords-export/train/TFRecords-export_Yeong-Seo/Sejong.mp4#t=79.5.tfrecord', '/content/gdrive/My Drive/ai_project/TFRecords-export/train/TFRecords-export_Yeong-Seo/Sejong.mp4#t=79.tfrecord', '/content/gdrive/My Drive/ai_project/TFRecords-export/train/TFRecords-export_Yeong-Seo/Sejong.mp4#t=8.5.tfrecord', '/content/gdrive/My Drive/ai_project/TFRecords-export/train/TFRecords-export_Yeong-Seo/Sejong.mp4#t=8.tfrecord', '/content/gdrive/My Drive/ai_project/TFRecords-export/train/TFRecords-export_Yeong-Seo/Sejong.mp4#t=80.5.tfrecord', '/content/gdrive/My Drive/ai_project/TFRecords-export/train/TFRecords-export_Yeong-Seo/Sejong.mp4#t=80.tfrecord', '/content/gdrive/My Drive/ai_project/TFRecords-export/train/TFRecords-export_Yeong-Seo/Sejong.mp4#t=82.tfrecord', '/content/gdrive/My Drive/ai_project/TFRecords-export/train/TFRecords-export_Yeong-Seo/Sejong.mp4#t=84.tfrecord', '/content/gdrive/My Drive/ai_project/TFRecords-export/train/TFRecords-export_Yeong-Seo/Sejong.mp4#t=85.5.tfrecord', '/content/gdrive/My Drive/ai_project/TFRecords-export/train/TFRecords-export_Yeong-Seo/Sejong.mp4#t=85.tfrecord', '/content/gdrive/My Drive/ai_project/TFRecords-export/train/TFRecords-export_Yeong-Seo/Sejong.mp4#t=88.tfrecord', '/content/gdrive/My Drive/ai_project/TFRecords-export/train/TFRecords-export_Yeong-Seo/Sejong.mp4#t=9.5.tfrecord', '/content/gdrive/My Drive/ai_project/TFRecords-export/train/TFRecords-export_Yeong-Seo/Sejong.mp4#t=9.tfrecord', '/content/gdrive/My Drive/ai_project/TFRecords-export/train/TFRecords-export_Yeong-Seo/Sejong.mp4#t=90.tfrecord', '/content/gdrive/My Drive/ai_project/TFRecords-export/train/TFRecords-export_San-hee/Sejong.mp4#t=114.5.tfrecord', '/content/gdrive/My Drive/ai_project/TFRecords-export/train/TFRecords-export_San-hee/Sejong.mp4#t=0.tfrecord', '/content/gdrive/My Drive/ai_project/TFRecords-export/train/TFRecords-export_San-hee/Sejong.mp4#t=119.5.tfrecord', '/content/gdrive/My Drive/ai_project/TFRecords-export/train/TFRecords-export_San-hee/Sejong.mp4#t=119.666667.tfrecord', '/content/gdrive/My Drive/ai_project/TFRecords-export/train/TFRecords-export_San-hee/Sejong.mp4#t=120.tfrecord', '/content/gdrive/My Drive/ai_project/TFRecords-export/train/TFRecords-export_San-hee/Sejong.mp4#t=1.866667.tfrecord', '/content/gdrive/My Drive/ai_project/TFRecords-export/train/TFRecords-export_San-hee/Sejong.mp4#t=121.5.tfrecord', '/content/gdrive/My Drive/ai_project/TFRecords-export/train/TFRecords-export_San-hee/Sejong.mp4#t=121.tfrecord', '/content/gdrive/My Drive/ai_project/TFRecords-export/train/TFRecords-export_San-hee/Sejong.mp4#t=122.5.tfrecord', '/content/gdrive/My Drive/ai_project/TFRecords-export/train/TFRecords-export_San-hee/Sejong.mp4#t=120.5.tfrecord', '/content/gdrive/My Drive/ai_project/TFRecords-export/train/TFRecords-export_San-hee/Sejong.mp4#t=122.tfrecord', '/content/gdrive/My Drive/ai_project/TFRecords-export/train/TFRecords-export_San-hee/Sejong.mp4#t=123.5.tfrecord', '/content/gdrive/My Drive/ai_project/TFRecords-export/train/TFRecords-export_San-hee/Sejong.mp4#t=148.5.tfrecord', '/content/gdrive/My Drive/ai_project/TFRecords-export/train/TFRecords-export_San-hee/Sejong.mp4#t=123.tfrecord', '/content/gdrive/My Drive/ai_project/TFRecords-export/train/TFRecords-export_San-hee/Sejong.mp4#t=124.tfrecord', '/content/gdrive/My Drive/ai_project/TFRecords-export/train/TFRecords-export_San-hee/Sejong.mp4#t=163.5.tfrecord', '/content/gdrive/My Drive/ai_project/TFRecords-export/train/TFRecords-export_San-hee/Sejong.mp4#t=125.5.tfrecord', '/content/gdrive/My Drive/ai_project/TFRecords-export/train/TFRecords-export_San-hee/Sejong.mp4#t=125.tfrecord', '/content/gdrive/My Drive/ai_project/TFRecords-export/train/TFRecords-export_San-hee/Sejong.mp4#t=126.5.tfrecord', '/content/gdrive/My Drive/ai_project/TFRecords-export/train/TFRecords-export_San-hee/Sejong.mp4#t=164.tfrecord', '/content/gdrive/My Drive/ai_project/TFRecords-export/train/TFRecords-export_San-hee/Sejong.mp4#t=126.tfrecord', '/content/gdrive/My Drive/ai_project/TFRecords-export/train/TFRecords-export_San-hee/Sejong.mp4#t=127.5.tfrecord', '/content/gdrive/My Drive/ai_project/TFRecords-export/train/TFRecords-export_San-hee/Sejong.mp4#t=127.933333.tfrecord', '/content/gdrive/My Drive/ai_project/TFRecords-export/train/TFRecords-export_San-hee/Sejong.mp4#t=166.5.tfrecord', '/content/gdrive/My Drive/ai_project/TFRecords-export/train/TFRecords-export_San-hee/Sejong.mp4#t=127.tfrecord', '/content/gdrive/My Drive/ai_project/TFRecords-export/train/TFRecords-export_San-hee/Sejong.mp4#t=128.5.tfrecord', '/content/gdrive/My Drive/ai_project/TFRecords-export/train/TFRecords-export_San-hee/Sejong.mp4#t=129.5.tfrecord', '/content/gdrive/My Drive/ai_project/TFRecords-export/train/TFRecords-export_San-hee/Sejong.mp4#t=167.5.tfrecord', '/content/gdrive/My Drive/ai_project/TFRecords-export/train/TFRecords-export_San-hee/Sejong.mp4#t=129.tfrecord', '/content/gdrive/My Drive/ai_project/TFRecords-export/train/TFRecords-export_San-hee/Sejong.mp4#t=130.5.tfrecord', '/content/gdrive/My Drive/ai_project/TFRecords-export/train/TFRecords-export_San-hee/Sejong.mp4#t=167.tfrecord', '/content/gdrive/My Drive/ai_project/TFRecords-export/train/TFRecords-export_San-hee/Sejong.mp4#t=130.tfrecord', '/content/gdrive/My Drive/ai_project/TFRecords-export/train/TFRecords-export_San-hee/Sejong.mp4#t=131.5.tfrecord', '/content/gdrive/My Drive/ai_project/TFRecords-export/train/TFRecords-export_San-hee/Sejong.mp4#t=131.tfrecord', '/content/gdrive/My Drive/ai_project/TFRecords-export/train/TFRecords-export_San-hee/Sejong.mp4#t=168.5.tfrecord', '/content/gdrive/My Drive/ai_project/TFRecords-export/train/TFRecords-export_San-hee/Sejong.mp4#t=132.5.tfrecord', '/content/gdrive/My Drive/ai_project/TFRecords-export/train/TFRecords-export_San-hee/Sejong.mp4#t=132.tfrecord', '/content/gdrive/My Drive/ai_project/TFRecords-export/train/TFRecords-export_San-hee/Sejong.mp4#t=133.5.tfrecord', '/content/gdrive/My Drive/ai_project/TFRecords-export/train/TFRecords-export_San-hee/Sejong.mp4#t=168.tfrecord', '/content/gdrive/My Drive/ai_project/TFRecords-export/train/TFRecords-export_San-hee/Sejong.mp4#t=133.tfrecord', '/content/gdrive/My Drive/ai_project/TFRecords-export/train/TFRecords-export_San-hee/Sejong.mp4#t=134.5.tfrecord', '/content/gdrive/My Drive/ai_project/TFRecords-export/train/TFRecords-export_San-hee/Sejong.mp4#t=169.tfrecord', '/content/gdrive/My Drive/ai_project/TFRecords-export/train/TFRecords-export_San-hee/Sejong.mp4#t=134.tfrecord', '/content/gdrive/My Drive/ai_project/TFRecords-export/train/TFRecords-export_San-hee/Sejong.mp4#t=135.5.tfrecord', '/content/gdrive/My Drive/ai_project/TFRecords-export/train/TFRecords-export_San-hee/Sejong.mp4#t=135.tfrecord', '/content/gdrive/My Drive/ai_project/TFRecords-export/train/TFRecords-export_San-hee/Sejong.mp4#t=171.5.tfrecord', '/content/gdrive/My Drive/ai_project/TFRecords-export/train/TFRecords-export_San-hee/Sejong.mp4#t=136.5.tfrecord', '/content/gdrive/My Drive/ai_project/TFRecords-export/train/TFRecords-export_San-hee/Sejong.mp4#t=136.tfrecord', '/content/gdrive/My Drive/ai_project/TFRecords-export/train/TFRecords-export_San-hee/Sejong.mp4#t=137.5.tfrecord', '/content/gdrive/My Drive/ai_project/TFRecords-export/train/TFRecords-export_San-hee/Sejong.mp4#t=172.5.tfrecord', '/content/gdrive/My Drive/ai_project/TFRecords-export/train/TFRecords-export_San-hee/Sejong.mp4#t=137.tfrecord', '/content/gdrive/My Drive/ai_project/TFRecords-export/train/TFRecords-export_San-hee/Sejong.mp4#t=138.5.tfrecord', '/content/gdrive/My Drive/ai_project/TFRecords-export/train/TFRecords-export_San-hee/Sejong.mp4#t=138.tfrecord', '/content/gdrive/My Drive/ai_project/TFRecords-export/train/TFRecords-export_San-hee/Sejong.mp4#t=172.tfrecord', '/content/gdrive/My Drive/ai_project/TFRecords-export/train/TFRecords-export_San-hee/Sejong.mp4#t=139.5.tfrecord', '/content/gdrive/My Drive/ai_project/TFRecords-export/train/TFRecords-export_San-hee/Sejong.mp4#t=173.5.tfrecord', '/content/gdrive/My Drive/ai_project/TFRecords-export/train/TFRecords-export_San-hee/Sejong.mp4#t=139.tfrecord', '/content/gdrive/My Drive/ai_project/TFRecords-export/train/TFRecords-export_San-hee/Sejong.mp4#t=140.5.tfrecord', '/content/gdrive/My Drive/ai_project/TFRecords-export/train/TFRecords-export_San-hee/Sejong.mp4#t=140.tfrecord', '/content/gdrive/My Drive/ai_project/TFRecords-export/train/TFRecords-export_San-hee/Sejong.mp4#t=141.5.tfrecord', '/content/gdrive/My Drive/ai_project/TFRecords-export/train/TFRecords-export_San-hee/Sejong.mp4#t=173.tfrecord', '/content/gdrive/My Drive/ai_project/TFRecords-export/train/TFRecords-export_San-hee/Sejong.mp4#t=141.tfrecord', '/content/gdrive/My Drive/ai_project/TFRecords-export/train/TFRecords-export_San-hee/Sejong.mp4#t=142.5.tfrecord', '/content/gdrive/My Drive/ai_project/TFRecords-export/train/TFRecords-export_San-hee/Sejong.mp4#t=142.tfrecord', '/content/gdrive/My Drive/ai_project/TFRecords-export/train/TFRecords-export_San-hee/Sejong.mp4#t=143.5.tfrecord', '/content/gdrive/My Drive/ai_project/TFRecords-export/train/TFRecords-export_San-hee/Sejong.mp4#t=174.5.tfrecord', '/content/gdrive/My Drive/ai_project/TFRecords-export/train/TFRecords-export_San-hee/Sejong.mp4#t=143.tfrecord', '/content/gdrive/My Drive/ai_project/TFRecords-export/train/TFRecords-export_San-hee/Sejong.mp4#t=144.5.tfrecord', '/content/gdrive/My Drive/ai_project/TFRecords-export/train/TFRecords-export_San-hee/Sejong.mp4#t=174.tfrecord', '/content/gdrive/My Drive/ai_project/TFRecords-export/train/TFRecords-export_San-hee/Sejong.mp4#t=145.5.tfrecord', '/content/gdrive/My Drive/ai_project/TFRecords-export/train/TFRecords-export_San-hee/Sejong.mp4#t=144.tfrecord', '/content/gdrive/My Drive/ai_project/TFRecords-export/train/TFRecords-export_San-hee/Sejong.mp4#t=145.6.tfrecord', '/content/gdrive/My Drive/ai_project/TFRecords-export/train/TFRecords-export_San-hee/Sejong.mp4#t=175.5.tfrecord', '/content/gdrive/My Drive/ai_project/TFRecords-export/train/TFRecords-export_San-hee/Sejong.mp4#t=145.tfrecord', '/content/gdrive/My Drive/ai_project/TFRecords-export/train/TFRecords-export_San-hee/Sejong.mp4#t=146.5.tfrecord', '/content/gdrive/My Drive/ai_project/TFRecords-export/train/TFRecords-export_San-hee/Sejong.mp4#t=146.tfrecord', '/content/gdrive/My Drive/ai_project/TFRecords-export/train/TFRecords-export_San-hee/Sejong.mp4#t=147.5.tfrecord', '/content/gdrive/My Drive/ai_project/TFRecords-export/train/TFRecords-export_San-hee/Sejong.mp4#t=175.tfrecord', '/content/gdrive/My Drive/ai_project/TFRecords-export/train/TFRecords-export_San-hee/Sejong.mp4#t=147.tfrecord', '/content/gdrive/My Drive/ai_project/TFRecords-export/train/TFRecords-export_San-hee/Sejong.mp4#t=148.tfrecord', '/content/gdrive/My Drive/ai_project/TFRecords-export/train/TFRecords-export_San-hee/Sejong.mp4#t=149.5.tfrecord', '/content/gdrive/My Drive/ai_project/TFRecords-export/train/TFRecords-export_San-hee/Sejong.mp4#t=176.5.tfrecord', '/content/gdrive/My Drive/ai_project/TFRecords-export/train/TFRecords-export_San-hee/Sejong.mp4#t=149.tfrecord', '/content/gdrive/My Drive/ai_project/TFRecords-export/train/TFRecords-export_San-hee/Sejong.mp4#t=150.5.tfrecord', '/content/gdrive/My Drive/ai_project/TFRecords-export/train/TFRecords-export_San-hee/Sejong.mp4#t=176.tfrecord', '/content/gdrive/My Drive/ai_project/TFRecords-export/train/TFRecords-export_San-hee/Sejong.mp4#t=151.5.tfrecord', '/content/gdrive/My Drive/ai_project/TFRecords-export/train/TFRecords-export_San-hee/Sejong.mp4#t=150.tfrecord', '/content/gdrive/My Drive/ai_project/TFRecords-export/train/TFRecords-export_San-hee/Sejong.mp4#t=151.tfrecord', '/content/gdrive/My Drive/ai_project/TFRecords-export/train/TFRecords-export_San-hee/Sejong.mp4#t=177.5.tfrecord', '/content/gdrive/My Drive/ai_project/TFRecords-export/train/TFRecords-export_San-hee/Sejong.mp4#t=152.5.tfrecord', '/content/gdrive/My Drive/ai_project/TFRecords-export/train/TFRecords-export_San-hee/Sejong.mp4#t=152.tfrecord', '/content/gdrive/My Drive/ai_project/TFRecords-export/train/TFRecords-export_San-hee/Sejong.mp4#t=153.5.tfrecord', '/content/gdrive/My Drive/ai_project/TFRecords-export/train/TFRecords-export_San-hee/Sejong.mp4#t=177.tfrecord', '/content/gdrive/My Drive/ai_project/TFRecords-export/train/TFRecords-export_San-hee/Sejong.mp4#t=153.tfrecord', '/content/gdrive/My Drive/ai_project/TFRecords-export/train/TFRecords-export_San-hee/Sejong.mp4#t=154.4.tfrecord', '/content/gdrive/My Drive/ai_project/TFRecords-export/train/TFRecords-export_San-hee/Sejong.mp4#t=178.5.tfrecord', '/content/gdrive/My Drive/ai_project/TFRecords-export/train/TFRecords-export_San-hee/Sejong.mp4#t=154.5.tfrecord', '/content/gdrive/My Drive/ai_project/TFRecords-export/train/TFRecords-export_San-hee/Sejong.mp4#t=154.tfrecord', '/content/gdrive/My Drive/ai_project/TFRecords-export/train/TFRecords-export_San-hee/Sejong.mp4#t=155.5.tfrecord', '/content/gdrive/My Drive/ai_project/TFRecords-export/train/TFRecords-export_San-hee/Sejong.mp4#t=178.666667.tfrecord', '/content/gdrive/My Drive/ai_project/TFRecords-export/train/TFRecords-export_San-hee/Sejong.mp4#t=155.tfrecord', '/content/gdrive/My Drive/ai_project/TFRecords-export/train/TFRecords-export_San-hee/Sejong.mp4#t=156.5.tfrecord', '/content/gdrive/My Drive/ai_project/TFRecords-export/train/TFRecords-export_San-hee/Sejong.mp4#t=178.tfrecord', '/content/gdrive/My Drive/ai_project/TFRecords-export/train/TFRecords-export_San-hee/Sejong.mp4#t=156.tfrecord', '/content/gdrive/My Drive/ai_project/TFRecords-export/train/TFRecords-export_San-hee/Sejong.mp4#t=157.5.tfrecord', '/content/gdrive/My Drive/ai_project/TFRecords-export/train/TFRecords-export_San-hee/Sejong.mp4#t=157.tfrecord', '/content/gdrive/My Drive/ai_project/TFRecords-export/train/TFRecords-export_San-hee/Sejong.mp4#t=179.5.tfrecord', '/content/gdrive/My Drive/ai_project/TFRecords-export/train/TFRecords-export_San-hee/Sejong.mp4#t=158.5.tfrecord', '/content/gdrive/My Drive/ai_project/TFRecords-export/train/TFRecords-export_San-hee/Sejong.mp4#t=158.tfrecord', '/content/gdrive/My Drive/ai_project/TFRecords-export/train/TFRecords-export_San-hee/Sejong.mp4#t=179.tfrecord', '/content/gdrive/My Drive/ai_project/TFRecords-export/train/TFRecords-export_San-hee/Sejong.mp4#t=159.5.tfrecord', '/content/gdrive/My Drive/ai_project/TFRecords-export/train/TFRecords-export_San-hee/Sejong.mp4#t=159.tfrecord', '/content/gdrive/My Drive/ai_project/TFRecords-export/train/TFRecords-export_San-hee/Sejong.mp4#t=160.5.tfrecord', '/content/gdrive/My Drive/ai_project/TFRecords-export/train/TFRecords-export_San-hee/Sejong.mp4#t=180.5.tfrecord', '/content/gdrive/My Drive/ai_project/TFRecords-export/train/TFRecords-export_San-hee/Sejong.mp4#t=160.tfrecord', '/content/gdrive/My Drive/ai_project/TFRecords-export/train/TFRecords-export_San-hee/Sejong.mp4#t=161.5.tfrecord', '/content/gdrive/My Drive/ai_project/TFRecords-export/train/TFRecords-export_San-hee/Sejong.mp4#t=161.tfrecord', '/content/gdrive/My Drive/ai_project/TFRecords-export/train/TFRecords-export_San-hee/Sejong.mp4#t=180.tfrecord', '/content/gdrive/My Drive/ai_project/TFRecords-export/train/TFRecords-export_San-hee/Sejong.mp4#t=162.5.tfrecord', '/content/gdrive/My Drive/ai_project/TFRecords-export/train/TFRecords-export_San-hee/Sejong.mp4#t=162.tfrecord', '/content/gdrive/My Drive/ai_project/TFRecords-export/train/TFRecords-export_San-hee/Sejong.mp4#t=163.tfrecord', '/content/gdrive/My Drive/ai_project/TFRecords-export/train/TFRecords-export_San-hee/Sejong.mp4#t=164.5.tfrecord', '/content/gdrive/My Drive/ai_project/TFRecords-export/train/TFRecords-export_San-hee/Sejong.mp4#t=181.5.tfrecord', '/content/gdrive/My Drive/ai_project/TFRecords-export/train/TFRecords-export_San-hee/Sejong.mp4#t=165.5.tfrecord', '/content/gdrive/My Drive/ai_project/TFRecords-export/train/TFRecords-export_San-hee/Sejong.mp4#t=181.tfrecord', '/content/gdrive/My Drive/ai_project/TFRecords-export/train/TFRecords-export_San-hee/Sejong.mp4#t=165.tfrecord', '/content/gdrive/My Drive/ai_project/TFRecords-export/train/TFRecords-export_San-hee/Sejong.mp4#t=166.tfrecord', '/content/gdrive/My Drive/ai_project/TFRecords-export/train/TFRecords-export_San-hee/Sejong.mp4#t=169.5.tfrecord', '/content/gdrive/My Drive/ai_project/TFRecords-export/train/TFRecords-export_San-hee/Sejong.mp4#t=169.866667.tfrecord', '/content/gdrive/My Drive/ai_project/TFRecords-export/train/TFRecords-export_San-hee/Sejong.mp4#t=182.5.tfrecord', '/content/gdrive/My Drive/ai_project/TFRecords-export/train/TFRecords-export_San-hee/Sejong.mp4#t=170.5.tfrecord', '/content/gdrive/My Drive/ai_project/TFRecords-export/train/TFRecords-export_San-hee/Sejong.mp4#t=170.tfrecord', '/content/gdrive/My Drive/ai_project/TFRecords-export/train/TFRecords-export_San-hee/Sejong.mp4#t=171.tfrecord', '/content/gdrive/My Drive/ai_project/TFRecords-export/train/TFRecords-export_San-hee/Sejong.mp4#t=182.tfrecord', '/content/gdrive/My Drive/ai_project/TFRecords-export/train/TFRecords-export_San-hee/Sejong.mp4#t=206.5.tfrecord', '/content/gdrive/My Drive/ai_project/TFRecords-export/train/TFRecords-export_San-hee/Sejong.mp4#t=207.5.tfrecord', '/content/gdrive/My Drive/ai_project/TFRecords-export/train/TFRecords-export_San-hee/Sejong.mp4#t=183.133333.tfrecord', '/content/gdrive/My Drive/ai_project/TFRecords-export/train/TFRecords-export_San-hee/Sejong.mp4#t=207.tfrecord', '/content/gdrive/My Drive/ai_project/TFRecords-export/train/TFRecords-export_San-hee/Sejong.mp4#t=208.5.tfrecord', '/content/gdrive/My Drive/ai_project/TFRecords-export/train/TFRecords-export_San-hee/Sejong.mp4#t=208.tfrecord', '/content/gdrive/My Drive/ai_project/TFRecords-export/train/TFRecords-export_San-hee/Sejong.mp4#t=183.5.tfrecord', '/content/gdrive/My Drive/ai_project/TFRecords-export/train/TFRecords-export_San-hee/Sejong.mp4#t=209.5.tfrecord', '/content/gdrive/My Drive/ai_project/TFRecords-export/train/TFRecords-export_San-hee/Sejong.mp4#t=209.tfrecord', '/content/gdrive/My Drive/ai_project/TFRecords-export/train/TFRecords-export_San-hee/Sejong.mp4#t=210.5.tfrecord', '/content/gdrive/My Drive/ai_project/TFRecords-export/train/TFRecords-export_San-hee/Sejong.mp4#t=183.tfrecord', '/content/gdrive/My Drive/ai_project/TFRecords-export/train/TFRecords-export_San-hee/Sejong.mp4#t=211.5.tfrecord', '/content/gdrive/My Drive/ai_project/TFRecords-export/train/TFRecords-export_San-hee/Sejong.mp4#t=211.tfrecord', '/content/gdrive/My Drive/ai_project/TFRecords-export/train/TFRecords-export_San-hee/Sejong.mp4#t=213.5.tfrecord', '/content/gdrive/My Drive/ai_project/TFRecords-export/train/TFRecords-export_San-hee/Sejong.mp4#t=214.5.tfrecord', '/content/gdrive/My Drive/ai_project/TFRecords-export/train/TFRecords-export_San-hee/Sejong.mp4#t=184.5.tfrecord', '/content/gdrive/My Drive/ai_project/TFRecords-export/train/TFRecords-export_San-hee/Sejong.mp4#t=215.5.tfrecord', '/content/gdrive/My Drive/ai_project/TFRecords-export/train/TFRecords-export_San-hee/Sejong.mp4#t=215.tfrecord', '/content/gdrive/My Drive/ai_project/TFRecords-export/train/TFRecords-export_San-hee/Sejong.mp4#t=184.tfrecord', '/content/gdrive/My Drive/ai_project/TFRecords-export/train/TFRecords-export_San-hee/Sejong.mp4#t=216.5.tfrecord', '/content/gdrive/My Drive/ai_project/TFRecords-export/train/TFRecords-export_San-hee/Sejong.mp4#t=216.tfrecord', '/content/gdrive/My Drive/ai_project/TFRecords-export/train/TFRecords-export_San-hee/Sejong.mp4#t=217.5.tfrecord', '/content/gdrive/My Drive/ai_project/TFRecords-export/train/TFRecords-export_San-hee/Sejong.mp4#t=217.tfrecord', '/content/gdrive/My Drive/ai_project/TFRecords-export/train/TFRecords-export_San-hee/Sejong.mp4#t=185.5.tfrecord', '/content/gdrive/My Drive/ai_project/TFRecords-export/train/TFRecords-export_San-hee/Sejong.mp4#t=218.5.tfrecord', '/content/gdrive/My Drive/ai_project/TFRecords-export/train/TFRecords-export_San-hee/Sejong.mp4#t=218.tfrecord', '/content/gdrive/My Drive/ai_project/TFRecords-export/train/TFRecords-export_San-hee/Sejong.mp4#t=219.5.tfrecord', '/content/gdrive/My Drive/ai_project/TFRecords-export/train/TFRecords-export_San-hee/Sejong.mp4#t=219.tfrecord', '/content/gdrive/My Drive/ai_project/TFRecords-export/train/TFRecords-export_San-hee/Sejong.mp4#t=185.tfrecord', '/content/gdrive/My Drive/ai_project/TFRecords-export/train/TFRecords-export_San-hee/Sejong.mp4#t=220.5.tfrecord', '/content/gdrive/My Drive/ai_project/TFRecords-export/train/TFRecords-export_San-hee/Sejong.mp4#t=220.tfrecord', '/content/gdrive/My Drive/ai_project/TFRecords-export/train/TFRecords-export_San-hee/Sejong.mp4#t=186.5.tfrecord', '/content/gdrive/My Drive/ai_project/TFRecords-export/train/TFRecords-export_San-hee/Sejong.mp4#t=221.5.tfrecord', '/content/gdrive/My Drive/ai_project/TFRecords-export/train/TFRecords-export_San-hee/Sejong.mp4#t=221.tfrecord', '/content/gdrive/My Drive/ai_project/TFRecords-export/train/TFRecords-export_San-hee/Sejong.mp4#t=222.5.tfrecord', '/content/gdrive/My Drive/ai_project/TFRecords-export/train/TFRecords-export_San-hee/Sejong.mp4#t=186.tfrecord', '/content/gdrive/My Drive/ai_project/TFRecords-export/train/TFRecords-export_San-hee/Sejong.mp4#t=222.8.tfrecord', '/content/gdrive/My Drive/ai_project/TFRecords-export/train/TFRecords-export_San-hee/Sejong.mp4#t=222.tfrecord', '/content/gdrive/My Drive/ai_project/TFRecords-export/train/TFRecords-export_San-hee/Sejong.mp4#t=223.5.tfrecord', '/content/gdrive/My Drive/ai_project/TFRecords-export/train/TFRecords-export_San-hee/Sejong.mp4#t=223.tfrecord', '/content/gdrive/My Drive/ai_project/TFRecords-export/train/TFRecords-export_San-hee/Sejong.mp4#t=187.5.tfrecord', '/content/gdrive/My Drive/ai_project/TFRecords-export/train/TFRecords-export_San-hee/Sejong.mp4#t=224.5.tfrecord', '/content/gdrive/My Drive/ai_project/TFRecords-export/train/TFRecords-export_San-hee/Sejong.mp4#t=224.tfrecord', '/content/gdrive/My Drive/ai_project/TFRecords-export/train/TFRecords-export_San-hee/Sejong.mp4#t=187.tfrecord', '/content/gdrive/My Drive/ai_project/TFRecords-export/train/TFRecords-export_San-hee/Sejong.mp4#t=225.5.tfrecord', '/content/gdrive/My Drive/ai_project/TFRecords-export/train/TFRecords-export_San-hee/Sejong.mp4#t=225.tfrecord', '/content/gdrive/My Drive/ai_project/TFRecords-export/train/TFRecords-export_San-hee/Sejong.mp4#t=226.tfrecord', '/content/gdrive/My Drive/ai_project/TFRecords-export/train/TFRecords-export_San-hee/Sejong.mp4#t=269.5.tfrecord', '/content/gdrive/My Drive/ai_project/TFRecords-export/train/TFRecords-export_San-hee/Sejong.mp4#t=188.5.tfrecord', '/content/gdrive/My Drive/ai_project/TFRecords-export/train/TFRecords-export_San-hee/Sejong.mp4#t=269.866667.tfrecord', '/content/gdrive/My Drive/ai_project/TFRecords-export/train/TFRecords-export_San-hee/Sejong.mp4#t=269.tfrecord', '/content/gdrive/My Drive/ai_project/TFRecords-export/train/TFRecords-export_San-hee/Sejong.mp4#t=271.tfrecord', '/content/gdrive/My Drive/ai_project/TFRecords-export/train/TFRecords-export_San-hee/Sejong.mp4#t=278.tfrecord', '/content/gdrive/My Drive/ai_project/TFRecords-export/train/TFRecords-export_San-hee/Sejong.mp4#t=189.5.tfrecord', '/content/gdrive/My Drive/ai_project/TFRecords-export/train/TFRecords-export_San-hee/Sejong.mp4#t=301.tfrecord', '/content/gdrive/My Drive/ai_project/TFRecords-export/train/TFRecords-export_San-hee/Sejong.mp4#t=305.5.tfrecord', '/content/gdrive/My Drive/ai_project/TFRecords-export/train/TFRecords-export_San-hee/Sejong.mp4#t=189.tfrecord', '/content/gdrive/My Drive/ai_project/TFRecords-export/train/TFRecords-export_San-hee/Sejong.mp4#t=333.5.tfrecord', '/content/gdrive/My Drive/ai_project/TFRecords-export/train/TFRecords-export_San-hee/Sejong.mp4#t=333.tfrecord', '/content/gdrive/My Drive/ai_project/TFRecords-export/train/TFRecords-export_San-hee/Sejong.mp4#t=355.tfrecord', '/content/gdrive/My Drive/ai_project/TFRecords-export/train/TFRecords-export_San-hee/Sejong.mp4#t=190.5.tfrecord', '/content/gdrive/My Drive/ai_project/TFRecords-export/train/TFRecords-export_San-hee/Sejong.mp4#t=90.466667.tfrecord', '/content/gdrive/My Drive/ai_project/TFRecords-export/train/TFRecords-export_San-hee/Sejong.mp4#t=190.tfrecord', '/content/gdrive/My Drive/ai_project/TFRecords-export/train/TFRecords-export_San-hee/Sejong.mp4#t=198.533333.tfrecord', '/content/gdrive/My Drive/ai_project/TFRecords-export/train/TFRecords-export_San-hee/Sejong.mp4#t=2.5.tfrecord', '/content/gdrive/My Drive/ai_project/TFRecords-export/train/TFRecords-export_San-hee/Sejong.mp4#t=201.5.tfrecord', '/content/gdrive/My Drive/ai_project/TFRecords-export/train/TFRecords-export_San-hee/Sejong.mp4#t=201.tfrecord', '/content/gdrive/My Drive/ai_project/TFRecords-export/train/TFRecords-export_San-hee/Sejong.mp4#t=202.5.tfrecord', '/content/gdrive/My Drive/ai_project/TFRecords-export/train/TFRecords-export_San-hee/Sejong.mp4#t=202.tfrecord', '/content/gdrive/My Drive/ai_project/TFRecords-export/train/TFRecords-export_San-hee/Sejong.mp4#t=203.5.tfrecord', '/content/gdrive/My Drive/ai_project/TFRecords-export/train/TFRecords-export_San-hee/Sejong.mp4#t=203.tfrecord', '/content/gdrive/My Drive/ai_project/TFRecords-export/train/TFRecords-export_San-hee/Sejong.mp4#t=204.5.tfrecord', '/content/gdrive/My Drive/ai_project/TFRecords-export/train/TFRecords-export_San-hee/Sejong.mp4#t=204.tfrecord', '/content/gdrive/My Drive/ai_project/TFRecords-export/train/TFRecords-export_San-hee/Sejong.mp4#t=205.5.tfrecord', '/content/gdrive/My Drive/ai_project/TFRecords-export/train/TFRecords-export_San-hee/Sejong.mp4#t=205.tfrecord', '/content/gdrive/My Drive/ai_project/TFRecords-export/train/TFRecords-export_San-hee/Sejong.mp4#t=206.tfrecord', '/content/gdrive/My Drive/ai_project/TFRecords-export/train/TFRecords-export_San-hee/Sejong.mp4#t=210.tfrecord', '/content/gdrive/My Drive/ai_project/TFRecords-export/train/TFRecords-export_San-hee/Sejong.mp4#t=212.5.tfrecord', '/content/gdrive/My Drive/ai_project/TFRecords-export/train/TFRecords-export_San-hee/Sejong.mp4#t=212.tfrecord', '/content/gdrive/My Drive/ai_project/TFRecords-export/train/TFRecords-export_San-hee/Sejong.mp4#t=213.tfrecord', '/content/gdrive/My Drive/ai_project/TFRecords-export/train/TFRecords-export_San-hee/Sejong.mp4#t=214.tfrecord', '/content/gdrive/My Drive/ai_project/TFRecords-export/train/TFRecords-export_San-hee/Sejong.mp4#t=226.5.tfrecord', '/content/gdrive/My Drive/ai_project/TFRecords-export/train/TFRecords-export_San-hee/Sejong.mp4#t=227.5.tfrecord', '/content/gdrive/My Drive/ai_project/TFRecords-export/train/TFRecords-export_San-hee/Sejong.mp4#t=227.tfrecord', '/content/gdrive/My Drive/ai_project/TFRecords-export/train/TFRecords-export_San-hee/Sejong.mp4#t=228.5.tfrecord', '/content/gdrive/My Drive/ai_project/TFRecords-export/train/TFRecords-export_San-hee/Sejong.mp4#t=228.tfrecord', '/content/gdrive/My Drive/ai_project/TFRecords-export/train/TFRecords-export_San-hee/Sejong.mp4#t=229.5.tfrecord', '/content/gdrive/My Drive/ai_project/TFRecords-export/train/TFRecords-export_San-hee/Sejong.mp4#t=229.tfrecord', '/content/gdrive/My Drive/ai_project/TFRecords-export/train/TFRecords-export_San-hee/Sejong.mp4#t=230.5.tfrecord', '/content/gdrive/My Drive/ai_project/TFRecords-export/train/TFRecords-export_San-hee/Sejong.mp4#t=230.tfrecord', '/content/gdrive/My Drive/ai_project/TFRecords-export/train/TFRecords-export_San-hee/Sejong.mp4#t=231.5.tfrecord', '/content/gdrive/My Drive/ai_project/TFRecords-export/train/TFRecords-export_San-hee/Sejong.mp4#t=231.tfrecord', '/content/gdrive/My Drive/ai_project/TFRecords-export/train/TFRecords-export_San-hee/Sejong.mp4#t=232.5.tfrecord', '/content/gdrive/My Drive/ai_project/TFRecords-export/train/TFRecords-export_San-hee/Sejong.mp4#t=232.tfrecord', '/content/gdrive/My Drive/ai_project/TFRecords-export/train/TFRecords-export_San-hee/Sejong.mp4#t=233.5.tfrecord', '/content/gdrive/My Drive/ai_project/TFRecords-export/train/TFRecords-export_San-hee/Sejong.mp4#t=233.tfrecord', '/content/gdrive/My Drive/ai_project/TFRecords-export/train/TFRecords-export_San-hee/Sejong.mp4#t=234.tfrecord', '/content/gdrive/My Drive/ai_project/TFRecords-export/train/TFRecords-export_San-hee/Sejong.mp4#t=235.5.tfrecord', '/content/gdrive/My Drive/ai_project/TFRecords-export/train/TFRecords-export_San-hee/Sejong.mp4#t=235.tfrecord', '/content/gdrive/My Drive/ai_project/TFRecords-export/train/TFRecords-export_San-hee/Sejong.mp4#t=236.5.tfrecord', '/content/gdrive/My Drive/ai_project/TFRecords-export/train/TFRecords-export_San-hee/Sejong.mp4#t=236.tfrecord', '/content/gdrive/My Drive/ai_project/TFRecords-export/train/TFRecords-export_San-hee/Sejong.mp4#t=237.5.tfrecord', '/content/gdrive/My Drive/ai_project/TFRecords-export/train/TFRecords-export_San-hee/Sejong.mp4#t=237.tfrecord', '/content/gdrive/My Drive/ai_project/TFRecords-export/train/TFRecords-export_San-hee/Sejong.mp4#t=238.5.tfrecord', '/content/gdrive/My Drive/ai_project/TFRecords-export/train/TFRecords-export_San-hee/Sejong.mp4#t=238.tfrecord', '/content/gdrive/My Drive/ai_project/TFRecords-export/train/TFRecords-export_San-hee/Sejong.mp4#t=239.5.tfrecord', '/content/gdrive/My Drive/ai_project/TFRecords-export/train/TFRecords-export_San-hee/Sejong.mp4#t=239.tfrecord', '/content/gdrive/My Drive/ai_project/TFRecords-export/train/TFRecords-export_San-hee/Sejong.mp4#t=240.5.tfrecord', '/content/gdrive/My Drive/ai_project/TFRecords-export/train/TFRecords-export_San-hee/Sejong.mp4#t=240.tfrecord', '/content/gdrive/My Drive/ai_project/TFRecords-export/train/TFRecords-export_San-hee/Sejong.mp4#t=241.5.tfrecord', '/content/gdrive/My Drive/ai_project/TFRecords-export/train/TFRecords-export_San-hee/Sejong.mp4#t=241.tfrecord', '/content/gdrive/My Drive/ai_project/TFRecords-export/train/TFRecords-export_San-hee/Sejong.mp4#t=242.5.tfrecord', '/content/gdrive/My Drive/ai_project/TFRecords-export/train/TFRecords-export_San-hee/Sejong.mp4#t=242.tfrecord', '/content/gdrive/My Drive/ai_project/TFRecords-export/train/TFRecords-export_San-hee/Sejong.mp4#t=243.5.tfrecord', '/content/gdrive/My Drive/ai_project/TFRecords-export/train/TFRecords-export_San-hee/Sejong.mp4#t=243.tfrecord', '/content/gdrive/My Drive/ai_project/TFRecords-export/train/TFRecords-export_San-hee/Sejong.mp4#t=244.5.tfrecord', '/content/gdrive/My Drive/ai_project/TFRecords-export/train/TFRecords-export_San-hee/Sejong.mp4#t=244.tfrecord', '/content/gdrive/My Drive/ai_project/TFRecords-export/train/TFRecords-export_San-hee/Sejong.mp4#t=245.5.tfrecord', '/content/gdrive/My Drive/ai_project/TFRecords-export/train/TFRecords-export_San-hee/Sejong.mp4#t=245.tfrecord', '/content/gdrive/My Drive/ai_project/TFRecords-export/train/TFRecords-export_San-hee/Sejong.mp4#t=246.tfrecord', '/content/gdrive/My Drive/ai_project/TFRecords-export/train/TFRecords-export_San-hee/Sejong.mp4#t=25.5.tfrecord', '/content/gdrive/My Drive/ai_project/TFRecords-export/train/TFRecords-export_San-hee/Sejong.mp4#t=250.5.tfrecord', '/content/gdrive/My Drive/ai_project/TFRecords-export/train/TFRecords-export_San-hee/Sejong.mp4#t=255.tfrecord', '/content/gdrive/My Drive/ai_project/TFRecords-export/train/TFRecords-export_San-hee/Sejong.mp4#t=257.5.tfrecord', '/content/gdrive/My Drive/ai_project/TFRecords-export/train/TFRecords-export_San-hee/Sejong.mp4#t=257.tfrecord', '/content/gdrive/My Drive/ai_project/TFRecords-export/train/TFRecords-export_San-hee/Sejong.mp4#t=258.5.tfrecord', '/content/gdrive/My Drive/ai_project/TFRecords-export/train/TFRecords-export_San-hee/Sejong.mp4#t=258.tfrecord', '/content/gdrive/My Drive/ai_project/TFRecords-export/train/TFRecords-export_San-hee/Sejong.mp4#t=259.5.tfrecord', '/content/gdrive/My Drive/ai_project/TFRecords-export/train/TFRecords-export_San-hee/Sejong.mp4#t=259.tfrecord', '/content/gdrive/My Drive/ai_project/TFRecords-export/train/TFRecords-export_San-hee/Sejong.mp4#t=260.5.tfrecord', '/content/gdrive/My Drive/ai_project/TFRecords-export/train/TFRecords-export_San-hee/Sejong.mp4#t=260.tfrecord', '/content/gdrive/My Drive/ai_project/TFRecords-export/train/TFRecords-export_San-hee/Sejong.mp4#t=261.5.tfrecord', '/content/gdrive/My Drive/ai_project/TFRecords-export/train/TFRecords-export_San-hee/Sejong.mp4#t=261.tfrecord', '/content/gdrive/My Drive/ai_project/TFRecords-export/train/TFRecords-export_San-hee/Sejong.mp4#t=262.5.tfrecord', '/content/gdrive/My Drive/ai_project/TFRecords-export/train/TFRecords-export_San-hee/Sejong.mp4#t=262.tfrecord', '/content/gdrive/My Drive/ai_project/TFRecords-export/train/TFRecords-export_San-hee/Sejong.mp4#t=263.5.tfrecord', '/content/gdrive/My Drive/ai_project/TFRecords-export/train/TFRecords-export_San-hee/Sejong.mp4#t=263.tfrecord', '/content/gdrive/My Drive/ai_project/TFRecords-export/train/TFRecords-export_San-hee/Sejong.mp4#t=264.5.tfrecord', '/content/gdrive/My Drive/ai_project/TFRecords-export/train/TFRecords-export_San-hee/Sejong.mp4#t=264.tfrecord', '/content/gdrive/My Drive/ai_project/TFRecords-export/train/TFRecords-export_San-hee/Sejong.mp4#t=265.5.tfrecord', '/content/gdrive/My Drive/ai_project/TFRecords-export/train/TFRecords-export_San-hee/Sejong.mp4#t=265.6.tfrecord', '/content/gdrive/My Drive/ai_project/TFRecords-export/train/TFRecords-export_San-hee/Sejong.mp4#t=265.tfrecord', '/content/gdrive/My Drive/ai_project/TFRecords-export/train/TFRecords-export_San-hee/Sejong.mp4#t=266.5.tfrecord', '/content/gdrive/My Drive/ai_project/TFRecords-export/train/TFRecords-export_San-hee/Sejong.mp4#t=266.tfrecord', '/content/gdrive/My Drive/ai_project/TFRecords-export/train/TFRecords-export_San-hee/Sejong.mp4#t=267.5.tfrecord', '/content/gdrive/My Drive/ai_project/TFRecords-export/train/TFRecords-export_San-hee/Sejong.mp4#t=267.tfrecord', '/content/gdrive/My Drive/ai_project/TFRecords-export/train/TFRecords-export_San-hee/Sejong.mp4#t=268.5.tfrecord', '/content/gdrive/My Drive/ai_project/TFRecords-export/train/TFRecords-export_San-hee/Sejong.mp4#t=268.tfrecord', '/content/gdrive/My Drive/ai_project/TFRecords-export/train/TFRecords-export_San-hee/Sejong.mp4#t=270.5.tfrecord', '/content/gdrive/My Drive/ai_project/TFRecords-export/train/TFRecords-export_San-hee/Sejong.mp4#t=270.tfrecord', '/content/gdrive/My Drive/ai_project/TFRecords-export/train/TFRecords-export_San-hee/Sejong.mp4#t=271.5.tfrecord', '/content/gdrive/My Drive/ai_project/TFRecords-export/train/TFRecords-export_San-hee/Sejong.mp4#t=272.5.tfrecord', '/content/gdrive/My Drive/ai_project/TFRecords-export/train/TFRecords-export_San-hee/Sejong.mp4#t=272.tfrecord', '/content/gdrive/My Drive/ai_project/TFRecords-export/train/TFRecords-export_San-hee/Sejong.mp4#t=273.5.tfrecord', '/content/gdrive/My Drive/ai_project/TFRecords-export/train/TFRecords-export_San-hee/Sejong.mp4#t=273.tfrecord', '/content/gdrive/My Drive/ai_project/TFRecords-export/train/TFRecords-export_San-hee/Sejong.mp4#t=274.5.tfrecord', '/content/gdrive/My Drive/ai_project/TFRecords-export/train/TFRecords-export_San-hee/Sejong.mp4#t=274.tfrecord', '/content/gdrive/My Drive/ai_project/TFRecords-export/train/TFRecords-export_San-hee/Sejong.mp4#t=275.5.tfrecord', '/content/gdrive/My Drive/ai_project/TFRecords-export/train/TFRecords-export_San-hee/Sejong.mp4#t=275.tfrecord', '/content/gdrive/My Drive/ai_project/TFRecords-export/train/TFRecords-export_San-hee/Sejong.mp4#t=276.5.tfrecord', '/content/gdrive/My Drive/ai_project/TFRecords-export/train/TFRecords-export_San-hee/Sejong.mp4#t=276.tfrecord', '/content/gdrive/My Drive/ai_project/TFRecords-export/train/TFRecords-export_San-hee/Sejong.mp4#t=277.5.tfrecord', '/content/gdrive/My Drive/ai_project/TFRecords-export/train/TFRecords-export_San-hee/Sejong.mp4#t=277.tfrecord', '/content/gdrive/My Drive/ai_project/TFRecords-export/train/TFRecords-export_San-hee/Sejong.mp4#t=278.5.tfrecord', '/content/gdrive/My Drive/ai_project/TFRecords-export/train/TFRecords-export_San-hee/Sejong.mp4#t=279.5.tfrecord', '/content/gdrive/My Drive/ai_project/TFRecords-export/train/TFRecords-export_San-hee/Sejong.mp4#t=279.tfrecord', '/content/gdrive/My Drive/ai_project/TFRecords-export/train/TFRecords-export_San-hee/Sejong.mp4#t=280.5.tfrecord', '/content/gdrive/My Drive/ai_project/TFRecords-export/train/TFRecords-export_San-hee/Sejong.mp4#t=280.tfrecord', '/content/gdrive/My Drive/ai_project/TFRecords-export/train/TFRecords-export_San-hee/Sejong.mp4#t=281.5.tfrecord', '/content/gdrive/My Drive/ai_project/TFRecords-export/train/TFRecords-export_San-hee/Sejong.mp4#t=281.tfrecord', '/content/gdrive/My Drive/ai_project/TFRecords-export/train/TFRecords-export_San-hee/Sejong.mp4#t=282.5.tfrecord', '/content/gdrive/My Drive/ai_project/TFRecords-export/train/TFRecords-export_San-hee/Sejong.mp4#t=282.tfrecord', '/content/gdrive/My Drive/ai_project/TFRecords-export/train/TFRecords-export_San-hee/Sejong.mp4#t=283.5.tfrecord', '/content/gdrive/My Drive/ai_project/TFRecords-export/train/TFRecords-export_San-hee/Sejong.mp4#t=283.tfrecord', '/content/gdrive/My Drive/ai_project/TFRecords-export/train/TFRecords-export_San-hee/Sejong.mp4#t=284.2.tfrecord', '/content/gdrive/My Drive/ai_project/TFRecords-export/train/TFRecords-export_San-hee/Sejong.mp4#t=284.5.tfrecord', '/content/gdrive/My Drive/ai_project/TFRecords-export/train/TFRecords-export_San-hee/Sejong.mp4#t=284.tfrecord', '/content/gdrive/My Drive/ai_project/TFRecords-export/train/TFRecords-export_San-hee/Sejong.mp4#t=285.5.tfrecord', '/content/gdrive/My Drive/ai_project/TFRecords-export/train/TFRecords-export_San-hee/Sejong.mp4#t=285.tfrecord', '/content/gdrive/My Drive/ai_project/TFRecords-export/train/TFRecords-export_San-hee/Sejong.mp4#t=286.5.tfrecord', '/content/gdrive/My Drive/ai_project/TFRecords-export/train/TFRecords-export_San-hee/Sejong.mp4#t=286.tfrecord', '/content/gdrive/My Drive/ai_project/TFRecords-export/train/TFRecords-export_San-hee/Sejong.mp4#t=287.4.tfrecord', '/content/gdrive/My Drive/ai_project/TFRecords-export/train/TFRecords-export_San-hee/Sejong.mp4#t=287.5.tfrecord', '/content/gdrive/My Drive/ai_project/TFRecords-export/train/TFRecords-export_San-hee/Sejong.mp4#t=287.tfrecord', '/content/gdrive/My Drive/ai_project/TFRecords-export/train/TFRecords-export_San-hee/Sejong.mp4#t=288.5.tfrecord', '/content/gdrive/My Drive/ai_project/TFRecords-export/train/TFRecords-export_San-hee/Sejong.mp4#t=288.tfrecord', '/content/gdrive/My Drive/ai_project/TFRecords-export/train/TFRecords-export_San-hee/Sejong.mp4#t=289.5.tfrecord', '/content/gdrive/My Drive/ai_project/TFRecords-export/train/TFRecords-export_San-hee/Sejong.mp4#t=289.tfrecord', '/content/gdrive/My Drive/ai_project/TFRecords-export/train/TFRecords-export_San-hee/Sejong.mp4#t=290.5.tfrecord', '/content/gdrive/My Drive/ai_project/TFRecords-export/train/TFRecords-export_San-hee/Sejong.mp4#t=290.tfrecord', '/content/gdrive/My Drive/ai_project/TFRecords-export/train/TFRecords-export_San-hee/Sejong.mp4#t=291.5.tfrecord', '/content/gdrive/My Drive/ai_project/TFRecords-export/train/TFRecords-export_San-hee/Sejong.mp4#t=291.tfrecord', '/content/gdrive/My Drive/ai_project/TFRecords-export/train/TFRecords-export_San-hee/Sejong.mp4#t=292.5.tfrecord', '/content/gdrive/My Drive/ai_project/TFRecords-export/train/TFRecords-export_San-hee/Sejong.mp4#t=292.tfrecord', '/content/gdrive/My Drive/ai_project/TFRecords-export/train/TFRecords-export_San-hee/Sejong.mp4#t=293.5.tfrecord', '/content/gdrive/My Drive/ai_project/TFRecords-export/train/TFRecords-export_San-hee/Sejong.mp4#t=293.tfrecord', '/content/gdrive/My Drive/ai_project/TFRecords-export/train/TFRecords-export_San-hee/Sejong.mp4#t=294.5.tfrecord', '/content/gdrive/My Drive/ai_project/TFRecords-export/train/TFRecords-export_San-hee/Sejong.mp4#t=294.tfrecord', '/content/gdrive/My Drive/ai_project/TFRecords-export/train/TFRecords-export_San-hee/Sejong.mp4#t=295.5.tfrecord', '/content/gdrive/My Drive/ai_project/TFRecords-export/train/TFRecords-export_San-hee/Sejong.mp4#t=295.tfrecord', '/content/gdrive/My Drive/ai_project/TFRecords-export/train/TFRecords-export_San-hee/Sejong.mp4#t=296.5.tfrecord', '/content/gdrive/My Drive/ai_project/TFRecords-export/train/TFRecords-export_San-hee/Sejong.mp4#t=296.tfrecord', '/content/gdrive/My Drive/ai_project/TFRecords-export/train/TFRecords-export_San-hee/Sejong.mp4#t=297.5.tfrecord', '/content/gdrive/My Drive/ai_project/TFRecords-export/train/TFRecords-export_San-hee/Sejong.mp4#t=297.tfrecord', '/content/gdrive/My Drive/ai_project/TFRecords-export/train/TFRecords-export_San-hee/Sejong.mp4#t=298.5.tfrecord', '/content/gdrive/My Drive/ai_project/TFRecords-export/train/TFRecords-export_San-hee/Sejong.mp4#t=298.tfrecord', '/content/gdrive/My Drive/ai_project/TFRecords-export/train/TFRecords-export_San-hee/Sejong.mp4#t=299.5.tfrecord', '/content/gdrive/My Drive/ai_project/TFRecords-export/train/TFRecords-export_San-hee/Sejong.mp4#t=299.tfrecord', '/content/gdrive/My Drive/ai_project/TFRecords-export/train/TFRecords-export_San-hee/Sejong.mp4#t=3.5.tfrecord', '/content/gdrive/My Drive/ai_project/TFRecords-export/train/TFRecords-export_San-hee/Sejong.mp4#t=300.5.tfrecord', '/content/gdrive/My Drive/ai_project/TFRecords-export/train/TFRecords-export_San-hee/Sejong.mp4#t=300.tfrecord', '/content/gdrive/My Drive/ai_project/TFRecords-export/train/TFRecords-export_San-hee/Sejong.mp4#t=301.5.tfrecord', '/content/gdrive/My Drive/ai_project/TFRecords-export/train/TFRecords-export_San-hee/Sejong.mp4#t=302.5.tfrecord', '/content/gdrive/My Drive/ai_project/TFRecords-export/train/TFRecords-export_San-hee/Sejong.mp4#t=302.tfrecord', '/content/gdrive/My Drive/ai_project/TFRecords-export/train/TFRecords-export_San-hee/Sejong.mp4#t=303.5.tfrecord', '/content/gdrive/My Drive/ai_project/TFRecords-export/train/TFRecords-export_San-hee/Sejong.mp4#t=303.tfrecord', '/content/gdrive/My Drive/ai_project/TFRecords-export/train/TFRecords-export_San-hee/Sejong.mp4#t=304.5.tfrecord', '/content/gdrive/My Drive/ai_project/TFRecords-export/train/TFRecords-export_San-hee/Sejong.mp4#t=304.tfrecord', '/content/gdrive/My Drive/ai_project/TFRecords-export/train/TFRecords-export_San-hee/Sejong.mp4#t=305.tfrecord', '/content/gdrive/My Drive/ai_project/TFRecords-export/train/TFRecords-export_San-hee/Sejong.mp4#t=306.5.tfrecord', '/content/gdrive/My Drive/ai_project/TFRecords-export/train/TFRecords-export_San-hee/Sejong.mp4#t=306.tfrecord', '/content/gdrive/My Drive/ai_project/TFRecords-export/train/TFRecords-export_San-hee/Sejong.mp4#t=307.5.tfrecord', '/content/gdrive/My Drive/ai_project/TFRecords-export/train/TFRecords-export_San-hee/Sejong.mp4#t=307.tfrecord', '/content/gdrive/My Drive/ai_project/TFRecords-export/train/TFRecords-export_San-hee/Sejong.mp4#t=308.5.tfrecord', '/content/gdrive/My Drive/ai_project/TFRecords-export/train/TFRecords-export_San-hee/Sejong.mp4#t=308.tfrecord', '/content/gdrive/My Drive/ai_project/TFRecords-export/train/TFRecords-export_San-hee/Sejong.mp4#t=309.5.tfrecord', '/content/gdrive/My Drive/ai_project/TFRecords-export/train/TFRecords-export_San-hee/Sejong.mp4#t=309.tfrecord', '/content/gdrive/My Drive/ai_project/TFRecords-export/train/TFRecords-export_San-hee/Sejong.mp4#t=310.5.tfrecord', '/content/gdrive/My Drive/ai_project/TFRecords-export/train/TFRecords-export_San-hee/Sejong.mp4#t=310.tfrecord', '/content/gdrive/My Drive/ai_project/TFRecords-export/train/TFRecords-export_San-hee/Sejong.mp4#t=311.5.tfrecord', '/content/gdrive/My Drive/ai_project/TFRecords-export/train/TFRecords-export_San-hee/Sejong.mp4#t=311.tfrecord', '/content/gdrive/My Drive/ai_project/TFRecords-export/train/TFRecords-export_San-hee/Sejong.mp4#t=312.5.tfrecord', '/content/gdrive/My Drive/ai_project/TFRecords-export/train/TFRecords-export_San-hee/Sejong.mp4#t=312.tfrecord', '/content/gdrive/My Drive/ai_project/TFRecords-export/train/TFRecords-export_San-hee/Sejong.mp4#t=313.5.tfrecord', '/content/gdrive/My Drive/ai_project/TFRecords-export/train/TFRecords-export_San-hee/Sejong.mp4#t=313.tfrecord', '/content/gdrive/My Drive/ai_project/TFRecords-export/train/TFRecords-export_San-hee/Sejong.mp4#t=314.5.tfrecord', '/content/gdrive/My Drive/ai_project/TFRecords-export/train/TFRecords-export_San-hee/Sejong.mp4#t=314.tfrecord', '/content/gdrive/My Drive/ai_project/TFRecords-export/train/TFRecords-export_San-hee/Sejong.mp4#t=315.5.tfrecord', '/content/gdrive/My Drive/ai_project/TFRecords-export/train/TFRecords-export_San-hee/Sejong.mp4#t=315.tfrecord', '/content/gdrive/My Drive/ai_project/TFRecords-export/train/TFRecords-export_San-hee/Sejong.mp4#t=316.5.tfrecord', '/content/gdrive/My Drive/ai_project/TFRecords-export/train/TFRecords-export_San-hee/Sejong.mp4#t=316.tfrecord', '/content/gdrive/My Drive/ai_project/TFRecords-export/train/TFRecords-export_San-hee/Sejong.mp4#t=317.5.tfrecord', '/content/gdrive/My Drive/ai_project/TFRecords-export/train/TFRecords-export_San-hee/Sejong.mp4#t=317.tfrecord', '/content/gdrive/My Drive/ai_project/TFRecords-export/train/TFRecords-export_San-hee/Sejong.mp4#t=318.5.tfrecord', '/content/gdrive/My Drive/ai_project/TFRecords-export/train/TFRecords-export_San-hee/Sejong.mp4#t=318.tfrecord', '/content/gdrive/My Drive/ai_project/TFRecords-export/train/TFRecords-export_San-hee/Sejong.mp4#t=319.5.tfrecord', '/content/gdrive/My Drive/ai_project/TFRecords-export/train/TFRecords-export_San-hee/Sejong.mp4#t=319.tfrecord', '/content/gdrive/My Drive/ai_project/TFRecords-export/train/TFRecords-export_San-hee/Sejong.mp4#t=320.5.tfrecord', '/content/gdrive/My Drive/ai_project/TFRecords-export/train/TFRecords-export_San-hee/Sejong.mp4#t=320.tfrecord', '/content/gdrive/My Drive/ai_project/TFRecords-export/train/TFRecords-export_San-hee/Sejong.mp4#t=321.5.tfrecord', '/content/gdrive/My Drive/ai_project/TFRecords-export/train/TFRecords-export_San-hee/Sejong.mp4#t=321.tfrecord', '/content/gdrive/My Drive/ai_project/TFRecords-export/train/TFRecords-export_San-hee/Sejong.mp4#t=322.5.tfrecord', '/content/gdrive/My Drive/ai_project/TFRecords-export/train/TFRecords-export_San-hee/Sejong.mp4#t=322.tfrecord', '/content/gdrive/My Drive/ai_project/TFRecords-export/train/TFRecords-export_San-hee/Sejong.mp4#t=323.5.tfrecord', '/content/gdrive/My Drive/ai_project/TFRecords-export/train/TFRecords-export_San-hee/Sejong.mp4#t=323.tfrecord', '/content/gdrive/My Drive/ai_project/TFRecords-export/train/TFRecords-export_San-hee/Sejong.mp4#t=324.5.tfrecord', '/content/gdrive/My Drive/ai_project/TFRecords-export/train/TFRecords-export_San-hee/Sejong.mp4#t=324.tfrecord', '/content/gdrive/My Drive/ai_project/TFRecords-export/train/TFRecords-export_San-hee/Sejong.mp4#t=325.5.tfrecord', '/content/gdrive/My Drive/ai_project/TFRecords-export/train/TFRecords-export_San-hee/Sejong.mp4#t=325.tfrecord', '/content/gdrive/My Drive/ai_project/TFRecords-export/train/TFRecords-export_San-hee/Sejong.mp4#t=326.5.tfrecord', '/content/gdrive/My Drive/ai_project/TFRecords-export/train/TFRecords-export_San-hee/Sejong.mp4#t=326.tfrecord', '/content/gdrive/My Drive/ai_project/TFRecords-export/train/TFRecords-export_San-hee/Sejong.mp4#t=327.5.tfrecord', '/content/gdrive/My Drive/ai_project/TFRecords-export/train/TFRecords-export_San-hee/Sejong.mp4#t=327.tfrecord', '/content/gdrive/My Drive/ai_project/TFRecords-export/train/TFRecords-export_San-hee/Sejong.mp4#t=328.5.tfrecord', '/content/gdrive/My Drive/ai_project/TFRecords-export/train/TFRecords-export_San-hee/Sejong.mp4#t=328.tfrecord', '/content/gdrive/My Drive/ai_project/TFRecords-export/train/TFRecords-export_San-hee/Sejong.mp4#t=329.5.tfrecord', '/content/gdrive/My Drive/ai_project/TFRecords-export/train/TFRecords-export_San-hee/Sejong.mp4#t=329.tfrecord', '/content/gdrive/My Drive/ai_project/TFRecords-export/train/TFRecords-export_San-hee/Sejong.mp4#t=330.5.tfrecord', '/content/gdrive/My Drive/ai_project/TFRecords-export/train/TFRecords-export_San-hee/Sejong.mp4#t=330.tfrecord', '/content/gdrive/My Drive/ai_project/TFRecords-export/train/TFRecords-export_San-hee/Sejong.mp4#t=331.5.tfrecord', '/content/gdrive/My Drive/ai_project/TFRecords-export/train/TFRecords-export_San-hee/Sejong.mp4#t=331.tfrecord', '/content/gdrive/My Drive/ai_project/TFRecords-export/train/TFRecords-export_San-hee/Sejong.mp4#t=332.5.tfrecord', '/content/gdrive/My Drive/ai_project/TFRecords-export/train/TFRecords-export_San-hee/Sejong.mp4#t=332.tfrecord', '/content/gdrive/My Drive/ai_project/TFRecords-export/train/TFRecords-export_San-hee/Sejong.mp4#t=334.5.tfrecord', '/content/gdrive/My Drive/ai_project/TFRecords-export/train/TFRecords-export_San-hee/Sejong.mp4#t=334.tfrecord', '/content/gdrive/My Drive/ai_project/TFRecords-export/train/TFRecords-export_San-hee/Sejong.mp4#t=335.5.tfrecord', '/content/gdrive/My Drive/ai_project/TFRecords-export/train/TFRecords-export_San-hee/Sejong.mp4#t=335.tfrecord', '/content/gdrive/My Drive/ai_project/TFRecords-export/train/TFRecords-export_San-hee/Sejong.mp4#t=336.5.tfrecord', '/content/gdrive/My Drive/ai_project/TFRecords-export/train/TFRecords-export_San-hee/Sejong.mp4#t=336.tfrecord', '/content/gdrive/My Drive/ai_project/TFRecords-export/train/TFRecords-export_San-hee/Sejong.mp4#t=337.5.tfrecord', '/content/gdrive/My Drive/ai_project/TFRecords-export/train/TFRecords-export_San-hee/Sejong.mp4#t=337.tfrecord', '/content/gdrive/My Drive/ai_project/TFRecords-export/train/TFRecords-export_San-hee/Sejong.mp4#t=338.5.tfrecord', '/content/gdrive/My Drive/ai_project/TFRecords-export/train/TFRecords-export_San-hee/Sejong.mp4#t=338.tfrecord', '/content/gdrive/My Drive/ai_project/TFRecords-export/train/TFRecords-export_San-hee/Sejong.mp4#t=339.5.tfrecord', '/content/gdrive/My Drive/ai_project/TFRecords-export/train/TFRecords-export_San-hee/Sejong.mp4#t=339.tfrecord', '/content/gdrive/My Drive/ai_project/TFRecords-export/train/TFRecords-export_San-hee/Sejong.mp4#t=340.5.tfrecord', '/content/gdrive/My Drive/ai_project/TFRecords-export/train/TFRecords-export_San-hee/Sejong.mp4#t=340.tfrecord', '/content/gdrive/My Drive/ai_project/TFRecords-export/train/TFRecords-export_San-hee/Sejong.mp4#t=341.5.tfrecord', '/content/gdrive/My Drive/ai_project/TFRecords-export/train/TFRecords-export_San-hee/Sejong.mp4#t=341.tfrecord', '/content/gdrive/My Drive/ai_project/TFRecords-export/train/TFRecords-export_San-hee/Sejong.mp4#t=342.5.tfrecord', '/content/gdrive/My Drive/ai_project/TFRecords-export/train/TFRecords-export_San-hee/Sejong.mp4#t=342.tfrecord', '/content/gdrive/My Drive/ai_project/TFRecords-export/train/TFRecords-export_San-hee/Sejong.mp4#t=343.5.tfrecord', '/content/gdrive/My Drive/ai_project/TFRecords-export/train/TFRecords-export_San-hee/Sejong.mp4#t=343.tfrecord', '/content/gdrive/My Drive/ai_project/TFRecords-export/train/TFRecords-export_San-hee/Sejong.mp4#t=344.5.tfrecord', '/content/gdrive/My Drive/ai_project/TFRecords-export/train/TFRecords-export_San-hee/Sejong.mp4#t=344.tfrecord', '/content/gdrive/My Drive/ai_project/TFRecords-export/train/TFRecords-export_San-hee/Sejong.mp4#t=345.5.tfrecord', '/content/gdrive/My Drive/ai_project/TFRecords-export/train/TFRecords-export_San-hee/Sejong.mp4#t=345.tfrecord', '/content/gdrive/My Drive/ai_project/TFRecords-export/train/TFRecords-export_San-hee/Sejong.mp4#t=346.5.tfrecord', '/content/gdrive/My Drive/ai_project/TFRecords-export/train/TFRecords-export_San-hee/Sejong.mp4#t=346.tfrecord', '/content/gdrive/My Drive/ai_project/TFRecords-export/train/TFRecords-export_San-hee/Sejong.mp4#t=347.5.tfrecord', '/content/gdrive/My Drive/ai_project/TFRecords-export/train/TFRecords-export_San-hee/Sejong.mp4#t=347.tfrecord', '/content/gdrive/My Drive/ai_project/TFRecords-export/train/TFRecords-export_San-hee/Sejong.mp4#t=348.5.tfrecord', '/content/gdrive/My Drive/ai_project/TFRecords-export/train/TFRecords-export_San-hee/Sejong.mp4#t=348.tfrecord', '/content/gdrive/My Drive/ai_project/TFRecords-export/train/TFRecords-export_San-hee/Sejong.mp4#t=349.5.tfrecord', '/content/gdrive/My Drive/ai_project/TFRecords-export/train/TFRecords-export_San-hee/Sejong.mp4#t=349.tfrecord', '/content/gdrive/My Drive/ai_project/TFRecords-export/train/TFRecords-export_San-hee/Sejong.mp4#t=350.5.tfrecord', '/content/gdrive/My Drive/ai_project/TFRecords-export/train/TFRecords-export_San-hee/Sejong.mp4#t=350.tfrecord', '/content/gdrive/My Drive/ai_project/TFRecords-export/train/TFRecords-export_San-hee/Sejong.mp4#t=351.5.tfrecord', '/content/gdrive/My Drive/ai_project/TFRecords-export/train/TFRecords-export_San-hee/Sejong.mp4#t=351.tfrecord', '/content/gdrive/My Drive/ai_project/TFRecords-export/train/TFRecords-export_San-hee/Sejong.mp4#t=352.5.tfrecord', '/content/gdrive/My Drive/ai_project/TFRecords-export/train/TFRecords-export_San-hee/Sejong.mp4#t=352.tfrecord', '/content/gdrive/My Drive/ai_project/TFRecords-export/train/TFRecords-export_San-hee/Sejong.mp4#t=353.5.tfrecord', '/content/gdrive/My Drive/ai_project/TFRecords-export/train/TFRecords-export_San-hee/Sejong.mp4#t=353.tfrecord', '/content/gdrive/My Drive/ai_project/TFRecords-export/train/TFRecords-export_San-hee/Sejong.mp4#t=354.5.tfrecord', '/content/gdrive/My Drive/ai_project/TFRecords-export/train/TFRecords-export_San-hee/Sejong.mp4#t=354.tfrecord', '/content/gdrive/My Drive/ai_project/TFRecords-export/train/TFRecords-export_San-hee/Sejong.mp4#t=355.5.tfrecord', '/content/gdrive/My Drive/ai_project/TFRecords-export/train/TFRecords-export_San-hee/Sejong.mp4#t=356.5.tfrecord', '/content/gdrive/My Drive/ai_project/TFRecords-export/train/TFRecords-export_San-hee/Sejong.mp4#t=356.tfrecord', '/content/gdrive/My Drive/ai_project/TFRecords-export/train/TFRecords-export_San-hee/Sejong.mp4#t=357.5.tfrecord', '/content/gdrive/My Drive/ai_project/TFRecords-export/train/TFRecords-export_San-hee/Sejong.mp4#t=357.tfrecord', '/content/gdrive/My Drive/ai_project/TFRecords-export/train/TFRecords-export_San-hee/Sejong.mp4#t=358.5.tfrecord', '/content/gdrive/My Drive/ai_project/TFRecords-export/train/TFRecords-export_San-hee/Sejong.mp4#t=358.tfrecord', '/content/gdrive/My Drive/ai_project/TFRecords-export/train/TFRecords-export_San-hee/Sejong.mp4#t=359.5.tfrecord', '/content/gdrive/My Drive/ai_project/TFRecords-export/train/TFRecords-export_San-hee/Sejong.mp4#t=359.tfrecord', '/content/gdrive/My Drive/ai_project/TFRecords-export/train/TFRecords-export_San-hee/Sejong.mp4#t=360.tfrecord', '/content/gdrive/My Drive/ai_project/TFRecords-export/train/TFRecords-export_San-hee/Sejong.mp4#t=379.5.tfrecord', '/content/gdrive/My Drive/ai_project/TFRecords-export/train/TFRecords-export_San-hee/Sejong.mp4#t=6.933333.tfrecord', '/content/gdrive/My Drive/ai_project/TFRecords-export/train/TFRecords-export_San-hee/Sejong.mp4#t=76.6.tfrecord']\n",
            "  }\n",
            "  label_map_path: \"/content/gdrive/My Drive/ai_project/TFRecords-export/train/label_map.pbtxt\"\n",
            "}\n",
            "\n",
            "eval_config: {\n",
            "  num_examples: 8000\n",
            "  # Note: The below line limits the evaluation process to 10 evaluations.\n",
            "  # Remove the below line to evaluate indefinitely.\n",
            "  max_evals: 10\n",
            "}\n",
            "\n",
            "eval_input_reader: {\n",
            "  tf_record_input_reader {\n",
            "    input_path: ['/content/gdrive/My Drive/ai_project/TFRecords-export/dummy/Sejong.mp4#t=101.533333.tfrecord', '/content/gdrive/My Drive/ai_project/TFRecords-export/dummy/Sejong.mp4#t=0.066667.tfrecord', '/content/gdrive/My Drive/ai_project/TFRecords-export/dummy/Sejong.mp4#t=101.tfrecord', '/content/gdrive/My Drive/ai_project/TFRecords-export/dummy/Sejong.mp4#t=105.333333.tfrecord', '/content/gdrive/My Drive/ai_project/TFRecords-export/dummy/Sejong.mp4#t=0.133333.tfrecord', '/content/gdrive/My Drive/ai_project/TFRecords-export/dummy/Sejong.mp4#t=105.8.tfrecord', '/content/gdrive/My Drive/ai_project/TFRecords-export/dummy/Sejong.mp4#t=106.2.tfrecord', '/content/gdrive/My Drive/ai_project/TFRecords-export/dummy/Sejong.mp4#t=106.466667.tfrecord', '/content/gdrive/My Drive/ai_project/TFRecords-export/dummy/Sejong.mp4#t=0.2.tfrecord', '/content/gdrive/My Drive/ai_project/TFRecords-export/dummy/Sejong.mp4#t=107.2.tfrecord', '/content/gdrive/My Drive/ai_project/TFRecords-export/dummy/Sejong.mp4#t=108.6.tfrecord', '/content/gdrive/My Drive/ai_project/TFRecords-export/dummy/Sejong.mp4#t=0.266667.tfrecord', '/content/gdrive/My Drive/ai_project/TFRecords-export/dummy/Sejong.mp4#t=110.6.tfrecord', '/content/gdrive/My Drive/ai_project/TFRecords-export/dummy/Sejong.mp4#t=127.2.tfrecord', '/content/gdrive/My Drive/ai_project/TFRecords-export/dummy/Sejong.mp4#t=0.333333.tfrecord', '/content/gdrive/My Drive/ai_project/TFRecords-export/dummy/Sejong.mp4#t=128.4.tfrecord', '/content/gdrive/My Drive/ai_project/TFRecords-export/dummy/Sejong.mp4#t=131.266667.tfrecord', '/content/gdrive/My Drive/ai_project/TFRecords-export/dummy/Sejong.mp4#t=0.4.tfrecord', '/content/gdrive/My Drive/ai_project/TFRecords-export/dummy/Sejong.mp4#t=135.4.tfrecord', '/content/gdrive/My Drive/ai_project/TFRecords-export/dummy/Sejong.mp4#t=136.266667.tfrecord', '/content/gdrive/My Drive/ai_project/TFRecords-export/dummy/Sejong.mp4#t=0.466667.tfrecord', '/content/gdrive/My Drive/ai_project/TFRecords-export/dummy/Sejong.mp4#t=138.466667.tfrecord', '/content/gdrive/My Drive/ai_project/TFRecords-export/dummy/Sejong.mp4#t=139.533333.tfrecord', '/content/gdrive/My Drive/ai_project/TFRecords-export/dummy/Sejong.mp4#t=0.5.tfrecord', '/content/gdrive/My Drive/ai_project/TFRecords-export/dummy/Sejong.mp4#t=165.5.tfrecord', '/content/gdrive/My Drive/ai_project/TFRecords-export/dummy/Sejong.mp4#t=36.133333.tfrecord', '/content/gdrive/My Drive/ai_project/TFRecords-export/dummy/Sejong.mp4#t=0.533333.tfrecord', '/content/gdrive/My Drive/ai_project/TFRecords-export/dummy/Sejong.mp4#t=37.5.tfrecord', '/content/gdrive/My Drive/ai_project/TFRecords-export/dummy/Sejong.mp4#t=37.tfrecord', '/content/gdrive/My Drive/ai_project/TFRecords-export/dummy/Sejong.mp4#t=0.733333.tfrecord', '/content/gdrive/My Drive/ai_project/TFRecords-export/dummy/Sejong.mp4#t=44.5.tfrecord', '/content/gdrive/My Drive/ai_project/TFRecords-export/dummy/Sejong.mp4#t=46.tfrecord', '/content/gdrive/My Drive/ai_project/TFRecords-export/dummy/Sejong.mp4#t=1.066667.tfrecord', '/content/gdrive/My Drive/ai_project/TFRecords-export/dummy/Sejong.mp4#t=47.tfrecord', '/content/gdrive/My Drive/ai_project/TFRecords-export/dummy/Sejong.mp4#t=48.tfrecord', '/content/gdrive/My Drive/ai_project/TFRecords-export/dummy/Sejong.mp4#t=1.11.tfrecord', '/content/gdrive/My Drive/ai_project/TFRecords-export/dummy/Sejong.mp4#t=49.5.tfrecord', '/content/gdrive/My Drive/ai_project/TFRecords-export/dummy/Sejong.mp4#t=50.133333.tfrecord', '/content/gdrive/My Drive/ai_project/TFRecords-export/dummy/Sejong.mp4#t=1.111.tfrecord', '/content/gdrive/My Drive/ai_project/TFRecords-export/dummy/Sejong.mp4#t=51.tfrecord', '/content/gdrive/My Drive/ai_project/TFRecords-export/dummy/Sejong.mp4#t=52.tfrecord', '/content/gdrive/My Drive/ai_project/TFRecords-export/dummy/Sejong.mp4#t=1.112.tfrecord', '/content/gdrive/My Drive/ai_project/TFRecords-export/dummy/Sejong.mp4#t=58.5.tfrecord', '/content/gdrive/My Drive/ai_project/TFRecords-export/dummy/Sejong.mp4#t=59.133333.tfrecord', '/content/gdrive/My Drive/ai_project/TFRecords-export/dummy/Sejong.mp4#t=1.113.tfrecord', '/content/gdrive/My Drive/ai_project/TFRecords-export/dummy/Sejong.mp4#t=59.tfrecord', '/content/gdrive/My Drive/ai_project/TFRecords-export/dummy/Sejong.mp4#t=60.5.tfrecord', '/content/gdrive/My Drive/ai_project/TFRecords-export/dummy/Sejong.mp4#t=1.114.tfrecord', '/content/gdrive/My Drive/ai_project/TFRecords-export/dummy/Sejong.mp4#t=60.6.tfrecord', '/content/gdrive/My Drive/ai_project/TFRecords-export/dummy/Sejong.mp4#t=60.933333.tfrecord', '/content/gdrive/My Drive/ai_project/TFRecords-export/dummy/Sejong.mp4#t=1.115.tfrecord', '/content/gdrive/My Drive/ai_project/TFRecords-export/dummy/Sejong.mp4#t=60.tfrecord', '/content/gdrive/My Drive/ai_project/TFRecords-export/dummy/Sejong.mp4#t=61.5.tfrecord', '/content/gdrive/My Drive/ai_project/TFRecords-export/dummy/Sejong.mp4#t=1.116.tfrecord', '/content/gdrive/My Drive/ai_project/TFRecords-export/dummy/Sejong.mp4#t=61.tfrecord', '/content/gdrive/My Drive/ai_project/TFRecords-export/dummy/Sejong.mp4#t=62.4.tfrecord', '/content/gdrive/My Drive/ai_project/TFRecords-export/dummy/Sejong.mp4#t=1.117.tfrecord', '/content/gdrive/My Drive/ai_project/TFRecords-export/dummy/Sejong.mp4#t=62.5.tfrecord', '/content/gdrive/My Drive/ai_project/TFRecords-export/dummy/Sejong.mp4#t=62.tfrecord', '/content/gdrive/My Drive/ai_project/TFRecords-export/dummy/Sejong.mp4#t=1.118.tfrecord', '/content/gdrive/My Drive/ai_project/TFRecords-export/dummy/Sejong.mp4#t=63.5.tfrecord', '/content/gdrive/My Drive/ai_project/TFRecords-export/dummy/Sejong.mp4#t=63.6.tfrecord', '/content/gdrive/My Drive/ai_project/TFRecords-export/dummy/Sejong.mp4#t=1.133333.tfrecord', '/content/gdrive/My Drive/ai_project/TFRecords-export/dummy/Sejong.mp4#t=63.tfrecord', '/content/gdrive/My Drive/ai_project/TFRecords-export/dummy/Sejong.mp4#t=64.5.tfrecord', '/content/gdrive/My Drive/ai_project/TFRecords-export/dummy/Sejong.mp4#t=1.2.tfrecord', '/content/gdrive/My Drive/ai_project/TFRecords-export/dummy/Sejong.mp4#t=64.866667.tfrecord', '/content/gdrive/My Drive/ai_project/TFRecords-export/dummy/Sejong.mp4#t=64.tfrecord', '/content/gdrive/My Drive/ai_project/TFRecords-export/dummy/Sejong.mp4#t=1.266667.tfrecord', '/content/gdrive/My Drive/ai_project/TFRecords-export/dummy/Sejong.mp4#t=65.5.tfrecord', '/content/gdrive/My Drive/ai_project/TFRecords-export/dummy/Sejong.mp4#t=65.tfrecord', '/content/gdrive/My Drive/ai_project/TFRecords-export/dummy/Sejong.mp4#t=1.333333.tfrecord', '/content/gdrive/My Drive/ai_project/TFRecords-export/dummy/Sejong.mp4#t=66.5.tfrecord', '/content/gdrive/My Drive/ai_project/TFRecords-export/dummy/Sejong.mp4#t=66.tfrecord', '/content/gdrive/My Drive/ai_project/TFRecords-export/dummy/Sejong.mp4#t=1.4.tfrecord', '/content/gdrive/My Drive/ai_project/TFRecords-export/dummy/Sejong.mp4#t=67.tfrecord', '/content/gdrive/My Drive/ai_project/TFRecords-export/dummy/Sejong.mp4#t=68.5.tfrecord', '/content/gdrive/My Drive/ai_project/TFRecords-export/dummy/Sejong.mp4#t=1.466667.tfrecord', '/content/gdrive/My Drive/ai_project/TFRecords-export/dummy/Sejong.mp4#t=68.666667.tfrecord', '/content/gdrive/My Drive/ai_project/TFRecords-export/dummy/Sejong.mp4#t=68.tfrecord', '/content/gdrive/My Drive/ai_project/TFRecords-export/dummy/Sejong.mp4#t=1.5.tfrecord', '/content/gdrive/My Drive/ai_project/TFRecords-export/dummy/Sejong.mp4#t=69.tfrecord', '/content/gdrive/My Drive/ai_project/TFRecords-export/dummy/Sejong.mp4#t=70.5.tfrecord', '/content/gdrive/My Drive/ai_project/TFRecords-export/dummy/Sejong.mp4#t=1.533333.tfrecord', '/content/gdrive/My Drive/ai_project/TFRecords-export/dummy/Sejong.mp4#t=71.tfrecord', '/content/gdrive/My Drive/ai_project/TFRecords-export/dummy/Sejong.mp4#t=72.tfrecord', '/content/gdrive/My Drive/ai_project/TFRecords-export/dummy/Sejong.mp4#t=1.6.tfrecord', '/content/gdrive/My Drive/ai_project/TFRecords-export/dummy/Sejong.mp4#t=77.533333.tfrecord', '/content/gdrive/My Drive/ai_project/TFRecords-export/dummy/Sejong.mp4#t=81.5.tfrecord', '/content/gdrive/My Drive/ai_project/TFRecords-export/dummy/Sejong.mp4#t=1.666667.tfrecord', '/content/gdrive/My Drive/ai_project/TFRecords-export/dummy/Sejong.mp4#t=81.tfrecord', '/content/gdrive/My Drive/ai_project/TFRecords-export/dummy/Sejong.mp4#t=82.333333.tfrecord', '/content/gdrive/My Drive/ai_project/TFRecords-export/dummy/Sejong.mp4#t=1.733333.tfrecord', '/content/gdrive/My Drive/ai_project/TFRecords-export/dummy/Sejong.mp4#t=83.5.tfrecord', '/content/gdrive/My Drive/ai_project/TFRecords-export/dummy/Sejong.mp4#t=84.133333.tfrecord', '/content/gdrive/My Drive/ai_project/TFRecords-export/dummy/Sejong.mp4#t=1.8.tfrecord', '/content/gdrive/My Drive/ai_project/TFRecords-export/dummy/Sejong.mp4#t=85.333333.tfrecord', '/content/gdrive/My Drive/ai_project/TFRecords-export/dummy/Sejong.mp4#t=86.5.tfrecord', '/content/gdrive/My Drive/ai_project/TFRecords-export/dummy/Sejong.mp4#t=1.866667.tfrecord', '/content/gdrive/My Drive/ai_project/TFRecords-export/dummy/Sejong.mp4#t=86.tfrecord', '/content/gdrive/My Drive/ai_project/TFRecords-export/dummy/Sejong.mp4#t=87.5.tfrecord', '/content/gdrive/My Drive/ai_project/TFRecords-export/dummy/Sejong.mp4#t=1.933333.tfrecord', '/content/gdrive/My Drive/ai_project/TFRecords-export/dummy/Sejong.mp4#t=87.tfrecord', '/content/gdrive/My Drive/ai_project/TFRecords-export/dummy/Sejong.mp4#t=88.5.tfrecord', '/content/gdrive/My Drive/ai_project/TFRecords-export/dummy/Sejong.mp4#t=1.tfrecord', '/content/gdrive/My Drive/ai_project/TFRecords-export/dummy/Sejong.mp4#t=89.5.tfrecord', '/content/gdrive/My Drive/ai_project/TFRecords-export/dummy/Sejong.mp4#t=94.tfrecord', '/content/gdrive/My Drive/ai_project/TFRecords-export/dummy/Sejong.mp4#t=137.333333.tfrecord', '/content/gdrive/My Drive/ai_project/TFRecords-export/dummy/Sejong.mp4#t=89.tfrecord', '/content/gdrive/My Drive/ai_project/TFRecords-export/dummy/Sejong.mp4#t=96.5.tfrecord', '/content/gdrive/My Drive/ai_project/TFRecords-export/dummy/Sejong.mp4#t=2.133333.tfrecord', '/content/gdrive/My Drive/ai_project/TFRecords-export/dummy/Sejong.mp4#t=2.2.tfrecord', '/content/gdrive/My Drive/ai_project/TFRecords-export/dummy/Sejong.mp4#t=2.4.tfrecord', '/content/gdrive/My Drive/ai_project/TFRecords-export/dummy/Sejong.mp4#t=2.466667.tfrecord', '/content/gdrive/My Drive/ai_project/TFRecords-export/dummy/Sejong.mp4#t=2.6.tfrecord', '/content/gdrive/My Drive/ai_project/TFRecords-export/dummy/Sejong.mp4#t=2.666667.tfrecord', '/content/gdrive/My Drive/ai_project/TFRecords-export/dummy/Sejong.mp4#t=2.733333.tfrecord', '/content/gdrive/My Drive/ai_project/TFRecords-export/dummy/Sejong.mp4#t=2.866667.tfrecord', '/content/gdrive/My Drive/ai_project/TFRecords-export/dummy/Sejong.mp4#t=2.933333.tfrecord', '/content/gdrive/My Drive/ai_project/TFRecords-export/dummy/Sejong.mp4#t=2.tfrecord', '/content/gdrive/My Drive/ai_project/TFRecords-export/dummy/Sejong.mp4#t=20.5.tfrecord', '/content/gdrive/My Drive/ai_project/TFRecords-export/dummy/Sejong.mp4#t=21.tfrecord', '/content/gdrive/My Drive/ai_project/TFRecords-export/dummy/Sejong.mp4#t=22.5.tfrecord', '/content/gdrive/My Drive/ai_project/TFRecords-export/dummy/Sejong.mp4#t=22.tfrecord', '/content/gdrive/My Drive/ai_project/TFRecords-export/dummy/Sejong.mp4#t=25.5.tfrecord', '/content/gdrive/My Drive/ai_project/TFRecords-export/dummy/Sejong.mp4#t=26.5.tfrecord', '/content/gdrive/My Drive/ai_project/TFRecords-export/dummy/Sejong.mp4#t=3.066667.tfrecord', '/content/gdrive/My Drive/ai_project/TFRecords-export/dummy/Sejong.mp4#t=3.133333.tfrecord', '/content/gdrive/My Drive/ai_project/TFRecords-export/dummy/Sejong.mp4#t=3.2.tfrecord', '/content/gdrive/My Drive/ai_project/TFRecords-export/dummy/Sejong.mp4#t=3.266667.tfrecord', '/content/gdrive/My Drive/ai_project/TFRecords-export/dummy/Sejong.mp4#t=3.333333.tfrecord', '/content/gdrive/My Drive/ai_project/TFRecords-export/dummy/Sejong.mp4#t=3.4.tfrecord', '/content/gdrive/My Drive/ai_project/TFRecords-export/dummy/Sejong.mp4#t=3.466667.tfrecord', '/content/gdrive/My Drive/ai_project/TFRecords-export/dummy/Sejong.mp4#t=3.5.tfrecord', '/content/gdrive/My Drive/ai_project/TFRecords-export/dummy/Sejong.mp4#t=3.533333.tfrecord', '/content/gdrive/My Drive/ai_project/TFRecords-export/dummy/Sejong.mp4#t=3.6.tfrecord', '/content/gdrive/My Drive/ai_project/TFRecords-export/dummy/Sejong.mp4#t=3.666667.tfrecord', '/content/gdrive/My Drive/ai_project/TFRecords-export/dummy/Sejong.mp4#t=3.tfrecord', '/content/gdrive/My Drive/ai_project/TFRecords-export/dummy/Sejong.mp4#t=33.5.tfrecord', '/content/gdrive/My Drive/ai_project/TFRecords-export/dummy/Sejong.mp4#t=34.066667.tfrecord', '/content/gdrive/My Drive/ai_project/TFRecords-export/dummy/Sejong.mp4#t=34.5.tfrecord', '/content/gdrive/My Drive/ai_project/TFRecords-export/dummy/Sejong.mp4#t=34.733333.tfrecord', '/content/gdrive/My Drive/ai_project/TFRecords-export/dummy/Sejong.mp4#t=34.tfrecord', '/content/gdrive/My Drive/ai_project/TFRecords-export/dummy/Sejong.mp4#t=35.5.tfrecord', '/content/gdrive/My Drive/ai_project/TFRecords-export/dummy/Sejong.mp4#t=35.tfrecord', '/content/gdrive/My Drive/ai_project/TFRecords-export/dummy/Sejong.mp4#t=36.5.tfrecord', '/content/gdrive/My Drive/ai_project/TFRecords-export/dummy/Sejong.mp4#t=36.tfrecord', '/content/gdrive/My Drive/ai_project/TFRecords-export/dummy/Sejong.mp4#t=37.133333.tfrecord', '/content/gdrive/My Drive/ai_project/TFRecords-export/dummy/Sejong.mp4#t=4.066667.tfrecord', '/content/gdrive/My Drive/ai_project/TFRecords-export/dummy/Sejong.mp4#t=4.133333.tfrecord', '/content/gdrive/My Drive/ai_project/TFRecords-export/dummy/Sejong.mp4#t=4.2.tfrecord', '/content/gdrive/My Drive/ai_project/TFRecords-export/dummy/Sejong.mp4#t=4.266667.tfrecord', '/content/gdrive/My Drive/ai_project/TFRecords-export/dummy/Sejong.mp4#t=4.333333.tfrecord', '/content/gdrive/My Drive/ai_project/TFRecords-export/dummy/Sejong.mp4#t=4.4.tfrecord', '/content/gdrive/My Drive/ai_project/TFRecords-export/dummy/Sejong.mp4#t=4.466667.tfrecord', '/content/gdrive/My Drive/ai_project/TFRecords-export/dummy/Sejong.mp4#t=4.5.tfrecord', '/content/gdrive/My Drive/ai_project/TFRecords-export/dummy/Sejong.mp4#t=4.533333.tfrecord', '/content/gdrive/My Drive/ai_project/TFRecords-export/dummy/Sejong.mp4#t=4.6.tfrecord', '/content/gdrive/My Drive/ai_project/TFRecords-export/dummy/Sejong.mp4#t=4.666667.tfrecord', '/content/gdrive/My Drive/ai_project/TFRecords-export/dummy/Sejong.mp4#t=4.733333.tfrecord', '/content/gdrive/My Drive/ai_project/TFRecords-export/dummy/Sejong.mp4#t=4.8.tfrecord', '/content/gdrive/My Drive/ai_project/TFRecords-export/dummy/Sejong.mp4#t=4.866667.tfrecord', '/content/gdrive/My Drive/ai_project/TFRecords-export/dummy/Sejong.mp4#t=4.933333.tfrecord', '/content/gdrive/My Drive/ai_project/TFRecords-export/dummy/Sejong.mp4#t=4.tfrecord', '/content/gdrive/My Drive/ai_project/TFRecords-export/dummy/Sejong.mp4#t=49.tfrecord', '/content/gdrive/My Drive/ai_project/TFRecords-export/dummy/Sejong.mp4#t=5.066667.tfrecord', '/content/gdrive/My Drive/ai_project/TFRecords-export/dummy/Sejong.mp4#t=5.133333.tfrecord', '/content/gdrive/My Drive/ai_project/TFRecords-export/dummy/Sejong.mp4#t=5.2.tfrecord', '/content/gdrive/My Drive/ai_project/TFRecords-export/dummy/Sejong.mp4#t=5.266667.tfrecord', '/content/gdrive/My Drive/ai_project/TFRecords-export/dummy/Sejong.mp4#t=5.5.tfrecord', '/content/gdrive/My Drive/ai_project/TFRecords-export/dummy/Sejong.mp4#t=5.tfrecord', '/content/gdrive/My Drive/ai_project/TFRecords-export/dummy/Sejong.mp4#t=51.4.tfrecord', '/content/gdrive/My Drive/ai_project/TFRecords-export/dummy/Sejong.mp4#t=51.5.tfrecord', '/content/gdrive/My Drive/ai_project/TFRecords-export/dummy/Sejong.mp4#t=52.5.tfrecord', '/content/gdrive/My Drive/ai_project/TFRecords-export/dummy/Sejong.mp4#t=52.866667.tfrecord', '/content/gdrive/My Drive/ai_project/TFRecords-export/dummy/Sejong.mp4#t=53.5.tfrecord', '/content/gdrive/My Drive/ai_project/TFRecords-export/dummy/Sejong.mp4#t=53.733333.tfrecord', '/content/gdrive/My Drive/ai_project/TFRecords-export/dummy/Sejong.mp4#t=53.tfrecord', '/content/gdrive/My Drive/ai_project/TFRecords-export/dummy/Sejong.mp4#t=54.466667.tfrecord', '/content/gdrive/My Drive/ai_project/TFRecords-export/dummy/Sejong.mp4#t=54.5.tfrecord', '/content/gdrive/My Drive/ai_project/TFRecords-export/dummy/Sejong.mp4#t=54.tfrecord', '/content/gdrive/My Drive/ai_project/TFRecords-export/dummy/Sejong.mp4#t=55.5.tfrecord', '/content/gdrive/My Drive/ai_project/TFRecords-export/dummy/Sejong.mp4#t=55.tfrecord', '/content/gdrive/My Drive/ai_project/TFRecords-export/dummy/Sejong.mp4#t=56.066667.tfrecord', '/content/gdrive/My Drive/ai_project/TFRecords-export/dummy/Sejong.mp4#t=56.5.tfrecord', '/content/gdrive/My Drive/ai_project/TFRecords-export/dummy/Sejong.mp4#t=56.tfrecord', '/content/gdrive/My Drive/ai_project/TFRecords-export/dummy/Sejong.mp4#t=57.5.tfrecord', '/content/gdrive/My Drive/ai_project/TFRecords-export/dummy/Sejong.mp4#t=57.866667.tfrecord', '/content/gdrive/My Drive/ai_project/TFRecords-export/dummy/Sejong.mp4#t=57.tfrecord', '/content/gdrive/My Drive/ai_project/TFRecords-export/dummy/Sejong.mp4#t=58.tfrecord', '/content/gdrive/My Drive/ai_project/TFRecords-export/dummy/Sejong.mp4#t=59.5.tfrecord', '/content/gdrive/My Drive/ai_project/TFRecords-export/dummy/Sejong.mp4#t=6.266667.tfrecord', '/content/gdrive/My Drive/ai_project/TFRecords-export/dummy/Sejong.mp4#t=6.5.tfrecord', '/content/gdrive/My Drive/ai_project/TFRecords-export/dummy/Sejong.mp4#t=6.tfrecord', '/content/gdrive/My Drive/ai_project/TFRecords-export/dummy/Sejong.mp4#t=66.4.tfrecord', '/content/gdrive/My Drive/ai_project/TFRecords-export/dummy/Sejong.mp4#t=67.266667.tfrecord', '/content/gdrive/My Drive/ai_project/TFRecords-export/dummy/Sejong.mp4#t=67.5.tfrecord', '/content/gdrive/My Drive/ai_project/TFRecords-export/dummy/Sejong.mp4#t=69.5.tfrecord', '/content/gdrive/My Drive/ai_project/TFRecords-export/dummy/Sejong.mp4#t=69.6.tfrecord', '/content/gdrive/My Drive/ai_project/TFRecords-export/dummy/Sejong.mp4#t=7.066667.tfrecord', '/content/gdrive/My Drive/ai_project/TFRecords-export/dummy/Sejong.mp4#t=7.tfrecord', '/content/gdrive/My Drive/ai_project/TFRecords-export/dummy/Sejong.mp4#t=70.tfrecord', '/content/gdrive/My Drive/ai_project/TFRecords-export/dummy/Sejong.mp4#t=71.066667.tfrecord', '/content/gdrive/My Drive/ai_project/TFRecords-export/dummy/Sejong.mp4#t=71.5.tfrecord', '/content/gdrive/My Drive/ai_project/TFRecords-export/dummy/Sejong.mp4#t=72.5.tfrecord', '/content/gdrive/My Drive/ai_project/TFRecords-export/dummy/Sejong.mp4#t=73.tfrecord', '/content/gdrive/My Drive/ai_project/TFRecords-export/dummy/Sejong.mp4#t=74.133333.tfrecord', '/content/gdrive/My Drive/ai_project/TFRecords-export/dummy/Sejong.mp4#t=74.5.tfrecord', '/content/gdrive/My Drive/ai_project/TFRecords-export/dummy/Sejong.mp4#t=74.tfrecord', '/content/gdrive/My Drive/ai_project/TFRecords-export/dummy/Sejong.mp4#t=75.4.tfrecord', '/content/gdrive/My Drive/ai_project/TFRecords-export/dummy/Sejong.mp4#t=79.5.tfrecord', '/content/gdrive/My Drive/ai_project/TFRecords-export/dummy/Sejong.mp4#t=79.933333.tfrecord', '/content/gdrive/My Drive/ai_project/TFRecords-export/dummy/Sejong.mp4#t=8.5.tfrecord', '/content/gdrive/My Drive/ai_project/TFRecords-export/dummy/Sejong.mp4#t=80.5.tfrecord', '/content/gdrive/My Drive/ai_project/TFRecords-export/dummy/Sejong.mp4#t=80.tfrecord', '/content/gdrive/My Drive/ai_project/TFRecords-export/dummy/Sejong.mp4#t=81.733333.tfrecord', '/content/gdrive/My Drive/ai_project/TFRecords-export/dummy/Sejong.mp4#t=82.tfrecord', '/content/gdrive/My Drive/ai_project/TFRecords-export/dummy/Sejong.mp4#t=84.tfrecord', '/content/gdrive/My Drive/ai_project/TFRecords-export/dummy/Sejong.mp4#t=85.5.tfrecord', '/content/gdrive/My Drive/ai_project/TFRecords-export/dummy/Sejong.mp4#t=85.tfrecord', '/content/gdrive/My Drive/ai_project/TFRecords-export/dummy/Sejong.mp4#t=88.tfrecord', '/content/gdrive/My Drive/ai_project/TFRecords-export/dummy/Sejong.mp4#t=9.tfrecord']\n",
            "  }\n",
            "  label_map_path: \"/content/gdrive/My Drive/ai_project/TFRecords-export/train/label_map.pbtxt\"\n",
            "  shuffle: false\n",
            "  num_readers: 1\n",
            "}"
          ],
          "name": "stdout"
        }
      ]
    },
    {
      "cell_type": "code",
      "metadata": {
        "id": "FbteaNj4u_SI",
        "colab_type": "code",
        "colab": {}
      },
      "source": [
        "model_dir = 'training/'\n",
        "# Optionally remove content in output model directory to fresh start.\n",
        "!rm -rf {model_dir}\n",
        "os.makedirs(model_dir, exist_ok=True)"
      ],
      "execution_count": 0,
      "outputs": []
    },
    {
      "cell_type": "code",
      "metadata": {
        "id": "4CVc8mi4ksbt",
        "colab_type": "code",
        "colab": {
          "base_uri": "https://localhost:8080/",
          "height": 34
        },
        "outputId": "528eda4e-a454-4d57-f1a8-b13f0630a390"
      },
      "source": [
        "%cd /content/gdrive/'My Drive'/ai_project"
      ],
      "execution_count": 82,
      "outputs": [
        {
          "output_type": "stream",
          "text": [
            "/content/gdrive/My Drive/ai_project\n"
          ],
          "name": "stdout"
        }
      ]
    },
    {
      "cell_type": "code",
      "metadata": {
        "id": "f7ghTBWhwrQw",
        "colab_type": "code",
        "outputId": "875f56db-806a-4aa8-ed28-037e84aa8135",
        "colab": {
          "base_uri": "https://localhost:8080/",
          "height": 266
        }
      },
      "source": [
        "!wget https://bin.equinox.io/c/4VmDzA7iaHb/ngrok-stable-linux-amd64.zip\n",
        "!unzip -o ngrok-stable-linux-amd64.zip"
      ],
      "execution_count": 84,
      "outputs": [
        {
          "output_type": "stream",
          "text": [
            "--2019-06-23 13:44:24--  https://bin.equinox.io/c/4VmDzA7iaHb/ngrok-stable-linux-amd64.zip\n",
            "Resolving bin.equinox.io (bin.equinox.io)... 52.55.191.55, 54.152.127.232, 54.173.32.212, ...\n",
            "Connecting to bin.equinox.io (bin.equinox.io)|52.55.191.55|:443... connected.\n",
            "HTTP request sent, awaiting response... 200 OK\n",
            "Length: 17556757 (17M) [application/octet-stream]\n",
            "Saving to: ‘ngrok-stable-linux-amd64.zip’\n",
            "\n",
            "ngrok-stable-linux- 100%[===================>]  16.74M  6.30MB/s    in 2.7s    \n",
            "\n",
            "2019-06-23 13:44:27 (6.30 MB/s) - ‘ngrok-stable-linux-amd64.zip’ saved [17556757/17556757]\n",
            "\n",
            "Archive:  ngrok-stable-linux-amd64.zip\n",
            "  inflating: ngrok                   \n"
          ],
          "name": "stdout"
        }
      ]
    },
    {
      "cell_type": "code",
      "metadata": {
        "id": "itOR-8ICwuXH",
        "colab_type": "code",
        "colab": {}
      },
      "source": [
        "LOG_DIR = model_dir\n",
        "get_ipython().system_raw(\n",
        "    'tensorboard --logdir {} --host 0.0.0.0 --port 6006 &'\n",
        "    .format(LOG_DIR)\n",
        ")"
      ],
      "execution_count": 0,
      "outputs": []
    },
    {
      "cell_type": "code",
      "metadata": {
        "id": "mmwSRrQowvqP",
        "colab_type": "code",
        "colab": {}
      },
      "source": [
        "get_ipython().system_raw('./ngrok http 6006 &')"
      ],
      "execution_count": 0,
      "outputs": []
    },
    {
      "cell_type": "code",
      "metadata": {
        "id": "OyXXo9eBwzan",
        "colab_type": "code",
        "outputId": "06b13d9e-ca51-4864-ddc9-bcc93bfddd49",
        "colab": {
          "base_uri": "https://localhost:8080/",
          "height": 34
        }
      },
      "source": [
        "! curl -s http://localhost:4040/api/tunnels | python3 -c \\\n",
        "    \"import sys, json; print(json.load(sys.stdin)['tunnels'][0]['public_url'])\""
      ],
      "execution_count": 87,
      "outputs": [
        {
          "output_type": "stream",
          "text": [
            "https://35778a6b.ngrok.io\n"
          ],
          "name": "stdout"
        }
      ]
    },
    {
      "cell_type": "code",
      "metadata": {
        "id": "hp2emd_l0KTc",
        "colab_type": "code",
        "outputId": "fc6e9c52-e89c-4360-d543-4fcf3e4acdc3",
        "colab": {
          "base_uri": "https://localhost:8080/",
          "height": 6232
        }
      },
      "source": [
        "!python /content/models/research/object_detection/model_main.py \\\n",
        "    --pipeline_config_path={pipeline_fname} \\\n",
        "    --model_dir={model_dir} \\\n",
        "    --alsologtostderr \\\n",
        "    --num_train_steps={num_steps} \\\n",
        "    --num_eval_steps={num_eval_steps}"
      ],
      "execution_count": 88,
      "outputs": [
        {
          "output_type": "stream",
          "text": [
            "WARNING: Logging before flag parsing goes to stderr.\n",
            "W0623 13:44:51.221426 139702683232128 lazy_loader.py:50] \n",
            "The TensorFlow contrib module will not be included in TensorFlow 2.0.\n",
            "For more information, please see:\n",
            "  * https://github.com/tensorflow/community/blob/master/rfcs/20180907-contrib-sunset.md\n",
            "  * https://github.com/tensorflow/addons\n",
            "  * https://github.com/tensorflow/io (for I/O related ops)\n",
            "If you depend on functionality not listed there, please file an issue.\n",
            "\n",
            "W0623 13:44:51.250799 139702683232128 deprecation_wrapper.py:119] From /content/models/research/slim/nets/inception_resnet_v2.py:373: The name tf.GraphKeys is deprecated. Please use tf.compat.v1.GraphKeys instead.\n",
            "\n",
            "W0623 13:44:51.262818 139702683232128 deprecation_wrapper.py:119] From /content/models/research/slim/nets/mobilenet/mobilenet.py:397: The name tf.nn.avg_pool is deprecated. Please use tf.nn.avg_pool2d instead.\n",
            "\n",
            "W0623 13:44:51.275428 139702683232128 deprecation_wrapper.py:119] From /content/models/research/object_detection/model_main.py:109: The name tf.app.run is deprecated. Please use tf.compat.v1.app.run instead.\n",
            "\n",
            "W0623 13:44:51.276410 139702683232128 deprecation_wrapper.py:119] From /content/models/research/object_detection/utils/config_util.py:98: The name tf.gfile.GFile is deprecated. Please use tf.io.gfile.GFile instead.\n",
            "\n",
            "W0623 13:44:51.302100 139702683232128 deprecation_wrapper.py:119] From /content/models/research/object_detection/model_lib.py:614: The name tf.logging.warning is deprecated. Please use tf.compat.v1.logging.warning instead.\n",
            "\n",
            "W0623 13:44:51.302331 139702683232128 model_lib.py:615] Forced number of epochs for all eval validations to be 1.\n",
            "W0623 13:44:51.302470 139702683232128 deprecation_wrapper.py:119] From /content/models/research/object_detection/utils/config_util.py:484: The name tf.logging.info is deprecated. Please use tf.compat.v1.logging.info instead.\n",
            "\n",
            "I0623 13:44:51.302571 139702683232128 config_util.py:484] Maybe overwriting train_steps: 1000\n",
            "I0623 13:44:51.302682 139702683232128 config_util.py:484] Maybe overwriting sample_1_of_n_eval_examples: 1\n",
            "I0623 13:44:51.302797 139702683232128 config_util.py:484] Maybe overwriting use_bfloat16: False\n",
            "I0623 13:44:51.302902 139702683232128 config_util.py:484] Maybe overwriting eval_num_epochs: 1\n",
            "I0623 13:44:51.303002 139702683232128 config_util.py:484] Maybe overwriting load_pretrained: True\n",
            "I0623 13:44:51.303158 139702683232128 config_util.py:494] Ignoring config override key: load_pretrained\n",
            "W0623 13:44:51.303509 139702683232128 model_lib.py:631] Expected number of evaluation epochs is 1, but instead encountered `eval_on_train_input_config.num_epochs` = 0. Overwriting `num_epochs` to 1.\n",
            "I0623 13:44:51.303633 139702683232128 model_lib.py:666] create_estimator_and_inputs: use_tpu False, export_to_tpu False\n",
            "I0623 13:44:51.304245 139702683232128 estimator.py:209] Using config: {'_model_dir': 'training/', '_tf_random_seed': None, '_save_summary_steps': 100, '_save_checkpoints_steps': None, '_save_checkpoints_secs': 600, '_session_config': allow_soft_placement: true\n",
            "graph_options {\n",
            "  rewrite_options {\n",
            "    meta_optimizer_iterations: ONE\n",
            "  }\n",
            "}\n",
            ", '_keep_checkpoint_max': 5, '_keep_checkpoint_every_n_hours': 10000, '_log_step_count_steps': 100, '_train_distribute': None, '_device_fn': None, '_protocol': None, '_eval_distribute': None, '_experimental_distribute': None, '_experimental_max_worker_delay_secs': None, '_service': None, '_cluster_spec': <tensorflow.python.training.server_lib.ClusterSpec object at 0x7f0ec2a31208>, '_task_type': 'worker', '_task_id': 0, '_global_id_in_cluster': 0, '_master': '', '_evaluation_master': '', '_is_chief': True, '_num_ps_replicas': 0, '_num_worker_replicas': 1}\n",
            "W0623 13:44:51.304466 139702683232128 model_fn.py:630] Estimator's model_fn (<function create_model_fn.<locals>.model_fn at 0x7f0ec2a2e730>) includes params argument, but params are not passed to Estimator.\n",
            "I0623 13:44:51.305447 139702683232128 estimator_training.py:186] Not using Distribute Coordinator.\n",
            "I0623 13:44:51.305669 139702683232128 training.py:612] Running training and evaluation locally (non-distributed).\n",
            "I0623 13:44:51.305940 139702683232128 training.py:700] Start train and evaluate loop. The evaluate will happen after every checkpoint. Checkpoint frequency is determined based on RunConfig arguments: save_checkpoints_steps None or save_checkpoints_secs 600.\n",
            "W0623 13:44:51.312707 139702683232128 deprecation.py:323] From /usr/local/lib/python3.6/dist-packages/tensorflow/python/training/training_util.py:236: Variable.initialized_value (from tensorflow.python.ops.variables) is deprecated and will be removed in a future version.\n",
            "Instructions for updating:\n",
            "Use Variable.read_value. Variables in 2.X are initialized automatically both in eager and graph (inside tf.defun) contexts.\n",
            "W0623 13:44:51.326715 139702683232128 deprecation_wrapper.py:119] From /content/models/research/object_detection/data_decoders/tf_example_decoder.py:177: The name tf.FixedLenFeature is deprecated. Please use tf.io.FixedLenFeature instead.\n",
            "\n",
            "W0623 13:44:51.326921 139702683232128 deprecation_wrapper.py:119] From /content/models/research/object_detection/data_decoders/tf_example_decoder.py:192: The name tf.VarLenFeature is deprecated. Please use tf.io.VarLenFeature instead.\n",
            "\n",
            "W0623 13:44:51.361161 139702683232128 deprecation_wrapper.py:119] From /content/models/research/object_detection/builders/dataset_builder.py:64: The name tf.gfile.Glob is deprecated. Please use tf.io.gfile.glob instead.\n",
            "\n",
            "W0623 13:44:54.979498 139702683232128 deprecation.py:323] From /content/models/research/object_detection/builders/dataset_builder.py:86: parallel_interleave (from tensorflow.contrib.data.python.ops.interleave_ops) is deprecated and will be removed in a future version.\n",
            "Instructions for updating:\n",
            "Use `tf.data.experimental.parallel_interleave(...)`.\n",
            "W0623 13:44:54.979775 139702683232128 deprecation.py:323] From /usr/local/lib/python3.6/dist-packages/tensorflow/contrib/data/python/ops/interleave_ops.py:77: parallel_interleave (from tensorflow.python.data.experimental.ops.interleave_ops) is deprecated and will be removed in a future version.\n",
            "Instructions for updating:\n",
            "Use `tf.data.Dataset.interleave(map_func, cycle_length, block_length, num_parallel_calls=tf.data.experimental.AUTOTUNE)` instead. If sloppy execution is desired, use `tf.data.Options.experimental_determinstic`.\n",
            "W0623 13:44:55.009593 139702683232128 deprecation.py:323] From /content/models/research/object_detection/builders/dataset_builder.py:155: DatasetV1.map_with_legacy_function (from tensorflow.python.data.ops.dataset_ops) is deprecated and will be removed in a future version.\n",
            "Instructions for updating:\n",
            "Use `tf.data.Dataset.map()\n",
            "W0623 13:44:55.220526 139702683232128 deprecation_wrapper.py:119] From /content/models/research/object_detection/utils/ops.py:485: The name tf.is_nan is deprecated. Please use tf.math.is_nan instead.\n",
            "\n",
            "W0623 13:44:55.226053 139702683232128 deprecation.py:323] From /content/models/research/object_detection/utils/ops.py:487: add_dispatch_support.<locals>.wrapper (from tensorflow.python.ops.array_ops) is deprecated and will be removed in a future version.\n",
            "Instructions for updating:\n",
            "Use tf.where in 2.0, which has the same broadcast rule as np.where\n",
            "W0623 13:44:55.289361 139702683232128 deprecation_wrapper.py:119] From /content/models/research/object_detection/core/preprocessor.py:512: The name tf.random_uniform is deprecated. Please use tf.random.uniform instead.\n",
            "\n",
            "W0623 13:44:55.362563 139702683232128 deprecation.py:323] From /content/models/research/object_detection/core/preprocessor.py:188: sample_distorted_bounding_box (from tensorflow.python.ops.image_ops_impl) is deprecated and will be removed in a future version.\n",
            "Instructions for updating:\n",
            "`seed2` arg is deprecated.Use sample_distorted_bounding_box_v2 instead.\n",
            "W0623 13:44:56.503301 139702683232128 deprecation_wrapper.py:119] From /content/models/research/object_detection/core/preprocessor.py:2515: The name tf.image.resize_images is deprecated. Please use tf.image.resize instead.\n",
            "\n",
            "W0623 13:44:57.035706 139702683232128 deprecation.py:323] From /content/models/research/object_detection/builders/dataset_builder.py:158: batch_and_drop_remainder (from tensorflow.contrib.data.python.ops.batching) is deprecated and will be removed in a future version.\n",
            "Instructions for updating:\n",
            "Use `tf.data.Dataset.batch(..., drop_remainder=True)`.\n",
            "I0623 13:44:57.052137 139702683232128 estimator.py:1145] Calling model_fn.\n",
            "I0623 13:45:01.976935 139702683232128 convolutional_box_predictor.py:151] depth of additional conv before box predictor: 0\n",
            "I0623 13:45:02.024397 139702683232128 convolutional_box_predictor.py:151] depth of additional conv before box predictor: 0\n",
            "I0623 13:45:02.070880 139702683232128 convolutional_box_predictor.py:151] depth of additional conv before box predictor: 0\n",
            "I0623 13:45:02.117286 139702683232128 convolutional_box_predictor.py:151] depth of additional conv before box predictor: 0\n",
            "I0623 13:45:02.163947 139702683232128 convolutional_box_predictor.py:151] depth of additional conv before box predictor: 0\n",
            "I0623 13:45:02.417675 139702683232128 convolutional_box_predictor.py:151] depth of additional conv before box predictor: 0\n",
            "W0623 13:45:02.473055 139702683232128 deprecation_wrapper.py:119] From /content/models/research/object_detection/utils/variables_helper.py:134: The name tf.train.NewCheckpointReader is deprecated. Please use tf.compat.v1.train.NewCheckpointReader instead.\n",
            "\n",
            "W0623 13:45:02.477893 139702683232128 variables_helper.py:149] Variable [FeatureExtractor/MobilenetV2/layer_19_2_Conv2d_2_3x3_s2_512/weights] is available in checkpoint, but has an incompatible shape with model variable. Checkpoint shape: [[1, 1, 256, 512]], model variable shape: [[3, 3, 256, 512]]. This variable will not be initialized from the checkpoint.\n",
            "W0623 13:45:02.478105 139702683232128 variables_helper.py:149] Variable [FeatureExtractor/MobilenetV2/layer_19_2_Conv2d_3_3x3_s2_256/weights] is available in checkpoint, but has an incompatible shape with model variable. Checkpoint shape: [[1, 1, 128, 256]], model variable shape: [[3, 3, 128, 256]]. This variable will not be initialized from the checkpoint.\n",
            "W0623 13:45:02.478299 139702683232128 variables_helper.py:149] Variable [FeatureExtractor/MobilenetV2/layer_19_2_Conv2d_4_3x3_s2_256/weights] is available in checkpoint, but has an incompatible shape with model variable. Checkpoint shape: [[1, 1, 128, 256]], model variable shape: [[3, 3, 128, 256]]. This variable will not be initialized from the checkpoint.\n",
            "W0623 13:45:02.478454 139702683232128 variables_helper.py:149] Variable [FeatureExtractor/MobilenetV2/layer_19_2_Conv2d_5_3x3_s2_128/weights] is available in checkpoint, but has an incompatible shape with model variable. Checkpoint shape: [[1, 1, 64, 128]], model variable shape: [[3, 3, 64, 128]]. This variable will not be initialized from the checkpoint.\n",
            "W0623 13:45:02.478667 139702683232128 deprecation_wrapper.py:119] From /content/models/research/object_detection/model_lib.py:346: The name tf.train.init_from_checkpoint is deprecated. Please use tf.compat.v1.train.init_from_checkpoint instead.\n",
            "\n",
            "W0623 13:45:06.760701 139702683232128 deprecation_wrapper.py:119] From /content/models/research/object_detection/meta_architectures/ssd_meta_arch.py:1066: The name tf.summary.scalar is deprecated. Please use tf.compat.v1.summary.scalar instead.\n",
            "\n",
            "W0623 13:45:06.769427 139702683232128 deprecation_wrapper.py:119] From /content/models/research/object_detection/core/losses.py:172: The name tf.losses.huber_loss is deprecated. Please use tf.compat.v1.losses.huber_loss instead.\n",
            "\n",
            "W0623 13:45:06.770900 139702683232128 deprecation_wrapper.py:119] From /content/models/research/object_detection/core/losses.py:178: The name tf.losses.Reduction is deprecated. Please use tf.compat.v1.losses.Reduction instead.\n",
            "\n",
            "W0623 13:45:07.260343 139702683232128 deprecation_wrapper.py:119] From /content/models/research/object_detection/model_lib.py:373: The name tf.train.get_or_create_global_step is deprecated. Please use tf.compat.v1.train.get_or_create_global_step instead.\n",
            "\n",
            "W0623 13:45:07.260826 139702683232128 deprecation_wrapper.py:119] From /content/models/research/object_detection/utils/learning_schedules.py:61: The name tf.train.exponential_decay is deprecated. Please use tf.compat.v1.train.exponential_decay instead.\n",
            "\n",
            "W0623 13:45:07.273001 139702683232128 deprecation_wrapper.py:119] From /content/models/research/object_detection/builders/optimizer_builder.py:47: The name tf.train.RMSPropOptimizer is deprecated. Please use tf.compat.v1.train.RMSPropOptimizer instead.\n",
            "\n",
            "W0623 13:45:10.156054 139702683232128 deprecation.py:506] From /usr/local/lib/python3.6/dist-packages/tensorflow/python/training/rmsprop.py:119: calling Ones.__init__ (from tensorflow.python.ops.init_ops) with dtype is deprecated and will be removed in a future version.\n",
            "Instructions for updating:\n",
            "Call initializer instance with the dtype argument instead of passing it to the constructor\n",
            "I0623 13:45:20.007624 139702683232128 estimator.py:1147] Done calling model_fn.\n",
            "I0623 13:45:20.009461 139702683232128 basic_session_run_hooks.py:541] Create CheckpointSaverHook.\n",
            "I0623 13:45:24.810267 139702683232128 monitored_session.py:240] Graph was finalized.\n",
            "2019-06-23 13:45:24.816679: I tensorflow/core/platform/profile_utils/cpu_utils.cc:94] CPU Frequency: 2300000000 Hz\n",
            "2019-06-23 13:45:24.816953: I tensorflow/compiler/xla/service/service.cc:168] XLA service 0x1407d40 executing computations on platform Host. Devices:\n",
            "2019-06-23 13:45:24.816991: I tensorflow/compiler/xla/service/service.cc:175]   StreamExecutor device (0): <undefined>, <undefined>\n",
            "2019-06-23 13:45:24.819511: I tensorflow/stream_executor/platform/default/dso_loader.cc:42] Successfully opened dynamic library libcuda.so.1\n",
            "2019-06-23 13:45:24.888421: I tensorflow/stream_executor/cuda/cuda_gpu_executor.cc:1005] successful NUMA node read from SysFS had negative value (-1), but there must be at least one NUMA node, so returning NUMA node zero\n",
            "2019-06-23 13:45:24.889018: I tensorflow/compiler/xla/service/service.cc:168] XLA service 0x1406680 executing computations on platform CUDA. Devices:\n",
            "2019-06-23 13:45:24.889057: I tensorflow/compiler/xla/service/service.cc:175]   StreamExecutor device (0): Tesla K80, Compute Capability 3.7\n",
            "2019-06-23 13:45:24.889397: I tensorflow/stream_executor/cuda/cuda_gpu_executor.cc:1005] successful NUMA node read from SysFS had negative value (-1), but there must be at least one NUMA node, so returning NUMA node zero\n",
            "2019-06-23 13:45:24.889832: I tensorflow/core/common_runtime/gpu/gpu_device.cc:1640] Found device 0 with properties: \n",
            "name: Tesla K80 major: 3 minor: 7 memoryClockRate(GHz): 0.8235\n",
            "pciBusID: 0000:00:04.0\n",
            "2019-06-23 13:45:24.890274: I tensorflow/stream_executor/platform/default/dso_loader.cc:42] Successfully opened dynamic library libcudart.so.10.0\n",
            "2019-06-23 13:45:24.891769: I tensorflow/stream_executor/platform/default/dso_loader.cc:42] Successfully opened dynamic library libcublas.so.10.0\n",
            "2019-06-23 13:45:24.893280: I tensorflow/stream_executor/platform/default/dso_loader.cc:42] Successfully opened dynamic library libcufft.so.10.0\n",
            "2019-06-23 13:45:24.893669: I tensorflow/stream_executor/platform/default/dso_loader.cc:42] Successfully opened dynamic library libcurand.so.10.0\n",
            "2019-06-23 13:45:24.895426: I tensorflow/stream_executor/platform/default/dso_loader.cc:42] Successfully opened dynamic library libcusolver.so.10.0\n",
            "2019-06-23 13:45:24.896580: I tensorflow/stream_executor/platform/default/dso_loader.cc:42] Successfully opened dynamic library libcusparse.so.10.0\n",
            "2019-06-23 13:45:24.900320: I tensorflow/stream_executor/platform/default/dso_loader.cc:42] Successfully opened dynamic library libcudnn.so.7\n",
            "2019-06-23 13:45:24.900464: I tensorflow/stream_executor/cuda/cuda_gpu_executor.cc:1005] successful NUMA node read from SysFS had negative value (-1), but there must be at least one NUMA node, so returning NUMA node zero\n",
            "2019-06-23 13:45:24.900897: I tensorflow/stream_executor/cuda/cuda_gpu_executor.cc:1005] successful NUMA node read from SysFS had negative value (-1), but there must be at least one NUMA node, so returning NUMA node zero\n",
            "2019-06-23 13:45:24.901341: I tensorflow/core/common_runtime/gpu/gpu_device.cc:1763] Adding visible gpu devices: 0\n",
            "2019-06-23 13:45:24.901444: I tensorflow/stream_executor/platform/default/dso_loader.cc:42] Successfully opened dynamic library libcudart.so.10.0\n",
            "2019-06-23 13:45:24.903031: I tensorflow/core/common_runtime/gpu/gpu_device.cc:1181] Device interconnect StreamExecutor with strength 1 edge matrix:\n",
            "2019-06-23 13:45:24.903069: I tensorflow/core/common_runtime/gpu/gpu_device.cc:1187]      0 \n",
            "2019-06-23 13:45:24.903088: I tensorflow/core/common_runtime/gpu/gpu_device.cc:1200] 0:   N \n",
            "2019-06-23 13:45:24.903396: I tensorflow/stream_executor/cuda/cuda_gpu_executor.cc:1005] successful NUMA node read from SysFS had negative value (-1), but there must be at least one NUMA node, so returning NUMA node zero\n",
            "2019-06-23 13:45:24.903860: I tensorflow/stream_executor/cuda/cuda_gpu_executor.cc:1005] successful NUMA node read from SysFS had negative value (-1), but there must be at least one NUMA node, so returning NUMA node zero\n",
            "2019-06-23 13:45:24.904223: W tensorflow/core/common_runtime/gpu/gpu_bfc_allocator.cc:40] Overriding allow_growth setting because the TF_FORCE_GPU_ALLOW_GROWTH environment variable is set. Original config value was 0.\n",
            "2019-06-23 13:45:24.904297: I tensorflow/core/common_runtime/gpu/gpu_device.cc:1326] Created TensorFlow device (/job:localhost/replica:0/task:0/device:GPU:0 with 9101 MB memory) -> physical GPU (device: 0, name: Tesla K80, pci bus id: 0000:00:04.0, compute capability: 3.7)\n",
            "2019-06-23 13:45:30.430609: W tensorflow/compiler/jit/mark_for_compilation_pass.cc:1412] (One-time warning): Not using XLA:CPU for cluster because envvar TF_XLA_FLAGS=--tf_xla_cpu_global_jit was not set.  If you want XLA:CPU, either set that envvar, or use experimental_jit_scope to enable XLA:CPU.  To confirm that XLA is active, pass --vmodule=xla_compilation_cache=1 (as a proper command-line flag, not via TF_XLA_FLAGS) or set the envvar XLA_FLAGS=--xla_hlo_profile.\n",
            "I0623 13:45:30.568893 139702683232128 session_manager.py:500] Running local_init_op.\n",
            "I0623 13:45:30.956799 139702683232128 session_manager.py:502] Done running local_init_op.\n",
            "I0623 13:45:44.146889 139702683232128 basic_session_run_hooks.py:606] Saving checkpoints for 0 into training/model.ckpt.\n",
            "2019-06-23 13:46:04.955200: I tensorflow/core/kernels/data/shuffle_dataset_op.cc:111] Filling up shuffle buffer (this may take a while): 1484 of 2048\n",
            "2019-06-23 13:46:08.673195: I tensorflow/core/kernels/data/shuffle_dataset_op.cc:162] Shuffle buffer filled.\n",
            "2019-06-23 13:46:13.754115: I tensorflow/stream_executor/platform/default/dso_loader.cc:42] Successfully opened dynamic library libcudnn.so.7\n",
            "I0623 13:46:16.542700 139702683232128 basic_session_run_hooks.py:262] loss = 99.15079, step = 0\n",
            "I0623 13:47:54.785840 139702683232128 basic_session_run_hooks.py:692] global_step/sec: 1.01787\n",
            "I0623 13:47:54.787827 139702683232128 basic_session_run_hooks.py:260] loss = 8.375438, step = 100 (98.245 sec)\n",
            "I0623 13:49:27.451609 139702683232128 basic_session_run_hooks.py:692] global_step/sec: 1.07915\n",
            "I0623 13:49:27.453631 139702683232128 basic_session_run_hooks.py:260] loss = 8.426712, step = 200 (92.666 sec)\n",
            "I0623 13:51:00.719560 139702683232128 basic_session_run_hooks.py:692] global_step/sec: 1.07218\n",
            "I0623 13:51:00.721744 139702683232128 basic_session_run_hooks.py:260] loss = 8.661118, step = 300 (93.268 sec)\n",
            "I0623 13:52:33.543640 139702683232128 basic_session_run_hooks.py:692] global_step/sec: 1.07731\n",
            "I0623 13:52:33.545175 139702683232128 basic_session_run_hooks.py:260] loss = 7.4722395, step = 400 (92.823 sec)\n",
            "I0623 13:54:04.866092 139702683232128 basic_session_run_hooks.py:692] global_step/sec: 1.09502\n",
            "I0623 13:54:04.868278 139702683232128 basic_session_run_hooks.py:260] loss = 6.1854753, step = 500 (91.323 sec)\n",
            "I0623 13:55:36.351885 139702683232128 basic_session_run_hooks.py:692] global_step/sec: 1.09306\n",
            "I0623 13:55:36.353132 139702683232128 basic_session_run_hooks.py:260] loss = 5.797759, step = 600 (91.485 sec)\n",
            "I0623 13:55:48.337380 139702683232128 basic_session_run_hooks.py:606] Saving checkpoints for 614 into training/model.ckpt.\n",
            "I0623 13:55:52.182465 139702683232128 estimator.py:1145] Calling model_fn.\n",
            "I0623 13:55:56.012387 139702683232128 convolutional_box_predictor.py:151] depth of additional conv before box predictor: 0\n",
            "I0623 13:55:56.059493 139702683232128 convolutional_box_predictor.py:151] depth of additional conv before box predictor: 0\n",
            "I0623 13:55:56.106992 139702683232128 convolutional_box_predictor.py:151] depth of additional conv before box predictor: 0\n",
            "I0623 13:55:56.153501 139702683232128 convolutional_box_predictor.py:151] depth of additional conv before box predictor: 0\n",
            "I0623 13:55:56.200070 139702683232128 convolutional_box_predictor.py:151] depth of additional conv before box predictor: 0\n",
            "I0623 13:55:56.246476 139702683232128 convolutional_box_predictor.py:151] depth of additional conv before box predictor: 0\n",
            "W0623 13:55:58.537642 139702683232128 deprecation.py:323] From /content/models/research/object_detection/eval_util.py:791: to_int64 (from tensorflow.python.ops.math_ops) is deprecated and will be removed in a future version.\n",
            "Instructions for updating:\n",
            "Use `tf.cast` instead.\n",
            "W0623 13:55:58.798769 139702683232128 deprecation.py:323] From /content/models/research/object_detection/utils/visualization_utils.py:492: py_func (from tensorflow.python.ops.script_ops) is deprecated and will be removed in a future version.\n",
            "Instructions for updating:\n",
            "tf.py_func is deprecated in TF V2. Instead, there are two\n",
            "    options available in V2.\n",
            "    - tf.py_function takes a python function which manipulates tf eager\n",
            "    tensors instead of numpy arrays. It's easy to convert a tf eager tensor to\n",
            "    an ndarray (just call tensor.numpy()) but having access to eager tensors\n",
            "    means `tf.py_function`s can use accelerators such as GPUs as well as\n",
            "    being differentiable using a gradient tape.\n",
            "    - tf.numpy_function maintains the semantics of the deprecated tf.py_func\n",
            "    (it is not differentiable, and manipulates numpy arrays). It drops the\n",
            "    stateful argument making all functions stateful.\n",
            "    \n",
            "W0623 13:55:59.066559 139702683232128 deprecation_wrapper.py:119] From /content/models/research/object_detection/utils/visualization_utils.py:1005: The name tf.summary.image is deprecated. Please use tf.compat.v1.summary.image instead.\n",
            "\n",
            "W0623 13:55:59.214311 139702683232128 deprecation_wrapper.py:119] From /content/models/research/object_detection/model_lib.py:473: The name tf.metrics.mean is deprecated. Please use tf.compat.v1.metrics.mean instead.\n",
            "\n",
            "I0623 13:55:59.711711 139702683232128 estimator.py:1147] Done calling model_fn.\n",
            "I0623 13:55:59.741287 139702683232128 evaluation.py:255] Starting evaluation at 2019-06-23T13:55:59Z\n",
            "I0623 13:56:00.385813 139702683232128 monitored_session.py:240] Graph was finalized.\n",
            "2019-06-23 13:56:00.388229: I tensorflow/stream_executor/cuda/cuda_gpu_executor.cc:1005] successful NUMA node read from SysFS had negative value (-1), but there must be at least one NUMA node, so returning NUMA node zero\n",
            "2019-06-23 13:56:00.388590: I tensorflow/core/common_runtime/gpu/gpu_device.cc:1640] Found device 0 with properties: \n",
            "name: Tesla K80 major: 3 minor: 7 memoryClockRate(GHz): 0.8235\n",
            "pciBusID: 0000:00:04.0\n",
            "2019-06-23 13:56:00.388805: I tensorflow/stream_executor/platform/default/dso_loader.cc:42] Successfully opened dynamic library libcudart.so.10.0\n",
            "2019-06-23 13:56:00.388868: I tensorflow/stream_executor/platform/default/dso_loader.cc:42] Successfully opened dynamic library libcublas.so.10.0\n",
            "2019-06-23 13:56:00.388930: I tensorflow/stream_executor/platform/default/dso_loader.cc:42] Successfully opened dynamic library libcufft.so.10.0\n",
            "2019-06-23 13:56:00.388995: I tensorflow/stream_executor/platform/default/dso_loader.cc:42] Successfully opened dynamic library libcurand.so.10.0\n",
            "2019-06-23 13:56:00.389043: I tensorflow/stream_executor/platform/default/dso_loader.cc:42] Successfully opened dynamic library libcusolver.so.10.0\n",
            "2019-06-23 13:56:00.389082: I tensorflow/stream_executor/platform/default/dso_loader.cc:42] Successfully opened dynamic library libcusparse.so.10.0\n",
            "2019-06-23 13:56:00.389131: I tensorflow/stream_executor/platform/default/dso_loader.cc:42] Successfully opened dynamic library libcudnn.so.7\n",
            "2019-06-23 13:56:00.389316: I tensorflow/stream_executor/cuda/cuda_gpu_executor.cc:1005] successful NUMA node read from SysFS had negative value (-1), but there must be at least one NUMA node, so returning NUMA node zero\n",
            "2019-06-23 13:56:00.389764: I tensorflow/stream_executor/cuda/cuda_gpu_executor.cc:1005] successful NUMA node read from SysFS had negative value (-1), but there must be at least one NUMA node, so returning NUMA node zero\n",
            "2019-06-23 13:56:00.390036: I tensorflow/core/common_runtime/gpu/gpu_device.cc:1763] Adding visible gpu devices: 0\n",
            "2019-06-23 13:56:00.390272: I tensorflow/core/common_runtime/gpu/gpu_device.cc:1181] Device interconnect StreamExecutor with strength 1 edge matrix:\n",
            "2019-06-23 13:56:00.390297: I tensorflow/core/common_runtime/gpu/gpu_device.cc:1187]      0 \n",
            "2019-06-23 13:56:00.390317: I tensorflow/core/common_runtime/gpu/gpu_device.cc:1200] 0:   N \n",
            "2019-06-23 13:56:00.390617: I tensorflow/stream_executor/cuda/cuda_gpu_executor.cc:1005] successful NUMA node read from SysFS had negative value (-1), but there must be at least one NUMA node, so returning NUMA node zero\n",
            "2019-06-23 13:56:00.391036: I tensorflow/stream_executor/cuda/cuda_gpu_executor.cc:1005] successful NUMA node read from SysFS had negative value (-1), but there must be at least one NUMA node, so returning NUMA node zero\n",
            "2019-06-23 13:56:00.391392: I tensorflow/core/common_runtime/gpu/gpu_device.cc:1326] Created TensorFlow device (/job:localhost/replica:0/task:0/device:GPU:0 with 9101 MB memory) -> physical GPU (device: 0, name: Tesla K80, pci bus id: 0000:00:04.0, compute capability: 3.7)\n",
            "W0623 13:56:00.391638 139702683232128 deprecation.py:323] From /usr/local/lib/python3.6/dist-packages/tensorflow/python/training/saver.py:1276: checkpoint_exists (from tensorflow.python.training.checkpoint_management) is deprecated and will be removed in a future version.\n",
            "Instructions for updating:\n",
            "Use standard file APIs to check for files with this prefix.\n",
            "I0623 13:56:00.393871 139702683232128 saver.py:1280] Restoring parameters from training/model.ckpt-614\n",
            "I0623 13:56:01.525452 139702683232128 session_manager.py:500] Running local_init_op.\n",
            "I0623 13:56:01.690749 139702683232128 session_manager.py:502] Done running local_init_op.\n",
            "I0623 13:56:29.452845 139699903579904 coco_evaluation.py:200] Performing evaluation on 222 images.\n",
            "creating index...\n",
            "index created!\n",
            "I0623 13:56:29.453794 139699903579904 coco_tools.py:109] Loading and preparing annotation results...\n",
            "I0623 13:56:29.473964 139699903579904 coco_tools.py:131] DONE (t=0.02s)\n",
            "creating index...\n",
            "index created!\n",
            "Running per image evaluation...\n",
            "Evaluate annotation type *bbox*\n",
            "DONE (t=1.82s).\n",
            "Accumulating evaluation results...\n",
            "DONE (t=0.33s).\n",
            " Average Precision  (AP) @[ IoU=0.50:0.95 | area=   all | maxDets=100 ] = 0.001\n",
            " Average Precision  (AP) @[ IoU=0.50      | area=   all | maxDets=100 ] = 0.006\n",
            " Average Precision  (AP) @[ IoU=0.75      | area=   all | maxDets=100 ] = 0.000\n",
            " Average Precision  (AP) @[ IoU=0.50:0.95 | area= small | maxDets=100 ] = 0.002\n",
            " Average Precision  (AP) @[ IoU=0.50:0.95 | area=medium | maxDets=100 ] = 0.005\n",
            " Average Precision  (AP) @[ IoU=0.50:0.95 | area= large | maxDets=100 ] = 0.001\n",
            " Average Recall     (AR) @[ IoU=0.50:0.95 | area=   all | maxDets=  1 ] = 0.004\n",
            " Average Recall     (AR) @[ IoU=0.50:0.95 | area=   all | maxDets= 10 ] = 0.009\n",
            " Average Recall     (AR) @[ IoU=0.50:0.95 | area=   all | maxDets=100 ] = 0.013\n",
            " Average Recall     (AR) @[ IoU=0.50:0.95 | area= small | maxDets=100 ] = 0.017\n",
            " Average Recall     (AR) @[ IoU=0.50:0.95 | area=medium | maxDets=100 ] = 0.044\n",
            " Average Recall     (AR) @[ IoU=0.50:0.95 | area= large | maxDets=100 ] = 0.004\n",
            "I0623 13:56:31.803215 139702683232128 evaluation.py:275] Finished evaluation at 2019-06-23-13:56:31\n",
            "I0623 13:56:31.803617 139702683232128 estimator.py:2039] Saving dict for global step 614: DetectionBoxes_Precision/mAP = 0.001329712, DetectionBoxes_Precision/mAP (large) = 0.00053933763, DetectionBoxes_Precision/mAP (medium) = 0.0047573773, DetectionBoxes_Precision/mAP (small) = 0.001870187, DetectionBoxes_Precision/mAP@.50IOU = 0.005782525, DetectionBoxes_Precision/mAP@.75IOU = 0.00016968179, DetectionBoxes_Recall/AR@1 = 0.0038015463, DetectionBoxes_Recall/AR@10 = 0.009149484, DetectionBoxes_Recall/AR@100 = 0.012628866, DetectionBoxes_Recall/AR@100 (large) = 0.0037142858, DetectionBoxes_Recall/AR@100 (medium) = 0.043961354, DetectionBoxes_Recall/AR@100 (small) = 0.016666668, Loss/classification_loss = 7.005494, Loss/localization_loss = 1.4870963, Loss/regularization_loss = 0.26873037, Loss/total_loss = 8.761319, global_step = 614, learning_rate = 0.01, loss = 8.761319\n",
            "I0623 13:56:33.086100 139702683232128 estimator.py:2099] Saving 'checkpoint_path' summary for global step 614: training/model.ckpt-614\n",
            "I0623 13:57:53.158807 139702683232128 basic_session_run_hooks.py:692] global_step/sec: 0.730957\n",
            "I0623 13:57:53.160810 139702683232128 basic_session_run_hooks.py:260] loss = 6.588297, step = 700 (136.808 sec)\n",
            "I0623 13:59:25.195275 139702683232128 basic_session_run_hooks.py:692] global_step/sec: 1.08653\n",
            "I0623 13:59:25.196508 139702683232128 basic_session_run_hooks.py:260] loss = 8.209753, step = 800 (92.036 sec)\n",
            "I0623 14:00:56.893204 139702683232128 basic_session_run_hooks.py:692] global_step/sec: 1.09054\n",
            "I0623 14:00:56.895325 139702683232128 basic_session_run_hooks.py:260] loss = 6.9215865, step = 900 (91.699 sec)\n",
            "I0623 14:02:28.022971 139702683232128 basic_session_run_hooks.py:606] Saving checkpoints for 1000 into training/model.ckpt.\n",
            "I0623 14:02:31.117241 139702683232128 training.py:527] Skip the current checkpoint eval due to throttle secs (600 secs).\n",
            "I0623 14:02:32.671558 139702683232128 estimator.py:1145] Calling model_fn.\n",
            "I0623 14:02:35.994939 139702683232128 convolutional_box_predictor.py:151] depth of additional conv before box predictor: 0\n",
            "I0623 14:02:36.042884 139702683232128 convolutional_box_predictor.py:151] depth of additional conv before box predictor: 0\n",
            "I0623 14:02:36.090072 139702683232128 convolutional_box_predictor.py:151] depth of additional conv before box predictor: 0\n",
            "I0623 14:02:36.137544 139702683232128 convolutional_box_predictor.py:151] depth of additional conv before box predictor: 0\n",
            "I0623 14:02:36.183853 139702683232128 convolutional_box_predictor.py:151] depth of additional conv before box predictor: 0\n",
            "I0623 14:02:36.230453 139702683232128 convolutional_box_predictor.py:151] depth of additional conv before box predictor: 0\n",
            "I0623 14:02:40.126066 139702683232128 estimator.py:1147] Done calling model_fn.\n",
            "I0623 14:02:40.151531 139702683232128 evaluation.py:255] Starting evaluation at 2019-06-23T14:02:40Z\n",
            "I0623 14:02:40.783804 139702683232128 monitored_session.py:240] Graph was finalized.\n",
            "2019-06-23 14:02:40.784708: I tensorflow/stream_executor/cuda/cuda_gpu_executor.cc:1005] successful NUMA node read from SysFS had negative value (-1), but there must be at least one NUMA node, so returning NUMA node zero\n",
            "2019-06-23 14:02:40.785092: I tensorflow/core/common_runtime/gpu/gpu_device.cc:1640] Found device 0 with properties: \n",
            "name: Tesla K80 major: 3 minor: 7 memoryClockRate(GHz): 0.8235\n",
            "pciBusID: 0000:00:04.0\n",
            "2019-06-23 14:02:40.785245: I tensorflow/stream_executor/platform/default/dso_loader.cc:42] Successfully opened dynamic library libcudart.so.10.0\n",
            "2019-06-23 14:02:40.785291: I tensorflow/stream_executor/platform/default/dso_loader.cc:42] Successfully opened dynamic library libcublas.so.10.0\n",
            "2019-06-23 14:02:40.785339: I tensorflow/stream_executor/platform/default/dso_loader.cc:42] Successfully opened dynamic library libcufft.so.10.0\n",
            "2019-06-23 14:02:40.785380: I tensorflow/stream_executor/platform/default/dso_loader.cc:42] Successfully opened dynamic library libcurand.so.10.0\n",
            "2019-06-23 14:02:40.785419: I tensorflow/stream_executor/platform/default/dso_loader.cc:42] Successfully opened dynamic library libcusolver.so.10.0\n",
            "2019-06-23 14:02:40.785462: I tensorflow/stream_executor/platform/default/dso_loader.cc:42] Successfully opened dynamic library libcusparse.so.10.0\n",
            "2019-06-23 14:02:40.785504: I tensorflow/stream_executor/platform/default/dso_loader.cc:42] Successfully opened dynamic library libcudnn.so.7\n",
            "2019-06-23 14:02:40.785630: I tensorflow/stream_executor/cuda/cuda_gpu_executor.cc:1005] successful NUMA node read from SysFS had negative value (-1), but there must be at least one NUMA node, so returning NUMA node zero\n",
            "2019-06-23 14:02:40.786024: I tensorflow/stream_executor/cuda/cuda_gpu_executor.cc:1005] successful NUMA node read from SysFS had negative value (-1), but there must be at least one NUMA node, so returning NUMA node zero\n",
            "2019-06-23 14:02:40.786319: I tensorflow/core/common_runtime/gpu/gpu_device.cc:1763] Adding visible gpu devices: 0\n",
            "2019-06-23 14:02:40.786382: I tensorflow/core/common_runtime/gpu/gpu_device.cc:1181] Device interconnect StreamExecutor with strength 1 edge matrix:\n",
            "2019-06-23 14:02:40.786403: I tensorflow/core/common_runtime/gpu/gpu_device.cc:1187]      0 \n",
            "2019-06-23 14:02:40.786418: I tensorflow/core/common_runtime/gpu/gpu_device.cc:1200] 0:   N \n",
            "2019-06-23 14:02:40.786683: I tensorflow/stream_executor/cuda/cuda_gpu_executor.cc:1005] successful NUMA node read from SysFS had negative value (-1), but there must be at least one NUMA node, so returning NUMA node zero\n",
            "2019-06-23 14:02:40.787039: I tensorflow/stream_executor/cuda/cuda_gpu_executor.cc:1005] successful NUMA node read from SysFS had negative value (-1), but there must be at least one NUMA node, so returning NUMA node zero\n",
            "2019-06-23 14:02:40.787395: I tensorflow/core/common_runtime/gpu/gpu_device.cc:1326] Created TensorFlow device (/job:localhost/replica:0/task:0/device:GPU:0 with 9101 MB memory) -> physical GPU (device: 0, name: Tesla K80, pci bus id: 0000:00:04.0, compute capability: 3.7)\n",
            "I0623 14:02:40.789487 139702683232128 saver.py:1280] Restoring parameters from training/model.ckpt-1000\n",
            "I0623 14:02:41.958440 139702683232128 session_manager.py:500] Running local_init_op.\n",
            "I0623 14:02:42.109408 139702683232128 session_manager.py:502] Done running local_init_op.\n",
            "I0623 14:03:09.513803 139699911972608 coco_evaluation.py:200] Performing evaluation on 222 images.\n",
            "creating index...\n",
            "index created!\n",
            "I0623 14:03:09.516590 139699911972608 coco_tools.py:109] Loading and preparing annotation results...\n",
            "I0623 14:03:09.538893 139699911972608 coco_tools.py:131] DONE (t=0.02s)\n",
            "creating index...\n",
            "index created!\n",
            "Running per image evaluation...\n",
            "Evaluate annotation type *bbox*\n",
            "DONE (t=1.16s).\n",
            "Accumulating evaluation results...\n",
            "DONE (t=0.33s).\n",
            " Average Precision  (AP) @[ IoU=0.50:0.95 | area=   all | maxDets=100 ] = 0.005\n",
            " Average Precision  (AP) @[ IoU=0.50      | area=   all | maxDets=100 ] = 0.014\n",
            " Average Precision  (AP) @[ IoU=0.75      | area=   all | maxDets=100 ] = 0.004\n",
            " Average Precision  (AP) @[ IoU=0.50:0.95 | area= small | maxDets=100 ] = 0.000\n",
            " Average Precision  (AP) @[ IoU=0.50:0.95 | area=medium | maxDets=100 ] = 0.025\n",
            " Average Precision  (AP) @[ IoU=0.50:0.95 | area= large | maxDets=100 ] = 0.016\n",
            " Average Recall     (AR) @[ IoU=0.50:0.95 | area=   all | maxDets=  1 ] = 0.018\n",
            " Average Recall     (AR) @[ IoU=0.50:0.95 | area=   all | maxDets= 10 ] = 0.030\n",
            " Average Recall     (AR) @[ IoU=0.50:0.95 | area=   all | maxDets=100 ] = 0.036\n",
            " Average Recall     (AR) @[ IoU=0.50:0.95 | area= small | maxDets=100 ] = 0.000\n",
            " Average Recall     (AR) @[ IoU=0.50:0.95 | area=medium | maxDets=100 ] = 0.083\n",
            " Average Recall     (AR) @[ IoU=0.50:0.95 | area= large | maxDets=100 ] = 0.059\n",
            "I0623 14:03:11.481096 139702683232128 evaluation.py:275] Finished evaluation at 2019-06-23-14:03:11\n",
            "I0623 14:03:11.481606 139702683232128 estimator.py:2039] Saving dict for global step 1000: DetectionBoxes_Precision/mAP = 0.005074207, DetectionBoxes_Precision/mAP (large) = 0.01626975, DetectionBoxes_Precision/mAP (medium) = 0.024644213, DetectionBoxes_Precision/mAP (small) = 0.0, DetectionBoxes_Precision/mAP@.50IOU = 0.013817892, DetectionBoxes_Precision/mAP@.75IOU = 0.0042677904, DetectionBoxes_Recall/AR@1 = 0.017838733, DetectionBoxes_Recall/AR@10 = 0.029565537, DetectionBoxes_Recall/AR@100 = 0.03562224, DetectionBoxes_Recall/AR@100 (large) = 0.059142858, DetectionBoxes_Recall/AR@100 (medium) = 0.083429955, DetectionBoxes_Recall/AR@100 (small) = 0.0, Loss/classification_loss = 6.297568, Loss/localization_loss = 0.8847324, Loss/regularization_loss = 0.27138925, Loss/total_loss = 7.45369, global_step = 1000, learning_rate = 0.01, loss = 7.45369\n",
            "I0623 14:03:11.495052 139702683232128 estimator.py:2099] Saving 'checkpoint_path' summary for global step 1000: training/model.ckpt-1000\n",
            "I0623 14:03:11.496426 139702683232128 exporter.py:410] Performing the final export in the end of training.\n",
            "I0623 14:03:11.790373 139702683232128 estimator.py:1145] Calling model_fn.\n",
            "I0623 14:03:15.923875 139702683232128 convolutional_box_predictor.py:151] depth of additional conv before box predictor: 0\n",
            "I0623 14:03:15.973079 139702683232128 convolutional_box_predictor.py:151] depth of additional conv before box predictor: 0\n",
            "I0623 14:03:16.022023 139702683232128 convolutional_box_predictor.py:151] depth of additional conv before box predictor: 0\n",
            "I0623 14:03:16.067767 139702683232128 convolutional_box_predictor.py:151] depth of additional conv before box predictor: 0\n",
            "I0623 14:03:16.114486 139702683232128 convolutional_box_predictor.py:151] depth of additional conv before box predictor: 0\n",
            "I0623 14:03:16.173004 139702683232128 convolutional_box_predictor.py:151] depth of additional conv before box predictor: 0\n",
            "W0623 14:03:17.998866 139702683232128 deprecation_wrapper.py:119] From /content/models/research/object_detection/model_lib.py:419: The name tf.saved_model.signature_constants.PREDICT_METHOD_NAME is deprecated. Please use tf.saved_model.PREDICT_METHOD_NAME instead.\n",
            "\n",
            "I0623 14:03:18.382069 139702683232128 estimator.py:1147] Done calling model_fn.\n",
            "W0623 14:03:18.382541 139702683232128 deprecation.py:323] From /usr/local/lib/python3.6/dist-packages/tensorflow/python/saved_model/signature_def_utils_impl.py:201: build_tensor_info (from tensorflow.python.saved_model.utils_impl) is deprecated and will be removed in a future version.\n",
            "Instructions for updating:\n",
            "This function will only be available through the v1 compatibility library as tf.compat.v1.saved_model.utils.build_tensor_info or tf.compat.v1.saved_model.build_tensor_info.\n",
            "I0623 14:03:18.383368 139702683232128 export_utils.py:170] Signatures INCLUDED in export for Classify: None\n",
            "I0623 14:03:18.383476 139702683232128 export_utils.py:170] Signatures INCLUDED in export for Regress: None\n",
            "I0623 14:03:18.383574 139702683232128 export_utils.py:170] Signatures INCLUDED in export for Predict: ['tensorflow/serving/predict', 'serving_default']\n",
            "I0623 14:03:18.383666 139702683232128 export_utils.py:170] Signatures INCLUDED in export for Train: None\n",
            "I0623 14:03:18.383761 139702683232128 export_utils.py:170] Signatures INCLUDED in export for Eval: None\n",
            "2019-06-23 14:03:18.384603: I tensorflow/stream_executor/cuda/cuda_gpu_executor.cc:1005] successful NUMA node read from SysFS had negative value (-1), but there must be at least one NUMA node, so returning NUMA node zero\n",
            "2019-06-23 14:03:18.385000: I tensorflow/core/common_runtime/gpu/gpu_device.cc:1640] Found device 0 with properties: \n",
            "name: Tesla K80 major: 3 minor: 7 memoryClockRate(GHz): 0.8235\n",
            "pciBusID: 0000:00:04.0\n",
            "2019-06-23 14:03:18.385104: I tensorflow/stream_executor/platform/default/dso_loader.cc:42] Successfully opened dynamic library libcudart.so.10.0\n",
            "2019-06-23 14:03:18.385166: I tensorflow/stream_executor/platform/default/dso_loader.cc:42] Successfully opened dynamic library libcublas.so.10.0\n",
            "2019-06-23 14:03:18.385205: I tensorflow/stream_executor/platform/default/dso_loader.cc:42] Successfully opened dynamic library libcufft.so.10.0\n",
            "2019-06-23 14:03:18.385243: I tensorflow/stream_executor/platform/default/dso_loader.cc:42] Successfully opened dynamic library libcurand.so.10.0\n",
            "2019-06-23 14:03:18.385280: I tensorflow/stream_executor/platform/default/dso_loader.cc:42] Successfully opened dynamic library libcusolver.so.10.0\n",
            "2019-06-23 14:03:18.385321: I tensorflow/stream_executor/platform/default/dso_loader.cc:42] Successfully opened dynamic library libcusparse.so.10.0\n",
            "2019-06-23 14:03:18.385359: I tensorflow/stream_executor/platform/default/dso_loader.cc:42] Successfully opened dynamic library libcudnn.so.7\n",
            "2019-06-23 14:03:18.385495: I tensorflow/stream_executor/cuda/cuda_gpu_executor.cc:1005] successful NUMA node read from SysFS had negative value (-1), but there must be at least one NUMA node, so returning NUMA node zero\n",
            "2019-06-23 14:03:18.385978: I tensorflow/stream_executor/cuda/cuda_gpu_executor.cc:1005] successful NUMA node read from SysFS had negative value (-1), but there must be at least one NUMA node, so returning NUMA node zero\n",
            "2019-06-23 14:03:18.386323: I tensorflow/core/common_runtime/gpu/gpu_device.cc:1763] Adding visible gpu devices: 0\n",
            "2019-06-23 14:03:18.386381: I tensorflow/core/common_runtime/gpu/gpu_device.cc:1181] Device interconnect StreamExecutor with strength 1 edge matrix:\n",
            "2019-06-23 14:03:18.386402: I tensorflow/core/common_runtime/gpu/gpu_device.cc:1187]      0 \n",
            "2019-06-23 14:03:18.386416: I tensorflow/core/common_runtime/gpu/gpu_device.cc:1200] 0:   N \n",
            "2019-06-23 14:03:18.386672: I tensorflow/stream_executor/cuda/cuda_gpu_executor.cc:1005] successful NUMA node read from SysFS had negative value (-1), but there must be at least one NUMA node, so returning NUMA node zero\n",
            "2019-06-23 14:03:18.387133: I tensorflow/stream_executor/cuda/cuda_gpu_executor.cc:1005] successful NUMA node read from SysFS had negative value (-1), but there must be at least one NUMA node, so returning NUMA node zero\n",
            "2019-06-23 14:03:18.387439: I tensorflow/core/common_runtime/gpu/gpu_device.cc:1326] Created TensorFlow device (/job:localhost/replica:0/task:0/device:GPU:0 with 9101 MB memory) -> physical GPU (device: 0, name: Tesla K80, pci bus id: 0000:00:04.0, compute capability: 3.7)\n",
            "I0623 14:03:18.392182 139702683232128 saver.py:1280] Restoring parameters from training/model.ckpt-1000\n",
            "I0623 14:03:19.119440 139702683232128 builder_impl.py:661] Assets added to graph.\n",
            "I0623 14:03:19.119694 139702683232128 builder_impl.py:456] No assets to write.\n",
            "I0623 14:03:20.520101 139702683232128 builder_impl.py:421] SavedModel written to: training/export/Servo/temp-b'1561298591'/saved_model.pb\n",
            "I0623 14:03:21.232792 139702683232128 estimator.py:368] Loss for final step: 6.514637.\n"
          ],
          "name": "stdout"
        }
      ]
    },
    {
      "cell_type": "code",
      "metadata": {
        "id": "Iata9zlI0Lbl",
        "colab_type": "code",
        "outputId": "a2f975ed-51d9-4c42-9f85-509f2bd7082b",
        "colab": {
          "base_uri": "https://localhost:8080/",
          "height": 71
        }
      },
      "source": [
        "!ls -alh {model_dir}"
      ],
      "execution_count": 0,
      "outputs": [
        {
          "output_type": "stream",
          "text": [
            "total 8.0K\n",
            "drwxr-xr-x 2 root root 4.0K Jun 22 17:50 .\n",
            "drwxr-xr-x 3 root root 4.0K Jun 22 17:50 ..\n"
          ],
          "name": "stdout"
        }
      ]
    },
    {
      "cell_type": "code",
      "metadata": {
        "id": "OaVVbr-xgRur",
        "colab_type": "code",
        "colab": {}
      },
      "source": [
        "#!ls -alh {model_dir}/eval_0\n",
        "#files.download(model_dir+'eval_0/events.out.tfevents.1560775074.a94332887a44')"
      ],
      "execution_count": 0,
      "outputs": []
    },
    {
      "cell_type": "code",
      "metadata": {
        "id": "UhHoL1lYgn6W",
        "colab_type": "code",
        "outputId": "aad0180d-62fb-4aa3-8fdc-51ea2d30e4eb",
        "colab": {
          "base_uri": "https://localhost:8080/",
          "height": 107
        }
      },
      "source": [
        "#!ls -alh {model_dir}/export/Servo/1560775075"
      ],
      "execution_count": 0,
      "outputs": [
        {
          "output_type": "stream",
          "text": [
            "total 1.8M\n",
            "drwxr-xr-x 3 root root 4.0K Jun 17 12:38 .\n",
            "drwxr-xr-x 3 root root 4.0K Jun 17 12:38 ..\n",
            "-rw-r--r-- 1 root root 1.8M Jun 17 12:38 saved_model.pb\n",
            "drwxr-xr-x 2 root root 4.0K Jun 17 12:38 variables\n"
          ],
          "name": "stdout"
        }
      ]
    },
    {
      "cell_type": "code",
      "metadata": {
        "id": "2kVUqQCOFRGK",
        "colab_type": "code",
        "outputId": "89121edf-21f4-4310-fcb5-05555edd751c",
        "colab": {
          "base_uri": "https://localhost:8080/",
          "height": 12691
        }
      },
      "source": [
        "import re\n",
        "import numpy as np\n",
        "\n",
        "output_directory = './fine_tuned_model'\n",
        "\n",
        "lst = os.listdir(model_dir)\n",
        "lst = [l for l in lst if 'model.ckpt-' in l and '.meta' in l]\n",
        "steps=np.array([int(re.findall('\\d+', l)[0]) for l in lst])\n",
        "last_model = lst[steps.argmax()].replace('.meta', '')\n",
        "\n",
        "last_model_path = os.path.join(model_dir, last_model)\n",
        "print(last_model_path)\n",
        "!python /content/models/research/object_detection/export_inference_graph.py \\\n",
        "    --input_type=image_tensor \\\n",
        "    --pipeline_config_path={pipeline_fname} \\\n",
        "    --output_directory={output_directory} \\\n",
        "    --trained_checkpoint_prefix={last_model_path}"
      ],
      "execution_count": 90,
      "outputs": [
        {
          "output_type": "stream",
          "text": [
            "training/model.ckpt-1000\n",
            "WARNING: Logging before flag parsing goes to stderr.\n",
            "W0623 14:12:56.282656 140008059287424 deprecation_wrapper.py:119] From /content/models/research/slim/nets/inception_resnet_v2.py:373: The name tf.GraphKeys is deprecated. Please use tf.compat.v1.GraphKeys instead.\n",
            "\n",
            "W0623 14:12:56.295436 140008059287424 deprecation_wrapper.py:119] From /content/models/research/slim/nets/mobilenet/mobilenet.py:397: The name tf.nn.avg_pool is deprecated. Please use tf.nn.avg_pool2d instead.\n",
            "\n",
            "W0623 14:12:56.308172 140008059287424 deprecation_wrapper.py:119] From /content/models/research/object_detection/export_inference_graph.py:156: The name tf.app.run is deprecated. Please use tf.compat.v1.app.run instead.\n",
            "\n",
            "W0623 14:12:56.308998 140008059287424 deprecation_wrapper.py:119] From /content/models/research/object_detection/export_inference_graph.py:139: The name tf.gfile.GFile is deprecated. Please use tf.io.gfile.GFile instead.\n",
            "\n",
            "W0623 14:12:56.336735 140008059287424 deprecation_wrapper.py:119] From /content/models/research/object_detection/exporter.py:367: The name tf.gfile.MakeDirs is deprecated. Please use tf.io.gfile.makedirs instead.\n",
            "\n",
            "W0623 14:12:56.340232 140008059287424 deprecation_wrapper.py:119] From /content/models/research/object_detection/exporter.py:110: The name tf.placeholder is deprecated. Please use tf.compat.v1.placeholder instead.\n",
            "\n",
            "W0623 14:12:56.384853 140008059287424 deprecation_wrapper.py:119] From /content/models/research/object_detection/core/preprocessor.py:2515: The name tf.image.resize_images is deprecated. Please use tf.image.resize instead.\n",
            "\n",
            "W0623 14:12:56.563932 140008059287424 deprecation_wrapper.py:119] From /content/models/research/object_detection/meta_architectures/ssd_meta_arch.py:566: The name tf.variable_scope is deprecated. Please use tf.compat.v1.variable_scope instead.\n",
            "\n",
            "W0623 14:13:00.459471 140008059287424 deprecation_wrapper.py:119] From /content/models/research/object_detection/core/anchor_generator.py:149: The name tf.assert_equal is deprecated. Please use tf.compat.v1.assert_equal instead.\n",
            "\n",
            "W0623 14:13:00.476692 140008059287424 deprecation_wrapper.py:119] From /content/models/research/object_detection/predictors/convolutional_box_predictor.py:150: The name tf.logging.info is deprecated. Please use tf.compat.v1.logging.info instead.\n",
            "\n",
            "I0623 14:13:00.476913 140008059287424 convolutional_box_predictor.py:151] depth of additional conv before box predictor: 0\n",
            "I0623 14:13:00.536812 140008059287424 convolutional_box_predictor.py:151] depth of additional conv before box predictor: 0\n",
            "I0623 14:13:00.595882 140008059287424 convolutional_box_predictor.py:151] depth of additional conv before box predictor: 0\n",
            "I0623 14:13:00.654332 140008059287424 convolutional_box_predictor.py:151] depth of additional conv before box predictor: 0\n",
            "I0623 14:13:00.713747 140008059287424 convolutional_box_predictor.py:151] depth of additional conv before box predictor: 0\n",
            "I0623 14:13:00.780014 140008059287424 convolutional_box_predictor.py:151] depth of additional conv before box predictor: 0\n",
            "W0623 14:13:01.129040 140008059287424 deprecation.py:323] From /content/models/research/object_detection/core/post_processing.py:255: add_dispatch_support.<locals>.wrapper (from tensorflow.python.ops.array_ops) is deprecated and will be removed in a future version.\n",
            "Instructions for updating:\n",
            "Use tf.where in 2.0, which has the same broadcast rule as np.where\n",
            "W0623 14:13:03.006747 140008059287424 deprecation_wrapper.py:119] From /content/models/research/object_detection/exporter.py:246: The name tf.add_to_collection is deprecated. Please use tf.compat.v1.add_to_collection instead.\n",
            "\n",
            "W0623 14:13:03.007082 140008059287424 deprecation.py:323] From /content/models/research/object_detection/exporter.py:348: get_or_create_global_step (from tensorflow.contrib.framework.python.ops.variables) is deprecated and will be removed in a future version.\n",
            "Instructions for updating:\n",
            "Please switch to tf.train.get_or_create_global_step\n",
            "W0623 14:13:03.011937 140008059287424 deprecation.py:323] From /content/models/research/object_detection/exporter.py:504: print_model_analysis (from tensorflow.contrib.tfprof.model_analyzer) is deprecated and will be removed after 2018-01-01.\n",
            "Instructions for updating:\n",
            "Use `tf.profiler.profile(graph, run_meta, op_log, cmd, options)`. Build `options` with `tf.profiler.ProfileOptionBuilder`. See README.md for details\n",
            "W0623 14:13:03.013480 140008059287424 deprecation.py:323] From /usr/local/lib/python3.6/dist-packages/tensorflow/python/profiler/internal/flops_registry.py:142: tensor_shape_from_node_def_name (from tensorflow.python.framework.graph_util_impl) is deprecated and will be removed in a future version.\n",
            "Instructions for updating:\n",
            "Use `tf.compat.v1.graph_util.tensor_shape_from_node_def_name`\n",
            "230 ops no flops stats due to incomplete shapes.\n",
            "Parsing Inputs...\n",
            "Incomplete shape.\n",
            "\n",
            "=========================Options=============================\n",
            "-max_depth                  10000\n",
            "-min_bytes                  0\n",
            "-min_peak_bytes             0\n",
            "-min_residual_bytes         0\n",
            "-min_output_bytes           0\n",
            "-min_micros                 0\n",
            "-min_accelerator_micros     0\n",
            "-min_cpu_micros             0\n",
            "-min_params                 0\n",
            "-min_float_ops              0\n",
            "-min_occurrence             0\n",
            "-step                       -1\n",
            "-order_by                   name\n",
            "-account_type_regexes       _trainable_variables\n",
            "-start_name_regexes         .*\n",
            "-trim_name_regexes          .*BatchNorm.*\n",
            "-show_name_regexes          .*\n",
            "-hide_name_regexes          \n",
            "-account_displayed_op_only  true\n",
            "-select                     params\n",
            "-output                     stdout:\n",
            "\n",
            "==================Model Analysis Report======================\n",
            "Incomplete shape.\n",
            "\n",
            "Doc:\n",
            "scope: The nodes in the model graph are organized by their names, which is hierarchical like filesystem.\n",
            "param: Number of parameters (in the Variable).\n",
            "\n",
            "Profile:\n",
            "node name | # parameters\n",
            "_TFProfRoot (--/5.03m params)\n",
            "  BoxPredictor_0 (--/58.85k params)\n",
            "    BoxPredictor_0/BoxEncodingPredictor (--/6.92k params)\n",
            "      BoxPredictor_0/BoxEncodingPredictor/biases (12, 12/12 params)\n",
            "      BoxPredictor_0/BoxEncodingPredictor/weights (1x1x576x12, 6.91k/6.91k params)\n",
            "    BoxPredictor_0/ClassPredictor (--/51.93k params)\n",
            "      BoxPredictor_0/ClassPredictor/biases (90, 90/90 params)\n",
            "      BoxPredictor_0/ClassPredictor/weights (1x1x576x90, 51.84k/51.84k params)\n",
            "  BoxPredictor_1 (--/261.32k params)\n",
            "    BoxPredictor_1/BoxEncodingPredictor (--/30.74k params)\n",
            "      BoxPredictor_1/BoxEncodingPredictor/biases (24, 24/24 params)\n",
            "      BoxPredictor_1/BoxEncodingPredictor/weights (1x1x1280x24, 30.72k/30.72k params)\n",
            "    BoxPredictor_1/ClassPredictor (--/230.58k params)\n",
            "      BoxPredictor_1/ClassPredictor/biases (180, 180/180 params)\n",
            "      BoxPredictor_1/ClassPredictor/weights (1x1x1280x180, 230.40k/230.40k params)\n",
            "  BoxPredictor_2 (--/104.65k params)\n",
            "    BoxPredictor_2/BoxEncodingPredictor (--/12.31k params)\n",
            "      BoxPredictor_2/BoxEncodingPredictor/biases (24, 24/24 params)\n",
            "      BoxPredictor_2/BoxEncodingPredictor/weights (1x1x512x24, 12.29k/12.29k params)\n",
            "    BoxPredictor_2/ClassPredictor (--/92.34k params)\n",
            "      BoxPredictor_2/ClassPredictor/biases (180, 180/180 params)\n",
            "      BoxPredictor_2/ClassPredictor/weights (1x1x512x180, 92.16k/92.16k params)\n",
            "  BoxPredictor_3 (--/52.43k params)\n",
            "    BoxPredictor_3/BoxEncodingPredictor (--/6.17k params)\n",
            "      BoxPredictor_3/BoxEncodingPredictor/biases (24, 24/24 params)\n",
            "      BoxPredictor_3/BoxEncodingPredictor/weights (1x1x256x24, 6.14k/6.14k params)\n",
            "    BoxPredictor_3/ClassPredictor (--/46.26k params)\n",
            "      BoxPredictor_3/ClassPredictor/biases (180, 180/180 params)\n",
            "      BoxPredictor_3/ClassPredictor/weights (1x1x256x180, 46.08k/46.08k params)\n",
            "  BoxPredictor_4 (--/52.43k params)\n",
            "    BoxPredictor_4/BoxEncodingPredictor (--/6.17k params)\n",
            "      BoxPredictor_4/BoxEncodingPredictor/biases (24, 24/24 params)\n",
            "      BoxPredictor_4/BoxEncodingPredictor/weights (1x1x256x24, 6.14k/6.14k params)\n",
            "    BoxPredictor_4/ClassPredictor (--/46.26k params)\n",
            "      BoxPredictor_4/ClassPredictor/biases (180, 180/180 params)\n",
            "      BoxPredictor_4/ClassPredictor/weights (1x1x256x180, 46.08k/46.08k params)\n",
            "  BoxPredictor_5 (--/26.32k params)\n",
            "    BoxPredictor_5/BoxEncodingPredictor (--/3.10k params)\n",
            "      BoxPredictor_5/BoxEncodingPredictor/biases (24, 24/24 params)\n",
            "      BoxPredictor_5/BoxEncodingPredictor/weights (1x1x128x24, 3.07k/3.07k params)\n",
            "    BoxPredictor_5/ClassPredictor (--/23.22k params)\n",
            "      BoxPredictor_5/ClassPredictor/biases (180, 180/180 params)\n",
            "      BoxPredictor_5/ClassPredictor/weights (1x1x128x180, 23.04k/23.04k params)\n",
            "  FeatureExtractor (--/4.48m params)\n",
            "    FeatureExtractor/MobilenetV2 (--/4.48m params)\n",
            "      FeatureExtractor/MobilenetV2/Conv (--/864 params)\n",
            "        FeatureExtractor/MobilenetV2/Conv/BatchNorm (--/0 params)\n",
            "        FeatureExtractor/MobilenetV2/Conv/weights (3x3x3x32, 864/864 params)\n",
            "      FeatureExtractor/MobilenetV2/Conv_1 (--/409.60k params)\n",
            "        FeatureExtractor/MobilenetV2/Conv_1/BatchNorm (--/0 params)\n",
            "        FeatureExtractor/MobilenetV2/Conv_1/weights (1x1x320x1280, 409.60k/409.60k params)\n",
            "      FeatureExtractor/MobilenetV2/expanded_conv (--/800 params)\n",
            "        FeatureExtractor/MobilenetV2/expanded_conv/depthwise (--/288 params)\n",
            "          FeatureExtractor/MobilenetV2/expanded_conv/depthwise/BatchNorm (--/0 params)\n",
            "          FeatureExtractor/MobilenetV2/expanded_conv/depthwise/depthwise_weights (3x3x32x1, 288/288 params)\n",
            "        FeatureExtractor/MobilenetV2/expanded_conv/project (--/512 params)\n",
            "          FeatureExtractor/MobilenetV2/expanded_conv/project/BatchNorm (--/0 params)\n",
            "          FeatureExtractor/MobilenetV2/expanded_conv/project/weights (1x1x32x16, 512/512 params)\n",
            "      FeatureExtractor/MobilenetV2/expanded_conv_1 (--/4.70k params)\n",
            "        FeatureExtractor/MobilenetV2/expanded_conv_1/depthwise (--/864 params)\n",
            "          FeatureExtractor/MobilenetV2/expanded_conv_1/depthwise/BatchNorm (--/0 params)\n",
            "          FeatureExtractor/MobilenetV2/expanded_conv_1/depthwise/depthwise_weights (3x3x96x1, 864/864 params)\n",
            "        FeatureExtractor/MobilenetV2/expanded_conv_1/expand (--/1.54k params)\n",
            "          FeatureExtractor/MobilenetV2/expanded_conv_1/expand/BatchNorm (--/0 params)\n",
            "          FeatureExtractor/MobilenetV2/expanded_conv_1/expand/weights (1x1x16x96, 1.54k/1.54k params)\n",
            "        FeatureExtractor/MobilenetV2/expanded_conv_1/project (--/2.30k params)\n",
            "          FeatureExtractor/MobilenetV2/expanded_conv_1/project/BatchNorm (--/0 params)\n",
            "          FeatureExtractor/MobilenetV2/expanded_conv_1/project/weights (1x1x96x24, 2.30k/2.30k params)\n",
            "      FeatureExtractor/MobilenetV2/expanded_conv_10 (--/64.90k params)\n",
            "        FeatureExtractor/MobilenetV2/expanded_conv_10/depthwise (--/3.46k params)\n",
            "          FeatureExtractor/MobilenetV2/expanded_conv_10/depthwise/BatchNorm (--/0 params)\n",
            "          FeatureExtractor/MobilenetV2/expanded_conv_10/depthwise/depthwise_weights (3x3x384x1, 3.46k/3.46k params)\n",
            "        FeatureExtractor/MobilenetV2/expanded_conv_10/expand (--/24.58k params)\n",
            "          FeatureExtractor/MobilenetV2/expanded_conv_10/expand/BatchNorm (--/0 params)\n",
            "          FeatureExtractor/MobilenetV2/expanded_conv_10/expand/weights (1x1x64x384, 24.58k/24.58k params)\n",
            "        FeatureExtractor/MobilenetV2/expanded_conv_10/project (--/36.86k params)\n",
            "          FeatureExtractor/MobilenetV2/expanded_conv_10/project/BatchNorm (--/0 params)\n",
            "          FeatureExtractor/MobilenetV2/expanded_conv_10/project/weights (1x1x384x96, 36.86k/36.86k params)\n",
            "      FeatureExtractor/MobilenetV2/expanded_conv_11 (--/115.78k params)\n",
            "        FeatureExtractor/MobilenetV2/expanded_conv_11/depthwise (--/5.18k params)\n",
            "          FeatureExtractor/MobilenetV2/expanded_conv_11/depthwise/BatchNorm (--/0 params)\n",
            "          FeatureExtractor/MobilenetV2/expanded_conv_11/depthwise/depthwise_weights (3x3x576x1, 5.18k/5.18k params)\n",
            "        FeatureExtractor/MobilenetV2/expanded_conv_11/expand (--/55.30k params)\n",
            "          FeatureExtractor/MobilenetV2/expanded_conv_11/expand/BatchNorm (--/0 params)\n",
            "          FeatureExtractor/MobilenetV2/expanded_conv_11/expand/weights (1x1x96x576, 55.30k/55.30k params)\n",
            "        FeatureExtractor/MobilenetV2/expanded_conv_11/project (--/55.30k params)\n",
            "          FeatureExtractor/MobilenetV2/expanded_conv_11/project/BatchNorm (--/0 params)\n",
            "          FeatureExtractor/MobilenetV2/expanded_conv_11/project/weights (1x1x576x96, 55.30k/55.30k params)\n",
            "      FeatureExtractor/MobilenetV2/expanded_conv_12 (--/115.78k params)\n",
            "        FeatureExtractor/MobilenetV2/expanded_conv_12/depthwise (--/5.18k params)\n",
            "          FeatureExtractor/MobilenetV2/expanded_conv_12/depthwise/BatchNorm (--/0 params)\n",
            "          FeatureExtractor/MobilenetV2/expanded_conv_12/depthwise/depthwise_weights (3x3x576x1, 5.18k/5.18k params)\n",
            "        FeatureExtractor/MobilenetV2/expanded_conv_12/expand (--/55.30k params)\n",
            "          FeatureExtractor/MobilenetV2/expanded_conv_12/expand/BatchNorm (--/0 params)\n",
            "          FeatureExtractor/MobilenetV2/expanded_conv_12/expand/weights (1x1x96x576, 55.30k/55.30k params)\n",
            "        FeatureExtractor/MobilenetV2/expanded_conv_12/project (--/55.30k params)\n",
            "          FeatureExtractor/MobilenetV2/expanded_conv_12/project/BatchNorm (--/0 params)\n",
            "          FeatureExtractor/MobilenetV2/expanded_conv_12/project/weights (1x1x576x96, 55.30k/55.30k params)\n",
            "      FeatureExtractor/MobilenetV2/expanded_conv_13 (--/152.64k params)\n",
            "        FeatureExtractor/MobilenetV2/expanded_conv_13/depthwise (--/5.18k params)\n",
            "          FeatureExtractor/MobilenetV2/expanded_conv_13/depthwise/BatchNorm (--/0 params)\n",
            "          FeatureExtractor/MobilenetV2/expanded_conv_13/depthwise/depthwise_weights (3x3x576x1, 5.18k/5.18k params)\n",
            "        FeatureExtractor/MobilenetV2/expanded_conv_13/expand (--/55.30k params)\n",
            "          FeatureExtractor/MobilenetV2/expanded_conv_13/expand/BatchNorm (--/0 params)\n",
            "          FeatureExtractor/MobilenetV2/expanded_conv_13/expand/weights (1x1x96x576, 55.30k/55.30k params)\n",
            "        FeatureExtractor/MobilenetV2/expanded_conv_13/project (--/92.16k params)\n",
            "          FeatureExtractor/MobilenetV2/expanded_conv_13/project/BatchNorm (--/0 params)\n",
            "          FeatureExtractor/MobilenetV2/expanded_conv_13/project/weights (1x1x576x160, 92.16k/92.16k params)\n",
            "      FeatureExtractor/MobilenetV2/expanded_conv_14 (--/315.84k params)\n",
            "        FeatureExtractor/MobilenetV2/expanded_conv_14/depthwise (--/8.64k params)\n",
            "          FeatureExtractor/MobilenetV2/expanded_conv_14/depthwise/BatchNorm (--/0 params)\n",
            "          FeatureExtractor/MobilenetV2/expanded_conv_14/depthwise/depthwise_weights (3x3x960x1, 8.64k/8.64k params)\n",
            "        FeatureExtractor/MobilenetV2/expanded_conv_14/expand (--/153.60k params)\n",
            "          FeatureExtractor/MobilenetV2/expanded_conv_14/expand/BatchNorm (--/0 params)\n",
            "          FeatureExtractor/MobilenetV2/expanded_conv_14/expand/weights (1x1x160x960, 153.60k/153.60k params)\n",
            "        FeatureExtractor/MobilenetV2/expanded_conv_14/project (--/153.60k params)\n",
            "          FeatureExtractor/MobilenetV2/expanded_conv_14/project/BatchNorm (--/0 params)\n",
            "          FeatureExtractor/MobilenetV2/expanded_conv_14/project/weights (1x1x960x160, 153.60k/153.60k params)\n",
            "      FeatureExtractor/MobilenetV2/expanded_conv_15 (--/315.84k params)\n",
            "        FeatureExtractor/MobilenetV2/expanded_conv_15/depthwise (--/8.64k params)\n",
            "          FeatureExtractor/MobilenetV2/expanded_conv_15/depthwise/BatchNorm (--/0 params)\n",
            "          FeatureExtractor/MobilenetV2/expanded_conv_15/depthwise/depthwise_weights (3x3x960x1, 8.64k/8.64k params)\n",
            "        FeatureExtractor/MobilenetV2/expanded_conv_15/expand (--/153.60k params)\n",
            "          FeatureExtractor/MobilenetV2/expanded_conv_15/expand/BatchNorm (--/0 params)\n",
            "          FeatureExtractor/MobilenetV2/expanded_conv_15/expand/weights (1x1x160x960, 153.60k/153.60k params)\n",
            "        FeatureExtractor/MobilenetV2/expanded_conv_15/project (--/153.60k params)\n",
            "          FeatureExtractor/MobilenetV2/expanded_conv_15/project/BatchNorm (--/0 params)\n",
            "          FeatureExtractor/MobilenetV2/expanded_conv_15/project/weights (1x1x960x160, 153.60k/153.60k params)\n",
            "      FeatureExtractor/MobilenetV2/expanded_conv_16 (--/469.44k params)\n",
            "        FeatureExtractor/MobilenetV2/expanded_conv_16/depthwise (--/8.64k params)\n",
            "          FeatureExtractor/MobilenetV2/expanded_conv_16/depthwise/BatchNorm (--/0 params)\n",
            "          FeatureExtractor/MobilenetV2/expanded_conv_16/depthwise/depthwise_weights (3x3x960x1, 8.64k/8.64k params)\n",
            "        FeatureExtractor/MobilenetV2/expanded_conv_16/expand (--/153.60k params)\n",
            "          FeatureExtractor/MobilenetV2/expanded_conv_16/expand/BatchNorm (--/0 params)\n",
            "          FeatureExtractor/MobilenetV2/expanded_conv_16/expand/weights (1x1x160x960, 153.60k/153.60k params)\n",
            "        FeatureExtractor/MobilenetV2/expanded_conv_16/project (--/307.20k params)\n",
            "          FeatureExtractor/MobilenetV2/expanded_conv_16/project/BatchNorm (--/0 params)\n",
            "          FeatureExtractor/MobilenetV2/expanded_conv_16/project/weights (1x1x960x320, 307.20k/307.20k params)\n",
            "      FeatureExtractor/MobilenetV2/expanded_conv_2 (--/8.21k params)\n",
            "        FeatureExtractor/MobilenetV2/expanded_conv_2/depthwise (--/1.30k params)\n",
            "          FeatureExtractor/MobilenetV2/expanded_conv_2/depthwise/BatchNorm (--/0 params)\n",
            "          FeatureExtractor/MobilenetV2/expanded_conv_2/depthwise/depthwise_weights (3x3x144x1, 1.30k/1.30k params)\n",
            "        FeatureExtractor/MobilenetV2/expanded_conv_2/expand (--/3.46k params)\n",
            "          FeatureExtractor/MobilenetV2/expanded_conv_2/expand/BatchNorm (--/0 params)\n",
            "          FeatureExtractor/MobilenetV2/expanded_conv_2/expand/weights (1x1x24x144, 3.46k/3.46k params)\n",
            "        FeatureExtractor/MobilenetV2/expanded_conv_2/project (--/3.46k params)\n",
            "          FeatureExtractor/MobilenetV2/expanded_conv_2/project/BatchNorm (--/0 params)\n",
            "          FeatureExtractor/MobilenetV2/expanded_conv_2/project/weights (1x1x144x24, 3.46k/3.46k params)\n",
            "      FeatureExtractor/MobilenetV2/expanded_conv_3 (--/9.36k params)\n",
            "        FeatureExtractor/MobilenetV2/expanded_conv_3/depthwise (--/1.30k params)\n",
            "          FeatureExtractor/MobilenetV2/expanded_conv_3/depthwise/BatchNorm (--/0 params)\n",
            "          FeatureExtractor/MobilenetV2/expanded_conv_3/depthwise/depthwise_weights (3x3x144x1, 1.30k/1.30k params)\n",
            "        FeatureExtractor/MobilenetV2/expanded_conv_3/expand (--/3.46k params)\n",
            "          FeatureExtractor/MobilenetV2/expanded_conv_3/expand/BatchNorm (--/0 params)\n",
            "          FeatureExtractor/MobilenetV2/expanded_conv_3/expand/weights (1x1x24x144, 3.46k/3.46k params)\n",
            "        FeatureExtractor/MobilenetV2/expanded_conv_3/project (--/4.61k params)\n",
            "          FeatureExtractor/MobilenetV2/expanded_conv_3/project/BatchNorm (--/0 params)\n",
            "          FeatureExtractor/MobilenetV2/expanded_conv_3/project/weights (1x1x144x32, 4.61k/4.61k params)\n",
            "      FeatureExtractor/MobilenetV2/expanded_conv_4 (--/14.02k params)\n",
            "        FeatureExtractor/MobilenetV2/expanded_conv_4/depthwise (--/1.73k params)\n",
            "          FeatureExtractor/MobilenetV2/expanded_conv_4/depthwise/BatchNorm (--/0 params)\n",
            "          FeatureExtractor/MobilenetV2/expanded_conv_4/depthwise/depthwise_weights (3x3x192x1, 1.73k/1.73k params)\n",
            "        FeatureExtractor/MobilenetV2/expanded_conv_4/expand (--/6.14k params)\n",
            "          FeatureExtractor/MobilenetV2/expanded_conv_4/expand/BatchNorm (--/0 params)\n",
            "          FeatureExtractor/MobilenetV2/expanded_conv_4/expand/weights (1x1x32x192, 6.14k/6.14k params)\n",
            "        FeatureExtractor/MobilenetV2/expanded_conv_4/project (--/6.14k params)\n",
            "          FeatureExtractor/MobilenetV2/expanded_conv_4/project/BatchNorm (--/0 params)\n",
            "          FeatureExtractor/MobilenetV2/expanded_conv_4/project/weights (1x1x192x32, 6.14k/6.14k params)\n",
            "      FeatureExtractor/MobilenetV2/expanded_conv_5 (--/14.02k params)\n",
            "        FeatureExtractor/MobilenetV2/expanded_conv_5/depthwise (--/1.73k params)\n",
            "          FeatureExtractor/MobilenetV2/expanded_conv_5/depthwise/BatchNorm (--/0 params)\n",
            "          FeatureExtractor/MobilenetV2/expanded_conv_5/depthwise/depthwise_weights (3x3x192x1, 1.73k/1.73k params)\n",
            "        FeatureExtractor/MobilenetV2/expanded_conv_5/expand (--/6.14k params)\n",
            "          FeatureExtractor/MobilenetV2/expanded_conv_5/expand/BatchNorm (--/0 params)\n",
            "          FeatureExtractor/MobilenetV2/expanded_conv_5/expand/weights (1x1x32x192, 6.14k/6.14k params)\n",
            "        FeatureExtractor/MobilenetV2/expanded_conv_5/project (--/6.14k params)\n",
            "          FeatureExtractor/MobilenetV2/expanded_conv_5/project/BatchNorm (--/0 params)\n",
            "          FeatureExtractor/MobilenetV2/expanded_conv_5/project/weights (1x1x192x32, 6.14k/6.14k params)\n",
            "      FeatureExtractor/MobilenetV2/expanded_conv_6 (--/20.16k params)\n",
            "        FeatureExtractor/MobilenetV2/expanded_conv_6/depthwise (--/1.73k params)\n",
            "          FeatureExtractor/MobilenetV2/expanded_conv_6/depthwise/BatchNorm (--/0 params)\n",
            "          FeatureExtractor/MobilenetV2/expanded_conv_6/depthwise/depthwise_weights (3x3x192x1, 1.73k/1.73k params)\n",
            "        FeatureExtractor/MobilenetV2/expanded_conv_6/expand (--/6.14k params)\n",
            "          FeatureExtractor/MobilenetV2/expanded_conv_6/expand/BatchNorm (--/0 params)\n",
            "          FeatureExtractor/MobilenetV2/expanded_conv_6/expand/weights (1x1x32x192, 6.14k/6.14k params)\n",
            "        FeatureExtractor/MobilenetV2/expanded_conv_6/project (--/12.29k params)\n",
            "          FeatureExtractor/MobilenetV2/expanded_conv_6/project/BatchNorm (--/0 params)\n",
            "          FeatureExtractor/MobilenetV2/expanded_conv_6/project/weights (1x1x192x64, 12.29k/12.29k params)\n",
            "      FeatureExtractor/MobilenetV2/expanded_conv_7 (--/52.61k params)\n",
            "        FeatureExtractor/MobilenetV2/expanded_conv_7/depthwise (--/3.46k params)\n",
            "          FeatureExtractor/MobilenetV2/expanded_conv_7/depthwise/BatchNorm (--/0 params)\n",
            "          FeatureExtractor/MobilenetV2/expanded_conv_7/depthwise/depthwise_weights (3x3x384x1, 3.46k/3.46k params)\n",
            "        FeatureExtractor/MobilenetV2/expanded_conv_7/expand (--/24.58k params)\n",
            "          FeatureExtractor/MobilenetV2/expanded_conv_7/expand/BatchNorm (--/0 params)\n",
            "          FeatureExtractor/MobilenetV2/expanded_conv_7/expand/weights (1x1x64x384, 24.58k/24.58k params)\n",
            "        FeatureExtractor/MobilenetV2/expanded_conv_7/project (--/24.58k params)\n",
            "          FeatureExtractor/MobilenetV2/expanded_conv_7/project/BatchNorm (--/0 params)\n",
            "          FeatureExtractor/MobilenetV2/expanded_conv_7/project/weights (1x1x384x64, 24.58k/24.58k params)\n",
            "      FeatureExtractor/MobilenetV2/expanded_conv_8 (--/52.61k params)\n",
            "        FeatureExtractor/MobilenetV2/expanded_conv_8/depthwise (--/3.46k params)\n",
            "          FeatureExtractor/MobilenetV2/expanded_conv_8/depthwise/BatchNorm (--/0 params)\n",
            "          FeatureExtractor/MobilenetV2/expanded_conv_8/depthwise/depthwise_weights (3x3x384x1, 3.46k/3.46k params)\n",
            "        FeatureExtractor/MobilenetV2/expanded_conv_8/expand (--/24.58k params)\n",
            "          FeatureExtractor/MobilenetV2/expanded_conv_8/expand/BatchNorm (--/0 params)\n",
            "          FeatureExtractor/MobilenetV2/expanded_conv_8/expand/weights (1x1x64x384, 24.58k/24.58k params)\n",
            "        FeatureExtractor/MobilenetV2/expanded_conv_8/project (--/24.58k params)\n",
            "          FeatureExtractor/MobilenetV2/expanded_conv_8/project/BatchNorm (--/0 params)\n",
            "          FeatureExtractor/MobilenetV2/expanded_conv_8/project/weights (1x1x384x64, 24.58k/24.58k params)\n",
            "      FeatureExtractor/MobilenetV2/expanded_conv_9 (--/52.61k params)\n",
            "        FeatureExtractor/MobilenetV2/expanded_conv_9/depthwise (--/3.46k params)\n",
            "          FeatureExtractor/MobilenetV2/expanded_conv_9/depthwise/BatchNorm (--/0 params)\n",
            "          FeatureExtractor/MobilenetV2/expanded_conv_9/depthwise/depthwise_weights (3x3x384x1, 3.46k/3.46k params)\n",
            "        FeatureExtractor/MobilenetV2/expanded_conv_9/expand (--/24.58k params)\n",
            "          FeatureExtractor/MobilenetV2/expanded_conv_9/expand/BatchNorm (--/0 params)\n",
            "          FeatureExtractor/MobilenetV2/expanded_conv_9/expand/weights (1x1x64x384, 24.58k/24.58k params)\n",
            "        FeatureExtractor/MobilenetV2/expanded_conv_9/project (--/24.58k params)\n",
            "          FeatureExtractor/MobilenetV2/expanded_conv_9/project/BatchNorm (--/0 params)\n",
            "          FeatureExtractor/MobilenetV2/expanded_conv_9/project/weights (1x1x384x64, 24.58k/24.58k params)\n",
            "      FeatureExtractor/MobilenetV2/layer_19_1_Conv2d_2_1x1_256 (--/327.68k params)\n",
            "        FeatureExtractor/MobilenetV2/layer_19_1_Conv2d_2_1x1_256/BatchNorm (--/0 params)\n",
            "        FeatureExtractor/MobilenetV2/layer_19_1_Conv2d_2_1x1_256/weights (1x1x1280x256, 327.68k/327.68k params)\n",
            "      FeatureExtractor/MobilenetV2/layer_19_1_Conv2d_3_1x1_128 (--/65.54k params)\n",
            "        FeatureExtractor/MobilenetV2/layer_19_1_Conv2d_3_1x1_128/BatchNorm (--/0 params)\n",
            "        FeatureExtractor/MobilenetV2/layer_19_1_Conv2d_3_1x1_128/weights (1x1x512x128, 65.54k/65.54k params)\n",
            "      FeatureExtractor/MobilenetV2/layer_19_1_Conv2d_4_1x1_128 (--/32.77k params)\n",
            "        FeatureExtractor/MobilenetV2/layer_19_1_Conv2d_4_1x1_128/BatchNorm (--/0 params)\n",
            "        FeatureExtractor/MobilenetV2/layer_19_1_Conv2d_4_1x1_128/weights (1x1x256x128, 32.77k/32.77k params)\n",
            "      FeatureExtractor/MobilenetV2/layer_19_1_Conv2d_5_1x1_64 (--/16.38k params)\n",
            "        FeatureExtractor/MobilenetV2/layer_19_1_Conv2d_5_1x1_64/BatchNorm (--/0 params)\n",
            "        FeatureExtractor/MobilenetV2/layer_19_1_Conv2d_5_1x1_64/weights (1x1x256x64, 16.38k/16.38k params)\n",
            "      FeatureExtractor/MobilenetV2/layer_19_2_Conv2d_2_3x3_s2_512 (--/1.18m params)\n",
            "        FeatureExtractor/MobilenetV2/layer_19_2_Conv2d_2_3x3_s2_512/BatchNorm (--/0 params)\n",
            "        FeatureExtractor/MobilenetV2/layer_19_2_Conv2d_2_3x3_s2_512/weights (3x3x256x512, 1.18m/1.18m params)\n",
            "      FeatureExtractor/MobilenetV2/layer_19_2_Conv2d_3_3x3_s2_256 (--/294.91k params)\n",
            "        FeatureExtractor/MobilenetV2/layer_19_2_Conv2d_3_3x3_s2_256/BatchNorm (--/0 params)\n",
            "        FeatureExtractor/MobilenetV2/layer_19_2_Conv2d_3_3x3_s2_256/weights (3x3x128x256, 294.91k/294.91k params)\n",
            "      FeatureExtractor/MobilenetV2/layer_19_2_Conv2d_4_3x3_s2_256 (--/294.91k params)\n",
            "        FeatureExtractor/MobilenetV2/layer_19_2_Conv2d_4_3x3_s2_256/BatchNorm (--/0 params)\n",
            "        FeatureExtractor/MobilenetV2/layer_19_2_Conv2d_4_3x3_s2_256/weights (3x3x128x256, 294.91k/294.91k params)\n",
            "      FeatureExtractor/MobilenetV2/layer_19_2_Conv2d_5_3x3_s2_128 (--/73.73k params)\n",
            "        FeatureExtractor/MobilenetV2/layer_19_2_Conv2d_5_3x3_s2_128/BatchNorm (--/0 params)\n",
            "        FeatureExtractor/MobilenetV2/layer_19_2_Conv2d_5_3x3_s2_128/weights (3x3x64x128, 73.73k/73.73k params)\n",
            "\n",
            "======================End of Report==========================\n",
            "230 ops no flops stats due to incomplete shapes.\n",
            "Parsing Inputs...\n",
            "Incomplete shape.\n",
            "\n",
            "=========================Options=============================\n",
            "-max_depth                  10000\n",
            "-min_bytes                  0\n",
            "-min_peak_bytes             0\n",
            "-min_residual_bytes         0\n",
            "-min_output_bytes           0\n",
            "-min_micros                 0\n",
            "-min_accelerator_micros     0\n",
            "-min_cpu_micros             0\n",
            "-min_params                 0\n",
            "-min_float_ops              1\n",
            "-min_occurrence             0\n",
            "-step                       -1\n",
            "-order_by                   float_ops\n",
            "-account_type_regexes       .*\n",
            "-start_name_regexes         .*\n",
            "-trim_name_regexes          .*BatchNorm.*,.*Initializer.*,.*Regularizer.*,.*BiasAdd.*\n",
            "-show_name_regexes          .*\n",
            "-hide_name_regexes          \n",
            "-account_displayed_op_only  true\n",
            "-select                     float_ops\n",
            "-output                     stdout:\n",
            "\n",
            "==================Model Analysis Report======================\n",
            "Incomplete shape.\n",
            "\n",
            "Doc:\n",
            "scope: The nodes in the model graph are organized by their names, which is hierarchical like filesystem.\n",
            "flops: Number of float operations. Note: Please read the implementation for the math behind it.\n",
            "\n",
            "Profile:\n",
            "node name | # float_ops\n",
            "_TFProfRoot (--/17.71k flops)\n",
            "  MultipleGridAnchorGenerator/sub (2.17k/2.17k flops)\n",
            "  MultipleGridAnchorGenerator/add_2 (2.17k/2.17k flops)\n",
            "  MultipleGridAnchorGenerator/mul_20 (2.17k/2.17k flops)\n",
            "  MultipleGridAnchorGenerator/mul_19 (2.17k/2.17k flops)\n",
            "  MultipleGridAnchorGenerator/mul_27 (1.20k/1.20k flops)\n",
            "  MultipleGridAnchorGenerator/sub_1 (1.20k/1.20k flops)\n",
            "  MultipleGridAnchorGenerator/add_5 (1.20k/1.20k flops)\n",
            "  MultipleGridAnchorGenerator/mul_28 (1.20k/1.20k flops)\n",
            "  MultipleGridAnchorGenerator/mul_21 (1.08k/1.08k flops)\n",
            "  MultipleGridAnchorGenerator/mul_29 (600/600 flops)\n",
            "  MultipleGridAnchorGenerator/add_8 (300/300 flops)\n",
            "  MultipleGridAnchorGenerator/mul_36 (300/300 flops)\n",
            "  MultipleGridAnchorGenerator/sub_2 (300/300 flops)\n",
            "  MultipleGridAnchorGenerator/mul_35 (300/300 flops)\n",
            "  MultipleGridAnchorGenerator/mul_37 (150/150 flops)\n",
            "  MultipleGridAnchorGenerator/sub_3 (108/108 flops)\n",
            "  MultipleGridAnchorGenerator/mul_44 (108/108 flops)\n",
            "  MultipleGridAnchorGenerator/mul_43 (108/108 flops)\n",
            "  MultipleGridAnchorGenerator/add_11 (108/108 flops)\n",
            "  MultipleGridAnchorGenerator/mul_45 (54/54 flops)\n",
            "  MultipleGridAnchorGenerator/sub_4 (48/48 flops)\n",
            "  MultipleGridAnchorGenerator/add_14 (48/48 flops)\n",
            "  MultipleGridAnchorGenerator/mul_51 (48/48 flops)\n",
            "  MultipleGridAnchorGenerator/mul_52 (48/48 flops)\n",
            "  MultipleGridAnchorGenerator/mul_53 (24/24 flops)\n",
            "  MultipleGridAnchorGenerator/add (19/19 flops)\n",
            "  MultipleGridAnchorGenerator/mul_18 (19/19 flops)\n",
            "  MultipleGridAnchorGenerator/mul_17 (19/19 flops)\n",
            "  MultipleGridAnchorGenerator/add_1 (19/19 flops)\n",
            "  MultipleGridAnchorGenerator/mul_59 (12/12 flops)\n",
            "  MultipleGridAnchorGenerator/mul_60 (12/12 flops)\n",
            "  MultipleGridAnchorGenerator/sub_5 (12/12 flops)\n",
            "  MultipleGridAnchorGenerator/add_17 (12/12 flops)\n",
            "  MultipleGridAnchorGenerator/add_4 (10/10 flops)\n",
            "  MultipleGridAnchorGenerator/add_3 (10/10 flops)\n",
            "  MultipleGridAnchorGenerator/mul_26 (10/10 flops)\n",
            "  MultipleGridAnchorGenerator/mul_25 (10/10 flops)\n",
            "  MultipleGridAnchorGenerator/mul_38 (6/6 flops)\n",
            "  MultipleGridAnchorGenerator/mul_54 (6/6 flops)\n",
            "  MultipleGridAnchorGenerator/truediv_19 (6/6 flops)\n",
            "  MultipleGridAnchorGenerator/truediv_18 (6/6 flops)\n",
            "  MultipleGridAnchorGenerator/truediv_17 (6/6 flops)\n",
            "  MultipleGridAnchorGenerator/truediv_16 (6/6 flops)\n",
            "  MultipleGridAnchorGenerator/mul_39 (6/6 flops)\n",
            "  MultipleGridAnchorGenerator/mul_40 (6/6 flops)\n",
            "  MultipleGridAnchorGenerator/truediv_15 (6/6 flops)\n",
            "  MultipleGridAnchorGenerator/mul_61 (6/6 flops)\n",
            "  MultipleGridAnchorGenerator/mul_46 (6/6 flops)\n",
            "  MultipleGridAnchorGenerator/mul_47 (6/6 flops)\n",
            "  MultipleGridAnchorGenerator/mul_48 (6/6 flops)\n",
            "  MultipleGridAnchorGenerator/mul_56 (6/6 flops)\n",
            "  MultipleGridAnchorGenerator/mul_55 (6/6 flops)\n",
            "  MultipleGridAnchorGenerator/mul_32 (6/6 flops)\n",
            "  MultipleGridAnchorGenerator/mul_31 (6/6 flops)\n",
            "  MultipleGridAnchorGenerator/mul_30 (6/6 flops)\n",
            "  MultipleGridAnchorGenerator/mul_22 (6/6 flops)\n",
            "  MultipleGridAnchorGenerator/mul_24 (6/6 flops)\n",
            "  MultipleGridAnchorGenerator/mul_23 (6/6 flops)\n",
            "  MultipleGridAnchorGenerator/mul_33 (5/5 flops)\n",
            "  MultipleGridAnchorGenerator/add_6 (5/5 flops)\n",
            "  MultipleGridAnchorGenerator/add_7 (5/5 flops)\n",
            "  MultipleGridAnchorGenerator/mul_34 (5/5 flops)\n",
            "  MultipleGridAnchorGenerator/mul_41 (3/3 flops)\n",
            "  MultipleGridAnchorGenerator/mul_42 (3/3 flops)\n",
            "  MultipleGridAnchorGenerator/add_9 (3/3 flops)\n",
            "  MultipleGridAnchorGenerator/mul_16 (3/3 flops)\n",
            "  MultipleGridAnchorGenerator/mul_15 (3/3 flops)\n",
            "  MultipleGridAnchorGenerator/mul_14 (3/3 flops)\n",
            "  MultipleGridAnchorGenerator/add_10 (3/3 flops)\n",
            "  MultipleGridAnchorGenerator/truediv_14 (3/3 flops)\n",
            "  MultipleGridAnchorGenerator/add_13 (2/2 flops)\n",
            "  MultipleGridAnchorGenerator/add_12 (2/2 flops)\n",
            "  MultipleGridAnchorGenerator/mul_50 (2/2 flops)\n",
            "  MultipleGridAnchorGenerator/mul_49 (2/2 flops)\n",
            "  Postprocessor/BatchMultiClassNonMaxSuppression/map/while/MultiClassNonMaxSuppression/sub_17 (1/1 flops)\n",
            "  Postprocessor/BatchMultiClassNonMaxSuppression/map/while/MultiClassNonMaxSuppression/sub_18 (1/1 flops)\n",
            "  Postprocessor/BatchMultiClassNonMaxSuppression/map/while/MultiClassNonMaxSuppression/sub_16 (1/1 flops)\n",
            "  Postprocessor/BatchMultiClassNonMaxSuppression/map/while/MultiClassNonMaxSuppression/add_26 (1/1 flops)\n",
            "  Preprocessor/map/while/add_1 (1/1 flops)\n",
            "  Postprocessor/BatchMultiClassNonMaxSuppression/map/while/MultiClassNonMaxSuppression/sub_15 (1/1 flops)\n",
            "  Postprocessor/BatchMultiClassNonMaxSuppression/map/while/MultiClassNonMaxSuppression/sub_14 (1/1 flops)\n",
            "  Postprocessor/BatchMultiClassNonMaxSuppression/map/while/MultiClassNonMaxSuppression/sub_27 (1/1 flops)\n",
            "  Postprocessor/BatchMultiClassNonMaxSuppression/map/while/MultiClassNonMaxSuppression/sub_13 (1/1 flops)\n",
            "  Postprocessor/BatchMultiClassNonMaxSuppression/map/while/MultiClassNonMaxSuppression/sub_19 (1/1 flops)\n",
            "  Postprocessor/BatchMultiClassNonMaxSuppression/map/while/MultiClassNonMaxSuppression/sub_2 (1/1 flops)\n",
            "  Postprocessor/BatchMultiClassNonMaxSuppression/map/while/MultiClassNonMaxSuppression/sub_20 (1/1 flops)\n",
            "  Postprocessor/BatchMultiClassNonMaxSuppression/map/while/MultiClassNonMaxSuppression/sub_21 (1/1 flops)\n",
            "  Postprocessor/BatchMultiClassNonMaxSuppression/map/while/MultiClassNonMaxSuppression/sub_22 (1/1 flops)\n",
            "  Postprocessor/BatchMultiClassNonMaxSuppression/map/while/MultiClassNonMaxSuppression/sub_23 (1/1 flops)\n",
            "  Postprocessor/BatchMultiClassNonMaxSuppression/map/while/MultiClassNonMaxSuppression/sub_24 (1/1 flops)\n",
            "  Postprocessor/BatchMultiClassNonMaxSuppression/map/while/MultiClassNonMaxSuppression/sub_25 (1/1 flops)\n",
            "  Postprocessor/BatchMultiClassNonMaxSuppression/map/while/MultiClassNonMaxSuppression/sub_26 (1/1 flops)\n",
            "  Postprocessor/BatchMultiClassNonMaxSuppression/map/while/MultiClassNonMaxSuppression/add_56 (1/1 flops)\n",
            "  Postprocessor/BatchMultiClassNonMaxSuppression/map/while/MultiClassNonMaxSuppression/sub (1/1 flops)\n",
            "  Postprocessor/BatchMultiClassNonMaxSuppression/map/while/MultiClassNonMaxSuppression/add_24 (1/1 flops)\n",
            "  Postprocessor/BatchMultiClassNonMaxSuppression/map/while/MultiClassNonMaxSuppression/add_52 (1/1 flops)\n",
            "  Postprocessor/BatchMultiClassNonMaxSuppression/map/while/MultiClassNonMaxSuppression/add_50 (1/1 flops)\n",
            "  Postprocessor/BatchMultiClassNonMaxSuppression/map/while/MultiClassNonMaxSuppression/add_6 (1/1 flops)\n",
            "  Postprocessor/BatchMultiClassNonMaxSuppression/map/while/MultiClassNonMaxSuppression/add_48 (1/1 flops)\n",
            "  Postprocessor/BatchMultiClassNonMaxSuppression/map/while/MultiClassNonMaxSuppression/add_46 (1/1 flops)\n",
            "  Postprocessor/BatchMultiClassNonMaxSuppression/map/while/MultiClassNonMaxSuppression/add_44 (1/1 flops)\n",
            "  Postprocessor/BatchMultiClassNonMaxSuppression/map/while/MultiClassNonMaxSuppression/add_42 (1/1 flops)\n",
            "  Postprocessor/BatchMultiClassNonMaxSuppression/map/while/MultiClassNonMaxSuppression/add_40 (1/1 flops)\n",
            "  Postprocessor/BatchMultiClassNonMaxSuppression/map/while/MultiClassNonMaxSuppression/add_4 (1/1 flops)\n",
            "  Postprocessor/BatchMultiClassNonMaxSuppression/map/while/MultiClassNonMaxSuppression/add_8 (1/1 flops)\n",
            "  Postprocessor/BatchMultiClassNonMaxSuppression/map/while/MultiClassNonMaxSuppression/add_28 (1/1 flops)\n",
            "  Postprocessor/BatchMultiClassNonMaxSuppression/map/while/MultiClassNonMaxSuppression/sub_1 (1/1 flops)\n",
            "  Postprocessor/BatchMultiClassNonMaxSuppression/map/while/MultiClassNonMaxSuppression/add_54 (1/1 flops)\n",
            "  Postprocessor/BatchMultiClassNonMaxSuppression/map/while/MultiClassNonMaxSuppression/sub_10 (1/1 flops)\n",
            "  Postprocessor/BatchMultiClassNonMaxSuppression/map/while/MultiClassNonMaxSuppression/sub_11 (1/1 flops)\n",
            "  Postprocessor/BatchMultiClassNonMaxSuppression/map/while/MultiClassNonMaxSuppression/sub_12 (1/1 flops)\n",
            "  Postprocessor/BatchMultiClassNonMaxSuppression/map/while/MultiClassNonMaxSuppression/add_38 (1/1 flops)\n",
            "  Postprocessor/BatchMultiClassNonMaxSuppression/map/while/MultiClassNonMaxSuppression/add_36 (1/1 flops)\n",
            "  Postprocessor/BatchMultiClassNonMaxSuppression/map/while/MultiClassNonMaxSuppression/add_34 (1/1 flops)\n",
            "  Postprocessor/BatchMultiClassNonMaxSuppression/map/while/MultiClassNonMaxSuppression/add_32 (1/1 flops)\n",
            "  Postprocessor/BatchMultiClassNonMaxSuppression/map/while/MultiClassNonMaxSuppression/add_30 (1/1 flops)\n",
            "  Postprocessor/BatchMultiClassNonMaxSuppression/map/while/PadOrClipBoxList/sub_7 (1/1 flops)\n",
            "  Postprocessor/BatchMultiClassNonMaxSuppression/map/while/PadOrClipBoxList/sub_13 (1/1 flops)\n",
            "  Postprocessor/BatchMultiClassNonMaxSuppression/map/while/PadOrClipBoxList/sub_14 (1/1 flops)\n",
            "  Postprocessor/BatchMultiClassNonMaxSuppression/map/while/PadOrClipBoxList/sub_15 (1/1 flops)\n",
            "  Postprocessor/BatchMultiClassNonMaxSuppression/map/while/PadOrClipBoxList/sub_16 (1/1 flops)\n",
            "  Postprocessor/BatchMultiClassNonMaxSuppression/map/while/PadOrClipBoxList/sub_17 (1/1 flops)\n",
            "  Postprocessor/BatchMultiClassNonMaxSuppression/map/while/PadOrClipBoxList/sub_2 (1/1 flops)\n",
            "  Postprocessor/BatchMultiClassNonMaxSuppression/map/while/PadOrClipBoxList/sub_3 (1/1 flops)\n",
            "  Postprocessor/BatchMultiClassNonMaxSuppression/map/while/PadOrClipBoxList/sub_4 (1/1 flops)\n",
            "  Postprocessor/BatchMultiClassNonMaxSuppression/map/while/PadOrClipBoxList/sub_5 (1/1 flops)\n",
            "  Postprocessor/BatchMultiClassNonMaxSuppression/map/while/PadOrClipBoxList/sub_6 (1/1 flops)\n",
            "  Postprocessor/BatchMultiClassNonMaxSuppression/map/while/PadOrClipBoxList/sub_12 (1/1 flops)\n",
            "  Postprocessor/BatchMultiClassNonMaxSuppression/map/while/PadOrClipBoxList/sub_8 (1/1 flops)\n",
            "  Postprocessor/BatchMultiClassNonMaxSuppression/map/while/PadOrClipBoxList/sub_9 (1/1 flops)\n",
            "  Postprocessor/BatchMultiClassNonMaxSuppression/map/while/add (1/1 flops)\n",
            "  Postprocessor/BatchMultiClassNonMaxSuppression/map/while/add_1 (1/1 flops)\n",
            "  Postprocessor/BatchMultiClassNonMaxSuppression/ones/Less (1/1 flops)\n",
            "  Preprocessor/map/while/Less (1/1 flops)\n",
            "  Preprocessor/map/while/Less_1 (1/1 flops)\n",
            "  Preprocessor/map/while/add (1/1 flops)\n",
            "  MultipleGridAnchorGenerator/Minimum (1/1 flops)\n",
            "  Postprocessor/BatchMultiClassNonMaxSuppression/map/while/PadOrClipBoxList/Greater_3 (1/1 flops)\n",
            "  Postprocessor/BatchMultiClassNonMaxSuppression/map/while/MultiClassNonMaxSuppression/sub_3 (1/1 flops)\n",
            "  Postprocessor/BatchMultiClassNonMaxSuppression/map/while/MultiClassNonMaxSuppression/sub_4 (1/1 flops)\n",
            "  Postprocessor/BatchMultiClassNonMaxSuppression/map/while/MultiClassNonMaxSuppression/sub_5 (1/1 flops)\n",
            "  Postprocessor/BatchMultiClassNonMaxSuppression/map/while/MultiClassNonMaxSuppression/sub_6 (1/1 flops)\n",
            "  Postprocessor/BatchMultiClassNonMaxSuppression/map/while/MultiClassNonMaxSuppression/sub_7 (1/1 flops)\n",
            "  Postprocessor/BatchMultiClassNonMaxSuppression/map/while/MultiClassNonMaxSuppression/sub_8 (1/1 flops)\n",
            "  Postprocessor/BatchMultiClassNonMaxSuppression/map/while/MultiClassNonMaxSuppression/sub_9 (1/1 flops)\n",
            "  Postprocessor/BatchMultiClassNonMaxSuppression/map/while/PadOrClipBoxList/Greater (1/1 flops)\n",
            "  Postprocessor/BatchMultiClassNonMaxSuppression/map/while/PadOrClipBoxList/Greater_1 (1/1 flops)\n",
            "  Postprocessor/BatchMultiClassNonMaxSuppression/map/while/PadOrClipBoxList/Greater_2 (1/1 flops)\n",
            "  Postprocessor/BatchMultiClassNonMaxSuppression/map/while/MultiClassNonMaxSuppression/sub_28 (1/1 flops)\n",
            "  Postprocessor/BatchMultiClassNonMaxSuppression/map/while/PadOrClipBoxList/Greater_4 (1/1 flops)\n",
            "  Postprocessor/BatchMultiClassNonMaxSuppression/map/while/PadOrClipBoxList/Greater_5 (1/1 flops)\n",
            "  Postprocessor/BatchMultiClassNonMaxSuppression/map/while/PadOrClipBoxList/Greater_6 (1/1 flops)\n",
            "  Postprocessor/BatchMultiClassNonMaxSuppression/map/while/PadOrClipBoxList/Greater_7 (1/1 flops)\n",
            "  Postprocessor/BatchMultiClassNonMaxSuppression/map/while/PadOrClipBoxList/Greater_8 (1/1 flops)\n",
            "  Postprocessor/BatchMultiClassNonMaxSuppression/map/while/PadOrClipBoxList/sub (1/1 flops)\n",
            "  Postprocessor/BatchMultiClassNonMaxSuppression/map/while/PadOrClipBoxList/sub_1 (1/1 flops)\n",
            "  Postprocessor/BatchMultiClassNonMaxSuppression/map/while/PadOrClipBoxList/sub_10 (1/1 flops)\n",
            "  Postprocessor/BatchMultiClassNonMaxSuppression/map/while/PadOrClipBoxList/sub_11 (1/1 flops)\n",
            "  MultipleGridAnchorGenerator/truediv_2 (1/1 flops)\n",
            "  MultipleGridAnchorGenerator/mul_6 (1/1 flops)\n",
            "  MultipleGridAnchorGenerator/mul_7 (1/1 flops)\n",
            "  MultipleGridAnchorGenerator/mul_8 (1/1 flops)\n",
            "  MultipleGridAnchorGenerator/mul_9 (1/1 flops)\n",
            "  MultipleGridAnchorGenerator/truediv (1/1 flops)\n",
            "  MultipleGridAnchorGenerator/truediv_1 (1/1 flops)\n",
            "  MultipleGridAnchorGenerator/truediv_10 (1/1 flops)\n",
            "  MultipleGridAnchorGenerator/truediv_11 (1/1 flops)\n",
            "  MultipleGridAnchorGenerator/truediv_12 (1/1 flops)\n",
            "  MultipleGridAnchorGenerator/truediv_13 (1/1 flops)\n",
            "  MultipleGridAnchorGenerator/mul_58 (1/1 flops)\n",
            "  MultipleGridAnchorGenerator/truediv_3 (1/1 flops)\n",
            "  MultipleGridAnchorGenerator/truediv_4 (1/1 flops)\n",
            "  MultipleGridAnchorGenerator/truediv_5 (1/1 flops)\n",
            "  MultipleGridAnchorGenerator/truediv_6 (1/1 flops)\n",
            "  MultipleGridAnchorGenerator/truediv_7 (1/1 flops)\n",
            "  MultipleGridAnchorGenerator/truediv_8 (1/1 flops)\n",
            "  MultipleGridAnchorGenerator/truediv_9 (1/1 flops)\n",
            "  Postprocessor/BatchMultiClassNonMaxSuppression/map/while/Less (1/1 flops)\n",
            "  Postprocessor/BatchMultiClassNonMaxSuppression/map/while/Less_1 (1/1 flops)\n",
            "  MultipleGridAnchorGenerator/mul_1 (1/1 flops)\n",
            "  MultipleGridAnchorGenerator/add_15 (1/1 flops)\n",
            "  MultipleGridAnchorGenerator/add_16 (1/1 flops)\n",
            "  MultipleGridAnchorGenerator/add_18 (1/1 flops)\n",
            "  MultipleGridAnchorGenerator/add_19 (1/1 flops)\n",
            "  MultipleGridAnchorGenerator/add_20 (1/1 flops)\n",
            "  MultipleGridAnchorGenerator/add_21 (1/1 flops)\n",
            "  MultipleGridAnchorGenerator/add_22 (1/1 flops)\n",
            "  MultipleGridAnchorGenerator/add_23 (1/1 flops)\n",
            "  MultipleGridAnchorGenerator/assert_equal/Equal (1/1 flops)\n",
            "  MultipleGridAnchorGenerator/mul (1/1 flops)\n",
            "  Postprocessor/BatchMultiClassNonMaxSuppression/map/while/MultiClassNonMaxSuppression/Greater (1/1 flops)\n",
            "  MultipleGridAnchorGenerator/mul_10 (1/1 flops)\n",
            "  MultipleGridAnchorGenerator/mul_11 (1/1 flops)\n",
            "  MultipleGridAnchorGenerator/mul_12 (1/1 flops)\n",
            "  MultipleGridAnchorGenerator/mul_13 (1/1 flops)\n",
            "  MultipleGridAnchorGenerator/mul_2 (1/1 flops)\n",
            "  MultipleGridAnchorGenerator/mul_3 (1/1 flops)\n",
            "  MultipleGridAnchorGenerator/mul_4 (1/1 flops)\n",
            "  MultipleGridAnchorGenerator/mul_5 (1/1 flops)\n",
            "  MultipleGridAnchorGenerator/mul_57 (1/1 flops)\n",
            "  Postprocessor/BatchMultiClassNonMaxSuppression/map/while/MultiClassNonMaxSuppression/SortByField/Equal (1/1 flops)\n",
            "  Postprocessor/BatchMultiClassNonMaxSuppression/map/while/MultiClassNonMaxSuppression/Minimum_27 (1/1 flops)\n",
            "  Postprocessor/BatchMultiClassNonMaxSuppression/map/while/MultiClassNonMaxSuppression/Minimum_28 (1/1 flops)\n",
            "  Postprocessor/BatchMultiClassNonMaxSuppression/map/while/MultiClassNonMaxSuppression/Minimum_29 (1/1 flops)\n",
            "  Postprocessor/BatchMultiClassNonMaxSuppression/map/while/MultiClassNonMaxSuppression/Minimum_3 (1/1 flops)\n",
            "  Postprocessor/BatchMultiClassNonMaxSuppression/map/while/MultiClassNonMaxSuppression/Minimum_4 (1/1 flops)\n",
            "  Postprocessor/BatchMultiClassNonMaxSuppression/map/while/MultiClassNonMaxSuppression/Minimum_5 (1/1 flops)\n",
            "  Postprocessor/BatchMultiClassNonMaxSuppression/map/while/MultiClassNonMaxSuppression/Minimum_6 (1/1 flops)\n",
            "  Postprocessor/BatchMultiClassNonMaxSuppression/map/while/MultiClassNonMaxSuppression/Minimum_7 (1/1 flops)\n",
            "  Postprocessor/BatchMultiClassNonMaxSuppression/map/while/MultiClassNonMaxSuppression/Minimum_8 (1/1 flops)\n",
            "  Postprocessor/BatchMultiClassNonMaxSuppression/map/while/MultiClassNonMaxSuppression/Minimum_9 (1/1 flops)\n",
            "  Postprocessor/BatchMultiClassNonMaxSuppression/map/while/MultiClassNonMaxSuppression/Minimum_26 (1/1 flops)\n",
            "  Postprocessor/BatchMultiClassNonMaxSuppression/map/while/MultiClassNonMaxSuppression/SortByField_1/Equal (1/1 flops)\n",
            "  Postprocessor/BatchMultiClassNonMaxSuppression/map/while/MultiClassNonMaxSuppression/add (1/1 flops)\n",
            "  Postprocessor/BatchMultiClassNonMaxSuppression/map/while/MultiClassNonMaxSuppression/add_10 (1/1 flops)\n",
            "  Postprocessor/BatchMultiClassNonMaxSuppression/map/while/MultiClassNonMaxSuppression/add_12 (1/1 flops)\n",
            "  Postprocessor/BatchMultiClassNonMaxSuppression/map/while/MultiClassNonMaxSuppression/add_14 (1/1 flops)\n",
            "  Postprocessor/BatchMultiClassNonMaxSuppression/map/while/MultiClassNonMaxSuppression/add_16 (1/1 flops)\n",
            "  Postprocessor/BatchMultiClassNonMaxSuppression/map/while/MultiClassNonMaxSuppression/add_18 (1/1 flops)\n",
            "  Postprocessor/BatchMultiClassNonMaxSuppression/map/while/MultiClassNonMaxSuppression/add_2 (1/1 flops)\n",
            "  Postprocessor/BatchMultiClassNonMaxSuppression/map/while/MultiClassNonMaxSuppression/add_20 (1/1 flops)\n",
            "  Postprocessor/BatchMultiClassNonMaxSuppression/map/while/MultiClassNonMaxSuppression/Minimum_17 (1/1 flops)\n",
            "  Postprocessor/BatchMultiClassNonMaxSuppression/map/while/MultiClassNonMaxSuppression/Minimum (1/1 flops)\n",
            "  Postprocessor/BatchMultiClassNonMaxSuppression/map/while/MultiClassNonMaxSuppression/Minimum_1 (1/1 flops)\n",
            "  Postprocessor/BatchMultiClassNonMaxSuppression/map/while/MultiClassNonMaxSuppression/Minimum_10 (1/1 flops)\n",
            "  Postprocessor/BatchMultiClassNonMaxSuppression/map/while/MultiClassNonMaxSuppression/Minimum_11 (1/1 flops)\n",
            "  Postprocessor/BatchMultiClassNonMaxSuppression/map/while/MultiClassNonMaxSuppression/Minimum_12 (1/1 flops)\n",
            "  Postprocessor/BatchMultiClassNonMaxSuppression/map/while/MultiClassNonMaxSuppression/Minimum_13 (1/1 flops)\n",
            "  Postprocessor/BatchMultiClassNonMaxSuppression/map/while/MultiClassNonMaxSuppression/Minimum_14 (1/1 flops)\n",
            "  Postprocessor/BatchMultiClassNonMaxSuppression/map/while/MultiClassNonMaxSuppression/Minimum_15 (1/1 flops)\n",
            "  Postprocessor/BatchMultiClassNonMaxSuppression/map/while/MultiClassNonMaxSuppression/Minimum_16 (1/1 flops)\n",
            "  Postprocessor/BatchMultiClassNonMaxSuppression/map/while/MultiClassNonMaxSuppression/add_22 (1/1 flops)\n",
            "  Postprocessor/BatchMultiClassNonMaxSuppression/map/while/MultiClassNonMaxSuppression/Minimum_18 (1/1 flops)\n",
            "  Postprocessor/BatchMultiClassNonMaxSuppression/map/while/MultiClassNonMaxSuppression/Minimum_19 (1/1 flops)\n",
            "  Postprocessor/BatchMultiClassNonMaxSuppression/map/while/MultiClassNonMaxSuppression/Minimum_2 (1/1 flops)\n",
            "  Postprocessor/BatchMultiClassNonMaxSuppression/map/while/MultiClassNonMaxSuppression/Minimum_20 (1/1 flops)\n",
            "  Postprocessor/BatchMultiClassNonMaxSuppression/map/while/MultiClassNonMaxSuppression/Minimum_21 (1/1 flops)\n",
            "  Postprocessor/BatchMultiClassNonMaxSuppression/map/while/MultiClassNonMaxSuppression/Minimum_22 (1/1 flops)\n",
            "  Postprocessor/BatchMultiClassNonMaxSuppression/map/while/MultiClassNonMaxSuppression/Minimum_23 (1/1 flops)\n",
            "  Postprocessor/BatchMultiClassNonMaxSuppression/map/while/MultiClassNonMaxSuppression/Minimum_24 (1/1 flops)\n",
            "  Postprocessor/BatchMultiClassNonMaxSuppression/map/while/MultiClassNonMaxSuppression/Minimum_25 (1/1 flops)\n",
            "\n",
            "======================End of Report==========================\n",
            "W0623 14:13:05.019061 140008059287424 deprecation_wrapper.py:119] From /content/models/research/object_detection/exporter.py:397: The name tf.train.Saver is deprecated. Please use tf.compat.v1.train.Saver instead.\n",
            "\n",
            "2019-06-23 14:13:06.722794: I tensorflow/stream_executor/platform/default/dso_loader.cc:42] Successfully opened dynamic library libcuda.so.1\n",
            "2019-06-23 14:13:06.725978: I tensorflow/stream_executor/cuda/cuda_gpu_executor.cc:1005] successful NUMA node read from SysFS had negative value (-1), but there must be at least one NUMA node, so returning NUMA node zero\n",
            "2019-06-23 14:13:06.726383: I tensorflow/core/common_runtime/gpu/gpu_device.cc:1640] Found device 0 with properties: \n",
            "name: Tesla K80 major: 3 minor: 7 memoryClockRate(GHz): 0.8235\n",
            "pciBusID: 0000:00:04.0\n",
            "2019-06-23 14:13:06.726723: I tensorflow/stream_executor/platform/default/dso_loader.cc:42] Successfully opened dynamic library libcudart.so.10.0\n",
            "2019-06-23 14:13:06.728307: I tensorflow/stream_executor/platform/default/dso_loader.cc:42] Successfully opened dynamic library libcublas.so.10.0\n",
            "2019-06-23 14:13:06.729755: I tensorflow/stream_executor/platform/default/dso_loader.cc:42] Successfully opened dynamic library libcufft.so.10.0\n",
            "2019-06-23 14:13:06.730158: I tensorflow/stream_executor/platform/default/dso_loader.cc:42] Successfully opened dynamic library libcurand.so.10.0\n",
            "2019-06-23 14:13:06.731944: I tensorflow/stream_executor/platform/default/dso_loader.cc:42] Successfully opened dynamic library libcusolver.so.10.0\n",
            "2019-06-23 14:13:06.733325: I tensorflow/stream_executor/platform/default/dso_loader.cc:42] Successfully opened dynamic library libcusparse.so.10.0\n",
            "2019-06-23 14:13:06.737231: I tensorflow/stream_executor/platform/default/dso_loader.cc:42] Successfully opened dynamic library libcudnn.so.7\n",
            "2019-06-23 14:13:06.737408: I tensorflow/stream_executor/cuda/cuda_gpu_executor.cc:1005] successful NUMA node read from SysFS had negative value (-1), but there must be at least one NUMA node, so returning NUMA node zero\n",
            "2019-06-23 14:13:06.737841: I tensorflow/stream_executor/cuda/cuda_gpu_executor.cc:1005] successful NUMA node read from SysFS had negative value (-1), but there must be at least one NUMA node, so returning NUMA node zero\n",
            "2019-06-23 14:13:06.738174: I tensorflow/core/common_runtime/gpu/gpu_device.cc:1763] Adding visible gpu devices: 0\n",
            "2019-06-23 14:13:06.745287: I tensorflow/core/platform/profile_utils/cpu_utils.cc:94] CPU Frequency: 2300000000 Hz\n",
            "2019-06-23 14:13:06.745551: I tensorflow/compiler/xla/service/service.cc:168] XLA service 0x2863c00 executing computations on platform Host. Devices:\n",
            "2019-06-23 14:13:06.745588: I tensorflow/compiler/xla/service/service.cc:175]   StreamExecutor device (0): <undefined>, <undefined>\n",
            "2019-06-23 14:13:06.820114: I tensorflow/stream_executor/cuda/cuda_gpu_executor.cc:1005] successful NUMA node read from SysFS had negative value (-1), but there must be at least one NUMA node, so returning NUMA node zero\n",
            "2019-06-23 14:13:06.820676: I tensorflow/compiler/xla/service/service.cc:168] XLA service 0x2864680 executing computations on platform CUDA. Devices:\n",
            "2019-06-23 14:13:06.820725: I tensorflow/compiler/xla/service/service.cc:175]   StreamExecutor device (0): Tesla K80, Compute Capability 3.7\n",
            "2019-06-23 14:13:06.821035: I tensorflow/stream_executor/cuda/cuda_gpu_executor.cc:1005] successful NUMA node read from SysFS had negative value (-1), but there must be at least one NUMA node, so returning NUMA node zero\n",
            "2019-06-23 14:13:06.821583: I tensorflow/core/common_runtime/gpu/gpu_device.cc:1640] Found device 0 with properties: \n",
            "name: Tesla K80 major: 3 minor: 7 memoryClockRate(GHz): 0.8235\n",
            "pciBusID: 0000:00:04.0\n",
            "2019-06-23 14:13:06.821670: I tensorflow/stream_executor/platform/default/dso_loader.cc:42] Successfully opened dynamic library libcudart.so.10.0\n",
            "2019-06-23 14:13:06.821744: I tensorflow/stream_executor/platform/default/dso_loader.cc:42] Successfully opened dynamic library libcublas.so.10.0\n",
            "2019-06-23 14:13:06.821784: I tensorflow/stream_executor/platform/default/dso_loader.cc:42] Successfully opened dynamic library libcufft.so.10.0\n",
            "2019-06-23 14:13:06.821821: I tensorflow/stream_executor/platform/default/dso_loader.cc:42] Successfully opened dynamic library libcurand.so.10.0\n",
            "2019-06-23 14:13:06.821856: I tensorflow/stream_executor/platform/default/dso_loader.cc:42] Successfully opened dynamic library libcusolver.so.10.0\n",
            "2019-06-23 14:13:06.821890: I tensorflow/stream_executor/platform/default/dso_loader.cc:42] Successfully opened dynamic library libcusparse.so.10.0\n",
            "2019-06-23 14:13:06.821940: I tensorflow/stream_executor/platform/default/dso_loader.cc:42] Successfully opened dynamic library libcudnn.so.7\n",
            "2019-06-23 14:13:06.822082: I tensorflow/stream_executor/cuda/cuda_gpu_executor.cc:1005] successful NUMA node read from SysFS had negative value (-1), but there must be at least one NUMA node, so returning NUMA node zero\n",
            "2019-06-23 14:13:06.822562: I tensorflow/stream_executor/cuda/cuda_gpu_executor.cc:1005] successful NUMA node read from SysFS had negative value (-1), but there must be at least one NUMA node, so returning NUMA node zero\n",
            "2019-06-23 14:13:06.822946: I tensorflow/core/common_runtime/gpu/gpu_device.cc:1763] Adding visible gpu devices: 0\n",
            "2019-06-23 14:13:06.823019: I tensorflow/stream_executor/platform/default/dso_loader.cc:42] Successfully opened dynamic library libcudart.so.10.0\n",
            "2019-06-23 14:13:06.824239: I tensorflow/core/common_runtime/gpu/gpu_device.cc:1181] Device interconnect StreamExecutor with strength 1 edge matrix:\n",
            "2019-06-23 14:13:06.824273: I tensorflow/core/common_runtime/gpu/gpu_device.cc:1187]      0 \n",
            "2019-06-23 14:13:06.824293: I tensorflow/core/common_runtime/gpu/gpu_device.cc:1200] 0:   N \n",
            "2019-06-23 14:13:06.824589: I tensorflow/stream_executor/cuda/cuda_gpu_executor.cc:1005] successful NUMA node read from SysFS had negative value (-1), but there must be at least one NUMA node, so returning NUMA node zero\n",
            "2019-06-23 14:13:06.824994: I tensorflow/stream_executor/cuda/cuda_gpu_executor.cc:1005] successful NUMA node read from SysFS had negative value (-1), but there must be at least one NUMA node, so returning NUMA node zero\n",
            "2019-06-23 14:13:06.825349: W tensorflow/core/common_runtime/gpu/gpu_bfc_allocator.cc:40] Overriding allow_growth setting because the TF_FORCE_GPU_ALLOW_GROWTH environment variable is set. Original config value was 0.\n",
            "2019-06-23 14:13:06.825407: I tensorflow/core/common_runtime/gpu/gpu_device.cc:1326] Created TensorFlow device (/job:localhost/replica:0/task:0/device:GPU:0 with 9101 MB memory) -> physical GPU (device: 0, name: Tesla K80, pci bus id: 0000:00:04.0, compute capability: 3.7)\n",
            "W0623 14:13:06.826571 140008059287424 deprecation.py:323] From /usr/local/lib/python3.6/dist-packages/tensorflow/python/training/saver.py:1276: checkpoint_exists (from tensorflow.python.training.checkpoint_management) is deprecated and will be removed in a future version.\n",
            "Instructions for updating:\n",
            "Use standard file APIs to check for files with this prefix.\n",
            "I0623 14:13:06.829544 140008059287424 saver.py:1280] Restoring parameters from training/model.ckpt-1000\n",
            "2019-06-23 14:13:10.492984: I tensorflow/stream_executor/cuda/cuda_gpu_executor.cc:1005] successful NUMA node read from SysFS had negative value (-1), but there must be at least one NUMA node, so returning NUMA node zero\n",
            "2019-06-23 14:13:10.493717: I tensorflow/core/common_runtime/gpu/gpu_device.cc:1640] Found device 0 with properties: \n",
            "name: Tesla K80 major: 3 minor: 7 memoryClockRate(GHz): 0.8235\n",
            "pciBusID: 0000:00:04.0\n",
            "2019-06-23 14:13:10.493817: I tensorflow/stream_executor/platform/default/dso_loader.cc:42] Successfully opened dynamic library libcudart.so.10.0\n",
            "2019-06-23 14:13:10.493862: I tensorflow/stream_executor/platform/default/dso_loader.cc:42] Successfully opened dynamic library libcublas.so.10.0\n",
            "2019-06-23 14:13:10.493906: I tensorflow/stream_executor/platform/default/dso_loader.cc:42] Successfully opened dynamic library libcufft.so.10.0\n",
            "2019-06-23 14:13:10.493946: I tensorflow/stream_executor/platform/default/dso_loader.cc:42] Successfully opened dynamic library libcurand.so.10.0\n",
            "2019-06-23 14:13:10.494022: I tensorflow/stream_executor/platform/default/dso_loader.cc:42] Successfully opened dynamic library libcusolver.so.10.0\n",
            "2019-06-23 14:13:10.494062: I tensorflow/stream_executor/platform/default/dso_loader.cc:42] Successfully opened dynamic library libcusparse.so.10.0\n",
            "2019-06-23 14:13:10.494103: I tensorflow/stream_executor/platform/default/dso_loader.cc:42] Successfully opened dynamic library libcudnn.so.7\n",
            "2019-06-23 14:13:10.494241: I tensorflow/stream_executor/cuda/cuda_gpu_executor.cc:1005] successful NUMA node read from SysFS had negative value (-1), but there must be at least one NUMA node, so returning NUMA node zero\n",
            "2019-06-23 14:13:10.494734: I tensorflow/stream_executor/cuda/cuda_gpu_executor.cc:1005] successful NUMA node read from SysFS had negative value (-1), but there must be at least one NUMA node, so returning NUMA node zero\n",
            "2019-06-23 14:13:10.495103: I tensorflow/core/common_runtime/gpu/gpu_device.cc:1763] Adding visible gpu devices: 0\n",
            "2019-06-23 14:13:10.495178: I tensorflow/core/common_runtime/gpu/gpu_device.cc:1181] Device interconnect StreamExecutor with strength 1 edge matrix:\n",
            "2019-06-23 14:13:10.495221: I tensorflow/core/common_runtime/gpu/gpu_device.cc:1187]      0 \n",
            "2019-06-23 14:13:10.495264: I tensorflow/core/common_runtime/gpu/gpu_device.cc:1200] 0:   N \n",
            "2019-06-23 14:13:10.495588: I tensorflow/stream_executor/cuda/cuda_gpu_executor.cc:1005] successful NUMA node read from SysFS had negative value (-1), but there must be at least one NUMA node, so returning NUMA node zero\n",
            "2019-06-23 14:13:10.496048: I tensorflow/stream_executor/cuda/cuda_gpu_executor.cc:1005] successful NUMA node read from SysFS had negative value (-1), but there must be at least one NUMA node, so returning NUMA node zero\n",
            "2019-06-23 14:13:10.496419: I tensorflow/core/common_runtime/gpu/gpu_device.cc:1326] Created TensorFlow device (/job:localhost/replica:0/task:0/device:GPU:0 with 9101 MB memory) -> physical GPU (device: 0, name: Tesla K80, pci bus id: 0000:00:04.0, compute capability: 3.7)\n",
            "I0623 14:13:10.498577 140008059287424 saver.py:1280] Restoring parameters from training/model.ckpt-1000\n",
            "W0623 14:13:11.486807 140008059287424 deprecation.py:323] From /usr/local/lib/python3.6/dist-packages/tensorflow/python/tools/freeze_graph.py:233: convert_variables_to_constants (from tensorflow.python.framework.graph_util_impl) is deprecated and will be removed in a future version.\n",
            "Instructions for updating:\n",
            "Use `tf.compat.v1.graph_util.convert_variables_to_constants`\n",
            "W0623 14:13:11.487212 140008059287424 deprecation.py:323] From /usr/local/lib/python3.6/dist-packages/tensorflow/python/framework/graph_util_impl.py:270: extract_sub_graph (from tensorflow.python.framework.graph_util_impl) is deprecated and will be removed in a future version.\n",
            "Instructions for updating:\n",
            "Use `tf.compat.v1.graph_util.extract_sub_graph`\n",
            "I0623 14:13:11.989061 140008059287424 graph_util_impl.py:311] Froze 324 variables.\n",
            "I0623 14:13:12.116934 140008059287424 graph_util_impl.py:364] Converted 324 variables to const ops.\n",
            "2019-06-23 14:13:12.391657: I tensorflow/stream_executor/cuda/cuda_gpu_executor.cc:1005] successful NUMA node read from SysFS had negative value (-1), but there must be at least one NUMA node, so returning NUMA node zero\n",
            "2019-06-23 14:13:12.392185: I tensorflow/core/common_runtime/gpu/gpu_device.cc:1640] Found device 0 with properties: \n",
            "name: Tesla K80 major: 3 minor: 7 memoryClockRate(GHz): 0.8235\n",
            "pciBusID: 0000:00:04.0\n",
            "2019-06-23 14:13:12.392294: I tensorflow/stream_executor/platform/default/dso_loader.cc:42] Successfully opened dynamic library libcudart.so.10.0\n",
            "2019-06-23 14:13:12.392337: I tensorflow/stream_executor/platform/default/dso_loader.cc:42] Successfully opened dynamic library libcublas.so.10.0\n",
            "2019-06-23 14:13:12.392378: I tensorflow/stream_executor/platform/default/dso_loader.cc:42] Successfully opened dynamic library libcufft.so.10.0\n",
            "2019-06-23 14:13:12.392437: I tensorflow/stream_executor/platform/default/dso_loader.cc:42] Successfully opened dynamic library libcurand.so.10.0\n",
            "2019-06-23 14:13:12.392492: I tensorflow/stream_executor/platform/default/dso_loader.cc:42] Successfully opened dynamic library libcusolver.so.10.0\n",
            "2019-06-23 14:13:12.392541: I tensorflow/stream_executor/platform/default/dso_loader.cc:42] Successfully opened dynamic library libcusparse.so.10.0\n",
            "2019-06-23 14:13:12.392601: I tensorflow/stream_executor/platform/default/dso_loader.cc:42] Successfully opened dynamic library libcudnn.so.7\n",
            "2019-06-23 14:13:12.392745: I tensorflow/stream_executor/cuda/cuda_gpu_executor.cc:1005] successful NUMA node read from SysFS had negative value (-1), but there must be at least one NUMA node, so returning NUMA node zero\n",
            "2019-06-23 14:13:12.393201: I tensorflow/stream_executor/cuda/cuda_gpu_executor.cc:1005] successful NUMA node read from SysFS had negative value (-1), but there must be at least one NUMA node, so returning NUMA node zero\n",
            "2019-06-23 14:13:12.393540: I tensorflow/core/common_runtime/gpu/gpu_device.cc:1763] Adding visible gpu devices: 0\n",
            "2019-06-23 14:13:12.393598: I tensorflow/core/common_runtime/gpu/gpu_device.cc:1181] Device interconnect StreamExecutor with strength 1 edge matrix:\n",
            "2019-06-23 14:13:12.393619: I tensorflow/core/common_runtime/gpu/gpu_device.cc:1187]      0 \n",
            "2019-06-23 14:13:12.393638: I tensorflow/core/common_runtime/gpu/gpu_device.cc:1200] 0:   N \n",
            "2019-06-23 14:13:12.393982: I tensorflow/stream_executor/cuda/cuda_gpu_executor.cc:1005] successful NUMA node read from SysFS had negative value (-1), but there must be at least one NUMA node, so returning NUMA node zero\n",
            "2019-06-23 14:13:12.394414: I tensorflow/stream_executor/cuda/cuda_gpu_executor.cc:1005] successful NUMA node read from SysFS had negative value (-1), but there must be at least one NUMA node, so returning NUMA node zero\n",
            "2019-06-23 14:13:12.394764: I tensorflow/core/common_runtime/gpu/gpu_device.cc:1326] Created TensorFlow device (/job:localhost/replica:0/task:0/device:GPU:0 with 9101 MB memory) -> physical GPU (device: 0, name: Tesla K80, pci bus id: 0000:00:04.0, compute capability: 3.7)\n",
            "W0623 14:13:13.442441 140008059287424 deprecation_wrapper.py:119] From /content/models/research/object_detection/exporter.py:274: The name tf.saved_model.builder.SavedModelBuilder is deprecated. Please use tf.compat.v1.saved_model.builder.SavedModelBuilder instead.\n",
            "\n",
            "W0623 14:13:13.445727 140008059287424 deprecation.py:323] From /content/models/research/object_detection/exporter.py:277: build_tensor_info (from tensorflow.python.saved_model.utils_impl) is deprecated and will be removed in a future version.\n",
            "Instructions for updating:\n",
            "This function will only be available through the v1 compatibility library as tf.compat.v1.saved_model.utils.build_tensor_info or tf.compat.v1.saved_model.build_tensor_info.\n",
            "W0623 14:13:13.446413 140008059287424 deprecation_wrapper.py:119] From /content/models/research/object_detection/exporter.py:283: The name tf.saved_model.signature_def_utils.build_signature_def is deprecated. Please use tf.compat.v1.saved_model.signature_def_utils.build_signature_def instead.\n",
            "\n",
            "W0623 14:13:13.446653 140008059287424 deprecation_wrapper.py:119] From /content/models/research/object_detection/exporter.py:286: The name tf.saved_model.signature_constants.PREDICT_METHOD_NAME is deprecated. Please use tf.saved_model.PREDICT_METHOD_NAME instead.\n",
            "\n",
            "W0623 14:13:13.446937 140008059287424 deprecation_wrapper.py:119] From /content/models/research/object_detection/exporter.py:291: The name tf.saved_model.tag_constants.SERVING is deprecated. Please use tf.saved_model.SERVING instead.\n",
            "\n",
            "W0623 14:13:13.447079 140008059287424 deprecation_wrapper.py:119] From /content/models/research/object_detection/exporter.py:293: The name tf.saved_model.signature_constants.DEFAULT_SERVING_SIGNATURE_DEF_KEY is deprecated. Please use tf.saved_model.DEFAULT_SERVING_SIGNATURE_DEF_KEY instead.\n",
            "\n",
            "I0623 14:13:13.447422 140008059287424 builder_impl.py:636] No assets to save.\n",
            "I0623 14:13:13.447531 140008059287424 builder_impl.py:456] No assets to write.\n",
            "I0623 14:13:14.113199 140008059287424 builder_impl.py:421] SavedModel written to: ./fine_tuned_model/saved_model/saved_model.pb\n",
            "W0623 14:13:14.208071 140008059287424 deprecation_wrapper.py:119] From /content/models/research/object_detection/utils/config_util.py:184: The name tf.gfile.Open is deprecated. Please use tf.io.gfile.GFile instead.\n",
            "\n",
            "I0623 14:13:14.208487 140008059287424 config_util.py:186] Writing pipeline config file to ./fine_tuned_model/pipeline.config\n"
          ],
          "name": "stdout"
        }
      ]
    },
    {
      "cell_type": "code",
      "metadata": {
        "id": "ZA1JAmzCFRwd",
        "colab_type": "code",
        "outputId": "85b993f2-8991-4fe1-bc6a-2fe5a2ee8d75",
        "colab": {
          "base_uri": "https://localhost:8080/",
          "height": 197
        }
      },
      "source": [
        "!ls -alh {output_directory}"
      ],
      "execution_count": 0,
      "outputs": [
        {
          "output_type": "stream",
          "text": [
            "total 40M\n",
            "drwxr-xr-x  3 root root 4.0K Jun  8 19:49 .\n",
            "drwxr-xr-x 73 root root 4.0K Jun  8 19:35 ..\n",
            "-rw-r--r--  1 root root   77 Jun  8 19:49 checkpoint\n",
            "-rw-r--r--  1 root root  20M Jun  8 19:49 frozen_inference_graph.pb\n",
            "-rw-r--r--  1 root root  19M Jun  8 19:49 model.ckpt.data-00000-of-00001\n",
            "-rw-r--r--  1 root root  14K Jun  8 19:49 model.ckpt.index\n",
            "-rw-r--r--  1 root root 1.6M Jun  8 19:49 model.ckpt.meta\n",
            "-rw-r--r--  1 root root  30K Jun  8 15:03 pipeline.config\n",
            "drwxr-xr-x  3 root root 4.0K Jun  8 15:03 saved_model\n"
          ],
          "name": "stdout"
        }
      ]
    },
    {
      "cell_type": "code",
      "metadata": {
        "id": "S7HJ6hRdFfED",
        "colab_type": "code",
        "colab": {}
      },
      "source": [
        "import os\n",
        "\n",
        "pb_fname = os.path.join(os.path.abspath(output_directory), \"frozen_inference_graph.pb\")\n",
        "assert os.path.isfile(pb_fname), '`{}` not exist'.format(pb_fname)"
      ],
      "execution_count": 0,
      "outputs": []
    },
    {
      "cell_type": "code",
      "metadata": {
        "id": "tAjN8I9enxFF",
        "colab_type": "code",
        "outputId": "95958c4a-fd5b-450c-86ce-2488cdce253e",
        "colab": {
          "base_uri": "https://localhost:8080/",
          "height": 1043
        }
      },
      "source": [
        "!cd /; cd content/gdrive/\"My Drive\"/ai_project/data; ls -alh"
      ],
      "execution_count": 0,
      "outputs": [
        {
          "output_type": "stream",
          "text": [
            "total 13M\n",
            "-rw------- 1 root root 250K May 22 17:15 KakaoTalk_20190522_201837254_01.jpg\n",
            "-rw------- 1 root root 285K May 22 17:15 KakaoTalk_20190522_201837254_02.jpg\n",
            "-rw------- 1 root root 310K May 22 17:15 KakaoTalk_20190522_201837254_03.jpg\n",
            "-rw------- 1 root root 292K May 22 17:15 KakaoTalk_20190522_201837254_04.jpg\n",
            "-rw------- 1 root root 301K May 22 17:15 KakaoTalk_20190522_201837254_05.jpg\n",
            "-rw------- 1 root root 239K May 22 17:15 KakaoTalk_20190522_201837254_06.jpg\n",
            "-rw------- 1 root root 298K May 22 17:15 KakaoTalk_20190522_201837254_07.jpg\n",
            "-rw------- 1 root root 246K May 22 17:15 KakaoTalk_20190522_201837254_08.jpg\n",
            "-rw------- 1 root root 121K May 22 17:15 KakaoTalk_20190522_201837254_09.jpg\n",
            "-rw------- 1 root root 140K May 22 17:15 KakaoTalk_20190522_201837254_10.jpg\n",
            "-rw------- 1 root root 186K May 22 17:15 KakaoTalk_20190522_201837254_11.jpg\n",
            "-rw------- 1 root root 253K May 22 17:15 KakaoTalk_20190522_201837254_12.jpg\n",
            "-rw------- 1 root root 232K May 22 17:15 KakaoTalk_20190522_201837254_13.jpg\n",
            "-rw------- 1 root root 205K May 22 17:15 KakaoTalk_20190522_201837254_14.jpg\n",
            "-rw------- 1 root root 240K May 22 17:15 KakaoTalk_20190522_201837254_15.jpg\n",
            "-rw------- 1 root root 229K May 22 17:15 KakaoTalk_20190522_201837254_16.jpg\n",
            "-rw------- 1 root root 225K May 22 17:15 KakaoTalk_20190522_201837254_17.jpg\n",
            "-rw------- 1 root root 206K May 22 17:15 KakaoTalk_20190522_201837254_18.jpg\n",
            "-rw------- 1 root root 166K May 22 17:15 KakaoTalk_20190522_201837254_19.jpg\n",
            "-rw------- 1 root root 177K May 22 17:15 KakaoTalk_20190522_201837254_20.jpg\n",
            "-rw------- 1 root root 210K May 22 17:15 KakaoTalk_20190522_201837254_21.jpg\n",
            "-rw------- 1 root root 201K May 22 17:15 KakaoTalk_20190522_201837254_22.jpg\n",
            "-rw------- 1 root root 215K May 22 17:15 KakaoTalk_20190522_201837254_23.jpg\n",
            "-rw------- 1 root root 213K May 22 17:15 KakaoTalk_20190522_201837254_24.jpg\n",
            "-rw------- 1 root root 199K May 22 17:15 KakaoTalk_20190522_201837254_25.jpg\n",
            "-rw------- 1 root root 202K May 22 17:15 KakaoTalk_20190522_201837254_26.jpg\n",
            "-rw------- 1 root root 218K May 22 17:15 KakaoTalk_20190522_201837254_27.jpg\n",
            "-rw------- 1 root root 207K May 22 17:15 KakaoTalk_20190522_201837254_28.jpg\n",
            "-rw------- 1 root root 215K May 22 17:15 KakaoTalk_20190522_201837254_29.jpg\n",
            "-rw------- 1 root root 250K May 22 17:15 KakaoTalk_20190522_201837254.jpg\n",
            "-rw------- 1 root root 310K May 22 17:15 KakaoTalk_20190522_201853434_01.jpg\n",
            "-rw------- 1 root root 292K May 22 17:15 KakaoTalk_20190522_201853434_02.jpg\n",
            "-rw------- 1 root root 301K May 22 17:15 KakaoTalk_20190522_201853434_03.jpg\n",
            "-rw------- 1 root root 239K May 22 17:15 KakaoTalk_20190522_201853434_04.jpg\n",
            "-rw------- 1 root root 298K May 22 17:15 KakaoTalk_20190522_201853434_05.jpg\n",
            "-rw------- 1 root root 246K May 22 17:15 KakaoTalk_20190522_201853434_06.jpg\n",
            "-rw------- 1 root root 121K May 22 17:15 KakaoTalk_20190522_201853434_07.jpg\n",
            "-rw------- 1 root root 140K May 22 17:15 KakaoTalk_20190522_201853434_08.jpg\n",
            "-rw------- 1 root root 232K May 22 17:15 KakaoTalk_20190522_201853434_09.jpg\n",
            "-rw------- 1 root root 186K May 22 17:15 KakaoTalk_20190522_201853434_10.jpg\n",
            "-rw------- 1 root root 205K May 22 17:15 KakaoTalk_20190522_201853434_11.jpg\n",
            "-rw------- 1 root root 253K May 22 17:15 KakaoTalk_20190522_201853434_12.jpg\n",
            "-rw------- 1 root root 240K May 22 17:15 KakaoTalk_20190522_201853434_13.jpg\n",
            "-rw------- 1 root root 206K May 22 17:15 KakaoTalk_20190522_201853434_14.jpg\n",
            "-rw------- 1 root root 210K May 22 17:15 KakaoTalk_20190522_201853434_15.jpg\n",
            "-rw------- 1 root root 225K May 22 17:15 KakaoTalk_20190522_201853434_16.jpg\n",
            "-rw------- 1 root root 177K May 22 17:15 KakaoTalk_20190522_201853434_17.jpg\n",
            "-rw------- 1 root root 229K May 22 17:15 KakaoTalk_20190522_201853434_18.jpg\n",
            "-rw------- 1 root root 166K May 22 17:15 KakaoTalk_20190522_201853434_19.jpg\n",
            "-rw------- 1 root root 201K May 22 17:15 KakaoTalk_20190522_201853434_20.jpg\n",
            "-rw------- 1 root root 215K May 22 17:15 KakaoTalk_20190522_201853434_21.jpg\n",
            "-rw------- 1 root root 213K May 22 17:15 KakaoTalk_20190522_201853434_22.jpg\n",
            "-rw------- 1 root root 199K May 22 17:15 KakaoTalk_20190522_201853434_23.jpg\n",
            "-rw------- 1 root root 202K May 22 17:15 KakaoTalk_20190522_201853434_24.jpg\n",
            "-rw------- 1 root root 218K May 22 17:15 KakaoTalk_20190522_201853434_25.jpg\n",
            "-rw------- 1 root root 285K May 22 17:15 KakaoTalk_20190522_201853434.jpg\n"
          ],
          "name": "stdout"
        }
      ]
    },
    {
      "cell_type": "markdown",
      "metadata": {
        "id": "jcam6z4EYlUv",
        "colab_type": "text"
      },
      "source": [
        "# 테스트 이미지 업로드"
      ]
    },
    {
      "cell_type": "code",
      "metadata": {
        "id": "7Zv6nEOJYRtb",
        "colab_type": "code",
        "outputId": "fc77f802-ffd3-4fd8-fb52-333fc2f2c756",
        "colab": {
          "resources": {
            "http://localhost:8080/nbextensions/google.colab/files.js": {
              "data": "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",
              "ok": true,
              "headers": [
                [
                  "content-type",
                  "application/javascript"
                ]
              ],
              "status": 200,
              "status_text": ""
            }
          },
          "base_uri": "https://localhost:8080/",
          "height": 3597
        }
      },
      "source": [
        "%cd {repo_dir_path}\n",
        "%cd test\n",
        "!rm *\n",
        "from google.colab import files\n",
        "files.upload()"
      ],
      "execution_count": 0,
      "outputs": [
        {
          "output_type": "stream",
          "text": [
            "/content/object_detection_demo\n",
            "/content/object_detection_demo/test\n",
            "rm: cannot remove '*': No such file or directory\n"
          ],
          "name": "stdout"
        },
        {
          "output_type": "display_data",
          "data": {
            "text/html": [
              "\n",
              "     <input type=\"file\" id=\"files-362bc805-4077-4ea2-be42-303eef9c0a3b\" name=\"files[]\" multiple disabled />\n",
              "     <output id=\"result-362bc805-4077-4ea2-be42-303eef9c0a3b\">\n",
              "      Upload widget is only available when the cell has been executed in the\n",
              "      current browser session. Please rerun this cell to enable.\n",
              "      </output>\n",
              "      <script src=\"/nbextensions/google.colab/files.js\"></script> "
            ],
            "text/plain": [
              "<IPython.core.display.HTML object>"
            ]
          },
          "metadata": {
            "tags": []
          }
        },
        {
          "output_type": "stream",
          "text": [
            "Saving frame11600.jpg to frame11600.jpg\n",
            "Saving frame11601.jpg to frame11601.jpg\n",
            "Saving frame11602.jpg to frame11602.jpg\n",
            "Saving frame11603.jpg to frame11603.jpg\n",
            "Saving frame11604.jpg to frame11604.jpg\n",
            "Saving frame11605.jpg to frame11605.jpg\n",
            "Saving frame11606.jpg to frame11606.jpg\n",
            "Saving frame11607.jpg to frame11607.jpg\n",
            "Saving frame11608.jpg to frame11608.jpg\n",
            "Saving frame11609.jpg to frame11609.jpg\n",
            "Saving frame11610.jpg to frame11610.jpg\n",
            "Saving frame11611.jpg to frame11611.jpg\n",
            "Saving frame11612.jpg to frame11612.jpg\n",
            "Saving frame11613.jpg to frame11613.jpg\n",
            "Saving frame11614.jpg to frame11614.jpg\n",
            "Saving frame11615.jpg to frame11615.jpg\n",
            "Saving frame11616.jpg to frame11616.jpg\n",
            "Saving frame11617.jpg to frame11617.jpg\n",
            "Saving frame11618.jpg to frame11618.jpg\n",
            "Saving frame11619.jpg to frame11619.jpg\n",
            "Saving frame11620.jpg to frame11620.jpg\n",
            "Saving frame11621.jpg to frame11621.jpg\n",
            "Saving frame11622.jpg to frame11622.jpg\n",
            "Saving frame11623.jpg to frame11623.jpg\n",
            "Saving frame11624.jpg to frame11624.jpg\n",
            "Saving frame11625.jpg to frame11625.jpg\n",
            "Saving frame11626.jpg to frame11626.jpg\n",
            "Saving frame11627.jpg to frame11627.jpg\n",
            "Saving frame11628.jpg to frame11628.jpg\n",
            "Saving frame11629.jpg to frame11629.jpg\n",
            "Saving frame11630.jpg to frame11630.jpg\n",
            "Saving frame11631.jpg to frame11631.jpg\n",
            "Saving frame11632.jpg to frame11632.jpg\n",
            "Saving frame11633.jpg to frame11633.jpg\n",
            "Saving frame11634.jpg to frame11634.jpg\n",
            "Saving frame11635.jpg to frame11635.jpg\n",
            "Saving frame11636.jpg to frame11636.jpg\n",
            "Saving frame11637.jpg to frame11637.jpg\n",
            "Saving frame11638.jpg to frame11638.jpg\n",
            "Saving frame11639.jpg to frame11639.jpg\n",
            "Saving frame11640.jpg to frame11640.jpg\n",
            "Saving frame11641.jpg to frame11641.jpg\n",
            "Saving frame11642.jpg to frame11642.jpg\n",
            "Saving frame11643.jpg to frame11643.jpg\n",
            "Saving frame11644.jpg to frame11644.jpg\n",
            "Saving frame11645.jpg to frame11645.jpg\n",
            "Saving frame11646.jpg to frame11646.jpg\n",
            "Saving frame11647.jpg to frame11647.jpg\n",
            "Saving frame11648.jpg to frame11648.jpg\n",
            "Saving frame11649.jpg to frame11649.jpg\n",
            "Saving frame11650.jpg to frame11650.jpg\n",
            "Saving frame11651.jpg to frame11651.jpg\n",
            "Saving frame11652.jpg to frame11652.jpg\n",
            "Saving frame11653.jpg to frame11653.jpg\n",
            "Saving frame11654.jpg to frame11654.jpg\n",
            "Saving frame11655.jpg to frame11655.jpg\n",
            "Saving frame11656.jpg to frame11656.jpg\n",
            "Saving frame11657.jpg to frame11657.jpg\n",
            "Saving frame11658.jpg to frame11658.jpg\n",
            "Saving frame11659.jpg to frame11659.jpg\n",
            "Saving frame11660.jpg to frame11660.jpg\n",
            "Saving frame11661.jpg to frame11661.jpg\n",
            "Saving frame11662.jpg to frame11662.jpg\n",
            "Saving frame11663.jpg to frame11663.jpg\n",
            "Saving frame11664.jpg to frame11664.jpg\n",
            "Saving frame11665.jpg to frame11665.jpg\n",
            "Saving frame11666.jpg to frame11666.jpg\n",
            "Saving frame11667.jpg to frame11667.jpg\n",
            "Saving frame11668.jpg to frame11668.jpg\n",
            "Saving frame11669.jpg to frame11669.jpg\n",
            "Saving frame11670.jpg to frame11670.jpg\n",
            "Saving frame11671.jpg to frame11671.jpg\n",
            "Saving frame11672.jpg to frame11672.jpg\n",
            "Saving frame11673.jpg to frame11673.jpg\n",
            "Saving frame11674.jpg to frame11674.jpg\n",
            "Saving frame11675.jpg to frame11675.jpg\n",
            "Saving frame11676.jpg to frame11676.jpg\n",
            "Saving frame11677.jpg to frame11677.jpg\n",
            "Saving frame11678.jpg to frame11678.jpg\n",
            "Saving frame11679.jpg to frame11679.jpg\n",
            "Saving frame11680.jpg to frame11680.jpg\n",
            "Saving frame11681.jpg to frame11681.jpg\n",
            "Saving frame11682.jpg to frame11682.jpg\n",
            "Saving frame11683.jpg to frame11683.jpg\n",
            "Saving frame11684.jpg to frame11684.jpg\n",
            "Saving frame11685.jpg to frame11685.jpg\n",
            "Saving frame11686.jpg to frame11686.jpg\n",
            "Saving frame11687.jpg to frame11687.jpg\n",
            "Saving frame11688.jpg to frame11688.jpg\n",
            "Saving frame11689.jpg to frame11689.jpg\n",
            "Saving frame11690.jpg to frame11690.jpg\n",
            "Saving frame11691.jpg to frame11691.jpg\n",
            "Saving frame11692.jpg to frame11692.jpg\n",
            "Saving frame11693.jpg to frame11693.jpg\n",
            "Saving frame11694.jpg to frame11694.jpg\n",
            "Saving frame11695.jpg to frame11695.jpg\n",
            "Saving frame11696.jpg to frame11696.jpg\n",
            "Saving frame11697.jpg to frame11697.jpg\n",
            "Saving frame11698.jpg to frame11698.jpg\n",
            "Saving frame11699.jpg to frame11699.jpg\n"
          ],
          "name": "stdout"
        }
      ]
    },
    {
      "cell_type": "code",
      "metadata": {
        "id": "7Iea7uH5FfnT",
        "colab_type": "code",
        "colab": {}
      },
      "source": [
        "import os\n",
        "import glob\n",
        "\n",
        "# Path to frozen detection graph. This is the actual model that is used for the object detection.\n",
        "PATH_TO_CKPT = pb_fname\n",
        "\n",
        "# List of the strings that is used to add correct label for each box.\n",
        "PATH_TO_LABELS = label_map_pbtxt_fname\n",
        "\n",
        "# If you want to test the code with your images, just add images files to the PATH_TO_TEST_IMAGES_DIR.\n",
        "PATH_TO_TEST_IMAGES_DIR =  os.path.join(repo_dir_path, \"test\")\n",
        "#PATH_TO_TEST_IMAGES_DIR = '/content/gdrive/\"My Drive\"/ai_project/data/'\n",
        "\n",
        "!cd /; cp /content/gdrive/\"My Drive\"/ai_project/data/* {PATH_TO_TEST_IMAGES_DIR}\n",
        "\n",
        "\n",
        "assert os.path.isfile(pb_fname)\n",
        "assert os.path.isfile(PATH_TO_LABELS)\n",
        "TEST_IMAGE_PATHS = glob.glob(os.path.join(PATH_TO_TEST_IMAGES_DIR, \"*.*\"))\n",
        "assert len(TEST_IMAGE_PATHS) > 0, 'No image found in `{}`.'.format(PATH_TO_TEST_IMAGES_DIR)"
      ],
      "execution_count": 0,
      "outputs": []
    },
    {
      "cell_type": "code",
      "metadata": {
        "id": "TFX6EEpJIZCt",
        "colab_type": "code",
        "outputId": "de336551-b9f1-4019-d4cb-05a6919a0b8b",
        "colab": {
          "base_uri": "https://localhost:8080/",
          "height": 54
        }
      },
      "source": [
        "print(TEST_IMAGE_PATHS)"
      ],
      "execution_count": 100,
      "outputs": [
        {
          "output_type": "stream",
          "text": [
            "['/content/object_detection_demo/test/KakaoTalk_20190522_201853434_07.jpg', '/content/object_detection_demo/test/KakaoTalk_20190522_201853434_14.jpg', '/content/object_detection_demo/test/KakaoTalk_20190522_201853434_22.jpg', '/content/object_detection_demo/test/KakaoTalk_20190522_201837254_15.jpg', '/content/object_detection_demo/test/KakaoTalk_20190522_201853434_05.jpg', '/content/object_detection_demo/test/KakaoTalk_20190522_201837254_04.jpg', '/content/object_detection_demo/test/KakaoTalk_20190522_201837254_06.jpg', '/content/object_detection_demo/test/KakaoTalk_20190522_201853434_12.jpg', '/content/object_detection_demo/test/KakaoTalk_20190522_201837254_24.jpg', '/content/object_detection_demo/test/KakaoTalk_20190522_201837254_17.jpg', '/content/object_detection_demo/test/KakaoTalk_20190522_201853434_11.jpg', '/content/object_detection_demo/test/KakaoTalk_20190522_201853434_19.jpg', '/content/object_detection_demo/test/KakaoTalk_20190522_201837254_03.jpg', '/content/object_detection_demo/test/KakaoTalk_20190522_201837254_01.jpg', '/content/object_detection_demo/test/KakaoTalk_20190522_201853434_15.jpg', '/content/object_detection_demo/test/KakaoTalk_20190522_201853434_24.jpg', '/content/object_detection_demo/test/KakaoTalk_20190522_201853434_09.jpg', '/content/object_detection_demo/test/KakaoTalk_20190522_201853434_03.jpg', '/content/object_detection_demo/test/KakaoTalk_20190522_201837254_23.jpg', '/content/object_detection_demo/test/KakaoTalk_20190522_201853434_01.jpg', '/content/object_detection_demo/test/KakaoTalk_20190522_201837254_02.jpg', '/content/object_detection_demo/test/KakaoTalk_20190522_201853434_06.jpg', '/content/object_detection_demo/test/10.jpg', '/content/object_detection_demo/test/KakaoTalk_20190522_201837254_07.jpg', '/content/object_detection_demo/test/KakaoTalk_20190522_201853434_04.jpg', '/content/object_detection_demo/test/KakaoTalk_20190522_201837254_27.jpg', '/content/object_detection_demo/test/KakaoTalk_20190522_201853434_17.jpg', '/content/object_detection_demo/test/KakaoTalk_20190522_201837254_10.jpg', '/content/object_detection_demo/test/KakaoTalk_20190522_201853434_18.jpg', '/content/object_detection_demo/test/KakaoTalk_20190522_201853434_23.jpg', '/content/object_detection_demo/test/KakaoTalk_20190522_201837254_21.jpg', '/content/object_detection_demo/test/KakaoTalk_20190522_201853434_21.jpg', '/content/object_detection_demo/test/KakaoTalk_20190522_201837254_05.jpg', '/content/object_detection_demo/test/KakaoTalk_20190522_201837254_29.jpg', '/content/object_detection_demo/test/15.jpg', '/content/object_detection_demo/test/KakaoTalk_20190522_201837254_08.jpg', '/content/object_detection_demo/test/KakaoTalk_20190522_201853434_20.jpg', '/content/object_detection_demo/test/KakaoTalk_20190522_201837254.jpg', '/content/object_detection_demo/test/KakaoTalk_20190522_201837254_20.jpg', '/content/object_detection_demo/test/KakaoTalk_20190522_201837254_14.jpg', '/content/object_detection_demo/test/KakaoTalk_20190522_201853434.jpg', '/content/object_detection_demo/test/0.jpg', '/content/object_detection_demo/test/KakaoTalk_20190522_201837254_16.jpg', '/content/object_detection_demo/test/KakaoTalk_20190522_201837254_13.jpg', '/content/object_detection_demo/test/KakaoTalk_20190522_201853434_02.jpg', '/content/object_detection_demo/test/KakaoTalk_20190522_201853434_16.jpg', '/content/object_detection_demo/test/KakaoTalk_20190522_201853434_10.jpg', '/content/object_detection_demo/test/KakaoTalk_20190522_201837254_28.jpg', '/content/object_detection_demo/test/KakaoTalk_20190522_201837254_22.jpg', '/content/object_detection_demo/test/KakaoTalk_20190522_201837254_18.jpg', '/content/object_detection_demo/test/KakaoTalk_20190522_201837254_19.jpg', '/content/object_detection_demo/test/KakaoTalk_20190522_201837254_09.jpg', '/content/object_detection_demo/test/KakaoTalk_20190522_201837254_26.jpg', '/content/object_detection_demo/test/KakaoTalk_20190522_201837254_11.jpg', '/content/object_detection_demo/test/KakaoTalk_20190522_201853434_25.jpg', '/content/object_detection_demo/test/KakaoTalk_20190522_201837254_25.jpg', '/content/object_detection_demo/test/KakaoTalk_20190522_201853434_08.jpg', '/content/object_detection_demo/test/KakaoTalk_20190522_201853434_13.jpg', '/content/object_detection_demo/test/KakaoTalk_20190522_201837254_12.jpg']\n"
          ],
          "name": "stdout"
        }
      ]
    },
    {
      "cell_type": "code",
      "metadata": {
        "id": "ahpgAmr3T6E4",
        "colab_type": "code",
        "outputId": "e70021be-ac0e-4bc8-9f1f-db5d4d43422d",
        "colab": {
          "base_uri": "https://localhost:8080/",
          "height": 53
        }
      },
      "source": [
        "'''\n",
        "%cd /content/gdrive/My Drive/ai_project\n",
        "if not os.path.exists('data_tested_by_Yong-Ho'):\n",
        "  os.mkdir('data_tested_by_Yong-Ho')\n",
        "!ls -al {'data_tested_by_Yong-Ho'}\n",
        "'''"
      ],
      "execution_count": 0,
      "outputs": [
        {
          "output_type": "stream",
          "text": [
            "/content/gdrive/My Drive/ai_project\n",
            "total 0\n"
          ],
          "name": "stdout"
        }
      ]
    },
    {
      "cell_type": "code",
      "metadata": {
        "id": "PymCri5zGEnk",
        "colab_type": "code",
        "outputId": "32f38869-883c-4350-cb44-081729a0a632",
        "colab": {
          "base_uri": "https://localhost:8080/",
          "height": 34
        }
      },
      "source": [
        "%cd /content/models/research/object_detection\n",
        "\n",
        "import numpy as np\n",
        "import os\n",
        "import six.moves.urllib as urllib\n",
        "import sys\n",
        "import tarfile\n",
        "import tensorflow as tf\n",
        "import zipfile\n",
        "\n",
        "from collections import defaultdict\n",
        "from io import StringIO\n",
        "from matplotlib import pyplot as plt\n",
        "from PIL import Image\n",
        "\n",
        "# This is needed since the notebook is stored in the object_detection folder.\n",
        "sys.path.append(\"..\")\n",
        "from object_detection.utils import ops as utils_ops\n",
        "\n",
        "\n",
        "# This is needed to display the images.\n",
        "%matplotlib inline\n",
        "\n",
        "\n",
        "from object_detection.utils import label_map_util\n",
        "\n",
        "from object_detection.utils import visualization_utils as vis_util\n",
        "\n",
        "\n",
        "detection_graph = tf.Graph()\n",
        "with detection_graph.as_default():\n",
        "    od_graph_def = tf.GraphDef()\n",
        "    with tf.gfile.GFile(PATH_TO_CKPT, 'rb') as fid:\n",
        "        serialized_graph = fid.read()\n",
        "        od_graph_def.ParseFromString(serialized_graph)\n",
        "        tf.import_graph_def(od_graph_def, name='')\n",
        "\n",
        "\n",
        "label_map = label_map_util.load_labelmap(PATH_TO_LABELS)\n",
        "categories = label_map_util.convert_label_map_to_categories(\n",
        "    label_map, max_num_classes=num_classes, use_display_name=True)\n",
        "category_index = label_map_util.create_category_index(categories)\n",
        "\n",
        "\n",
        "def load_image_into_numpy_array(image):\n",
        "    (im_width, im_height) = image.size\n",
        "    #(im_width, im_height, _) = image.shape\n",
        "    return np.array(image).reshape(\n",
        "        (im_height, im_width, 3)).astype(np.uint8)\n",
        "\n",
        "# Size, in inches, of the output images.\n",
        "#IMAGE_SIZE = (12, 8)\n",
        "\n",
        "\n",
        "def run_inference_for_single_image(image, graph):\n",
        "    with graph.as_default():\n",
        "        with tf.Session() as sess:\n",
        "            # Get handles to input and output tensors\n",
        "            ops = tf.get_default_graph().get_operations()\n",
        "            all_tensor_names = {\n",
        "                output.name for op in ops for output in op.outputs}\n",
        "            tensor_dict = {}\n",
        "            for key in [\n",
        "                'num_detections', 'detection_boxes', 'detection_scores',\n",
        "                'detection_classes', 'detection_masks'\n",
        "            ]:\n",
        "                tensor_name = key + ':0'\n",
        "                if tensor_name in all_tensor_names:\n",
        "                    tensor_dict[key] = tf.get_default_graph().get_tensor_by_name(\n",
        "                        tensor_name)\n",
        "            if 'detection_masks' in tensor_dict:\n",
        "                # The following processing is only for single image\n",
        "                detection_boxes = tf.squeeze(\n",
        "                    tensor_dict['detection_boxes'], [0])\n",
        "                detection_masks = tf.squeeze(\n",
        "                    tensor_dict['detection_masks'], [0])\n",
        "                # Reframe is required to translate mask from box coordinates to image coordinates and fit the image size.\n",
        "                real_num_detection = tf.cast(\n",
        "                    tensor_dict['num_detections'][0], tf.int32)\n",
        "                detection_boxes = tf.slice(detection_boxes, [0, 0], [\n",
        "                                           real_num_detection, -1])\n",
        "                detection_masks = tf.slice(detection_masks, [0, 0, 0], [\n",
        "                                           real_num_detection, -1, -1])\n",
        "                detection_masks_reframed = utils_ops.reframe_box_masks_to_image_masks(\n",
        "                    detection_masks, detection_boxes, image.shape[0], image.shape[1])\n",
        "                detection_masks_reframed = tf.cast(\n",
        "                    tf.greater(detection_masks_reframed, 0.5), tf.uint8)\n",
        "                # Follow the convention by adding back the batch dimension\n",
        "                tensor_dict['detection_masks'] = tf.expand_dims(\n",
        "                    detection_masks_reframed, 0)\n",
        "            image_tensor = tf.get_default_graph().get_tensor_by_name('image_tensor:0')\n",
        "\n",
        "            # Run inference\n",
        "            output_dict = sess.run(tensor_dict,\n",
        "                                   feed_dict={image_tensor: np.expand_dims(image, 0)})\n",
        "\n",
        "            # all outputs are float32 numpy arrays, so convert types as appropriate\n",
        "            output_dict['num_detections'] = int(\n",
        "                output_dict['num_detections'][0])\n",
        "            output_dict['detection_classes'] = output_dict[\n",
        "                'detection_classes'][0].astype(np.uint8)\n",
        "            output_dict['detection_boxes'] = output_dict['detection_boxes'][0]\n",
        "            output_dict['detection_scores'] = output_dict['detection_scores'][0]\n",
        "            if 'detection_masks' in output_dict:\n",
        "                output_dict['detection_masks'] = output_dict['detection_masks'][0]\n",
        "    return output_dict"
      ],
      "execution_count": 95,
      "outputs": [
        {
          "output_type": "stream",
          "text": [
            "/content/models/research/object_detection\n"
          ],
          "name": "stdout"
        }
      ]
    },
    {
      "cell_type": "code",
      "metadata": {
        "id": "zXEmZcy5U3uz",
        "colab_type": "code",
        "outputId": "7752686e-4c9b-4aa4-ce8d-1b8d44c789f8",
        "colab": {
          "base_uri": "https://localhost:8080/",
          "height": 1198
        }
      },
      "source": [
        "%matplotlib inline\n",
        "%cd /content/gdrive/My Drive/ai_project/\n",
        "\n",
        "import cv2\n",
        "print(cv2.__version__)\n",
        "\n",
        "#vidcap=cv2.VideoCapture('Sejong_test.mp4')\n",
        "#success, image = vidcap.read()\n",
        "#image=cv2.imread(\"data/KakaoTalk_20190522_201853434_07.jpg\")\n",
        "#img2vid_arr=[]\n",
        "\n",
        "i=0\n",
        "#while success:\n",
        "#    image=cv2.cvtColor(image, cv2.COLOR_BGR2RGB)\n",
        "#Maximum: 20pics\n",
        "for image_path in TEST_IMAGE_PATHS:\n",
        "  with Image.open(image_path) as image:\n",
        "\n",
        "    # the array based representation of the image will be used later in order to prepare the\n",
        "    # result image with boxes and labels on it.\n",
        "    image_np = load_image_into_numpy_array(image)\n",
        "    #image_np=image\n",
        "    # Expand dimensions since the model expects images to have shape: [1, None, None, 3]\n",
        "    image_np_expanded = np.expand_dims(image_np, axis=0)\n",
        "    # Actual detection.\n",
        "    output_dict = run_inference_for_single_image(image_np, detection_graph)\n",
        "\n",
        "    # 감지 결과 json으로 저장\n",
        "    f=open(os.path.basename(image_path).split('.')[0]+\".json\", 'w')\n",
        "    f.write(str(output_dict))\n",
        "    f.close()\n",
        "#      f=open(os.path.basename(image_path).split('.')[0]+\".json\", 'r')\n",
        "#      print(f)\n",
        "#      print(f.read())\n",
        "\n",
        "    # Visualization of the results of a detection.\n",
        "    vis_util.visualize_boxes_and_labels_on_image_array(\n",
        "        image_np,\n",
        "        output_dict['detection_boxes'],\n",
        "        output_dict['detection_classes'],\n",
        "        output_dict['detection_scores'],\n",
        "        category_index,\n",
        "        instance_masks=output_dict.get('detection_masks'),\n",
        "        use_normalized_coordinates=True,\n",
        "        line_thickness=1)\n",
        "    #plt.imsave('frame'+str(i)+'_test.jpg', image_np); plt.close()\n",
        "    plt.imsave(os.path.basename(image_path).split('.')[0]+'_test.jpg', image_np); plt.close()\n",
        "    plt.imshow(image_np); plt.show(); plt.close()\n",
        "    success, image = vidcap.read()\n",
        "    '''\n",
        "    img2vid_arr.append(image_np)\n",
        "    \n",
        "    #print(os.path.basename(image_path))\n",
        "    for _ in range(15):\n",
        "      success, image = vidcap.read()\n",
        "    i+=1\n",
        "    if i%15==0:\n",
        "      print(str(i//15)+\"%\")\n",
        "      plt.imsave('frame'+str(i)+'_test.jpg', image_np)\n",
        "      plt.imshow(image_np); plt.show(); plt.close()\n",
        "    if i==1500:\n",
        "      video=cv2.VideoWriter('test_yongho.avi', -1, 1, (720, 1280))\n",
        "      for i in img2vid_arr:\n",
        "        video.write(i)\n",
        "        \n",
        "      cv2.destroyAllWindows()\n",
        "      video.release()\n",
        "      break\n",
        "   '''"
      ],
      "execution_count": 99,
      "outputs": [
        {
          "output_type": "stream",
          "text": [
            "/content/gdrive/My Drive/ai_project\n",
            "3.4.3\n"
          ],
          "name": "stdout"
        },
        {
          "output_type": "display_data",
          "data": {
            "image/png": "[encoded data removed]",
            "text/plain": [
              "<Figure size 432x288 with 1 Axes>"
            ]
          },
          "metadata": {
            "tags": []
          }
        },
        {
          "output_type": "display_data",
          "data": {
            "image/png": "[encoded data removed]",
            "text/plain": [
              "<Figure size 432x288 with 1 Axes>"
            ]
          },
          "metadata": {
            "tags": []
          }
        },
        {
          "output_type": "display_data",
          "data": {
            "image/png": "[encoded data removed]",
            "text/plain": [
              "<Figure size 432x288 with 1 Axes>"
            ]
          },
          "metadata": {
            "tags": []
          }
        },
        {
          "output_type": "error",
          "ename": "KeyboardInterrupt",
          "evalue": "ignored",
          "traceback": [
            "\u001b[0;31m---------------------------------------------------------------------------\u001b[0m",
            "\u001b[0;31mKeyboardInterrupt\u001b[0m                         Traceback (most recent call last)",
            "\u001b[0;32m<ipython-input-99-4675a7422527>\u001b[0m in \u001b[0;36m<module>\u001b[0;34m()\u001b[0m\n\u001b[1;32m     25\u001b[0m     \u001b[0mimage_np_expanded\u001b[0m \u001b[0;34m=\u001b[0m \u001b[0mnp\u001b[0m\u001b[0;34m.\u001b[0m\u001b[0mexpand_dims\u001b[0m\u001b[0;34m(\u001b[0m\u001b[0mimage_np\u001b[0m\u001b[0;34m,\u001b[0m \u001b[0maxis\u001b[0m\u001b[0;34m=\u001b[0m\u001b[0;36m0\u001b[0m\u001b[0;34m)\u001b[0m\u001b[0;34m\u001b[0m\u001b[0;34m\u001b[0m\u001b[0m\n\u001b[1;32m     26\u001b[0m     \u001b[0;31m# Actual detection.\u001b[0m\u001b[0;34m\u001b[0m\u001b[0;34m\u001b[0m\u001b[0;34m\u001b[0m\u001b[0m\n\u001b[0;32m---> 27\u001b[0;31m     \u001b[0moutput_dict\u001b[0m \u001b[0;34m=\u001b[0m \u001b[0mrun_inference_for_single_image\u001b[0m\u001b[0;34m(\u001b[0m\u001b[0mimage_np\u001b[0m\u001b[0;34m,\u001b[0m \u001b[0mdetection_graph\u001b[0m\u001b[0;34m)\u001b[0m\u001b[0;34m\u001b[0m\u001b[0;34m\u001b[0m\u001b[0m\n\u001b[0m\u001b[1;32m     28\u001b[0m \u001b[0;34m\u001b[0m\u001b[0m\n\u001b[1;32m     29\u001b[0m     \u001b[0;31m# 감지 결과 json으로 저장\u001b[0m\u001b[0;34m\u001b[0m\u001b[0;34m\u001b[0m\u001b[0;34m\u001b[0m\u001b[0m\n",
            "\u001b[0;32m<ipython-input-95-657677481c69>\u001b[0m in \u001b[0;36mrun_inference_for_single_image\u001b[0;34m(image, graph)\u001b[0m\n\u001b[1;32m     93\u001b[0m             \u001b[0;31m# Run inference\u001b[0m\u001b[0;34m\u001b[0m\u001b[0;34m\u001b[0m\u001b[0;34m\u001b[0m\u001b[0m\n\u001b[1;32m     94\u001b[0m             output_dict = sess.run(tensor_dict,\n\u001b[0;32m---> 95\u001b[0;31m                                    feed_dict={image_tensor: np.expand_dims(image, 0)})\n\u001b[0m\u001b[1;32m     96\u001b[0m \u001b[0;34m\u001b[0m\u001b[0m\n\u001b[1;32m     97\u001b[0m             \u001b[0;31m# all outputs are float32 numpy arrays, so convert types as appropriate\u001b[0m\u001b[0;34m\u001b[0m\u001b[0;34m\u001b[0m\u001b[0;34m\u001b[0m\u001b[0m\n",
            "\u001b[0;32m/usr/local/lib/python3.6/dist-packages/tensorflow/python/client/session.py\u001b[0m in \u001b[0;36mrun\u001b[0;34m(self, fetches, feed_dict, options, run_metadata)\u001b[0m\n\u001b[1;32m    948\u001b[0m     \u001b[0;32mtry\u001b[0m\u001b[0;34m:\u001b[0m\u001b[0;34m\u001b[0m\u001b[0;34m\u001b[0m\u001b[0m\n\u001b[1;32m    949\u001b[0m       result = self._run(None, fetches, feed_dict, options_ptr,\n\u001b[0;32m--> 950\u001b[0;31m                          run_metadata_ptr)\n\u001b[0m\u001b[1;32m    951\u001b[0m       \u001b[0;32mif\u001b[0m \u001b[0mrun_metadata\u001b[0m\u001b[0;34m:\u001b[0m\u001b[0;34m\u001b[0m\u001b[0;34m\u001b[0m\u001b[0m\n\u001b[1;32m    952\u001b[0m         \u001b[0mproto_data\u001b[0m \u001b[0;34m=\u001b[0m \u001b[0mtf_session\u001b[0m\u001b[0;34m.\u001b[0m\u001b[0mTF_GetBuffer\u001b[0m\u001b[0;34m(\u001b[0m\u001b[0mrun_metadata_ptr\u001b[0m\u001b[0;34m)\u001b[0m\u001b[0;34m\u001b[0m\u001b[0;34m\u001b[0m\u001b[0m\n",
            "\u001b[0;32m/usr/local/lib/python3.6/dist-packages/tensorflow/python/client/session.py\u001b[0m in \u001b[0;36m_run\u001b[0;34m(self, handle, fetches, feed_dict, options, run_metadata)\u001b[0m\n\u001b[1;32m   1171\u001b[0m     \u001b[0;32mif\u001b[0m \u001b[0mfinal_fetches\u001b[0m \u001b[0;32mor\u001b[0m \u001b[0mfinal_targets\u001b[0m \u001b[0;32mor\u001b[0m \u001b[0;34m(\u001b[0m\u001b[0mhandle\u001b[0m \u001b[0;32mand\u001b[0m \u001b[0mfeed_dict_tensor\u001b[0m\u001b[0;34m)\u001b[0m\u001b[0;34m:\u001b[0m\u001b[0;34m\u001b[0m\u001b[0;34m\u001b[0m\u001b[0m\n\u001b[1;32m   1172\u001b[0m       results = self._do_run(handle, final_targets, final_fetches,\n\u001b[0;32m-> 1173\u001b[0;31m                              feed_dict_tensor, options, run_metadata)\n\u001b[0m\u001b[1;32m   1174\u001b[0m     \u001b[0;32melse\u001b[0m\u001b[0;34m:\u001b[0m\u001b[0;34m\u001b[0m\u001b[0;34m\u001b[0m\u001b[0m\n\u001b[1;32m   1175\u001b[0m       \u001b[0mresults\u001b[0m \u001b[0;34m=\u001b[0m \u001b[0;34m[\u001b[0m\u001b[0;34m]\u001b[0m\u001b[0;34m\u001b[0m\u001b[0;34m\u001b[0m\u001b[0m\n",
            "\u001b[0;32m/usr/local/lib/python3.6/dist-packages/tensorflow/python/client/session.py\u001b[0m in \u001b[0;36m_do_run\u001b[0;34m(self, handle, target_list, fetch_list, feed_dict, options, run_metadata)\u001b[0m\n\u001b[1;32m   1348\u001b[0m     \u001b[0;32mif\u001b[0m \u001b[0mhandle\u001b[0m \u001b[0;32mis\u001b[0m \u001b[0;32mNone\u001b[0m\u001b[0;34m:\u001b[0m\u001b[0;34m\u001b[0m\u001b[0;34m\u001b[0m\u001b[0m\n\u001b[1;32m   1349\u001b[0m       return self._do_call(_run_fn, feeds, fetches, targets, options,\n\u001b[0;32m-> 1350\u001b[0;31m                            run_metadata)\n\u001b[0m\u001b[1;32m   1351\u001b[0m     \u001b[0;32melse\u001b[0m\u001b[0;34m:\u001b[0m\u001b[0;34m\u001b[0m\u001b[0;34m\u001b[0m\u001b[0m\n\u001b[1;32m   1352\u001b[0m       \u001b[0;32mreturn\u001b[0m \u001b[0mself\u001b[0m\u001b[0;34m.\u001b[0m\u001b[0m_do_call\u001b[0m\u001b[0;34m(\u001b[0m\u001b[0m_prun_fn\u001b[0m\u001b[0;34m,\u001b[0m \u001b[0mhandle\u001b[0m\u001b[0;34m,\u001b[0m \u001b[0mfeeds\u001b[0m\u001b[0;34m,\u001b[0m \u001b[0mfetches\u001b[0m\u001b[0;34m)\u001b[0m\u001b[0;34m\u001b[0m\u001b[0;34m\u001b[0m\u001b[0m\n",
            "\u001b[0;32m/usr/local/lib/python3.6/dist-packages/tensorflow/python/client/session.py\u001b[0m in \u001b[0;36m_do_call\u001b[0;34m(self, fn, *args)\u001b[0m\n\u001b[1;32m   1354\u001b[0m   \u001b[0;32mdef\u001b[0m \u001b[0m_do_call\u001b[0m\u001b[0;34m(\u001b[0m\u001b[0mself\u001b[0m\u001b[0;34m,\u001b[0m \u001b[0mfn\u001b[0m\u001b[0;34m,\u001b[0m \u001b[0;34m*\u001b[0m\u001b[0margs\u001b[0m\u001b[0;34m)\u001b[0m\u001b[0;34m:\u001b[0m\u001b[0;34m\u001b[0m\u001b[0;34m\u001b[0m\u001b[0m\n\u001b[1;32m   1355\u001b[0m     \u001b[0;32mtry\u001b[0m\u001b[0;34m:\u001b[0m\u001b[0;34m\u001b[0m\u001b[0;34m\u001b[0m\u001b[0m\n\u001b[0;32m-> 1356\u001b[0;31m       \u001b[0;32mreturn\u001b[0m \u001b[0mfn\u001b[0m\u001b[0;34m(\u001b[0m\u001b[0;34m*\u001b[0m\u001b[0margs\u001b[0m\u001b[0;34m)\u001b[0m\u001b[0;34m\u001b[0m\u001b[0;34m\u001b[0m\u001b[0m\n\u001b[0m\u001b[1;32m   1357\u001b[0m     \u001b[0;32mexcept\u001b[0m \u001b[0merrors\u001b[0m\u001b[0;34m.\u001b[0m\u001b[0mOpError\u001b[0m \u001b[0;32mas\u001b[0m \u001b[0me\u001b[0m\u001b[0;34m:\u001b[0m\u001b[0;34m\u001b[0m\u001b[0;34m\u001b[0m\u001b[0m\n\u001b[1;32m   1358\u001b[0m       \u001b[0mmessage\u001b[0m \u001b[0;34m=\u001b[0m \u001b[0mcompat\u001b[0m\u001b[0;34m.\u001b[0m\u001b[0mas_text\u001b[0m\u001b[0;34m(\u001b[0m\u001b[0me\u001b[0m\u001b[0;34m.\u001b[0m\u001b[0mmessage\u001b[0m\u001b[0;34m)\u001b[0m\u001b[0;34m\u001b[0m\u001b[0;34m\u001b[0m\u001b[0m\n",
            "\u001b[0;32m/usr/local/lib/python3.6/dist-packages/tensorflow/python/client/session.py\u001b[0m in \u001b[0;36m_run_fn\u001b[0;34m(feed_dict, fetch_list, target_list, options, run_metadata)\u001b[0m\n\u001b[1;32m   1339\u001b[0m       \u001b[0mself\u001b[0m\u001b[0;34m.\u001b[0m\u001b[0m_extend_graph\u001b[0m\u001b[0;34m(\u001b[0m\u001b[0;34m)\u001b[0m\u001b[0;34m\u001b[0m\u001b[0;34m\u001b[0m\u001b[0m\n\u001b[1;32m   1340\u001b[0m       return self._call_tf_sessionrun(\n\u001b[0;32m-> 1341\u001b[0;31m           options, feed_dict, fetch_list, target_list, run_metadata)\n\u001b[0m\u001b[1;32m   1342\u001b[0m \u001b[0;34m\u001b[0m\u001b[0m\n\u001b[1;32m   1343\u001b[0m     \u001b[0;32mdef\u001b[0m \u001b[0m_prun_fn\u001b[0m\u001b[0;34m(\u001b[0m\u001b[0mhandle\u001b[0m\u001b[0;34m,\u001b[0m \u001b[0mfeed_dict\u001b[0m\u001b[0;34m,\u001b[0m \u001b[0mfetch_list\u001b[0m\u001b[0;34m)\u001b[0m\u001b[0;34m:\u001b[0m\u001b[0;34m\u001b[0m\u001b[0;34m\u001b[0m\u001b[0m\n",
            "\u001b[0;32m/usr/local/lib/python3.6/dist-packages/tensorflow/python/client/session.py\u001b[0m in \u001b[0;36m_call_tf_sessionrun\u001b[0;34m(self, options, feed_dict, fetch_list, target_list, run_metadata)\u001b[0m\n\u001b[1;32m   1427\u001b[0m     return tf_session.TF_SessionRun_wrapper(\n\u001b[1;32m   1428\u001b[0m         \u001b[0mself\u001b[0m\u001b[0;34m.\u001b[0m\u001b[0m_session\u001b[0m\u001b[0;34m,\u001b[0m \u001b[0moptions\u001b[0m\u001b[0;34m,\u001b[0m \u001b[0mfeed_dict\u001b[0m\u001b[0;34m,\u001b[0m \u001b[0mfetch_list\u001b[0m\u001b[0;34m,\u001b[0m \u001b[0mtarget_list\u001b[0m\u001b[0;34m,\u001b[0m\u001b[0;34m\u001b[0m\u001b[0;34m\u001b[0m\u001b[0m\n\u001b[0;32m-> 1429\u001b[0;31m         run_metadata)\n\u001b[0m\u001b[1;32m   1430\u001b[0m \u001b[0;34m\u001b[0m\u001b[0m\n\u001b[1;32m   1431\u001b[0m   \u001b[0;32mdef\u001b[0m \u001b[0m_call_tf_sessionprun\u001b[0m\u001b[0;34m(\u001b[0m\u001b[0mself\u001b[0m\u001b[0;34m,\u001b[0m \u001b[0mhandle\u001b[0m\u001b[0;34m,\u001b[0m \u001b[0mfeed_dict\u001b[0m\u001b[0;34m,\u001b[0m \u001b[0mfetch_list\u001b[0m\u001b[0;34m)\u001b[0m\u001b[0;34m:\u001b[0m\u001b[0;34m\u001b[0m\u001b[0;34m\u001b[0m\u001b[0m\n",
            "\u001b[0;31mKeyboardInterrupt\u001b[0m: "
          ]
        }
      ]
    },
    {
      "cell_type": "code",
      "metadata": {
        "id": "Vp6WEKC1wLJO",
        "colab_type": "code",
        "outputId": "13b098b0-b454-44c8-d7a8-7d8d2a5a09c8",
        "colab": {
          "base_uri": "https://localhost:8080/",
          "height": 35
        }
      },
      "source": [
        "'''\n",
        "%cd /content/gdrive/My Drive/ai_project\n",
        "video=cv2.VideoWriter('test_san.avi', -1, 1, (720, 1280))\n",
        "for i in img2vid_arr:\n",
        "  video.write(i)\n",
        "\n",
        "cv2.destroyAllWindows()\n",
        "video.release()\n",
        "'''"
      ],
      "execution_count": 0,
      "outputs": [
        {
          "output_type": "stream",
          "text": [
            "/content/gdrive/My Drive/ai_project\n"
          ],
          "name": "stdout"
        }
      ]
    },
    {
      "cell_type": "code",
      "metadata": {
        "id": "7PmwoVt9awGK",
        "colab_type": "code",
        "colab": {
          "base_uri": "https://localhost:8080/",
          "height": 34
        },
        "outputId": "39c3ecae-da25-4739-d0df-0555fc194163"
      },
      "source": [
        "!pwd"
      ],
      "execution_count": 58,
      "outputs": [
        {
          "output_type": "stream",
          "text": [
            "/content/gdrive/My Drive/ai_project\n"
          ],
          "name": "stdout"
        }
      ]
    }
  ]
}